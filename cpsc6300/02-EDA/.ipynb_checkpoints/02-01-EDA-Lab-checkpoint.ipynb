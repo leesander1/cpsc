{
 "cells": [
  {
   "cell_type": "markdown",
   "metadata": {
    "deletable": false,
    "editable": false,
    "nbgrader": {
     "cell_type": "markdown",
     "checksum": "67d3cb62c956904e515960567c430672",
     "grade": false,
     "grade_id": "ads",
     "locked": true,
     "schema_version": 3,
     "solution": false,
     "task": false
    }
   },
   "source": [
    "<div class='heading'>\n",
    "    <div style='float:left;'><h1>CPSC 4300/6300: Applied Data Science</h1></div>\n",
    "    <img style=\"float: right; padding-right: 10px; width: 65px\" src=\"https://raw.githubusercontent.com/bsethwalker/clemson-cs4300/main/images/clemson_paw.png\"> </div>"
   ]
  },
  {
   "cell_type": "markdown",
   "metadata": {
    "deletable": false,
    "editable": false,
    "nbgrader": {
     "cell_type": "markdown",
     "checksum": "6405d23bef14f8fffe751cf1aa35aa98",
     "grade": false,
     "grade_id": "week-2-lab",
     "locked": true,
     "schema_version": 3,
     "solution": false,
     "task": false
    }
   },
   "source": [
    "## Week 2 | Lab : EDA and Visualization\n",
    "\n",
    "**Clemson University** **Instructor(s):** Tim Ransom\n",
    "\n",
    "----------------------\n",
    "## Learning goals\n",
    "\n",
    "- Identify trends and patterns in data using visualization techniques.\n",
    "- Interpret descriptive statistics for a dataset.\n",
    "- Create effective data visualizations using matplotlib.\n",
    "- Evaluate the effectiveness of different visualization methods.\n",
    "- Clean and prepare data for analysis."
   ]
  },
  {
   "cell_type": "code",
   "execution_count": 1,
   "metadata": {
    "deletable": false,
    "editable": false,
    "nbgrader": {
     "cell_type": "code",
     "checksum": "b9ca8221b1f4242dc04a39989a909956",
     "grade": false,
     "grade_id": "formatting",
     "locked": true,
     "schema_version": 3,
     "solution": false,
     "task": false
    }
   },
   "outputs": [
    {
     "data": {
      "text/html": [
       "<style>\n",
       "blockquote { background: #AEDE94; }\n",
       "\n",
       "div.heading {\n",
       "margin-bottom: 25px;\n",
       "height: 75px;\n",
       "}\n",
       "\n",
       "h1 { \n",
       "    padding-top: 25px;\n",
       "    padding-bottom: 25px;\n",
       "    text-align: left; \n",
       "    padding-left: 10px;\n",
       "    color: black;\n",
       "}\n",
       "\n",
       "h2 { \n",
       "    padding-top: 10px;\n",
       "    padding-bottom: 10px;\n",
       "    text-align: left; \n",
       "    padding-left: 5px;\n",
       "    background-color: #EEEEEE; \n",
       "    color: black;\n",
       "}\n",
       "\n",
       "div.exercise {\n",
       "    \n",
       "    background: rgba(245, 102, 0, .75);\n",
       "    border-color: #E9967A;\n",
       "    border-left: 5px solid #522D80; \n",
       "    padding: 0.5em;\n",
       "}\n",
       "\n",
       "div.exercise-r {\n",
       "    background-color: #fce8e8;\n",
       "    border-color: #E9967A; \t\n",
       "    border-left: 5px solid #800080; \n",
       "    padding: 0.5em;\n",
       "}\n",
       "\n",
       "span.sub-q {\n",
       "    font-weight: bold;\n",
       "}\n",
       "div.theme {\n",
       "    background-color: #DDDDDD;\n",
       "    border-color: #E9967A; \t\n",
       "    border-left: 5px solid #800080; \n",
       "    padding: 0.5em;\n",
       "    font-size: 18pt;\n",
       "}\n",
       "div.gc { \n",
       "    background-color: #AEDE94;\n",
       "    border-color: #E9967A; \t \n",
       "    border-left: 5px solid #800080; \n",
       "    padding: 0.5em;\n",
       "    font-size: 12pt;\n",
       "}\n",
       "p.q1 { \n",
       "    padding-top: 5px;\n",
       "    padding-bottom: 5px;\n",
       "    text-align: left; \n",
       "    padding-left: 5px;\n",
       "    background-color: #EEEEEE; \n",
       "    color: black;\n",
       "}\n",
       "header {\n",
       "   padding-top: 35px;\n",
       "    padding-bottom: 35px;\n",
       "    text-align: left; \n",
       "    padding-left: 10px;\n",
       "    background-color: #DDDDDD; \n",
       "    color: black;\n",
       "}\n",
       "</style>"
      ],
      "text/plain": [
       "<IPython.core.display.HTML object>"
      ]
     },
     "execution_count": 1,
     "metadata": {},
     "output_type": "execute_result"
    }
   ],
   "source": [
    "\"\"\" RUN THIS CELL TO GET THE RIGHT FORMATTING \"\"\"\n",
    "import requests\n",
    "from IPython.core.display import HTML\n",
    "css_file = 'https://raw.githubusercontent.com/bsethwalker/clemson-cs4300/main/css/cpsc6300.css'\n",
    "styles = requests.get(css_file).text\n",
    "HTML(styles)"
   ]
  },
  {
   "cell_type": "code",
   "execution_count": 2,
   "metadata": {
    "deletable": false,
    "editable": false,
    "nbgrader": {
     "cell_type": "code",
     "checksum": "18997e2f87f31a94fa514f3e0a0e6748",
     "grade": false,
     "grade_id": "required-libs",
     "locked": true,
     "schema_version": 3,
     "solution": false,
     "task": false
    }
   },
   "outputs": [],
   "source": [
    "# import the necessary libraries\n",
    "\n",
    "import numpy as np\n",
    "import scipy as sp\n",
    "import matplotlib as mpl\n",
    "import matplotlib.cm as cm\n",
    "import matplotlib.pyplot as plt\n",
    "import matplotlib.axes as axes\n",
    "import pandas as pd\n",
    "import time\n",
    "pd.set_option('display.width', 500)\n",
    "pd.set_option('display.max_columns', 200)\n",
    "pd.set_option('display.notebook_repr_html', True)\n",
    "import seaborn as sns\n",
    "\n",
    "from sklearn.linear_model import LinearRegression\n",
    "from sklearn.model_selection import train_test_split\n",
    "from sklearn.metrics import mean_squared_error\n",
    "\n",
    "import warnings\n",
    "warnings.filterwarnings('ignore')\n",
    "%config InlineBackend.figure_format ='retina'\n",
    "\n",
    "import matplotcheck as mpc\n",
    "from matplotcheck.base import PlotTester\n",
    "import matplotcheck.notebook as nb\n",
    "%matplotlib inline"
   ]
  },
  {
   "cell_type": "markdown",
   "metadata": {
    "deletable": false,
    "editable": false,
    "nbgrader": {
     "cell_type": "markdown",
     "checksum": "d3be04fa06b4cd5611a2302584cc232d",
     "grade": false,
     "grade_id": "plots",
     "locked": true,
     "schema_version": 3,
     "solution": false,
     "task": false
    }
   },
   "source": [
    "<a class=\"anchor\" id=\"seaborn\"></a>\n",
    "# 1 - Implementing Various Types of Plots using `matplotlib`  and `seaborn`.\n",
    "\n",
    "Before you start coding your visualization, you need to decide what **type** of vizualization to use. A box plot, a histogram, a scatter plot, or something else? That will depend on the purpose of the plot (is it for performing an inspection on your data (EDA, or for showing your results/conclusions to people) and the number variables that you want to plot.\n",
    "\n",
    "You have a lot of tools for plotting in Python. The basic one, of course, is `matplotlib` and there are other libraries that are built on top of it, such as `seaborn`, `bokeh`, or `altair`. \n",
    "\n",
    "In this class we will continue using `matplotlib` and also look into [`seaborn`](https://seaborn.pydata.org). Those two libraries are the ones you should be using for homework.\n",
    "\n",
    "## 1.1 Introduction to `seaborn`\n",
    "\n",
    "`Seaborn` is a Python data visualization library based on matplotlib. It provides a high-level interface for drawing attractive and informative statistical graphics. The library provides a database of useful datasets for educational purposes that can be loaded by typing:\n",
    "\n",
    "```python\n",
    "seaborn.load_dataset(name, cache=True, data_home=None, **kws)\n",
    "```\n",
    "\n",
    "For information on what these datasets are : https://github.com/mwaskom/seaborn-data\n",
    "\n",
    "### The plotting functions in `seaborn` can be decided in two categories\n",
    "\n",
    "- **'axes-level'** functions, such as `regplot`, `boxplot`, `kdeplot`, `scatterplot`, `distplot` which can connect with the `matplotlib` Axes object and its parameters. You can use that object as you would in `matplotlib`:\n",
    "```python\n",
    "f, (ax1, ax2) = plt.subplots(2)\n",
    "sns.regplot(x, y, ax=ax1)\n",
    "sns.kdeplot(x, ax=ax2)\n",
    "ax1 = sns.distplot(x, kde=False, bins=20)\n",
    "```\n",
    "\n",
    "- **'figure-level'** functions, such as `lmplot`, `factorplot`, `jointplot`, `relplot`, `pairplot`. In this case, `seaborn` organizes the resulting plot which may include several Axes in a meaningful way. That means that the functions need to have total control over the figure, so it isn't possible to plot, say, an `lmplot` onto one that already exists. Calling the function always initializes a figure and sets it up for the specific plot it's drawing. These functions return an object of the type `FacetGrid` with its own methods for operating on the resulting plot.\n",
    "\n",
    "To set the parameters for figure-level functions:\n",
    "\n",
    "```python\n",
    "sns.set_context(\"notebook\", font_scale=1, rc={\"lines.linewidth\": 2.5})\n",
    "```"
   ]
  },
  {
   "cell_type": "markdown",
   "metadata": {
    "deletable": false,
    "editable": false,
    "nbgrader": {
     "cell_type": "markdown",
     "checksum": "9dda6f8ae896a45ff4b9a8b23ffae0c5",
     "grade": false,
     "grade_id": "titanic-dataset",
     "locked": true,
     "schema_version": 3,
     "solution": false,
     "task": false
    }
   },
   "source": [
    "## 1.2 The Titanic dataset\n",
    "\n",
    "The `titanic.csv` file contains data for 887 passengers on the Titanic. Each row represents one person. The columns describe different attributes about the person including whether they survived, their age, their on-board class, their sex, and the fare they paid. Rows are often called observations, and columns are often called features or characteristics (of the data)."
   ]
  },
  {
   "cell_type": "code",
   "execution_count": 3,
   "metadata": {
    "deletable": false,
    "editable": false,
    "nbgrader": {
     "cell_type": "code",
     "checksum": "943bbabe7d779ab7a417623f555242cf",
     "grade": false,
     "grade_id": "cell-06fe343a3e64b18e",
     "locked": true,
     "schema_version": 3,
     "solution": false,
     "task": false
    }
   },
   "outputs": [
    {
     "name": "stdout",
     "output_type": "stream",
     "text": [
      "<class 'pandas.core.frame.DataFrame'>\n",
      "RangeIndex: 891 entries, 0 to 890\n",
      "Data columns (total 15 columns):\n",
      " #   Column       Non-Null Count  Dtype   \n",
      "---  ------       --------------  -----   \n",
      " 0   survived     891 non-null    int64   \n",
      " 1   pclass       891 non-null    int64   \n",
      " 2   sex          891 non-null    object  \n",
      " 3   age          714 non-null    float64 \n",
      " 4   sibsp        891 non-null    int64   \n",
      " 5   parch        891 non-null    int64   \n",
      " 6   fare         891 non-null    float64 \n",
      " 7   embarked     889 non-null    object  \n",
      " 8   class        891 non-null    category\n",
      " 9   who          891 non-null    object  \n",
      " 10  adult_male   891 non-null    bool    \n",
      " 11  deck         203 non-null    category\n",
      " 12  embark_town  889 non-null    object  \n",
      " 13  alive        891 non-null    object  \n",
      " 14  alone        891 non-null    bool    \n",
      "dtypes: bool(2), category(2), float64(2), int64(4), object(5)\n",
      "memory usage: 80.7+ KB\n"
     ]
    }
   ],
   "source": [
    "# remember that sns is the alias we gave seaborn when we imported it\n",
    "titanic = sns.load_dataset('titanic')\n",
    "titanic.info()"
   ]
  },
  {
   "cell_type": "code",
   "execution_count": 4,
   "metadata": {
    "deletable": false,
    "editable": false,
    "nbgrader": {
     "cell_type": "code",
     "checksum": "979f7ee1f010694f27b3b6abb583c550",
     "grade": false,
     "grade_id": "cell-a34dabc57bd1906d",
     "locked": true,
     "schema_version": 3,
     "solution": false,
     "task": false
    }
   },
   "outputs": [
    {
     "data": {
      "text/plain": [
       "Index(['survived', 'pclass', 'sex', 'age', 'sibsp', 'parch', 'fare', 'embarked', 'class', 'who', 'adult_male', 'deck', 'embark_town', 'alive', 'alone'], dtype='object')"
      ]
     },
     "execution_count": 4,
     "metadata": {},
     "output_type": "execute_result"
    }
   ],
   "source": [
    "titanic.columns"
   ]
  },
  {
   "cell_type": "markdown",
   "metadata": {
    "deletable": false,
    "editable": false,
    "nbgrader": {
     "cell_type": "markdown",
     "checksum": "a3d52e35dd0faa34f47c99941d535000",
     "grade": false,
     "grade_id": "exercise-1",
     "locked": true,
     "schema_version": 3,
     "solution": false,
     "task": false
    }
   },
   "source": [
    "<div class='exercise'> <b> Exercise 1: </div>\n",
    "    \n",
    "-  Drop the following features from `titanic` dataFrame:\n",
    "- `embarked`, `who`, `adult_male`, `embark_town`, `alive`, `alone` "
   ]
  },
  {
   "cell_type": "code",
   "execution_count": 5,
   "metadata": {
    "deletable": false,
    "nbgrader": {
     "cell_type": "code",
     "checksum": "5387193b6e9b31993934a69a013ce600",
     "grade": false,
     "grade_id": "exercise-1-implementation",
     "locked": false,
     "schema_version": 3,
     "solution": true,
     "task": false
    }
   },
   "outputs": [],
   "source": [
    "\"\"\"Your code for exercise 1 here:\"\"\"\n",
    "titanic = titanic.drop(['embarked', 'who', 'adult_male', 'embark_town', 'alive', 'alone'], axis=1)"
   ]
  },
  {
   "cell_type": "code",
   "execution_count": null,
   "metadata": {
    "deletable": false,
    "editable": false,
    "nbgrader": {
     "cell_type": "code",
     "checksum": "778c36694549e7764f22e6d4f9efac35",
     "grade": true,
     "grade_id": "exercise-1-tests",
     "locked": true,
     "points": 6,
     "schema_version": 3,
     "solution": false,
     "task": false
    }
   },
   "outputs": [],
   "source": []
  },
  {
   "cell_type": "markdown",
   "metadata": {
    "deletable": false,
    "editable": false,
    "nbgrader": {
     "cell_type": "markdown",
     "checksum": "1e47bd7b751b50ffbadd65cffba0bf11",
     "grade": false,
     "grade_id": "exercise-2",
     "locked": true,
     "schema_version": 3,
     "solution": false,
     "task": false
    }
   },
   "source": [
    "<div class='exercise'> <b> Exercise 2:</div>\n",
    "    \n",
    "- Find for how many passengeres we do not have their deck information. \n",
    "- Use a pandas function to filter to rows that 'deck' in not `na`.\n",
    "- Refer to this [document](https://pandas.pydata.org/pandas-docs/stable/reference/api/pandas.DataFrame.isna.html) for more information.\n",
    "- store the answer in a variable called `missing_decks`"
   ]
  },
  {
   "cell_type": "code",
   "execution_count": 6,
   "metadata": {
    "deletable": false,
    "nbgrader": {
     "cell_type": "code",
     "checksum": "8e248e49413d79e6dd313507b444839d",
     "grade": false,
     "grade_id": "exercise-2-implementation",
     "locked": false,
     "schema_version": 3,
     "solution": true,
     "task": false
    }
   },
   "outputs": [],
   "source": [
    "\"\"\"Your code for exercise 2 here:\"\"\"\n",
    "missing_decks = titanic['deck'].isna().sum()"
   ]
  },
  {
   "cell_type": "code",
   "execution_count": null,
   "metadata": {
    "deletable": false,
    "editable": false,
    "nbgrader": {
     "cell_type": "code",
     "checksum": "a85687eea8d68629691340d1667afacc",
     "grade": true,
     "grade_id": "exercise2-tests",
     "locked": true,
     "points": 3,
     "schema_version": 3,
     "solution": false,
     "task": false
    }
   },
   "outputs": [],
   "source": []
  },
  {
   "cell_type": "markdown",
   "metadata": {
    "deletable": false,
    "editable": false,
    "nbgrader": {
     "cell_type": "markdown",
     "checksum": "81a484930924090f349d98f8ad8845d8",
     "grade": false,
     "grade_id": "histograms",
     "locked": true,
     "schema_version": 3,
     "solution": false,
     "task": false
    }
   },
   "source": [
    "## 1.3 Histograms\n",
    "\n",
    "#### Plotting one variable's distribution (categorical and continous)\n",
    "The most convenient way to take a quick look at a univariate distribution in `seaborn` is the `distplot()` function. By default, this will draw a histogram and fit a kernel density estimate (KDE).\n",
    "\n",
    "A histogram displays a quantitative (numerical) distribution by showing the number (or percentage) of the data values that fall in specified intervals. The intervals are on the x-axis and the number of values falling in each interval, shown as either a number or percentage, are represented by bars drawn above the corresponding intervals."
   ]
  },
  {
   "cell_type": "code",
   "execution_count": 7,
   "metadata": {
    "deletable": false,
    "editable": false,
    "nbgrader": {
     "cell_type": "code",
     "checksum": "1ad364701a1a12ebaa37d5701f0c50db",
     "grade": false,
     "grade_id": "cell-f829ffe47c02d174",
     "locked": true,
     "schema_version": 3,
     "solution": false,
     "task": false
    }
   },
   "outputs": [
    {
     "data": {
      "text/plain": [
       "Text(0, 0.5, 'counts')"
      ]
     },
     "execution_count": 7,
     "metadata": {},
     "output_type": "execute_result"
    },
    {
     "data": {
      "image/png": "[encoded data removed]",
      "text/plain": [
       "<Figure size 800x300 with 1 Axes>"
      ]
     },
     "metadata": {
      "image/png": {
       "height": 300,
       "width": 714
      }
     },
     "output_type": "display_data"
    }
   ],
   "source": [
    "# What was the age distribution among passengers in the Titanic?\n",
    "import seaborn as sns\n",
    "sns.set(color_codes=True)\n",
    "\n",
    "f, ax = plt.subplots(1,1, figsize=(8, 3))\n",
    "ax = sns.distplot(titanic.age, kde=False, bins=20)\n",
    "\n",
    "ax.set(xlim=(0, 90))\n",
    "ax.set_ylabel('counts')"
   ]
  },
  {
   "cell_type": "code",
   "execution_count": 8,
   "metadata": {
    "deletable": false,
    "editable": false,
    "nbgrader": {
     "cell_type": "code",
     "checksum": "2cf25a9cbdbd4382c1512d3e5ae4e860",
     "grade": false,
     "grade_id": "cell-f4b4f37f37b6b540",
     "locked": true,
     "schema_version": 3,
     "solution": false,
     "task": false
    }
   },
   "outputs": [
    {
     "data": {
      "text/plain": [
       "(0.0, 90.0)"
      ]
     },
     "execution_count": 8,
     "metadata": {},
     "output_type": "execute_result"
    },
    {
     "data": {
      "image/png": "[encoded data removed]",
      "text/plain": [
       "<Figure size 800x300 with 1 Axes>"
      ]
     },
     "metadata": {
      "image/png": {
       "height": 278,
       "width": 692
      }
     },
     "output_type": "display_data"
    }
   ],
   "source": [
    "f, ax = plt.subplots(1,1, figsize=(8, 3))\n",
    "ax.hist(titanic.age, bins=20)\n",
    "ax.set_xlim(0,90)"
   ]
  },
  {
   "cell_type": "markdown",
   "metadata": {
    "deletable": false,
    "editable": false,
    "nbgrader": {
     "cell_type": "markdown",
     "checksum": "ac86030677d062cbc42ea0366d09e147",
     "grade": false,
     "grade_id": "exercise-3",
     "locked": true,
     "schema_version": 3,
     "solution": false,
     "task": false
    }
   },
   "source": [
    "<div class='exercise'> <b> Exercise 3 : (pandas trick)</div>\n",
    "    \n",
    "- Count all the infants on board (age less than 3) and all the children ages 3-10.\n",
    "- Store there values to `infants` and `children` respectively.\n",
    "- Note that the number of infants or children are single numbers, not tuples\n",
    "    \n",
    "**Hint:** Use [len()](https://docs.python.org/3/library/functions.html) to count the required number."
   ]
  },
  {
   "cell_type": "code",
   "execution_count": 9,
   "metadata": {
    "deletable": false,
    "nbgrader": {
     "cell_type": "code",
     "checksum": "ac4d6e40ec62e354d793ad75375a6acc",
     "grade": false,
     "grade_id": "exercise-3-implementation",
     "locked": false,
     "schema_version": 3,
     "solution": true,
     "task": false
    }
   },
   "outputs": [],
   "source": [
    "\"\"\"Your code for exercise 3 here:\"\"\"\n",
    "infants = len(titanic[titanic['age'] < 3])\n",
    "children = len(titanic[(titanic['age'] >= 3) & (titanic['age'] <= 10)])\n",
    "#print(f'There were {infants} infants and {children} children on board the Titanic')"
   ]
  },
  {
   "cell_type": "code",
   "execution_count": null,
   "metadata": {
    "deletable": false,
    "editable": false,
    "nbgrader": {
     "cell_type": "code",
     "checksum": "23604db28a87fbd6bcf5e5e09a296ad8",
     "grade": true,
     "grade_id": "exercise3-pandas-tests",
     "locked": true,
     "points": 4,
     "schema_version": 3,
     "solution": false,
     "task": false
    }
   },
   "outputs": [],
   "source": []
  },
  {
   "cell_type": "markdown",
   "metadata": {
    "deletable": false,
    "editable": false,
    "nbgrader": {
     "cell_type": "markdown",
     "checksum": "e49af062045fbfe4f152268f39dadb11",
     "grade": false,
     "grade_id": "cell-265003a2855dc160",
     "locked": true,
     "schema_version": 3,
     "solution": false,
     "task": false
    }
   },
   "source": [
    "**Pandas trick:** We want to creat virtual \"bins\" for readability and replace ranges of values with categories. \n",
    "\n",
    "We will do this in an ad hoc way, **it can be done better**. For example in the previous plot we could set:\n",
    "    \n",
    "- `(age<3) = 'infants'`, \n",
    "- `(3<age<18)='children'`, \n",
    "- `(18<values<90)='adults'` <BR>\n",
    "\n",
    "See matplotlib [colors](https://matplotlib.org/stable/users/explain/colors/colormaps.html) here."
   ]
  },
  {
   "cell_type": "code",
   "execution_count": 10,
   "metadata": {
    "deletable": false,
    "editable": false,
    "nbgrader": {
     "cell_type": "code",
     "checksum": "499efbe43bde9d2fa865c62e961dc4fe",
     "grade": false,
     "grade_id": "cell-4a29cf478a3e5193",
     "locked": true,
     "schema_version": 3,
     "solution": false,
     "task": false
    }
   },
   "outputs": [
    {
     "data": {
      "image/png": "[encoded data removed]",
      "text/plain": [
       "<Figure size 640x480 with 1 Axes>"
      ]
     },
     "metadata": {
      "image/png": {
       "height": 417,
       "width": 558
      }
     },
     "output_type": "display_data"
    }
   ],
   "source": [
    "# set the colors\n",
    "cmap = plt.get_cmap('Pastel1')\n",
    "young = cmap(0.5)\n",
    "middle = cmap(0.2)\n",
    "older = cmap(0.8)\n",
    "\n",
    "# get the object we will change - patches is an array with len: num of bins\n",
    "fig, ax = plt.subplots()\n",
    "y_values, bins, patches = ax.hist(titanic.age, 10)\n",
    "\n",
    "[patches[i].set_facecolor(young) for i in range(0,1)] # bin 0\n",
    "[patches[i].set_facecolor(middle) for i in range(1,3)] # bins 1 and 2\n",
    "[patches[i].set_facecolor(older) for i in range(3,10)] # 7 remaining bins \n",
    "\n",
    "ax.grid(True)\n",
    "fig.show()"
   ]
  },
  {
   "cell_type": "markdown",
   "metadata": {
    "deletable": false,
    "editable": false,
    "nbgrader": {
     "cell_type": "markdown",
     "checksum": "c998186b8b3d3a51919ad470fd3b40e3",
     "grade": false,
     "grade_id": "cell-959b13e60d7e0685",
     "locked": true,
     "schema_version": 3,
     "solution": false,
     "task": false
    }
   },
   "source": [
    "## 1.4 Kernel Density Estimation\n",
    "The kernel density estimate can be a useful tool for plotting the shape of a distribution. The **bandwidth (bw)** parameter of the KDE controls how tightly the estimation is fit to the data, much like the bin size in a histogram. It corresponds to the width of the kernels we plotted above. The default behavior tries to guess a good value using a common reference rule, but it may be helpful to try larger or smaller values."
   ]
  },
  {
   "cell_type": "code",
   "execution_count": 11,
   "metadata": {
    "deletable": false,
    "editable": false,
    "nbgrader": {
     "cell_type": "code",
     "checksum": "cd1b9f7e834d7e6c46d8979113b8c3c8",
     "grade": false,
     "grade_id": "cell-ce4bf038c5591a15",
     "locked": true,
     "schema_version": 3,
     "solution": false,
     "task": false
    }
   },
   "outputs": [
    {
     "data": {
      "image/png": "[encoded data removed]",
      "text/plain": [
       "<Figure size 640x480 with 1 Axes>"
      ]
     },
     "metadata": {
      "image/png": {
       "height": 439,
       "width": 595
      }
     },
     "output_type": "display_data"
    }
   ],
   "source": [
    "sns.kdeplot(titanic.age, bw=0.6, label=\"bw: 0.6\", shade=True, color=\"r\")\n",
    "sns.kdeplot(titanic.age, bw=2,   label=\"bw: 2\",   shade=True)\n",
    "plt.show()"
   ]
  },
  {
   "cell_type": "markdown",
   "metadata": {
    "deletable": false,
    "editable": false,
    "nbgrader": {
     "cell_type": "markdown",
     "checksum": "951f919c65cb357d3138eaa3597add35",
     "grade": false,
     "grade_id": "exercise-4",
     "locked": true,
     "schema_version": 3,
     "solution": false,
     "task": false
    }
   },
   "source": [
    "<div class='exercise'> <b> Exercise 4:</div>\n",
    "    \n",
    "- Plot the distribution of fare paid by passengers using [sns.kdeplot](https://seaborn.pydata.org/generated/seaborn.kdeplot.html) .\n",
    "- Store that plot to variable named `ax` ."
   ]
  },
  {
   "cell_type": "code",
   "execution_count": 12,
   "metadata": {
    "deletable": false,
    "nbgrader": {
     "cell_type": "code",
     "checksum": "6a5f6144386c3f68aedf9e518fe60c0a",
     "grade": false,
     "grade_id": "exercise-4-implementation",
     "locked": false,
     "schema_version": 3,
     "solution": true,
     "task": false
    }
   },
   "outputs": [
    {
     "data": {
      "image/png": "[encoded data removed]",
      "text/plain": [
       "<Figure size 640x480 with 1 Axes>"
      ]
     },
     "metadata": {
      "image/png": {
       "height": 439,
       "width": 604
      }
     },
     "output_type": "display_data"
    }
   ],
   "source": [
    "\"\"\"Your code for exercise 4 here:\"\"\"\n",
    "ax =sns.kdeplot(titanic.fare,  label=\"fare paid by passengers\")"
   ]
  },
  {
   "cell_type": "code",
   "execution_count": null,
   "metadata": {
    "deletable": false,
    "editable": false,
    "nbgrader": {
     "cell_type": "code",
     "checksum": "5a30b0face45de6786a81878882f6f27",
     "grade": true,
     "grade_id": "exercise-4-tests",
     "locked": true,
     "points": 3,
     "schema_version": 3,
     "solution": false,
     "task": false
    }
   },
   "outputs": [],
   "source": []
  },
  {
   "cell_type": "markdown",
   "metadata": {
    "deletable": false,
    "editable": false,
    "nbgrader": {
     "cell_type": "markdown",
     "checksum": "51d318e8724ac70e90d4d58595e46b2c",
     "grade": false,
     "grade_id": "cell-77a74a3605743ea5",
     "locked": true,
     "schema_version": 3,
     "solution": false,
     "task": false
    }
   },
   "source": [
    "#### You can mix elements of `matplotlib` such as Axes with `seaborn` elements for a best use of both worlds."
   ]
  },
  {
   "cell_type": "code",
   "execution_count": 13,
   "metadata": {
    "deletable": false,
    "editable": false,
    "nbgrader": {
     "cell_type": "code",
     "checksum": "dcf5962cd0ff16f8c5a6a717ded7b944",
     "grade": false,
     "grade_id": "cell-b3e0848715a529cf",
     "locked": true,
     "schema_version": 3,
     "solution": false,
     "task": false
    }
   },
   "outputs": [
    {
     "data": {
      "text/plain": [
       "<matplotlib.legend.Legend at 0x7bfe5230fa60>"
      ]
     },
     "execution_count": 13,
     "metadata": {},
     "output_type": "execute_result"
    },
    {
     "data": {
      "image/png": "[encoded data removed]",
      "text/plain": [
       "<Figure size 1500x500 with 2 Axes>"
      ]
     },
     "metadata": {
      "image/png": {
       "height": 480,
       "width": 1254
      }
     },
     "output_type": "display_data"
    }
   ],
   "source": [
    "import seaborn as sns\n",
    "sns.set(color_codes=True)\n",
    "\n",
    "# generate some random data to use\n",
    "x1 = np.random.normal(size=100)\n",
    "x2 = np.random.normal(size=100)\n",
    "\n",
    "fig, ax = plt.subplots(1,2, figsize=(15,5))\n",
    "\n",
    "# seaborn goes in first subplot\n",
    "sns.set(font_scale=0.5)\n",
    "sns.distplot(x1, kde=False, bins=15, ax=ax[0])\n",
    "sns.distplot(x2, kde=False, bins=15, ax=ax[0])\n",
    "ax[0].set_title('seaborn Graph Here', fontsize=14)\n",
    "ax[0].set_xlabel(r'$x$', fontsize=14)\n",
    "ax[0].set_ylabel(r'$count$', fontsize=14)\n",
    "\n",
    "# matplotlib goes in second subplot\n",
    "ax[1].hist(x1, alpha=0.2, bins=15, label=r'$x1$')\n",
    "ax[1].hist(x2, alpha=0.5, bins=15, label=r'$x2$')\n",
    "ax[1].set_xlabel(r'$x$', fontsize=14)\n",
    "ax[1].set_ylabel(r'$count$', fontsize=14)\n",
    "ax[1].set_title('matplotlib Graph Here', fontsize=14)\n",
    "ax[1].legend(loc='best', fontsize=14)"
   ]
  },
  {
   "cell_type": "markdown",
   "metadata": {
    "deletable": false,
    "editable": false,
    "nbgrader": {
     "cell_type": "markdown",
     "checksum": "e5683dfa86a1e2e829b70240cf81bc95",
     "grade": false,
     "grade_id": "boxplots",
     "locked": true,
     "schema_version": 3,
     "solution": false,
     "task": false
    }
   },
   "source": [
    "## 1.5 Boxplots\n",
    "\n",
    "#### With `One` variable."
   ]
  },
  {
   "cell_type": "code",
   "execution_count": 14,
   "metadata": {
    "deletable": false,
    "editable": false,
    "nbgrader": {
     "cell_type": "code",
     "checksum": "8e5f29729f2259f017c1c1b9c07fea06",
     "grade": false,
     "grade_id": "cell-d9e21e10c24fef1c",
     "locked": true,
     "schema_version": 3,
     "solution": false,
     "task": false
    }
   },
   "outputs": [
    {
     "data": {
      "text/plain": [
       "Text(0.5, 1.0, 'Distribution of age in the Titanic')"
      ]
     },
     "execution_count": 14,
     "metadata": {},
     "output_type": "execute_result"
    },
    {
     "data": {
      "image/png": "[encoded data removed]",
      "text/plain": [
       "<Figure size 640x480 with 1 Axes>"
      ]
     },
     "metadata": {
      "image/png": {
       "height": 458,
       "width": 515
      }
     },
     "output_type": "display_data"
    }
   ],
   "source": [
    "# seaborn\n",
    "ax = sns.boxplot(x='age', data=titanic)\n",
    "#ax = sns.boxplot(x=titanic['age']) # another way to write this\n",
    "ax.set_ylabel(None)\n",
    "ax.set_xlabel('age', fontsize=14)\n",
    "ax.set_title('Distribution of age in the Titanic', fontsize=14)"
   ]
  },
  {
   "cell_type": "markdown",
   "metadata": {
    "deletable": false,
    "editable": false,
    "nbgrader": {
     "cell_type": "markdown",
     "checksum": "e25da0dde22571167672f09c31884475",
     "grade": false,
     "grade_id": "cell-e67622704b64983c",
     "locked": true,
     "schema_version": 3,
     "solution": false,
     "task": false
    }
   },
   "source": [
    "#### With `Two` variables"
   ]
  },
  {
   "cell_type": "markdown",
   "metadata": {
    "deletable": false,
    "editable": false,
    "nbgrader": {
     "cell_type": "markdown",
     "checksum": "d16fb78639e277c9573a27abb5fa684c",
     "grade": false,
     "grade_id": "exercise5",
     "locked": true,
     "schema_version": 3,
     "solution": false,
     "task": false
    }
   },
   "source": [
    "<div class='exercise'> <b> Exercise 5:</div>\n",
    "    \n",
    "- Did more young people or older ones get first class tickets on the Titanic?\n",
    "- Create a box plot and store it to variable called `ax` as above code.\n",
    "- Create a box plot using two variables `class` and `age`"
   ]
  },
  {
   "cell_type": "code",
   "execution_count": 15,
   "metadata": {
    "deletable": false,
    "nbgrader": {
     "cell_type": "code",
     "checksum": "c1cb05ec432503dd2bf40dc499f2955b",
     "grade": false,
     "grade_id": "exercise-5-implementation",
     "locked": false,
     "schema_version": 3,
     "solution": true,
     "task": false
    }
   },
   "outputs": [
    {
     "data": {
      "text/plain": [
       "Text(0, 0.5, 'Age')"
      ]
     },
     "execution_count": 15,
     "metadata": {},
     "output_type": "execute_result"
    },
    {
     "data": {
      "image/png": "[encoded data removed]",
      "text/plain": [
       "<Figure size 640x480 with 1 Axes>"
      ]
     },
     "metadata": {
      "image/png": {
       "height": 437,
       "width": 552
      }
     },
     "output_type": "display_data"
    }
   ],
   "source": [
    "\"\"\"Your code for exercise 5 here:\"\"\"\n",
    "ax = sns.boxplot(x='class', y='age', data=titanic)\n",
    "ax.set_title('Age distr by Class')\n",
    "ax.set_xlabel('Class')\n",
    "ax.set_ylabel('Age')"
   ]
  },
  {
   "cell_type": "code",
   "execution_count": null,
   "metadata": {
    "deletable": false,
    "editable": false,
    "nbgrader": {
     "cell_type": "code",
     "checksum": "cefc8a3156b3cfd2e6844cbc726855b3",
     "grade": true,
     "grade_id": "exercise5-boxplot-tests",
     "locked": true,
     "points": 3,
     "schema_version": 3,
     "solution": false,
     "task": false
    }
   },
   "outputs": [],
   "source": []
  },
  {
   "cell_type": "markdown",
   "metadata": {
    "deletable": false,
    "editable": false,
    "nbgrader": {
     "cell_type": "markdown",
     "checksum": "621b11747d82351cc1043e9fb4f84cef",
     "grade": false,
     "grade_id": "cell-56ea5d4227f55324",
     "locked": true,
     "schema_version": 3,
     "solution": false,
     "task": false
    }
   },
   "source": [
    "Note that many packages will provide these basic plotting functions. As you become more familiar with quickly performing exploratory data analysis, you will likely pick one that is your favorite. Every EDA software has tradeoffs, but the purpose of visualizing data is a shared value between them. Here's an example boxplot from pandas."
   ]
  },
  {
   "cell_type": "code",
   "execution_count": 16,
   "metadata": {
    "deletable": false,
    "editable": false,
    "nbgrader": {
     "cell_type": "code",
     "checksum": "276232d03eb5ee39f8a04c6cf4570e79",
     "grade": false,
     "grade_id": "cell-82d118d3e3d6332b",
     "locked": true,
     "schema_version": 3,
     "solution": false,
     "task": false
    }
   },
   "outputs": [
    {
     "data": {
      "text/plain": [
       "<AxesSubplot: title={'center': 'age'}, xlabel='class'>"
      ]
     },
     "execution_count": 16,
     "metadata": {},
     "output_type": "execute_result"
    },
    {
     "data": {
      "image/png": "[encoded data removed]",
      "text/plain": [
       "<Figure size 640x480 with 1 Axes>"
      ]
     },
     "metadata": {
      "image/png": {
       "height": 452,
       "width": 554
      }
     },
     "output_type": "display_data"
    }
   ],
   "source": [
    "# two variable boxplot in pandas\n",
    "titanic.boxplot('age',by='class')"
   ]
  },
  {
   "cell_type": "markdown",
   "metadata": {
    "deletable": false,
    "editable": false,
    "nbgrader": {
     "cell_type": "markdown",
     "checksum": "185b5bfa1b00c23c3784ee73f7540673",
     "grade": false,
     "grade_id": "scatter-plots",
     "locked": true,
     "schema_version": 3,
     "solution": false,
     "task": false
    }
   },
   "source": [
    "## 1.6 Scatterplots\n",
    "\n",
    "#### Plotting the distribution of two variables\n",
    "\n",
    "Also called a bivariate distribution where each observation is shown with  a point with x and y values. You can draw a scatterplot with the `matplotlib plt.scatter` function, or the `seaborn jointplot()` function:"
   ]
  },
  {
   "cell_type": "code",
   "execution_count": null,
   "metadata": {
    "deletable": false,
    "editable": false,
    "nbgrader": {
     "cell_type": "code",
     "checksum": "0f3202e6404df97fed7e645c59984418",
     "grade": false,
     "grade_id": "cell-d658066dc4b00e62",
     "locked": true,
     "schema_version": 3,
     "solution": false,
     "task": false
    }
   },
   "outputs": [],
   "source": [
    "f, ax = plt.subplots(1,1, figsize=(10, 5))\n",
    "sns.scatterplot(x=\"fare\", y=\"age\", data=titanic, ax=ax)"
   ]
  },
  {
   "cell_type": "code",
   "execution_count": null,
   "metadata": {
    "deletable": false,
    "editable": false,
    "nbgrader": {
     "cell_type": "code",
     "checksum": "44aba650c4c4431c6b4544e3db571336",
     "grade": false,
     "grade_id": "cell-0ba693d05fcc7da0",
     "locked": true,
     "schema_version": 3,
     "solution": false,
     "task": false
    }
   },
   "outputs": [],
   "source": [
    "sns.jointplot(x = \"fare\", y = \"age\", data=titanic, s=40, edgecolor=\"w\", linewidth=1)"
   ]
  },
  {
   "cell_type": "markdown",
   "metadata": {
    "deletable": false,
    "editable": false,
    "nbgrader": {
     "cell_type": "markdown",
     "checksum": "99a9de82dfbb95743cbc1ee1494a822b",
     "grade": false,
     "grade_id": "cell-1cc8187c94805111",
     "locked": true,
     "schema_version": 3,
     "solution": false,
     "task": false
    }
   },
   "source": [
    "You may control the `seaborn` [Figure aesthetics](https://seaborn.pydata.org/tutorial/aesthetics.html)."
   ]
  },
  {
   "cell_type": "code",
   "execution_count": null,
   "metadata": {
    "deletable": false,
    "editable": false,
    "nbgrader": {
     "cell_type": "code",
     "checksum": "dda3a8d3fdae6be080791dbdb114022a",
     "grade": false,
     "grade_id": "cell-b33471852dc1f424",
     "locked": true,
     "schema_version": 3,
     "solution": false,
     "task": false
    }
   },
   "outputs": [],
   "source": [
    "# matplotlib\n",
    "fig, ax = plt.subplots(1,1, figsize=(10,6))\n",
    "ax.scatter(titanic['fare'], titanic['age'], alpha=0.8)\n",
    "ax.set_xlabel('Fare', fontsize=15)\n",
    "ax.set_ylabel('Age', fontsize=15)\n",
    "ax.set_title('Fare vs. Age', fontsize=14)"
   ]
  },
  {
   "cell_type": "markdown",
   "metadata": {
    "deletable": false,
    "editable": false,
    "nbgrader": {
     "cell_type": "markdown",
     "checksum": "136e007e3d3885246ef1a537c31b11a4",
     "grade": false,
     "grade_id": "cell-2f9185bd76c8710a",
     "locked": true,
     "schema_version": 3,
     "solution": false,
     "task": false
    }
   },
   "source": [
    "#### Plotting the distribution of `three` variables"
   ]
  },
  {
   "cell_type": "code",
   "execution_count": null,
   "metadata": {
    "deletable": false,
    "editable": false,
    "nbgrader": {
     "cell_type": "code",
     "checksum": "2f6673ad0a2d2604728c08c57ea7b11f",
     "grade": false,
     "grade_id": "cell-57651960fa8ea678",
     "locked": true,
     "schema_version": 3,
     "solution": false,
     "task": false
    }
   },
   "outputs": [],
   "source": [
    "f, ax = plt.subplots(1,1, figsize=(10, 5))\n",
    "sns.scatterplot(x=\"fare\", y=\"age\", hue=\"survived\", data=titanic, ax=ax)\n",
    "plt.show()"
   ]
  },
  {
   "cell_type": "markdown",
   "metadata": {
    "deletable": false,
    "editable": false,
    "nbgrader": {
     "cell_type": "markdown",
     "checksum": "1b5758ac13f88335172a58c53a7f22e8",
     "grade": false,
     "grade_id": "cell-d204aa60a83400b4",
     "locked": true,
     "schema_version": 3,
     "solution": false,
     "task": false
    }
   },
   "source": [
    "#### Plotting the distribution of `four` variables (going too far?)"
   ]
  },
  {
   "cell_type": "markdown",
   "metadata": {
    "deletable": false,
    "editable": false,
    "nbgrader": {
     "cell_type": "markdown",
     "checksum": "c283a1f94953a6c6441908032bf5d48a",
     "grade": false,
     "grade_id": "exercise6",
     "locked": true,
     "schema_version": 3,
     "solution": false,
     "task": false
    }
   },
   "source": [
    "<div class='exercise'> <b> Exercise 6: </div>\n",
    "\n",
    "- Plot the distribution of fare paid by passengers according to age, survival and sex.\n",
    "- Use `size=` for the fourth variable.\n",
    "\n",
    "  1. To create the scatter plot, you need to set up the Figure and Axes objects using `plt.subplots()`. \n",
    "        - These two objects (fig and ax) will allow you to control various properties of the figure and plot.\n",
    "        - `fig` is the Figure object: It serves as the overall container for the plot.\n",
    "        - `ax` is the Axes object: This is where the actual data points will be plotted, including x and y axes, labels, etc.\n",
    "        ```python\n",
    "            Example code: fig, ax = plt.subplots(1, 1, figsize=(10, 6))\n",
    "        ```\n",
    "  2. Customize the Plot: \n",
    "        - You need to set the title of the plot, the labels for the x-axis and y-axis, and format the ticks on the x-axis for better readability."
   ]
  },
  {
   "cell_type": "code",
   "execution_count": null,
   "metadata": {
    "deletable": false,
    "nbgrader": {
     "cell_type": "code",
     "checksum": "688d33edc9392e1f47dc591d4b863cef",
     "grade": false,
     "grade_id": "exercise6-scatter_plt",
     "locked": false,
     "schema_version": 3,
     "solution": true,
     "task": false
    }
   },
   "outputs": [],
   "source": [
    "\"\"\"Your code for exercise 6 here:\"\"\"\n",
    "fig, ax = plt.subplots(1, 1, figsize=(10, 6))\n",
    "sns.scatterplot(x=\"age\", y=\"fare\", hue=\"survived\", size=\"sex\", data=titanic, ax=ax, alpha=0.8)\n",
    "ax.set_title(\"Fare by Age, Survival, and Sex\")\n",
    "ax.set_xlabel(\"Age\")\n",
    "ax.set_ylabel(\"Fare\")\n",
    "plt.show()"
   ]
  },
  {
   "cell_type": "code",
   "execution_count": null,
   "metadata": {
    "deletable": false,
    "editable": false,
    "nbgrader": {
     "cell_type": "code",
     "checksum": "2bfa7bb9ba8842877f3653cf82623f75",
     "grade": true,
     "grade_id": "exercise6-scatter_plt-tests",
     "locked": true,
     "points": 8,
     "schema_version": 3,
     "solution": false,
     "task": false
    }
   },
   "outputs": [],
   "source": []
  },
  {
   "cell_type": "markdown",
   "metadata": {
    "deletable": false,
    "editable": false,
    "nbgrader": {
     "cell_type": "markdown",
     "checksum": "c7fb3f118d0e10fed2deb7ab6c69f526",
     "grade": false,
     "grade_id": "cell-842171fff6985ccf",
     "locked": true,
     "schema_version": 3,
     "solution": false,
     "task": false
    }
   },
   "source": [
    "## 1.7 Pairplots"
   ]
  },
  {
   "cell_type": "code",
   "execution_count": null,
   "metadata": {
    "deletable": false,
    "editable": false,
    "nbgrader": {
     "cell_type": "code",
     "checksum": "e85c416058837cff4074162f80b1dc93",
     "grade": false,
     "grade_id": "cell-829570fa4bf34daa",
     "locked": true,
     "schema_version": 3,
     "solution": false,
     "task": false
    }
   },
   "outputs": [],
   "source": [
    "titanic.columns"
   ]
  },
  {
   "cell_type": "code",
   "execution_count": null,
   "metadata": {
    "deletable": false,
    "editable": false,
    "nbgrader": {
     "cell_type": "code",
     "checksum": "0ad5edef435536253fee205c0db2c455",
     "grade": false,
     "grade_id": "cell-cdc99ec1c25bda25",
     "locked": true,
     "schema_version": 3,
     "solution": false,
     "task": false
    }
   },
   "outputs": [],
   "source": [
    "to_plot = ['age', 'fare', 'survived', 'deck']"
   ]
  },
  {
   "cell_type": "code",
   "execution_count": null,
   "metadata": {
    "deletable": false,
    "editable": false,
    "nbgrader": {
     "cell_type": "code",
     "checksum": "6554a493551ec7d9b22d47e448cfb0f0",
     "grade": false,
     "grade_id": "cell-35198c9c4f5c8181",
     "locked": true,
     "schema_version": 3,
     "solution": false,
     "task": false
    }
   },
   "outputs": [],
   "source": [
    "df_to_plot = titanic.loc[:,to_plot]\n",
    "sns.pairplot(df_to_plot)\n",
    "plt.show()"
   ]
  },
  {
   "cell_type": "code",
   "execution_count": null,
   "metadata": {
    "deletable": false,
    "editable": false,
    "nbgrader": {
     "cell_type": "code",
     "checksum": "ae8589e29164af5c2561807a32086f52",
     "grade": false,
     "grade_id": "cell-5a59915d4814ca85",
     "locked": true,
     "schema_version": 3,
     "solution": false,
     "task": false
    }
   },
   "outputs": [],
   "source": [
    "from pandas.plotting import scatter_matrix\n",
    "scatter_matrix(df_to_plot, alpha=0.8, figsize=(10, 10), diagonal='kde')"
   ]
  },
  {
   "cell_type": "markdown",
   "metadata": {
    "deletable": false,
    "editable": false,
    "nbgrader": {
     "cell_type": "markdown",
     "checksum": "58008d58132863c3ad82a661fb31001f",
     "grade": false,
     "grade_id": "cell-502184d00cf663e9",
     "locked": true,
     "schema_version": 3,
     "solution": false,
     "task": false
    }
   },
   "source": [
    "## 1.8 Plotting Categorical Variables"
   ]
  },
  {
   "cell_type": "code",
   "execution_count": null,
   "metadata": {
    "deletable": false,
    "editable": false,
    "nbgrader": {
     "cell_type": "code",
     "checksum": "f3b590f6bbd04199fb2dab1ad5f0d8ed",
     "grade": false,
     "grade_id": "cell-fddedd45db6b1ee2",
     "locked": true,
     "schema_version": 3,
     "solution": false,
     "task": false
    }
   },
   "outputs": [],
   "source": [
    "titanic = sns.load_dataset('titanic')\n",
    "f, ax = plt.subplots(figsize=(7, 3))\n",
    "ax = sns.countplot(y=\"deck\", data=titanic, color=\"c\")\n",
    "ax.set_title('Titanic')"
   ]
  },
  {
   "cell_type": "code",
   "execution_count": null,
   "metadata": {
    "deletable": false,
    "editable": false,
    "nbgrader": {
     "cell_type": "code",
     "checksum": "aae1a413cd213124015e08b1f564d17f",
     "grade": false,
     "grade_id": "cell-75cafd9fade77f44",
     "locked": true,
     "schema_version": 3,
     "solution": false,
     "task": false
    }
   },
   "outputs": [],
   "source": [
    "ax = sns.countplot(x=\"class\", data=titanic)\n",
    "ax.set_title('Titanic')"
   ]
  },
  {
   "cell_type": "code",
   "execution_count": null,
   "metadata": {
    "deletable": false,
    "editable": false,
    "nbgrader": {
     "cell_type": "code",
     "checksum": "0823a551fa588374f57129a66a220748",
     "grade": false,
     "grade_id": "cell-c1716461d24c6443",
     "locked": true,
     "schema_version": 3,
     "solution": false,
     "task": false
    }
   },
   "outputs": [],
   "source": [
    "fig, ax = plt.subplots(figsize=(10,6)) # Create figure object\n",
    "sns.set_context(\"notebook\", font_scale=1, rc={\"lines.linewidth\": 2.5})\n",
    "ax = sns.countplot(x=\"deck\", data=titanic)"
   ]
  },
  {
   "cell_type": "code",
   "execution_count": null,
   "metadata": {
    "deletable": false,
    "editable": false,
    "nbgrader": {
     "cell_type": "code",
     "checksum": "03b95865974eea2a29eeb49cbd200009",
     "grade": false,
     "grade_id": "cell-cb8ec67633085b35",
     "locked": true,
     "schema_version": 3,
     "solution": false,
     "task": false
    }
   },
   "outputs": [],
   "source": [
    "sns.set(style=\"ticks\", palette=\"muted\")\n",
    "sns.relplot(x=\"age\", y=\"deck\", col=\"class\", data=titanic);"
   ]
  },
  {
   "cell_type": "markdown",
   "metadata": {
    "deletable": false,
    "editable": false,
    "nbgrader": {
     "cell_type": "markdown",
     "checksum": "6eb58e458666c981f076961bfe109543",
     "grade": false,
     "grade_id": "cell-2cb0d3a73985d051",
     "locked": true,
     "schema_version": 3,
     "solution": false,
     "task": false
    }
   },
   "source": [
    "For \"small enough\" data sets like the titanic, it can sometimes be helpful to generate a large number of correlation plots to quickly search for unexpected results. This technique does not scale well however, which motivates us for our journey into statistical learning later in this class!"
   ]
  },
  {
   "cell_type": "code",
   "execution_count": null,
   "metadata": {
    "deletable": false,
    "editable": false,
    "nbgrader": {
     "cell_type": "code",
     "checksum": "793db21e02e8c06fb864af240a74a1e9",
     "grade": false,
     "grade_id": "cell-67c0991a00f0ec46",
     "locked": true,
     "schema_version": 3,
     "solution": false,
     "task": false
    }
   },
   "outputs": [],
   "source": [
    "sns.set_context(\"notebook\", font_scale=1.5, rc={\"lines.linewidth\": 2.5})\n",
    "sns.pairplot(data=titanic, hue=\"deck\")"
   ]
  },
  {
   "cell_type": "markdown",
   "metadata": {
    "deletable": false,
    "editable": false,
    "nbgrader": {
     "cell_type": "markdown",
     "checksum": "7464429a1cdbb1642d3a6a2ec11eb0e4",
     "grade": false,
     "grade_id": "pandas-plotting",
     "locked": true,
     "schema_version": 3,
     "solution": false,
     "task": false
    }
   },
   "source": [
    "# 2 - Introduction to `pandas` plotting.\n",
    "\n",
    "There is plotting functionality built in `pandas`. Look for it in the `pandas` [documentation](https://pandas.pydata.org/docs/). It will only help you to be able to quickly search through and understand official documentation of common packages like pandas. Relying on search engine results, AI assistants, and whoever is sitting next to you at the time will not be as reliable or as fast as knowing how to read documentation.\n",
    "\n",
    "**Example:** The `value_counts()` Series method and top-level function computes a histogram of a 1D array of values. It can\n",
    "also be used as a function on regular arrays.\n",
    "\n",
    "Reminder: DataFrame: “index” (axis=0, default), “columns” (axis=1) "
   ]
  },
  {
   "cell_type": "markdown",
   "metadata": {
    "deletable": false,
    "editable": false,
    "nbgrader": {
     "cell_type": "markdown",
     "checksum": "589d2c52179074f25a4d898ae3b5883d",
     "grade": false,
     "grade_id": "line-graph",
     "locked": true,
     "schema_version": 3,
     "solution": false,
     "task": false
    }
   },
   "source": [
    "## 2.1 Line Graph\n",
    "\n",
    "#### Good for time dependency or when a variable evolves"
   ]
  },
  {
   "cell_type": "code",
   "execution_count": null,
   "metadata": {
    "deletable": false,
    "editable": false,
    "nbgrader": {
     "cell_type": "code",
     "checksum": "3c71ff332e87b82a1d1821c296b59a07",
     "grade": false,
     "grade_id": "cell-837772d9018a74ef",
     "locked": true,
     "schema_version": 3,
     "solution": false,
     "task": false
    }
   },
   "outputs": [],
   "source": [
    "df = pd.DataFrame(np.random.randn(1000, 4), columns=['A', 'B', 'C', 'D'])\n",
    "df.head()"
   ]
  },
  {
   "cell_type": "code",
   "execution_count": null,
   "metadata": {
    "deletable": false,
    "editable": false,
    "nbgrader": {
     "cell_type": "code",
     "checksum": "ee20fbc0ea0f3b556007bd2b77a6afd2",
     "grade": false,
     "grade_id": "cell-bdf98d5b2dbb2ffb",
     "locked": true,
     "schema_version": 3,
     "solution": false,
     "task": false
    }
   },
   "outputs": [],
   "source": [
    "# cumulative sum adds column values as it goes\n",
    "df = df.cumsum()\n",
    "df.head()"
   ]
  },
  {
   "cell_type": "code",
   "execution_count": null,
   "metadata": {
    "deletable": false,
    "editable": false,
    "nbgrader": {
     "cell_type": "code",
     "checksum": "c72971c90f17c4d8e353d19170e4569c",
     "grade": false,
     "grade_id": "cell-e27184e0995368cd",
     "locked": true,
     "schema_version": 3,
     "solution": false,
     "task": false
    }
   },
   "outputs": [],
   "source": [
    "plt.figure()\n",
    "df.plot()\n",
    "plt.legend(loc='best')"
   ]
  },
  {
   "cell_type": "code",
   "execution_count": null,
   "metadata": {
    "deletable": false,
    "editable": false,
    "nbgrader": {
     "cell_type": "code",
     "checksum": "dcd564651cbfd1b823d86fbe0d6e0952",
     "grade": false,
     "grade_id": "cell-4e63fc11dce66a0a",
     "locked": true,
     "schema_version": 3,
     "solution": false,
     "task": false
    }
   },
   "outputs": [],
   "source": [
    "ts = pd.Series(np.random.randn(1000), index=pd.date_range('1/1/2000', periods=1000))\n",
    "df = pd.DataFrame(np.random.randn(1000, 4), index=ts.index, columns=list('ABCD'))\n",
    "\n",
    "df = df.cumsum()\n",
    "plt.figure()\n",
    "df.plot()"
   ]
  },
  {
   "cell_type": "markdown",
   "metadata": {
    "deletable": false,
    "editable": false,
    "nbgrader": {
     "cell_type": "markdown",
     "checksum": "dbbd89513b97db8e33dcc64d29b2c36d",
     "grade": false,
     "grade_id": "cell-3a602c846f3ca8b6",
     "locked": true,
     "schema_version": 3,
     "solution": false,
     "task": false
    }
   },
   "source": [
    "Plotting methods allow for a handful of plot styles other than the default line plot. These methods can be provided as the kind keyword argument to plot(), and include:\n",
    "\n",
    "- `bar` or `barh` for bar plots\n",
    "- `hist` for histogram\n",
    "- `box` for boxplot\n",
    "- `kde` or `density` for density plots\n",
    "- `area` for area plots\n",
    "- `scatter` for scatter plots\n",
    "- `hexbin` for hexagonal bin plots\n",
    "- `pie` for pie plots\n",
    "\n",
    "In addition to these kind s, there are the `DataFrame.hist()`, and `DataFrame.boxplot()` methods, which use a separate interface. `scatter_matrix` in pandas.plotting takes a Series or DataFrame as an argument."
   ]
  },
  {
   "cell_type": "markdown",
   "metadata": {
    "deletable": false,
    "editable": false,
    "nbgrader": {
     "cell_type": "markdown",
     "checksum": "fcad4f33975261f2820cdc0dfb67891e",
     "grade": false,
     "grade_id": "bar-plots",
     "locked": true,
     "schema_version": 3,
     "solution": false,
     "task": false
    }
   },
   "source": [
    "## 2.2 Bar Plots"
   ]
  },
  {
   "cell_type": "code",
   "execution_count": null,
   "metadata": {
    "deletable": false,
    "editable": false,
    "nbgrader": {
     "cell_type": "code",
     "checksum": "b142e75cc7bc69ed612df70251c0fe1b",
     "grade": false,
     "grade_id": "cell-29803dfecd918a6c",
     "locked": true,
     "schema_version": 3,
     "solution": false,
     "task": false
    }
   },
   "outputs": [],
   "source": [
    "plt.figure()\n",
    "df.iloc[0].plot(kind='bar')"
   ]
  },
  {
   "cell_type": "code",
   "execution_count": null,
   "metadata": {
    "deletable": false,
    "editable": false,
    "nbgrader": {
     "cell_type": "code",
     "checksum": "0f45a0b9da9ab3accab5eb7a7abf6159",
     "grade": false,
     "grade_id": "cell-b6655cc67427667b",
     "locked": true,
     "schema_version": 3,
     "solution": false,
     "task": false
    }
   },
   "outputs": [],
   "source": [
    "df2 = pd.DataFrame(np.random.rand(10, 4), columns=['a', 'b', 'c', 'd'])\n",
    "df2.head()"
   ]
  },
  {
   "cell_type": "code",
   "execution_count": null,
   "metadata": {
    "deletable": false,
    "editable": false,
    "nbgrader": {
     "cell_type": "code",
     "checksum": "f4b6e5167527ebc79b43f3b238d6c0b1",
     "grade": false,
     "grade_id": "cell-18a003ae9145185f",
     "locked": true,
     "schema_version": 3,
     "solution": false,
     "task": false
    }
   },
   "outputs": [],
   "source": [
    "df2.plot.bar()\n",
    "plt.show()"
   ]
  },
  {
   "cell_type": "code",
   "execution_count": null,
   "metadata": {
    "deletable": false,
    "editable": false,
    "nbgrader": {
     "cell_type": "code",
     "checksum": "39f94f1ea7c656ac788fa655d511a99e",
     "grade": false,
     "grade_id": "cell-94e37716b6c695ff",
     "locked": true,
     "schema_version": 3,
     "solution": false,
     "task": false
    }
   },
   "outputs": [],
   "source": [
    "# horizontal bar plot\n",
    "df2.plot.barh(stacked=False)\n",
    "plt.show()"
   ]
  },
  {
   "cell_type": "markdown",
   "metadata": {
    "deletable": false,
    "editable": false,
    "nbgrader": {
     "cell_type": "markdown",
     "checksum": "cb98c06cc5d7116a82947ca4f7c9429f",
     "grade": false,
     "grade_id": "histogram",
     "locked": true,
     "schema_version": 3,
     "solution": false,
     "task": false
    }
   },
   "source": [
    "## 2.3 Histograms"
   ]
  },
  {
   "cell_type": "code",
   "execution_count": null,
   "metadata": {
    "deletable": false,
    "editable": false,
    "nbgrader": {
     "cell_type": "code",
     "checksum": "8489c61bcfb2762270b8a534717d676d",
     "grade": false,
     "grade_id": "cell-644f7e337dc5cea4",
     "locked": true,
     "schema_version": 3,
     "solution": false,
     "task": false
    }
   },
   "outputs": [],
   "source": [
    "df4 = pd.DataFrame({'a': np.random.randn(1000) + 1, 'b': np.random.randn(1000), \n",
    "                    'c': np.random.randn(1000) - 1}, columns=['a', 'b', 'c'])\n",
    "\n",
    "plt.figure()\n",
    "df4.plot.hist(alpha=0.5, stacked=False, bins=60)"
   ]
  },
  {
   "cell_type": "markdown",
   "metadata": {
    "deletable": false,
    "editable": false,
    "nbgrader": {
     "cell_type": "markdown",
     "checksum": "48cc31fa2002e4824034f3ef76fc94db",
     "grade": false,
     "grade_id": "box-plot",
     "locked": true,
     "schema_version": 3,
     "solution": false,
     "task": false
    }
   },
   "source": [
    "## 2.4 Boxplots"
   ]
  },
  {
   "cell_type": "code",
   "execution_count": null,
   "metadata": {
    "deletable": false,
    "editable": false,
    "nbgrader": {
     "cell_type": "code",
     "checksum": "bf6e9be361e4fa56f014cab6aff47920",
     "grade": false,
     "grade_id": "cell-9c94dae1e5ae395b",
     "locked": true,
     "schema_version": 3,
     "solution": false,
     "task": false
    }
   },
   "outputs": [],
   "source": [
    "color = {'boxes': 'DarkGreen', 'whiskers': 'DarkOrange',\n",
    "        'medians': 'DarkBlue', 'caps': 'Gray'}\n",
    "\n",
    "df = pd.DataFrame(np.random.rand(10, 5), columns=['A', 'B', 'C', 'D', 'E'])\n",
    "df.plot.box(color=color )"
   ]
  },
  {
   "cell_type": "markdown",
   "metadata": {
    "deletable": false,
    "editable": false,
    "nbgrader": {
     "cell_type": "markdown",
     "checksum": "4198bf71d53babc1a89e25160e0b948a",
     "grade": false,
     "grade_id": "area-plot",
     "locked": true,
     "schema_version": 3,
     "solution": false,
     "task": false
    }
   },
   "source": [
    "## 2.5 Area plots\n",
    "\n",
    "You can create area plots with `Series.plot.area()` and `DataFrame.plot.area()`. Area plots are stacked\n",
    "by default. To produce stacked area plot, each column must be either all positive or all negative values."
   ]
  },
  {
   "cell_type": "code",
   "execution_count": null,
   "metadata": {
    "deletable": false,
    "editable": false,
    "nbgrader": {
     "cell_type": "code",
     "checksum": "d0a525a5116981e94c48e94e9b303b44",
     "grade": false,
     "grade_id": "cell-5dc372eb817d7ef1",
     "locked": true,
     "schema_version": 3,
     "solution": false,
     "task": false
    }
   },
   "outputs": [],
   "source": [
    "df = pd.DataFrame(np.random.rand(10, 4), columns=['a', 'b', 'c', 'd'])\n",
    "df.plot.area(stacked=True)"
   ]
  },
  {
   "cell_type": "code",
   "execution_count": null,
   "metadata": {
    "deletable": false,
    "editable": false,
    "nbgrader": {
     "cell_type": "code",
     "checksum": "4b7c4dfddb1d07a71a6a161c144daef1",
     "grade": false,
     "grade_id": "cell-a88c96d52c705306",
     "locked": true,
     "schema_version": 3,
     "solution": false,
     "task": false
    }
   },
   "outputs": [],
   "source": [
    "df.plot.area(stacked=False)"
   ]
  },
  {
   "cell_type": "markdown",
   "metadata": {
    "deletable": false,
    "editable": false,
    "nbgrader": {
     "cell_type": "markdown",
     "checksum": "a52b6ca6e2eaffe9c3318047b1d5c43f",
     "grade": false,
     "grade_id": "scatter-plot",
     "locked": true,
     "schema_version": 3,
     "solution": false,
     "task": false
    }
   },
   "source": [
    "## 2.6 Scatterplot\n",
    "\n",
    "Scatter plot can be drawn by using the DataFrame.plot.scatter() method. Scatter plot requires numeric\n",
    "columns for the x and y axes. These can be specified by the x and y keywords."
   ]
  },
  {
   "cell_type": "code",
   "execution_count": null,
   "metadata": {
    "deletable": false,
    "editable": false,
    "nbgrader": {
     "cell_type": "code",
     "checksum": "2570d2ccd6aa87a2061890ce5eeecf06",
     "grade": false,
     "grade_id": "cell-dc44f9c410f81301",
     "locked": true,
     "schema_version": 3,
     "solution": false,
     "task": false
    }
   },
   "outputs": [],
   "source": [
    "ax = df.plot.scatter(x='a', y='b', color='DarkBlue', label='Group 1')\n",
    "df.plot.scatter(x='c', y='d', color='DarkGreen', label='Group 2', ax=ax)"
   ]
  },
  {
   "cell_type": "markdown",
   "metadata": {
    "deletable": false,
    "editable": false,
    "nbgrader": {
     "cell_type": "markdown",
     "checksum": "4aebdfc7bc0294106a9c306ac98101c5",
     "grade": false,
     "grade_id": "pandas-trick",
     "locked": true,
     "schema_version": 3,
     "solution": false,
     "task": false
    }
   },
   "source": [
    "### `pandas` Tricks\n",
    "\n",
    "The copy() method on pandas objects copies the underlying data (though not the axis indexes, since they are immutable)\n",
    "and returns a new object. Note that it is seldom necessary to copy objects. For example, there are only a\n",
    "handful of ways to alter a DataFrame in-place:\n",
    "\n",
    "- Inserting, deleting, or modifying a column.\n",
    "- Assigning to the index or columns attributes.\n",
    "- For homogeneous data, directly modifying the values via the values attribute or advanced indexing.\n",
    "\n",
    "To be clear, no pandas method has the side effect of modifying your data; almost every method returns a new object,\n",
    "leaving the original object untouched. If the data is modified, it is because you did so explicitly"
   ]
  },
  {
   "cell_type": "markdown",
   "metadata": {
    "deletable": false,
    "editable": false,
    "nbgrader": {
     "cell_type": "markdown",
     "checksum": "832a4adc75cb76b3e528942984359046",
     "grade": false,
     "grade_id": "part-3",
     "locked": true,
     "schema_version": 3,
     "solution": false,
     "task": false
    }
   },
   "source": [
    "<a class=\"anchor\" id=\"#exercise\"></a>\n",
    "# 3 - Exercise: 1/2 hour in the Life of a Cardiologist \n",
    " \n",
    "Try each exercise on your own and then discuss with your peers. Feel free to engage the TA's and instructors as well. \n",
    "\n",
    "Visualize and explore the data. Use `.describe()` to look at your data and also examine if you have any missing values. <BR> \n",
    "What is the actual number of feature variables after converting categorical variables to dummy ones?<BR><BR>\n",
    "**List of available variables (includes target variable `num`):**\n",
    "\n",
    "- **age**: continuous\n",
    "- **sex**: categorical, 2 values {0: female, 1: male}\n",
    "- **cp** (chest pain type): categorical, 4 values\n",
    "    {1: typical angina, 2: atypical angina, 3: non-angina, 4: asymptomatic angina}\n",
    "- **restbp** (resting blood pressure on admission to hospital): continuous (mmHg)\n",
    "- **chol (serum cholesterol level)**: continuous (mg/dl)\n",
    "- **fbs** (fasting blood sugar): categorical, 2 values {0: <= 120 mg/dl, 1: > 120 mg/dl}\n",
    "- **restecg** (resting electrocardiography): categorical, 3 values\n",
    "    {0: normal, 1: ST-T wave abnormality, 2: left ventricular hypertrophy}\n",
    "- **thalach** (maximum heart rate achieved): continuous\n",
    "- **exang** (exercise induced angina): categorical, 2 values {0: no, 1: yes}\n",
    "- **oldpeak** (ST depression induced by exercise relative to rest): continuous\n",
    "- **slope** (slope of peak exercise ST segment): categorical, 3 values \n",
    "    {1: upsloping, 2: flat, 3: downsloping}\n",
    "- **ca** (number of major vessels colored by fluoroscopy): discrete (0,1,2,3)\n",
    "- **thal**: categorical, 3 values {3: normal, 6: fixed defect, 7: reversible defect}\n",
    "- **num** (diagnosis of heart disease): categorical, 5 values \n",
    "    {0: less than 50% narrowing in any major vessel, \n",
    "    1-4: more than 50% narrowing in 1-4 vessels}"
   ]
  },
  {
   "cell_type": "code",
   "execution_count": null,
   "metadata": {
    "deletable": false,
    "editable": false,
    "nbgrader": {
     "cell_type": "code",
     "checksum": "381e48d7dd1cd641847fa21228cc6611",
     "grade": false,
     "grade_id": "cell-695c1478b8a7a3ae",
     "locked": true,
     "schema_version": 3,
     "solution": false,
     "task": false
    }
   },
   "outputs": [],
   "source": [
    "columns = ['age', 'sex', 'cp', 'restbp', 'chol', 'fbs', 'restecg', 'thalach', 'exang', 'oldpeak', 'slope', 'ca', 'thal', 'num']"
   ]
  },
  {
   "cell_type": "code",
   "execution_count": null,
   "metadata": {
    "deletable": false,
    "editable": false,
    "nbgrader": {
     "cell_type": "code",
     "checksum": "3baa38bb1c8ffb0d03fd85f131677972",
     "grade": false,
     "grade_id": "cell-8c1ee84daf128f19",
     "locked": true,
     "schema_version": 3,
     "solution": false,
     "task": false
    }
   },
   "outputs": [],
   "source": [
    "# load the dataset\n",
    "heart_df = pd.read_csv('data/heart_disease.csv', header=None, names=columns)\n",
    "heart_df.head()"
   ]
  },
  {
   "cell_type": "markdown",
   "metadata": {
    "deletable": false,
    "editable": false,
    "nbgrader": {
     "cell_type": "markdown",
     "checksum": "829caa7831c0a0a7b2357c9f854c8e40",
     "grade": false,
     "grade_id": "cell-25854bc1eb6de09f",
     "locked": true,
     "schema_version": 3,
     "solution": false,
     "task": false
    }
   },
   "source": [
    "**Pandas trick: `.replace`** The response variable (num) is categorical with 5 values, but we don't have enough data to predict all the categories. <BR> Therefore we'll replace `num` with `hd` (heart disease): **categorical, 2 values {0: no, 1: yes}**. <BR>\n",
    "Use the code below (take a minute to understand how it works, it's very useful!):"
   ]
  },
  {
   "cell_type": "code",
   "execution_count": null,
   "metadata": {
    "deletable": false,
    "editable": false,
    "nbgrader": {
     "cell_type": "code",
     "checksum": "aae9b34092822a6967adedbba6a8f479",
     "grade": false,
     "grade_id": "cell-79b0a53e97f2f27c",
     "locked": true,
     "schema_version": 3,
     "solution": false,
     "task": false
    }
   },
   "outputs": [],
   "source": [
    "# Replace response variable values with a binary response (1: heart disease(hd) or 0: not)\n",
    "heart_df['num'].replace(to_replace=[1,2,3,4],value=1,inplace=True)\n",
    "\n",
    "# Rename column for clarity\n",
    "heart_df = heart_df.rename(columns = {'num':'hd'})\n",
    "heart_df.head()"
   ]
  },
  {
   "cell_type": "code",
   "execution_count": null,
   "metadata": {
    "deletable": false,
    "editable": false,
    "nbgrader": {
     "cell_type": "code",
     "checksum": "2e0e6880aba2666a8b53421d111dd9f5",
     "grade": false,
     "grade_id": "cell-d5f6c76c0f2540ce",
     "locked": true,
     "schema_version": 3,
     "solution": false,
     "task": false
    }
   },
   "outputs": [],
   "source": [
    "# look at the features\n",
    "heart_df.info()"
   ]
  },
  {
   "cell_type": "code",
   "execution_count": null,
   "metadata": {
    "deletable": false,
    "editable": false,
    "nbgrader": {
     "cell_type": "code",
     "checksum": "d0d610b80264d35d2a3a02c995244286",
     "grade": false,
     "grade_id": "cell-d7921724d8823236",
     "locked": true,
     "schema_version": 3,
     "solution": false,
     "task": false
    }
   },
   "outputs": [],
   "source": [
    "heart_df.describe()"
   ]
  },
  {
   "cell_type": "markdown",
   "metadata": {
    "deletable": false,
    "editable": false,
    "nbgrader": {
     "cell_type": "markdown",
     "checksum": "40bb2e36ce71e21856de6da58882a841",
     "grade": false,
     "grade_id": "cell-946225090834bac6",
     "locked": true,
     "schema_version": 3,
     "solution": false,
     "task": false
    }
   },
   "source": [
    "At this point you should split in train and test set and work only on the **train!!**. For simplicity we will not do this in this exercise."
   ]
  },
  {
   "cell_type": "markdown",
   "metadata": {
    "deletable": false,
    "editable": false,
    "nbgrader": {
     "cell_type": "markdown",
     "checksum": "842c6949d3ab74d03174a050673c061b",
     "grade": false,
     "grade_id": "task-3-questions",
     "locked": true,
     "schema_version": 3,
     "solution": false,
     "task": false
    }
   },
   "source": [
    "### Answer the following question using plots\n",
    "\n",
    "01. At what ages do people seek cardiological exams? \n",
    "02. Do men seek help more than women? \n",
    "03. Examine the variables. How do they relate to one another?\n",
    "04. (Variation on 02): What % of men and women seek cardio exams? \n",
    "05. Does resting blood pressure increase with age?"
   ]
  },
  {
   "cell_type": "markdown",
   "metadata": {
    "deletable": false,
    "editable": false,
    "nbgrader": {
     "cell_type": "markdown",
     "checksum": "23e5c6c2b81689b67631eee51f6ea253",
     "grade": false,
     "grade_id": "question-1",
     "locked": true,
     "schema_version": 3,
     "solution": false,
     "task": false
    }
   },
   "source": [
    "<div class='exercise'> <b> Question 1: At what ages do people seek cardiological exams?</div>\n",
    "\n",
    "\n",
    "\n",
    "**Hint:** Create a histogram plot with kde = True in order to visualize this.\n",
    "    \n",
    "  1. To create this plot, you need to set up the Figure and Axes objects using `plt.subplots()`. \n",
    "        - These two objects (fig and ax) will allow you to control various properties of the figure and plot.\n",
    "        - `fig` is the Figure object: It serves as the overall container for the plot.\n",
    "        - `ax` is the Axes object: This is where the actual data points will be plotted, including x and y axes, labels, etc.\n",
    "        ```python\n",
    "            Example code: fig, ax = plt.subplots(figsize=(10, 6))\n",
    "        ```\n",
    "  2. Customize the Plot: \n",
    "        - You need to set the title of the plot, the labels for the x-axis and y-axis, and format the ticks on the x-axis for better readability."
   ]
  },
  {
   "cell_type": "code",
   "execution_count": null,
   "metadata": {
    "deletable": false,
    "nbgrader": {
     "cell_type": "code",
     "checksum": "275e955a3d74f1008a514d0bb7b95d79",
     "grade": false,
     "grade_id": "question-1-implementation",
     "locked": false,
     "schema_version": 3,
     "solution": true,
     "task": false
    }
   },
   "outputs": [],
   "source": [
    "\"\"\"Your code for Question 1 here:\"\"\"\n",
    "\n",
    "# your code here\n",
    "raise NotImplementedError"
   ]
  },
  {
   "cell_type": "code",
   "execution_count": null,
   "metadata": {
    "deletable": false,
    "editable": false,
    "nbgrader": {
     "cell_type": "code",
     "checksum": "8d70f22bd913c8bf4bcf7076645ba86e",
     "grade": true,
     "grade_id": "question-1-tests",
     "locked": true,
     "points": 9,
     "schema_version": 3,
     "solution": false,
     "task": false
    }
   },
   "outputs": [],
   "source": []
  },
  {
   "cell_type": "markdown",
   "metadata": {
    "deletable": false,
    "editable": false,
    "nbgrader": {
     "cell_type": "markdown",
     "checksum": "9d30cb63040d5541be280ccb12ab4c6a",
     "grade": false,
     "grade_id": "cell-bf9a0a3cc462c315",
     "locked": true,
     "schema_version": 3,
     "solution": false,
     "task": false
    }
   },
   "source": [
    "`Question 1:` **What is the most frequent age people seek cardiological exams?** Store your integer answer to a variable called `answer` in the below cell."
   ]
  },
  {
   "cell_type": "code",
   "execution_count": null,
   "metadata": {
    "deletable": false,
    "nbgrader": {
     "cell_type": "code",
     "checksum": "52df3a5fb4bad32dbd2213a017e97d2a",
     "grade": false,
     "grade_id": "question-1-answer",
     "locked": false,
     "schema_version": 3,
     "solution": true,
     "task": false
    }
   },
   "outputs": [],
   "source": [
    "# your code here\n",
    "raise NotImplementedError"
   ]
  },
  {
   "cell_type": "code",
   "execution_count": null,
   "metadata": {
    "deletable": false,
    "editable": false,
    "nbgrader": {
     "cell_type": "code",
     "checksum": "f25a3b903908dff4e443321de96bcb41",
     "grade": true,
     "grade_id": "cell-0be95e9370b1665b",
     "locked": true,
     "points": 2,
     "schema_version": 3,
     "solution": false,
     "task": false
    }
   },
   "outputs": [],
   "source": [
    "### BEIGN HIDDEN TESTS\n",
    "assert 58 <= answer <= 60, 'Which bar is the tallest on histogram.'"
   ]
  },
  {
   "cell_type": "markdown",
   "metadata": {
    "deletable": false,
    "editable": false,
    "nbgrader": {
     "cell_type": "markdown",
     "checksum": "80b2968920c19d0c2dbbe00a45d6928f",
     "grade": false,
     "grade_id": "question-2",
     "locked": true,
     "schema_version": 3,
     "solution": false,
     "task": false
    }
   },
   "source": [
    "<div class='exercise'> <b> Question 2: Do men seek help more than women?</div>\n",
    "\n",
    "\n",
    "\n",
    "**Hint:** Create a count plot in order to visualize this.\n",
    "    \n",
    "  1. To create this plot, you need to set up the Figure and Axes objects using `plt.subplots()`. \n",
    "        - These two objects (fig and ax) will allow you to control various properties of the figure and plot.\n",
    "        - `fig` is the Figure object: It serves as the overall container for the plot.\n",
    "        - `ax` is the Axes object: This is where the actual data points will be plotted, including x and y axes, labels, etc.\n",
    "        ```python\n",
    "            Example code: fig, ax = plt.subplots(figsize=(10, 6))\n",
    "        ```\n",
    "  2. Customize the Plot: \n",
    "        - You need to set the title of the plot, the labels for the x-axis and y-axis, and format the ticks on the x-axis for better readability."
   ]
  },
  {
   "cell_type": "code",
   "execution_count": null,
   "metadata": {
    "deletable": false,
    "nbgrader": {
     "cell_type": "code",
     "checksum": "439cac019b9dbe9348b26ca78f406784",
     "grade": false,
     "grade_id": "question-2-implementation",
     "locked": false,
     "schema_version": 3,
     "solution": true,
     "task": false
    }
   },
   "outputs": [],
   "source": [
    "\"\"\"Your code for Question 2 here:\"\"\"\n",
    "\n",
    "# your code here\n",
    "raise NotImplementedError"
   ]
  },
  {
   "cell_type": "code",
   "execution_count": null,
   "metadata": {
    "deletable": false,
    "editable": false,
    "nbgrader": {
     "cell_type": "code",
     "checksum": "767c399a7d8d0a75ce0300e63c13c1aa",
     "grade": true,
     "grade_id": "question-2-tests",
     "locked": true,
     "points": 9,
     "schema_version": 3,
     "solution": false,
     "task": false
    }
   },
   "outputs": [],
   "source": []
  },
  {
   "cell_type": "markdown",
   "metadata": {
    "deletable": false,
    "editable": false,
    "nbgrader": {
     "cell_type": "markdown",
     "checksum": "020119e0de9b27ced95ec11fc7413753",
     "grade": false,
     "grade_id": "cell-98e2e82008dc664c",
     "locked": true,
     "schema_version": 3,
     "solution": false,
     "task": false
    }
   },
   "source": [
    "**Do men seek help more than women?** Assign a boolean value to a variable named `answer` in the next cell to check! "
   ]
  },
  {
   "cell_type": "code",
   "execution_count": null,
   "metadata": {
    "deletable": false,
    "nbgrader": {
     "cell_type": "code",
     "checksum": "6dfae0940f7fa18424a56e8aa95ff279",
     "grade": false,
     "grade_id": "cell-2f67a7d44f6e96f5",
     "locked": false,
     "schema_version": 3,
     "solution": true,
     "task": false
    }
   },
   "outputs": [],
   "source": [
    "# your code here\n",
    "raise NotImplementedError"
   ]
  },
  {
   "cell_type": "code",
   "execution_count": null,
   "metadata": {
    "deletable": false,
    "editable": false,
    "nbgrader": {
     "cell_type": "code",
     "checksum": "a7d246ce7e864434a5b6c8c34a54f3f0",
     "grade": true,
     "grade_id": "cell-5716d4203fa2d7ee",
     "locked": true,
     "points": 1,
     "schema_version": 3,
     "solution": false,
     "task": false
    }
   },
   "outputs": [],
   "source": []
  },
  {
   "cell_type": "code",
   "execution_count": null,
   "metadata": {
    "deletable": false,
    "editable": false,
    "nbgrader": {
     "cell_type": "code",
     "checksum": "6ce5ce00e4b6a60fd4da8db235360759",
     "grade": false,
     "grade_id": "cell-9b7dcce57efe81ff",
     "locked": true,
     "schema_version": 3,
     "solution": false,
     "task": false
    }
   },
   "outputs": [],
   "source": [
    "heart_df.replace({'sex': {'F': 0., 'M': 1.}}, inplace=True)"
   ]
  },
  {
   "cell_type": "markdown",
   "metadata": {
    "deletable": false,
    "editable": false,
    "nbgrader": {
     "cell_type": "markdown",
     "checksum": "29d5d6ea9fc828f3463a91f698663205",
     "grade": false,
     "grade_id": "cell-900901b6febc8f64",
     "locked": true,
     "schema_version": 3,
     "solution": false,
     "task": false
    }
   },
   "source": [
    "The number of feature variables (after converting categorical variables to dummy ones) is: \n",
    "1 (age) + 1 (sex) + 3 (cp) + 1 (restbp) + 1 (chol) + 1 (fbs) + 2 (restecg) + \n",
    "1 (thalach) + 1 (exang) + 1 (oldpeak) + 2 (slope) + 1 (ca) + 2 (thal) = 18"
   ]
  },
  {
   "cell_type": "markdown",
   "metadata": {
    "deletable": false,
    "editable": false,
    "nbgrader": {
     "cell_type": "markdown",
     "checksum": "562f7ef0452155bb0f754f0237a77c4a",
     "grade": false,
     "grade_id": "question-3",
     "locked": true,
     "schema_version": 3,
     "solution": false,
     "task": false
    }
   },
   "source": [
    "<div class='exercise'> <b> Question 3: Examine the variables. How do they relate to one another?</div>\n",
    "\n",
    "\n",
    "\n",
    "**Hint:** Create a [sns.pairplot()](https://seaborn.pydata.org/generated/seaborn.pairplot.html) for numerical data in order to visualize this.\n",
    "- Print and save correlation matrix to variable named `corr_matrix`. \n",
    "- Refer to this [document](https://seaborn.pydata.org/examples/many_pairwise_correlations.html) about correlation matrix.\n",
    "    \n",
    "  1. To create this plot, you need to set up the Figure and Axes objects using `plt.subplots()`. \n",
    "        - These two objects (fig and ax) will allow you to control various properties of the figure and plot.\n",
    "        - `fig` is the Figure object: It serves as the overall container for the plot.\n",
    "        - `ax` is the Axes object: This is where the actual data points will be plotted, including x and y axes, labels, etc.\n",
    "        ```python\n",
    "            Example code: fig, ax = plt.subplots(figsize=(10, 6))\n",
    "        ```\n",
    "  2. Customize the Plot: \n",
    "        - You need to set the title of the plot, the labels for the x-axis and y-axis, and format the ticks on the x-axis for better readability."
   ]
  },
  {
   "cell_type": "code",
   "execution_count": null,
   "metadata": {
    "deletable": false,
    "editable": false,
    "nbgrader": {
     "cell_type": "code",
     "checksum": "00106437be7769275e0f210f62b68885",
     "grade": false,
     "grade_id": "cell-e057558be5adb3d6",
     "locked": true,
     "schema_version": 3,
     "solution": false,
     "task": false
    }
   },
   "outputs": [],
   "source": [
    "# Defining numerical and categorical variables\n",
    "categorical = [\"sex\", \"cp\", \"fbs\", \"restecg\", \"exang\",  \"slope\", \"ca\", \"thal\", \"hd\"]\n",
    "numerical = [\"age\",\"restbp\", \"chol\", \"thalach\",  \"oldpeak\"]"
   ]
  },
  {
   "cell_type": "code",
   "execution_count": null,
   "metadata": {
    "deletable": false,
    "nbgrader": {
     "cell_type": "code",
     "checksum": "7b9b5ae8ded5b5fb89f85b74f6f668f7",
     "grade": false,
     "grade_id": "question-3-implementation",
     "locked": false,
     "schema_version": 3,
     "solution": true,
     "task": false
    }
   },
   "outputs": [],
   "source": [
    "\"\"\"Your code for Question 3 here:\"\"\"\n",
    "\n",
    "# your code here\n",
    "raise NotImplementedError"
   ]
  },
  {
   "cell_type": "code",
   "execution_count": null,
   "metadata": {
    "deletable": false,
    "editable": false,
    "nbgrader": {
     "cell_type": "code",
     "checksum": "feb7d044100e52d5dfedddbe051ae913",
     "grade": true,
     "grade_id": "question-3-tests",
     "locked": true,
     "points": 10,
     "schema_version": 3,
     "solution": false,
     "task": false
    }
   },
   "outputs": [],
   "source": []
  },
  {
   "cell_type": "markdown",
   "metadata": {
    "deletable": false,
    "editable": false,
    "nbgrader": {
     "cell_type": "markdown",
     "checksum": "eea89e267ff2279ce2d5e7e15c27955c",
     "grade": false,
     "grade_id": "cell-e8cb5fe8554b81b9",
     "locked": true,
     "schema_version": 3,
     "solution": false,
     "task": false
    }
   },
   "source": [
    "`Practice exercise`  **Examine the variables by plotting graphs. How do they relate to one another?** use the below cell to write some code."
   ]
  },
  {
   "cell_type": "code",
   "execution_count": null,
   "metadata": {},
   "outputs": [],
   "source": [
    "\"\"\"Practice space\"\"\""
   ]
  },
  {
   "cell_type": "markdown",
   "metadata": {
    "deletable": false,
    "editable": false,
    "nbgrader": {
     "cell_type": "markdown",
     "checksum": "73d5e5ec06d7f3deecad35f521bb8bfc",
     "grade": false,
     "grade_id": "question-4",
     "locked": true,
     "schema_version": 3,
     "solution": false,
     "task": false
    }
   },
   "source": [
    "<div class='exercise'> <b> Question 4: What percentage of men and women seek cardio exams? </div>\n",
    "    \n",
    "- Calculate the percentage of men and women seeking cardiological exams\n",
    "- Store percentage of men and women seeking cardio exams to `percentage_men` and `percentage_women` respectively."
   ]
  },
  {
   "cell_type": "code",
   "execution_count": null,
   "metadata": {
    "deletable": false,
    "nbgrader": {
     "cell_type": "code",
     "checksum": "3bf76b869de543383cb5d73f8e79772f",
     "grade": false,
     "grade_id": "cell-3a2d4266f5eaf236",
     "locked": false,
     "schema_version": 3,
     "solution": true,
     "task": false
    }
   },
   "outputs": [],
   "source": [
    "\"\"\"Your code for Question 4 here:\"\"\"\n",
    "\n",
    "# your code here\n",
    "raise NotImplementedError"
   ]
  },
  {
   "cell_type": "code",
   "execution_count": null,
   "metadata": {
    "deletable": false,
    "editable": false,
    "nbgrader": {
     "cell_type": "code",
     "checksum": "6fb49d94381e00181a7f60d6aafaa95d",
     "grade": true,
     "grade_id": "cell-f4b708d1af1bcc42",
     "locked": true,
     "points": 5,
     "schema_version": 3,
     "solution": false,
     "task": false
    }
   },
   "outputs": [],
   "source": []
  },
  {
   "cell_type": "markdown",
   "metadata": {
    "deletable": false,
    "editable": false,
    "nbgrader": {
     "cell_type": "markdown",
     "checksum": "f59edc1b76dc4956e1959be4d79f7ae3",
     "grade": false,
     "grade_id": "cell-923cb6fdca0288b3",
     "locked": true,
     "schema_version": 3,
     "solution": false,
     "task": false
    }
   },
   "source": [
    "`Question 4:` **What percentage of men and women seek cardio exams?** Store your integer answer to a variable called `answer` in the below cell."
   ]
  },
  {
   "cell_type": "code",
   "execution_count": null,
   "metadata": {
    "deletable": false,
    "nbgrader": {
     "cell_type": "code",
     "checksum": "52ecff9509a0993845b7c4df2bb2459c",
     "grade": false,
     "grade_id": "cell-5a363d7bebe0f887",
     "locked": false,
     "schema_version": 3,
     "solution": true,
     "task": false
    }
   },
   "outputs": [],
   "source": [
    "# your code here\n",
    "raise NotImplementedError"
   ]
  },
  {
   "cell_type": "code",
   "execution_count": null,
   "metadata": {
    "deletable": false,
    "editable": false,
    "nbgrader": {
     "cell_type": "code",
     "checksum": "ecb9f6841ccd8ed810dbfef4acd8a722",
     "grade": true,
     "grade_id": "cell-1ff1af5f20ba8a51",
     "locked": true,
     "points": 0,
     "schema_version": 3,
     "solution": false,
     "task": false
    }
   },
   "outputs": [],
   "source": [
    "### BEIGN HIDDEN TESTS\n",
    "assert 67 <= answer <= 70, 'Incorrect value !'"
   ]
  },
  {
   "cell_type": "markdown",
   "metadata": {
    "deletable": false,
    "editable": false,
    "nbgrader": {
     "cell_type": "markdown",
     "checksum": "4d927742a6fcde7e3ae97a41bcc43a3b",
     "grade": false,
     "grade_id": "question-5",
     "locked": true,
     "schema_version": 3,
     "solution": false,
     "task": false
    }
   },
   "source": [
    "<div class='exercise'> <b> Question 5: Does resting blood pressure increase with age? </div>\n",
    "    \n",
    "**Hint:** Create a box plot in order to visualize this.\n",
    "    \n",
    "  1. To create this plot, you need to set up the Figure and Axes objects using `plt.subplots()`. \n",
    "        - These two objects (fig and ax) will allow you to control various properties of the figure and plot.\n",
    "        - `fig` is the Figure object: It serves as the overall container for the plot.\n",
    "        - `ax` is the Axes object: This is where the actual data points will be plotted, including x and y axes, labels, etc.\n",
    "        ```python\n",
    "            Example code: fig, ax = plt.subplots(figsize=(10, 6))\n",
    "        ```\n",
    "  2. Customize the Plot: \n",
    "        - You need to set the title of the plot, the labels for the x-axis and y-axis, and format the ticks on the x-axis for better readability."
   ]
  },
  {
   "cell_type": "code",
   "execution_count": null,
   "metadata": {
    "deletable": false,
    "nbgrader": {
     "cell_type": "code",
     "checksum": "da19502ceb2caa08543f5cdff8266cfa",
     "grade": false,
     "grade_id": "question-5-implementation",
     "locked": false,
     "schema_version": 3,
     "solution": true,
     "task": false
    }
   },
   "outputs": [],
   "source": [
    "\"\"\"Your code for Question 5 here:\"\"\"\n",
    "\n",
    "# your code here\n",
    "raise NotImplementedError"
   ]
  },
  {
   "cell_type": "markdown",
   "metadata": {
    "deletable": false,
    "editable": false,
    "nbgrader": {
     "cell_type": "markdown",
     "checksum": "a5f1946bede53569c1f53fc7de06963e",
     "grade": false,
     "grade_id": "cell-bc043becccd51f16",
     "locked": true,
     "schema_version": 3,
     "solution": false,
     "task": false
    }
   },
   "source": [
    "Write your answer for `Question 5:` **Does resting blood pressure increase with age?** Put a boolean value in a variable called `answer` in the cell below."
   ]
  },
  {
   "cell_type": "code",
   "execution_count": null,
   "metadata": {
    "deletable": false,
    "nbgrader": {
     "cell_type": "code",
     "checksum": "3604ad95bebf36d6922268ac5ba87947",
     "grade": false,
     "grade_id": "question-5-answer",
     "locked": false,
     "schema_version": 3,
     "solution": true,
     "task": false
    }
   },
   "outputs": [],
   "source": [
    "# your code here\n",
    "raise NotImplementedError"
   ]
  },
  {
   "cell_type": "code",
   "execution_count": null,
   "metadata": {
    "deletable": false,
    "editable": false,
    "nbgrader": {
     "cell_type": "code",
     "checksum": "db9cfb5b1e88e7b237412f20e44f154e",
     "grade": true,
     "grade_id": "question-5-tests",
     "locked": true,
     "points": 0,
     "schema_version": 3,
     "solution": false,
     "task": false
    }
   },
   "outputs": [],
   "source": []
  },
  {
   "cell_type": "markdown",
   "metadata": {
    "deletable": false,
    "editable": false,
    "nbgrader": {
     "cell_type": "markdown",
     "checksum": "11ab04f80f526924858754717425fb9b",
     "grade": false,
     "grade_id": "bonus-exercise",
     "locked": true,
     "schema_version": 3,
     "solution": false,
     "task": false
    }
   },
   "source": [
    "# 4- Bonus: Find the hidden pattern\n",
    "\n",
    "Read the following file into a `pandas` Dataframe: '../data/mystery.csv' and plot it.  How does it look? You should see a beautiful pattern. If not, think of ways to fix the issue."
   ]
  },
  {
   "cell_type": "code",
   "execution_count": null,
   "metadata": {
    "deletable": false,
    "editable": false,
    "nbgrader": {
     "cell_type": "code",
     "checksum": "049ececd467d7dadd4d54978649fd1af",
     "grade": false,
     "grade_id": "read-mystery-csv",
     "locked": true,
     "schema_version": 3,
     "solution": false,
     "task": false
    }
   },
   "outputs": [],
   "source": [
    "mystery = pd.read_csv('data/mystery.csv',  sep=' ', header=None) \n",
    "mystery.head()"
   ]
  },
  {
   "cell_type": "code",
   "execution_count": null,
   "metadata": {
    "deletable": false,
    "nbgrader": {
     "cell_type": "code",
     "checksum": "388d992c79e1405f39bf52973357a1c6",
     "grade": false,
     "grade_id": "bonus-exercise-implementation",
     "locked": false,
     "schema_version": 3,
     "solution": true,
     "task": false
    }
   },
   "outputs": [],
   "source": [
    "\"\"\"Your Code here for the bonus exercise:\"\"\"\n",
    "\n",
    "# your code here\n",
    "raise NotImplementedError"
   ]
  },
  {
   "cell_type": "markdown",
   "metadata": {
    "deletable": false,
    "editable": false,
    "nbgrader": {
     "cell_type": "markdown",
     "checksum": "74a339638a2e05cce233cc6088220232",
     "grade": false,
     "grade_id": "cell-220a25cb3fb8930f",
     "locked": true,
     "schema_version": 3,
     "solution": false,
     "task": false
    }
   },
   "source": [
    "# End"
   ]
  }
 ],
 "metadata": {
  "anaconda-cloud": {},
  "interpreter": {
   "hash": "57990f1ad2ea89c67ddae7f31d40c478205c5912da0fccfb7c5cfbb2b8bf17ad"
  },
  "kernelspec": {
   "display_name": "Python 3 (ipykernel)",
   "language": "python",
   "name": "python3"
  },
  "language_info": {
   "codemirror_mode": {
    "name": "ipython",
    "version": 3
   },
   "file_extension": ".py",
   "mimetype": "text/x-python",
   "name": "python",
   "nbconvert_exporter": "python",
   "pygments_lexer": "ipython3",
   "version": "3.10.6"
  }
 },
 "nbformat": 4,
 "nbformat_minor": 4
}

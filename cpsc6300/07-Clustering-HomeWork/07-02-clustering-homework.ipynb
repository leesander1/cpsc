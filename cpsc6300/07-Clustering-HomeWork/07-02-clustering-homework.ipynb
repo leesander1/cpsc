{
 "cells": [
  {
   "cell_type": "markdown",
   "id": "26ebbefd",
   "metadata": {
    "deletable": false,
    "editable": false,
    "nbgrader": {
     "cell_type": "markdown",
     "checksum": "06704e9a4c0622b1896d873967ab402a",
     "grade": false,
     "grade_id": "ads",
     "locked": true,
     "schema_version": 3,
     "solution": false,
     "task": false
    }
   },
   "source": [
    "<div class='heading'>\n",
    "    <div style='float:left;'><h1>CPSC 4300/6300: Applied Data Science</h1></div>\n",
    "     <img style=\"float: right; padding-right: 10px\" width=\"100\" src=\"https://raw.githubusercontent.com/bsethwalker/clemson-cs4300/main/images/clemson_paw.png\"> </div>"
   ]
  },
  {
   "cell_type": "markdown",
   "id": "ff862e56",
   "metadata": {
    "deletable": false,
    "editable": false,
    "nbgrader": {
     "cell_type": "markdown",
     "checksum": "77197cc96168a65272579b2c132618e6",
     "grade": false,
     "grade_id": "week-7-homework",
     "locked": true,
     "schema_version": 3,
     "solution": false,
     "task": false
    }
   },
   "source": [
    "# Week 7| Homework: Clustering\n",
    "\n",
    "**Clemson University** </br>\n",
    "**Instructor(s):** Tim Ransom </br>\n",
    "\n",
    "------------------------------------------------------------------------\n",
    "## Learning objectives\n",
    "\n",
    "- List different types of clustering algorithms.\n",
    "- Apply k-means clustering to a dataset.\n",
    "- Interpret the results of a k-means clustering analysis.\n",
    "- Compare and contrast k-means and hierarchical clustering.\n",
    "- Visualize clusters using scatter plots.\n",
    "\n",
    "-----------------"
   ]
  },
  {
   "cell_type": "markdown",
   "id": "9313d9ab-b332-4cc8-acc2-d41898ed0f60",
   "metadata": {
    "deletable": false,
    "editable": false,
    "nbgrader": {
     "cell_type": "markdown",
     "checksum": "27a054564f95a97865bdbe85feb3ef51",
     "grade": false,
     "grade_id": "about",
     "locked": true,
     "schema_version": 3,
     "solution": false,
     "task": false
    }
   },
   "source": [
    "# About\n",
    "\n",
    "This homework is intended to assess your knowledge of clustering concepts and implementation using Python scipy and scikit-learn. \n",
    "As presented in class, scikit-learn is a Python library that provides many tools for machine learning model development and analysis. \n",
    "In addition to numerous foundational scientific computing methods, scipy also provides hierarchical clustring support. You may refer to the course lectures and labs while completing this assignment. For complete\n",
    "information, you may reference:\n",
    "\n",
    "-   Python documentation [here](https://www.python.org/)\n",
    "-   scikit-learn documentation\n",
    "    [here](https://scikit-learn.org/stable/index.html)\n",
    "-   scipy documentation [here](https://scipy.org/)\n",
    "-   Pandas documentation [here](https://pandas.pydata.org/)\n",
    "-   matplotlib documentation [here](https://matplotlib.org/)\n",
    "-   seaborn documentation [here](https://seaborn.pydata.org/).\n",
    "\n",
    "## Setup Instructions\n",
    "\n",
    "In the exercises below, you will use data from the following files. Make\n",
    "sure you have copied these to the appropriate location (e.g.,\n",
    "*YOUR<sub>COURSEDIR</sub>/data*):\n",
    "\n",
    "-   seeds.csv\n",
    "\n",
    "Before beginning the exercises:\n",
    "\n",
    "Execute the first two code cells to import the required Python packages\n",
    "and load the data\n",
    "\n",
    "To begin, first import the Python packages that are required for this\n",
    "homework:"
   ]
  },
  {
   "cell_type": "code",
   "execution_count": null,
   "id": "5bec3dbd",
   "metadata": {
    "deletable": false,
    "editable": false,
    "nbgrader": {
     "cell_type": "code",
     "checksum": "b9ca8221b1f4242dc04a39989a909956",
     "grade": false,
     "grade_id": "formatting",
     "locked": true,
     "schema_version": 3,
     "solution": false,
     "task": false
    }
   },
   "outputs": [],
   "source": [
    "\"\"\" RUN THIS CELL TO GET THE RIGHT FORMATTING \"\"\"\n",
    "import requests\n",
    "from IPython.core.display import HTML\n",
    "css_file = 'https://raw.githubusercontent.com/bsethwalker/clemson-cs4300/main/css/cpsc6300.css'\n",
    "styles = requests.get(css_file).text\n",
    "HTML(styles)"
   ]
  },
  {
   "cell_type": "code",
   "execution_count": null,
   "id": "e2cb0fca-2054-42e3-a860-3868d87139b9",
   "metadata": {
    "deletable": false,
    "editable": false,
    "nbgrader": {
     "cell_type": "code",
     "checksum": "feb096acb20a710abca355557ab80d43",
     "grade": false,
     "grade_id": "required-libs",
     "locked": true,
     "schema_version": 3,
     "solution": false,
     "task": false
    }
   },
   "outputs": [],
   "source": [
    "import matplotlib.pyplot as plt\n",
    "import matplotlib.cm as cm\n",
    "import pandas as pd\n",
    "from sklearn.preprocessing import StandardScaler\n",
    "from sklearn.cluster import KMeans, DBSCAN\n",
    "from sklearn.metrics import silhouette_score, silhouette_samples\n",
    "import numpy as np\n",
    "import scipy.cluster.hierarchy as hac\n",
    "from scipy.spatial.distance import pdist"
   ]
  },
  {
   "cell_type": "markdown",
   "id": "454122c6-3942-4256-b495-1ffaa5cdfdfc",
   "metadata": {
    "deletable": false,
    "editable": false,
    "nbgrader": {
     "cell_type": "markdown",
     "checksum": "3c940b1e5641e608d92a8a3b95773417",
     "grade": false,
     "grade_id": "cell-36ff6739e5cb280b",
     "locked": true,
     "schema_version": 3,
     "solution": false,
     "task": false
    }
   },
   "source": [
    "Execute the code cell below to load data from the\n",
    "seeds<sub>cluster</sub>.csv\\_ file into to Pandas DataFrame, `df_seeds`.\n",
    "The columns include information about geometrical properties of kernels\n",
    "belonging to different varieties of wheat:\n",
    "\n",
    "-   `area` - the surface area, $A$, of the kernel\n",
    "-   `perim` - the perimeter, $P$ of the kernel\n",
    "-   `compact` - the compactness $C=4*\\pi*A/P^2$\n",
    "-   `klength` - the length of the kernel\n",
    "-   `kwidth` - the width of the kernel\n",
    "-   `asym` - asymmetry coefficient\n",
    "-   `kglen` - the length of the kernel groove"
   ]
  },
  {
   "cell_type": "code",
   "execution_count": null,
   "id": "c7c6ef35-ce83-46e5-9f5a-473630779c51",
   "metadata": {
    "deletable": false,
    "editable": false,
    "nbgrader": {
     "cell_type": "code",
     "checksum": "96efba519b82aac7d50498ae008dc933",
     "grade": false,
     "grade_id": "read-dataset",
     "locked": true,
     "schema_version": 3,
     "solution": false,
     "task": false
    }
   },
   "outputs": [],
   "source": [
    "df_seeds = pd.read_csv('data/seeds_cluster.csv')\n",
    "display(df_seeds.head(3))"
   ]
  },
  {
   "cell_type": "markdown",
   "id": "c9ce4adb-d65b-4fc6-be0a-bc156dd0656b",
   "metadata": {
    "deletable": false,
    "editable": false,
    "nbgrader": {
     "cell_type": "markdown",
     "checksum": "a61a8e56e4aab2b59eba1c0ba3d68706",
     "grade": false,
     "grade_id": "exercise-1",
     "locked": true,
     "schema_version": 3,
     "solution": false,
     "task": false
    }
   },
   "source": [
    "<div class=\"exercise\"><b>Exercise 1</b>: </div>\n",
    "\n",
    "- In the code cell below, use the scikit-learn `StandardScaler` to center\n",
    "and scale the values in the `df_seeds` dataframe. \n",
    "- Store the result in a new dataframe called `df_seeds_scaled`. \n",
    "- When creating the new dataframe, you should provide input arguments to ensure the columns and index for the new dataframe are the same as those in `df_seeds`.\n",
    "\n",
    "**Hint:** See Part 1 of lab 7."
   ]
  },
  {
   "cell_type": "code",
   "execution_count": null,
   "id": "10a3d33f-c569-483f-bf7f-0e979aa8e13c",
   "metadata": {
    "deletable": false,
    "nbgrader": {
     "cell_type": "code",
     "checksum": "768f797b75615d166cf05159fe310362",
     "grade": false,
     "grade_id": "exercise-1-implementation",
     "locked": false,
     "schema_version": 3,
     "solution": true,
     "task": false
    }
   },
   "outputs": [],
   "source": [
    "\"\"\"Your code for Exercise 1 here:\"\"\"\n",
    "\n",
    "# your code here\n",
    "raise NotImplementedError"
   ]
  },
  {
   "cell_type": "code",
   "execution_count": null,
   "id": "ffa74143",
   "metadata": {
    "deletable": false,
    "editable": false,
    "nbgrader": {
     "cell_type": "code",
     "checksum": "ce17bbe49362cadbaf5d1571f36ad04b",
     "grade": true,
     "grade_id": "exercise-1-tests",
     "locked": true,
     "points": 5,
     "schema_version": 3,
     "solution": false,
     "task": false
    }
   },
   "outputs": [],
   "source": []
  },
  {
   "cell_type": "markdown",
   "id": "e6584fa6-93d0-4a9c-b1a1-c6c79ffa5334",
   "metadata": {
    "deletable": false,
    "editable": false,
    "nbgrader": {
     "cell_type": "markdown",
     "checksum": "1fbbeedc7233680c5532ed7dcb11be8c",
     "grade": false,
     "grade_id": "exercise-2",
     "locked": true,
     "schema_version": 3,
     "solution": false,
     "task": false
    }
   },
   "source": [
    "<div class=\"exercise\"><b>Exercise 2</b>: </div>\n",
    "\n",
    "- In the code cell below, use the interia (aka elbow) method to select the optimal number of clusters, $K$, when clustring the `df_seeds_scaled` data with the scikit-learn `KMeans` clustering method. \n",
    "- Your solution should consider values of $K\\in\\left[1,10\\right]$ (including 1 and 10).\n",
    "- Store inertia values for each k in the list called `inertia_values`\n",
    "- Create a plot with the values of $K$ on the x-axis and the interia values on the y-axis."
   ]
  },
  {
   "cell_type": "code",
   "execution_count": null,
   "id": "9c5f3d1e",
   "metadata": {
    "deletable": false,
    "editable": false,
    "nbgrader": {
     "cell_type": "code",
     "checksum": "403f1703f51a3119f4d9d0211d966d96",
     "grade": false,
     "grade_id": "cell-2c79cd53b97be396",
     "locked": true,
     "schema_version": 3,
     "solution": false,
     "task": false
    }
   },
   "outputs": [],
   "source": [
    "k_values = range(1, 11)"
   ]
  },
  {
   "cell_type": "code",
   "execution_count": null,
   "id": "2d16a734-1f72-46b2-af6f-7b3365d6c639",
   "metadata": {
    "deletable": false,
    "nbgrader": {
     "cell_type": "code",
     "checksum": "e1cc43a47a4b290c93bca5502a616091",
     "grade": false,
     "grade_id": "exercise-2-implementation",
     "locked": false,
     "schema_version": 3,
     "solution": true,
     "task": false
    }
   },
   "outputs": [],
   "source": [
    "\"\"\"Your code for Exercise 2 here:\"\"\"\n",
    "\n",
    "# your code here\n",
    "raise NotImplementedError"
   ]
  },
  {
   "cell_type": "code",
   "execution_count": null,
   "id": "81d2b149",
   "metadata": {
    "deletable": false,
    "editable": false,
    "nbgrader": {
     "cell_type": "code",
     "checksum": "c3651bae76b6acfdfc1e0702d37cf0e3",
     "grade": true,
     "grade_id": "exercise-2-tests",
     "locked": true,
     "points": 5,
     "schema_version": 3,
     "solution": false,
     "task": false
    }
   },
   "outputs": [],
   "source": []
  },
  {
   "cell_type": "markdown",
   "id": "bf3fac44-5ef0-4b63-8c18-dea419ab485d",
   "metadata": {
    "deletable": false,
    "editable": false,
    "nbgrader": {
     "cell_type": "markdown",
     "checksum": "13781a7b3bcfc80b92ee428483d91630",
     "grade": false,
     "grade_id": "exercise-3",
     "locked": true,
     "schema_version": 3,
     "solution": false,
     "task": false
    }
   },
   "source": [
    "<div class=\"exercise\"><b>Exercise 3:</b></div>  \n",
    "Based on the elbow method plot from the previous exercise, what is the optimal number of clusters, and why? Select the most appropriate answer.\n",
    "\n",
    "- **1.** The optimal number of clusters is **2** because the inertia drops significantly at \\( K = 2 \\), and further increases in \\( K \\) do not improve clustering quality.\n",
    "- **2.** The optimal number of clusters is **3** because the elbow point occurs at \\( K = 3 \\), where inertia begins to decrease at a slower rate, indicating diminishing returns in clustering quality.\n",
    "- **3.** The optimal number of clusters is **4** because the inertia continues to drop noticeably until \\( K = 4 \\), suggesting additional structure in the data.\n",
    "- **4.** There is no single optimal number of clusters; both **3 and 4** could be reasonable choices based on the trade-off between simplicity and capturing additional structure.\n",
    "\n",
    "**Store your answer in an integer variable named `answer` in the code cell below.**\n"
   ]
  },
  {
   "cell_type": "code",
   "execution_count": null,
   "id": "380c0d82",
   "metadata": {
    "deletable": false,
    "nbgrader": {
     "cell_type": "code",
     "checksum": "b94edbca33717a3ab5a6d0f019eea6d1",
     "grade": false,
     "grade_id": "exercise-3-answer",
     "locked": false,
     "schema_version": 3,
     "solution": true,
     "task": false
    }
   },
   "outputs": [],
   "source": [
    "# your code here\n",
    "raise NotImplementedError"
   ]
  },
  {
   "cell_type": "code",
   "execution_count": null,
   "id": "be66b1d0",
   "metadata": {
    "deletable": false,
    "editable": false,
    "nbgrader": {
     "cell_type": "code",
     "checksum": "f30ba5ff1155f16d35645f701d1ec0bf",
     "grade": true,
     "grade_id": "cell-60be44477f1b5c1e",
     "locked": true,
     "points": 1,
     "schema_version": 3,
     "solution": false,
     "task": false
    }
   },
   "outputs": [],
   "source": []
  },
  {
   "cell_type": "markdown",
   "id": "09f79d3c-4640-4597-b047-83f90342856e",
   "metadata": {
    "deletable": false,
    "editable": false,
    "nbgrader": {
     "cell_type": "markdown",
     "checksum": "4311556e5f4dff58b94c8407981d8979",
     "grade": false,
     "grade_id": "exercise-4",
     "locked": true,
     "schema_version": 3,
     "solution": false,
     "task": false
    }
   },
   "source": [
    "<div class=\"exercise\"><b>Exercise 4</b>: </div>\n",
    "\n",
    "In the code cell below:\n",
    "\n",
    "-   set the variable `K` to the optimal number of *KMeans* clusters you\n",
    "    identified in the previous exercise\n",
    "-   create a scikit-learn `KMeans` model named `cluster_model` with\n",
    "    `n_clusters` equal to the optimal `K` and `random_state` = 42\n",
    "-   fit the model on the `df_seeds_scaled` data.\n",
    "-   print the shape of the cluster centers\n",
    "\n",
    "If you identified multiple candidates, select only one. (No points will\n",
    "be deducted from this exercise for an incorrect value of `K`)."
   ]
  },
  {
   "cell_type": "code",
   "execution_count": null,
   "id": "b04ebdc7-ae85-4ab0-b633-c9d52abb6b56",
   "metadata": {
    "deletable": false,
    "nbgrader": {
     "cell_type": "code",
     "checksum": "491b23a291aa3ac455a550822b3ac2a2",
     "grade": false,
     "grade_id": "exercise-4-implementation",
     "locked": false,
     "schema_version": 3,
     "solution": true,
     "task": false
    }
   },
   "outputs": [],
   "source": [
    "\"\"\"Write your code for Exercise 4 here:\"\"\"\n",
    "\n",
    "# your code here\n",
    "raise NotImplementedError"
   ]
  },
  {
   "cell_type": "code",
   "execution_count": null,
   "id": "b1da363a",
   "metadata": {
    "deletable": false,
    "editable": false,
    "nbgrader": {
     "cell_type": "code",
     "checksum": "7f977eda593b2cedcdc7debc43e6acaa",
     "grade": true,
     "grade_id": "exercise-4-tests",
     "locked": true,
     "points": 9,
     "schema_version": 3,
     "solution": false,
     "task": false
    }
   },
   "outputs": [],
   "source": []
  },
  {
   "cell_type": "markdown",
   "id": "9f20ec30-acad-4f21-898b-a021308eaa5a",
   "metadata": {
    "deletable": false,
    "editable": false,
    "nbgrader": {
     "cell_type": "markdown",
     "checksum": "312291ed5cacf2e8806a012c4fc729cd",
     "grade": false,
     "grade_id": "exercise-5",
     "locked": true,
     "schema_version": 3,
     "solution": false,
     "task": false
    }
   },
   "source": [
    "<div class=\"exercise\"><b>Exercise 5:</b></div> \n",
    "\n",
    "Unlike the multishapes example we saw in lab exercise, the seeds dataset has seven (7) features that were used for clustering. This means each cluster centroid consists of seven values, placing them in a seven-dimensional space. Since we cannot visualize clusters in this space, we can instead examine them in two-dimensional space by selecting pairs of features.\n",
    "\n",
    "For example, we can create a scatter plot of **seed perimeter vs. seed compactness**, where each data point is colored according to its assigned cluster.\n",
    "\n",
    "In the code cell below, complete the function **`plot_cluster`** to visualize clusters based on two selected features.\n",
    "\n",
    "The function takes the following inputs:\n",
    "\n",
    "- `df` *(pd.DataFrame)* - A Pandas dataframe containing the dataset.\n",
    "- `c1` *(str)* - The column name of the first feature (x-axis).\n",
    "- `c2` *(str)* - The column name of the second feature (y-axis).\n",
    "- `labels` *(array-like)* - The cluster label for each row in `df`.\n",
    "\n",
    "Your completed function should:\n",
    "- Create a scatter plot with **`df[c1]`** as the x-axis and **`df[c2]`** as the y-axis.\n",
    "- Color the data points according to their cluster assignments.\n",
    "- Label the x-axis and y-axis with the feature names.\n",
    "\n",
    "Use the function to plot the clusters for **perimeter** vs. **compactness**.\n"
   ]
  },
  {
   "cell_type": "code",
   "execution_count": null,
   "id": "83aa624d-a7ca-4309-9955-226d4500cbb1",
   "metadata": {
    "deletable": false,
    "nbgrader": {
     "cell_type": "code",
     "checksum": "4ac8e989b6fdeb935bf4acea1efdf6c4",
     "grade": false,
     "grade_id": "exercise-5-implementation",
     "locked": false,
     "schema_version": 3,
     "solution": true,
     "task": false
    }
   },
   "outputs": [],
   "source": [
    "def plot_cluster(df, c1, c2, labels):\n",
    "    \"\"\"Your code for Exercise 5 here:\"\"\"  \n",
    "    pass\n",
    "\n",
    "# use the function to plot the clusters for perim vs compact \n",
    "colors = cm.rainbow(np.linspace(0, 1, K))\n",
    "plot_cluster(df_seeds_scaled, 'perim', 'compact',  cluster_model.labels_)\n",
    "\n",
    "# your code here\n",
    "raise NotImplementedError\n",
    "\n",
    "# use the function to plot the clusters for perim vs compact \n",
    "colors = cm.rainbow(np.linspace(0, 1, K))\n",
    "plot_cluster(df_seeds_scaled, 'perim', 'compact',  cluster_model.labels_)"
   ]
  },
  {
   "cell_type": "code",
   "execution_count": null,
   "id": "ed2b6d7e",
   "metadata": {
    "deletable": false,
    "editable": false,
    "nbgrader": {
     "cell_type": "code",
     "checksum": "e1f9a359ea97d38f095c72d83e551fc8",
     "grade": true,
     "grade_id": "exercise-5-tests",
     "locked": true,
     "points": 7,
     "schema_version": 3,
     "solution": false,
     "task": false
    }
   },
   "outputs": [],
   "source": []
  },
  {
   "cell_type": "markdown",
   "id": "454c328a-4673-4af9-88a2-8a9a0281e4bd",
   "metadata": {
    "deletable": false,
    "editable": false,
    "nbgrader": {
     "cell_type": "markdown",
     "checksum": "b758f4e7b2c16d5f6c142df95d1defd9",
     "grade": false,
     "grade_id": "exercise-6",
     "locked": true,
     "schema_version": 3,
     "solution": false,
     "task": false
    }
   },
   "source": [
    "<div class=\"exercise\"><b>Exercise 6:</b></div> \n",
    "\n",
    "In this exercise, you will perform **agglomerative hierarchical clustering** on the `df_seeds_scaled` dataset and visualize the results using a **dendrogram**.\n",
    "\n",
    "Follow these steps:\n",
    "\n",
    "- Use the **`scipy.cluster.hierarchy`** module (imported as `hac`) to perform the clustering.\n",
    "- Set **Euclidean** as the spatial distance metric.\n",
    "- Use [complete linkage](https://docs.scipy.org/doc/scipy/reference/generated/scipy.cluster.hierarchy.complete.html#scipy.cluster.hierarchy.complete) as the linkage function.\n",
    "- Store the linkage matrix in a variable called **`linkage_matrix`**.\n",
    "- Use **`hac.dendrogram()`** to plot the dendrogram and visualize the hierarchical clustering structure.\n",
    "\n",
    "### **Validation Criteria:**\n",
    "Your implementation will be tested on the following criteria:\n",
    "1. **Correct Data Type**: The `linkage_matrix` should be a NumPy array.\n",
    "2. **Correct Shape**: It should have a shape of `(n-1, 4)`, where `n` is the number of samples.\n",
    "3. **Correct Clustering Parameters**:\n",
    "   - The **linkage method** must be `\"complete\"`.\n",
    "   - The **distance metric** must be `\"euclidean\"`.\n",
    "4. **Cluster Distance Progression**: The distances in the last column of the `linkage_matrix` should be **non-decreasing**.\n",
    "5. **Correct Number of Merges**: The number of rows in `linkage_matrix` should be **one less** than the number of samples.\n",
    "6. **Dendrogram Execution**: The dendrogram plot should execute without errors.\n",
    "\n",
    "Write your implementation in the code cell below.\n"
   ]
  },
  {
   "cell_type": "code",
   "execution_count": null,
   "id": "2150801e-0035-480f-b8e7-5be239e3ab94",
   "metadata": {
    "deletable": false,
    "nbgrader": {
     "cell_type": "code",
     "checksum": "e2e360e42791b6a198ddfffca9180fbd",
     "grade": false,
     "grade_id": "exercise-6-implementation",
     "locked": false,
     "schema_version": 3,
     "solution": true,
     "task": false
    }
   },
   "outputs": [],
   "source": [
    "\"\"\"Write your code for Exercise 6 here:\"\"\"\n",
    "\n",
    "# your code here\n",
    "raise NotImplementedError"
   ]
  },
  {
   "cell_type": "code",
   "execution_count": null,
   "id": "7fb01e76",
   "metadata": {
    "deletable": false,
    "editable": false,
    "nbgrader": {
     "cell_type": "code",
     "checksum": "afc297c8af82d97fc2db0c3912952476",
     "grade": true,
     "grade_id": "exercise-6-tests",
     "locked": true,
     "points": 7,
     "schema_version": 3,
     "solution": false,
     "task": false
    }
   },
   "outputs": [],
   "source": []
  },
  {
   "cell_type": "markdown",
   "id": "523e721e-6029-4d9a-b8b5-bb740188ed15",
   "metadata": {
    "deletable": false,
    "editable": false,
    "nbgrader": {
     "cell_type": "markdown",
     "checksum": "0b5c39d141cb11a0deed1cd98c74ce9d",
     "grade": false,
     "grade_id": "exercise-7",
     "locked": true,
     "schema_version": 3,
     "solution": false,
     "task": false
    }
   },
   "source": [
    "<div class=\"exercise\"><b>Exercise 7:</b></div>  \n",
    "In hierarchical clustering, forming a specific number of clusters requires \"cutting\" the dendrogram at an appropriate distance threshold. Based on the dendrogram created in the previous exercise, at approximately what distance should you cut the dendrogram to form **three (3) clusters**?\n",
    "\n",
    "Select the most appropriate answer:\n",
    "\n",
    "- **1.** Around **10**, as three clusters are clearly visible at this level.\n",
    "- **2.** Around **15**, since it maintains balanced cluster sizes while still forming three groups.\n",
    "- **3.** Around **20**, as this level creates three well-separated clusters.\n",
    "- **4.** Around **25**, since cutting at a higher distance ensures three distinct groups.\n",
    "\n",
    "**Store your answer in an integer variable named `answer` in the code cell below.**\n"
   ]
  },
  {
   "cell_type": "code",
   "execution_count": null,
   "id": "709ebf8f",
   "metadata": {
    "deletable": false,
    "nbgrader": {
     "cell_type": "code",
     "checksum": "4652a0fc148c4df8406f0a20b7669662",
     "grade": false,
     "grade_id": "cell-79d07c3250fe50d4",
     "locked": false,
     "schema_version": 3,
     "solution": true,
     "task": false
    }
   },
   "outputs": [],
   "source": [
    "# your code here\n",
    "raise NotImplementedError"
   ]
  },
  {
   "cell_type": "code",
   "execution_count": null,
   "id": "f23c55cf",
   "metadata": {
    "deletable": false,
    "editable": false,
    "nbgrader": {
     "cell_type": "code",
     "checksum": "653954f26ca8d8d51e281b3de49f04a6",
     "grade": true,
     "grade_id": "cell-780ea0e74cedae37",
     "locked": true,
     "points": 1,
     "schema_version": 3,
     "solution": false,
     "task": false
    }
   },
   "outputs": [],
   "source": []
  },
  {
   "cell_type": "markdown",
   "id": "1ab8785d",
   "metadata": {
    "deletable": false,
    "editable": false,
    "nbgrader": {
     "cell_type": "markdown",
     "checksum": "728b55fcbf6d3208654ec24b63f2d20b",
     "grade": false,
     "grade_id": "end",
     "locked": true,
     "schema_version": 3,
     "solution": false,
     "task": false
    }
   },
   "source": [
    "# END"
   ]
  }
 ],
 "metadata": {
  "kernelspec": {
   "display_name": "Python 3 (ipykernel)",
   "language": "python",
   "name": "python3"
  },
  "language_info": {
   "codemirror_mode": {
    "name": "ipython",
    "version": 3
   },
   "file_extension": ".py",
   "mimetype": "text/x-python",
   "name": "python",
   "nbconvert_exporter": "python",
   "pygments_lexer": "ipython3",
   "version": "3.10.6"
  }
 },
 "nbformat": 4,
 "nbformat_minor": 5
}

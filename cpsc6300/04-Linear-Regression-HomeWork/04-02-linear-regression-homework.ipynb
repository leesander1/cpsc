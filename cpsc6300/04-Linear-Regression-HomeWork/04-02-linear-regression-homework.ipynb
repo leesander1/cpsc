{
 "cells": [
  {
   "cell_type": "markdown",
   "id": "80faac34",
   "metadata": {
    "deletable": false,
    "editable": false,
    "nbgrader": {
     "cell_type": "markdown",
     "checksum": "436bfd68c3e08da118c27fa50d265d07",
     "grade": false,
     "grade_id": "ads",
     "locked": true,
     "schema_version": 3,
     "solution": false,
     "task": false
    }
   },
   "source": [
    "<div class='heading'>\n",
    "    <div style='float:left;'><h1>CPSC 4300/6300: Applied Data Science</h1></div>\n",
    "    <img style=\"float: right; padding-right: 10px; width: 65px\" src=\"https://bsethwalker.github.io/assets/img/clemson_paw.png\"> </div>"
   ]
  },
  {
   "cell_type": "markdown",
   "id": "1b18839e-1bd5-48b5-98b4-7e308f43b2f5",
   "metadata": {
    "deletable": false,
    "editable": false,
    "nbgrader": {
     "cell_type": "markdown",
     "checksum": "a145ec906eae08e16114659a7e5e5845",
     "grade": false,
     "grade_id": "week-4-homework",
     "locked": true,
     "schema_version": 3,
     "solution": false,
     "task": false
    }
   },
   "source": [
    "# Week 4 | Homework : Linear Regression\n",
    "**Clemson University** **Instructor(s):** Tim Ransom\n",
    "\n",
    "------------------------------------------------------------------------\n",
    "\n",
    "## Learning goals\n",
    "\n",
    "- Define simple linear regression and its assumptions.\n",
    "- Calculate the coefficients of a simple linear regression model.\n",
    "- Interpret the R-squared value for a linear regression model.\n",
    "- Construct a polynomial regression model using Python.\n",
    "- Evaluate the performance of a multiple linear regression model.\n",
    "\n",
    "---------------"
   ]
  },
  {
   "cell_type": "markdown",
   "id": "7eed41e6-d50c-4285-9d80-70addfb27f7c",
   "metadata": {
    "deletable": false,
    "editable": false,
    "nbgrader": {
     "cell_type": "markdown",
     "checksum": "e5e46f312f055589af3750396fc8e402",
     "grade": false,
     "grade_id": "overview",
     "locked": true,
     "schema_version": 3,
     "solution": false,
     "task": false
    }
   },
   "source": [
    "## INSTRUCTIONS\n",
    "\n",
    "-   To submit your assignment follow the instructions given in Canvas.\n",
    "-   Restart the kernel and run the whole notebook again before you\n",
    "    submit.\n",
    "-   As much as possible, try and stick to the hints and functions we\n",
    "    import at the top of the homework, as those are the ideas and tools\n",
    "    the class supports and is aiming to teach. And if a problem\n",
    "    specifies a particular library you're required to use that library,\n",
    "    and possibly others from the import list.\n",
    "-   Please use .head() when viewing data. Do not submit a notebook that\n",
    "    is excessively long because output was not suppressed or otherwise\n",
    "    limited.\n",
    "\n",
    "<hr style=\"height:2pt\">\n",
    "\n",
    "## Overview\n",
    "\n",
    "You are hired by the administrators of the [Capital Bikeshare\n",
    "program](https://www.capitalbikeshare.com) program in Washington D.C.,\n",
    "to **help them predict the hourly demand for rental bikes** and **give\n",
    "them suggestions on how to increase their revenue**. Your task is to\n",
    "prepare a short report summarizing your findings and make\n",
    "recommendations.\n",
    "\n",
    "The predicted hourly demand could be used for planning the number of\n",
    "bikes that need to be available in the system at any given hour of the\n",
    "day. It costs the program money if bike stations are full and bikes\n",
    "cannot be returned, or empty and there are no bikes available. You will\n",
    "use multiple linear regression and polynomial regression and will\n",
    "explore ridge and lasso regression to predict bike usage. The goal is to\n",
    "build a regression model that can predict the total number of bike\n",
    "rentals in a given hour of the day, based on all available information\n",
    "given to you.\n",
    "\n",
    "An example of a suggestion to increase revenue might be to offer\n",
    "discounts during certain times of the day either during holidays or\n",
    "non-holidays. Your suggestions will depend on your observations of the\n",
    "seasonality of ridership.\n",
    "\n",
    "The data for this problem were collected from the Capital Bikeshare\n",
    "program over the course of two years (2011 and 2012).\n",
    "\n",
    "----------------"
   ]
  },
  {
   "cell_type": "markdown",
   "id": "8a07f06c-dbea-4b52-b702-77449054aa54",
   "metadata": {
    "deletable": false,
    "editable": false,
    "nbgrader": {
     "cell_type": "markdown",
     "checksum": "853ef2d8db3aae9a1f4aeb20afa3ceb5",
     "grade": false,
     "grade_id": "about",
     "locked": true,
     "schema_version": 3,
     "solution": false,
     "task": false
    }
   },
   "source": [
    "## About\n",
    "\n",
    "For this regression homework you are provided with initial dataset in the file `data/BSS_hour_raw.csv`. You will first add features that will help with the analysis and then separate the data into training and test sets. Each row in this file represents the number of rides by registered users and casual users in a given hour of a specific date. There are 12 attributes in total describing besides the number of users the weather if it is a holiday or not etc:\n",
    "\n",
    "-   `dteday` (date in the format YYYY-MM-DD, e.g. 2011-01-01)\n",
    "-   `season` (1 = winter, 2 = spring, 3 = summer, 4 = fall)\n",
    "-   `hour` (0 for 12 midnight, 1 for 1:00am, 23 for 11:00pm)\n",
    "-   `weekday` (0 through 6, with 0 denoting Sunday)\n",
    "-   `holiday` (1 = the day is a holiday, 0 = otherwise)\n",
    "-   `weather`\n",
    "    -   1: Clear, Few clouds, Partly cloudy, Partly cloudy\n",
    "    -   2: Mist + Cloudy, Mist + Broken clouds, Mist + Few clouds, Mist\n",
    "    -   3: Light Snow, Light Rain + Thunderstorm\n",
    "    -   4: Heavy Rain + Thunderstorm + Mist, Snow + Fog\n",
    "-   `temp` (temperature in Celsius, normalized)\n",
    "-   `atemp` (apparent temperature, or relative outdoor temperature, in\n",
    "    Celsius, normalized)\n",
    "-   `hum` (relative humidity, normalized)\n",
    "-   `windspeed` (wind speed, normalized)\n",
    "-   `casual` (number of rides that day made by casual riders, not\n",
    "    registered in the system)\n",
    "-   `registered` (number of rides that day made by registered riders)\n",
    "\n",
    "------------------------------------------------------------------------\n"
   ]
  },
  {
   "cell_type": "code",
   "execution_count": null,
   "id": "42887d57-eb55-49f5-950e-3855e64a62e3",
   "metadata": {
    "deletable": false,
    "editable": false,
    "nbgrader": {
     "cell_type": "code",
     "checksum": "b9ca8221b1f4242dc04a39989a909956",
     "grade": false,
     "grade_id": "formatting",
     "locked": true,
     "schema_version": 3,
     "solution": false,
     "task": false
    }
   },
   "outputs": [],
   "source": [
    "\"\"\" RUN THIS CELL TO GET THE RIGHT FORMATTING \"\"\"\n",
    "import requests\n",
    "from IPython.core.display import HTML\n",
    "css_file = 'https://raw.githubusercontent.com/bsethwalker/clemson-cs4300/main/css/cpsc6300.css'\n",
    "styles = requests.get(css_file).text\n",
    "HTML(styles)"
   ]
  },
  {
   "cell_type": "markdown",
   "id": "55251aba",
   "metadata": {
    "deletable": false,
    "editable": false,
    "nbgrader": {
     "cell_type": "markdown",
     "checksum": "274513c6a15479af25869b72fd423a41",
     "grade": false,
     "grade_id": "cell-cac502438b7a6580",
     "locked": true,
     "schema_version": 3,
     "solution": false,
     "task": false
    }
   },
   "source": [
    "## Use only the libraries below:"
   ]
  },
  {
   "cell_type": "code",
   "execution_count": null,
   "id": "28e4e323-551a-436a-89cb-2cdc2fa94f27",
   "metadata": {
    "deletable": false,
    "editable": false,
    "nbgrader": {
     "cell_type": "code",
     "checksum": "900fcfd7b2a06e4bfe378419dd0facf2",
     "grade": false,
     "grade_id": "required-libs",
     "locked": true,
     "schema_version": 3,
     "solution": false,
     "task": false
    }
   },
   "outputs": [],
   "source": [
    "import numpy as np\n",
    "import pandas as pd\n",
    "import matplotlib\n",
    "import matplotlib.pyplot as plt\n",
    "\n",
    "import statsmodels.api as sm\n",
    "from statsmodels.api import OLS\n",
    "\n",
    "from sklearn.model_selection import train_test_split\n",
    "from sklearn.preprocessing import PolynomialFeatures\n",
    "from sklearn.preprocessing import StandardScaler\n",
    "from sklearn.linear_model import LinearRegression\n",
    "from sklearn.linear_model import Ridge\n",
    "from sklearn.linear_model import RidgeCV\n",
    "from sklearn.linear_model import LassoCV\n",
    "from sklearn.metrics import r2_score\n",
    "from pandas.plotting import scatter_matrix\n",
    "import matplotcheck.notebook as nb\n",
    "from matplotcheck.base import PlotTester\n",
    "from matplotlib.patches import PathPatch"
   ]
  },
  {
   "cell_type": "markdown",
   "id": "8f609ca3",
   "metadata": {
    "deletable": false,
    "editable": false,
    "nbgrader": {
     "cell_type": "markdown",
     "checksum": "f56a02c86dddec0e22cf5ba5021789b2",
     "grade": false,
     "grade_id": "data-processing",
     "locked": true,
     "schema_version": 3,
     "solution": false,
     "task": false
    }
   },
   "source": [
    "<div class=\"theme\">  Part 1 - Data Processing </div>\n",
    "\n",
    "In this section, we read in the data and begin one of the most important\n",
    "analytic steps: verifying that the data is what it claims to be.\n",
    "\n",
    "<div class=\"exercise\"> <b> Exerise 1.1 </b> </div>\n",
    "\n",
    "- Load the dataset from the csv file `data/BSS_hour_raw.csv` into a pandas dataframe named `bikes_df_raw`. \n",
    "- Check basic statistics and data types to inspect variable ranges and averages\n",
    "- Do any of the variables ranges or averages seem suspect? \n",
    "- Do the data types make sense?"
   ]
  },
  {
   "cell_type": "code",
   "execution_count": null,
   "id": "96b1cb60-6fe1-43dc-9368-ad91fc36ae37",
   "metadata": {
    "deletable": false,
    "nbgrader": {
     "cell_type": "code",
     "checksum": "b1e8dab1b6068ede2fb818dbfbc6c6cd",
     "grade": false,
     "grade_id": "exercise-1-1-implementation",
     "locked": false,
     "schema_version": 3,
     "solution": true,
     "task": false
    }
   },
   "outputs": [],
   "source": [
    "\"\"\"Write your code for exercise-1.1 here:\"\"\"\n",
    "\n",
    "# your code here\n",
    "raise NotImplementedError"
   ]
  },
  {
   "cell_type": "code",
   "execution_count": null,
   "id": "0932f7f9",
   "metadata": {
    "deletable": false,
    "editable": false,
    "nbgrader": {
     "cell_type": "code",
     "checksum": "ea4c356e3d43b93f393876e8224001ce",
     "grade": true,
     "grade_id": "exercise-1-1-grading",
     "locked": true,
     "points": 3,
     "schema_version": 3,
     "solution": false,
     "task": false
    }
   },
   "outputs": [],
   "source": []
  },
  {
   "cell_type": "markdown",
   "id": "39350913",
   "metadata": {
    "nbgrader": {
     "grade": false,
     "grade_id": "exercise-1-1-answer",
     "locked": false,
     "schema_version": 3,
     "solution": false,
     "task": false
    }
   },
   "source": [
    "It's good practice to have some fast action smell checks for the data - ask yourself these questions and check for the characetristics listed under them when interpreting data to find early signs that somethings gone wrong.\n",
    "\n",
    "**1. Do Any of the Variables' Ranges or Averages Seem Suspect?**\n",
    "\n",
    "From the summary statistics, none of the variables appear to have suspicious ranges or averages:\n",
    " - All categorical variables (season, holiday, workingday, weather) have reasonable and consistent ranges.\n",
    " - The numeric variables (temp, atemp, hum, windspeed, casual, registered) also have expected ranges, with no negative values or unexpected spikes.\n",
    " - The normalization between 0 and 1 for variables like temperature, atemp, humidity, and windspeed is appropriate and makes sense for preprocessed data.\n",
    " - The data doesn't show any major outliers or values that seem out of place given the context of a bike-sharing dataset.\n",
    "\n",
    "**2. Do the Data Types Make Sense?**\n",
    "\n",
    "The data types also appear to make sense for each variable:\n",
    " - dteday is an object (likely a string representing a date). It might be more convenient if it were converted to a datetime type for better manipulation in analysis.\n",
    " - Categorical variables (season, holiday, workingday, weather, etc.) are stored as integers, which is expected.\n",
    " - Numerical variables (temp, atemp, hum, windspeed, casual, registered) are stored as either int64 or float64, which are appropriate types.\n",
    "\n",
    "Next steps following above statistical analysis:\n",
    "Convert dteday from an object type to a datetime type for easier manipulation.\n"
   ]
  },
  {
   "cell_type": "markdown",
   "id": "ef02be0f-25ee-4227-9cd0-21ff3dc21bc1",
   "metadata": {
    "deletable": false,
    "editable": false,
    "nbgrader": {
     "cell_type": "markdown",
     "checksum": "63ab6522c2f165d576689baee18b25b2",
     "grade": false,
     "grade_id": "exercise-1-2",
     "locked": true,
     "schema_version": 3,
     "solution": false,
     "task": false
    }
   },
   "source": [
    "<div class=\"exercise\"> <b> Exercise 1.2 </b> </div>\n",
    "\n",
    "- Notice that the variable in column `dteday` is a pandas `object`, which is **not** useful when you want to extract the elements of the date such as the year, month, and day. \n",
    "- Convert `dteday` into a `datetime` object to prepare it for later analysis.\n",
    "\n",
    "**Hint:** Refer to this page\n",
    "[pandas.to_datetime](http://pandas.pydata.org/pandas-docs/stable/generated/pandas.to_datetime.html)"
   ]
  },
  {
   "cell_type": "code",
   "execution_count": null,
   "id": "9ff11345-febc-4d66-acdb-3f552c3f512e",
   "metadata": {
    "deletable": false,
    "nbgrader": {
     "cell_type": "code",
     "checksum": "7672f87a709999bf27f582b688b78d22",
     "grade": false,
     "grade_id": "exercise-1-2-implementation",
     "locked": false,
     "schema_version": 3,
     "solution": true,
     "task": false
    }
   },
   "outputs": [],
   "source": [
    "\"\"\"Write your code for exercise-1.2 here:\"\"\"\n",
    "\n",
    "# your code here\n",
    "raise NotImplementedError"
   ]
  },
  {
   "cell_type": "code",
   "execution_count": null,
   "id": "b5ed76c1",
   "metadata": {
    "deletable": false,
    "editable": false,
    "nbgrader": {
     "cell_type": "code",
     "checksum": "6cfb9e0f73d907def7df61bf7607829f",
     "grade": true,
     "grade_id": "exercise-1-2-grading",
     "locked": true,
     "points": 3,
     "schema_version": 3,
     "solution": false,
     "task": false
    }
   },
   "outputs": [],
   "source": []
  },
  {
   "cell_type": "markdown",
   "id": "173822d5-a7ff-44fe-a862-93225b7586bb",
   "metadata": {
    "deletable": false,
    "editable": false,
    "nbgrader": {
     "cell_type": "markdown",
     "checksum": "1bf4ceb323a99583c6df6d20a86dff63",
     "grade": false,
     "grade_id": "exercise-1-3",
     "locked": true,
     "schema_version": 3,
     "solution": false,
     "task": false
    }
   },
   "source": [
    "<div class=\"exercise\"> <b> Exercise 1.3 </b> </div>\n",
    "\n",
    "Create three new columns in the dataframe:\n",
    "\n",
    "-   `year` with 0 for 2011, 1 for 2012, etc.\n",
    "-   `month` with 1 through 12, with 1 denoting January.\n",
    "-   `counts` with the total number of bike rentals(sum of casual and registered bike rentals) for that **hour** \n",
    "    (this is the response variable for later)."
   ]
  },
  {
   "cell_type": "code",
   "execution_count": null,
   "id": "0cac0c38-8273-436a-bda5-7c1240a15d52",
   "metadata": {
    "deletable": false,
    "nbgrader": {
     "cell_type": "code",
     "checksum": "601864a4863061cf8f9d9ee075f4f0a7",
     "grade": false,
     "grade_id": "exercise-1-3-implementation",
     "locked": false,
     "schema_version": 3,
     "solution": true,
     "task": false
    }
   },
   "outputs": [],
   "source": [
    "\"\"\"Write your code for exercise-1.3 here:\"\"\"\n",
    "\n",
    "# your code here\n",
    "raise NotImplementedError"
   ]
  },
  {
   "cell_type": "code",
   "execution_count": null,
   "id": "447b85d0",
   "metadata": {
    "deletable": false,
    "editable": false,
    "nbgrader": {
     "cell_type": "code",
     "checksum": "b491960748cb7b3efa5c008132d77ae8",
     "grade": true,
     "grade_id": "exercise-1-3-grading",
     "locked": true,
     "points": 9,
     "schema_version": 3,
     "solution": false,
     "task": false
    }
   },
   "outputs": [],
   "source": []
  },
  {
   "cell_type": "markdown",
   "id": "a0747793-3bf0-4031-8dbc-57e781b410e0",
   "metadata": {
    "deletable": false,
    "editable": false,
    "nbgrader": {
     "cell_type": "markdown",
     "checksum": "d01fb19c7d87cae03aea232b3719b2ab",
     "grade": false,
     "grade_id": "eda",
     "locked": true,
     "schema_version": 3,
     "solution": false,
     "task": false
    }
   },
   "source": [
    "------------------------------------------------------------------------\n",
    "\n",
    "<div class=\"theme\">  Part 2- Exploratory Data Analysis </div>\n",
    "\n",
    "In this section we begin hunting for patterns in ridership that shed\n",
    "light on who uses the service and why.\n",
    "\n",
    "<div class='exercise'> <b> Exercise 2.1 </b></div>\n",
    "\n",
    "Create a new dataframe named **`bikes_by_day`** with the following subset of attributes from the previous dataset and with each entry being just **one** day:\n",
    "\n",
    "-   `dteday`, the timestamp for that day (fine to set to noon or any\n",
    "    other time)\n",
    "-   `weekday`, the day of the week\n",
    "-   `weather`, the most severe weather that day\n",
    "-   `season`, the season that day falls in\n",
    "-   `temp`, the average temperature\n",
    "-   `atemp`, the average atemp that day\n",
    "-   `windspeed`, the average windspeed that day\n",
    "-   `hum`, the average humidity that day\n",
    "-   `casual`, the **total** number of rentals by casual users\n",
    "-   `registered`, the **total** number of rentals by registered users\n",
    "-   `counts`, the **total** number of rentals of that day\n",
    "\n",
    "**Make a plot showing the *distribution* of the number of casual and registered riders on each day of the week.**\n",
    "\n",
    "   1. Create the bar plot, you need to set up the Figure and Axes objects using `plt.subplots()`. \n",
    "        - These two objects (fig and ax) will allow you to control various properties of the figure and plot.\n",
    "        - `fig` is the Figure object: It serves as the overall container for the plot.\n",
    "        - `ax` is the Axes object: This is where the actual data points will be plotted, including x and y axes, labels, etc.\n",
    "        ```python\n",
    "            Example code: fig, ax = plt.subplots(figsize=(10, 6))\n",
    "        ```\n",
    "   2. Customize the Plot: \n",
    "        - You need to set the title of the plot, the labels for the x-axis and y-axis, and format the ticks on the x-axis for better readability.\n",
    "\n",
    "**Hint:** \n",
    "- Helpful to use panda's `.groupby()` command. \n",
    "- Refer to this documentation [pandas.DataFrame.groupby](https://pandas.pydata.org/pandas-docs/stable/reference/api/pandas.DataFrame.groupby.html) for more information."
   ]
  },
  {
   "cell_type": "code",
   "execution_count": null,
   "id": "fb231864-4cf9-43be-a523-7f963b1fc5f8",
   "metadata": {
    "deletable": false,
    "nbgrader": {
     "cell_type": "code",
     "checksum": "0cb94015038444b724be3a2d9aec6411",
     "grade": false,
     "grade_id": "exercise-2-1-implementation",
     "locked": false,
     "schema_version": 3,
     "solution": true,
     "task": false
    }
   },
   "outputs": [],
   "source": [
    "\"\"\"Write your code for exercise-2.1 here:\"\"\"\n",
    "\n",
    "# your code here\n",
    "raise NotImplementedError"
   ]
  },
  {
   "cell_type": "code",
   "execution_count": null,
   "id": "6f47db21",
   "metadata": {
    "deletable": false,
    "editable": false,
    "nbgrader": {
     "cell_type": "code",
     "checksum": "5d57370cf6d60c36d5927115ae5a8fe5",
     "grade": true,
     "grade_id": "exercise-2-1-grading",
     "locked": true,
     "points": 8,
     "schema_version": 3,
     "solution": false,
     "task": false
    }
   },
   "outputs": [],
   "source": []
  },
  {
   "cell_type": "markdown",
   "id": "af9c4bc9-eba4-4f2a-a550-d1b929918078",
   "metadata": {
    "deletable": false,
    "editable": false,
    "nbgrader": {
     "cell_type": "markdown",
     "checksum": "85da6ac856c76d35f9f6ed6e95046025",
     "grade": false,
     "grade_id": "exercise-2-2",
     "locked": true,
     "schema_version": 3,
     "solution": false,
     "task": false
    }
   },
   "source": [
    "<div class='exercise'> <b> Exercise 2.2 </b></div>\n",
    "\n",
    "- Use `bikes_by_day` to visualize how the distribution of **total number of rides** per day (casual and registered riders combined) varies with the **season**. \n",
    "\n",
    "   1. Create the box plot, you need to set up the Figure and Axes objects using `plt.subplots()`. \n",
    "        - These two objects (fig and ax) will allow you to control various properties of the figure and plot.\n",
    "        - `fig` is the Figure object: It serves as the overall container for the plot.\n",
    "        - `ax` is the Axes object: This is where the actual data points will be plotted, including x and y axes, labels, etc.\n",
    "        ```python\n",
    "            Example code: fig, ax = plt.subplots(figsize=(10, 6))\n",
    "        ```\n",
    "   2. Customize the Plot: \n",
    "        - You need to set the title of the plot, the labels for the x-axis and y-axis, and format the ticks on the x-axis for better readability.\n",
    "        \n",
    "        \n",
    "**Investigating outliers**\n",
    "1. Here we use the pyplot's boxplot function definition of an outlier as any value 1.5 times the IQR above the 75th percentile or 1.5 times the IQR below the 25th percentiles. \n",
    "2. Store the outliers in dataframe called `outliers`.\n",
    "3. If you see any outliers, identify those dates and investigate if they are a chance occurence, an error in the data collection, or a significant event (an online search of those date(s) might help)."
   ]
  },
  {
   "cell_type": "code",
   "execution_count": null,
   "id": "1f675b2f-75ae-4bad-96aa-bd0f8fa56c7e",
   "metadata": {
    "deletable": false,
    "nbgrader": {
     "cell_type": "code",
     "checksum": "c243e88a461b319d2e4a0facd92edb20",
     "grade": false,
     "grade_id": "exercise-2-2-implementation",
     "locked": false,
     "schema_version": 3,
     "solution": true,
     "task": false
    }
   },
   "outputs": [],
   "source": [
    "\"\"\"Write your code for exercise-2.2 here:\"\"\"\n",
    "\n",
    "# your code here\n",
    "raise NotImplementedError"
   ]
  },
  {
   "cell_type": "code",
   "execution_count": null,
   "id": "f6eddfaa",
   "metadata": {
    "deletable": false,
    "editable": false,
    "nbgrader": {
     "cell_type": "code",
     "checksum": "5f9ba5505785a3fcb41e86e1b75db35c",
     "grade": true,
     "grade_id": "exercise-2-2-grading",
     "locked": true,
     "points": 5,
     "schema_version": 3,
     "solution": false,
     "task": false
    }
   },
   "outputs": [],
   "source": []
  },
  {
   "cell_type": "markdown",
   "id": "da483926",
   "metadata": {
    "deletable": false,
    "editable": false,
    "nbgrader": {
     "cell_type": "markdown",
     "checksum": "c48ba186f7aa6d287fb49ea57785640d",
     "grade": false,
     "grade_id": "cell-5ae6b589006ff24d",
     "locked": true,
     "schema_version": 3,
     "solution": false,
     "task": false
    }
   },
   "source": [
    "    \n",
    "Write the number of outliers you see into a variable called `answer` in the cell below."
   ]
  },
  {
   "cell_type": "code",
   "execution_count": null,
   "id": "a2f0c364",
   "metadata": {
    "deletable": false,
    "nbgrader": {
     "cell_type": "code",
     "checksum": "df753ecf3c1df6b93f044f08d152a802",
     "grade": false,
     "grade_id": "exercise-2-2-answer",
     "locked": false,
     "schema_version": 3,
     "solution": true,
     "task": false
    }
   },
   "outputs": [],
   "source": [
    "# your code here\n",
    "raise NotImplementedError"
   ]
  },
  {
   "cell_type": "code",
   "execution_count": null,
   "id": "c314dde8",
   "metadata": {
    "deletable": false,
    "editable": false,
    "nbgrader": {
     "cell_type": "code",
     "checksum": "cbcd6910d6316de6404b4131ee934979",
     "grade": true,
     "grade_id": "exercise-2-2-tests",
     "locked": true,
     "points": 5,
     "schema_version": 3,
     "solution": false,
     "task": false
    }
   },
   "outputs": [],
   "source": []
  },
  {
   "cell_type": "markdown",
   "id": "85e6bdb3-8377-4c73-9239-d58db515ba09",
   "metadata": {
    "deletable": false,
    "editable": false,
    "nbgrader": {
     "cell_type": "markdown",
     "checksum": "5e7bc54b5044ac06768a4d4abdd8fe13",
     "grade": false,
     "grade_id": "exercise-2-3",
     "locked": true,
     "schema_version": 3,
     "solution": false,
     "task": false
    }
   },
   "source": [
    "<div class='exercise'> <b> Exercise 2.3 </b></div>\n",
    "\n",
    "- Convert the categorical attributes (`season`, `month`, `weekday`, `weather`) into multiple binary attributes using **one-hot encoding** and call this new dataframe `bikes_df`."
   ]
  },
  {
   "cell_type": "code",
   "execution_count": null,
   "id": "a5d55eef-27ca-4344-951c-8295bd701be3",
   "metadata": {
    "deletable": false,
    "nbgrader": {
     "cell_type": "code",
     "checksum": "1c7a29de099ee6fc007695a3179a5312",
     "grade": false,
     "grade_id": "exercise-2-3-implementation",
     "locked": false,
     "schema_version": 3,
     "solution": true,
     "task": false
    }
   },
   "outputs": [],
   "source": [
    "\"\"\"Write your code for Exercise-2.3 here:\"\"\"\n",
    "\n",
    "# your code here\n",
    "raise NotImplementedError"
   ]
  },
  {
   "cell_type": "code",
   "execution_count": null,
   "id": "f3b1009e",
   "metadata": {
    "deletable": false,
    "editable": false,
    "nbgrader": {
     "cell_type": "code",
     "checksum": "2dd96c5a3bfe02a91b73066808154c42",
     "grade": true,
     "grade_id": "exercise-2-3-grading",
     "locked": true,
     "points": 5,
     "schema_version": 3,
     "solution": false,
     "task": false
    }
   },
   "outputs": [],
   "source": []
  },
  {
   "cell_type": "markdown",
   "id": "9cf17336-2327-4ca0-915b-10ae1e0e1c70",
   "metadata": {
    "deletable": false,
    "editable": false,
    "nbgrader": {
     "cell_type": "markdown",
     "checksum": "0ac41ba10df8d73f192fefec5443e2db",
     "grade": false,
     "grade_id": "exercise-2-4",
     "locked": true,
     "schema_version": 3,
     "solution": false,
     "task": false
    }
   },
   "source": [
    "<div class='exercise'> <b> Exercise 2.4 </b></div>\n",
    "\n",
    "- Split the updated `bikes_df` dataset into a 50-50 train-test split (call them `bikes_train` and `bikes_test`, respectively). \n",
    "- Do this in a 'stratified' fashion, ensuring that all months are equally represented in each set. \n",
    "- Use `random_state = 42 `, a test set size of `.5`, and stratify on month."
   ]
  },
  {
   "cell_type": "code",
   "execution_count": null,
   "id": "46d4d213-6a5f-41f5-9e27-52e2b24626fa",
   "metadata": {
    "deletable": false,
    "nbgrader": {
     "cell_type": "code",
     "checksum": "080ff66d756d1abfd4fb613b45ce1c12",
     "grade": false,
     "grade_id": "exercise-2-4-implementation",
     "locked": false,
     "schema_version": 3,
     "solution": true,
     "task": false
    }
   },
   "outputs": [],
   "source": [
    "\"\"\"Write your code for Exercise-2.4 here:\"\"\"\n",
    "\n",
    "# your code here\n",
    "raise NotImplementedError"
   ]
  },
  {
   "cell_type": "code",
   "execution_count": null,
   "id": "08f92d4f",
   "metadata": {
    "deletable": false,
    "editable": false,
    "nbgrader": {
     "cell_type": "code",
     "checksum": "96bebee03c7ab61403c4bbf3f2d88eee",
     "grade": true,
     "grade_id": "exercise-2-4-grading",
     "locked": true,
     "points": 8,
     "schema_version": 3,
     "solution": false,
     "task": false
    }
   },
   "outputs": [],
   "source": []
  },
  {
   "cell_type": "markdown",
   "id": "c5db0289-a6a2-45a1-86f0-a5e3b67a7cde",
   "metadata": {
    "deletable": false,
    "editable": false,
    "nbgrader": {
     "cell_type": "markdown",
     "checksum": "c59ac7f98c99a673b98b34ff214ea891",
     "grade": false,
     "grade_id": "exercise-2-5",
     "locked": true,
     "schema_version": 3,
     "solution": false,
     "task": false
    }
   },
   "source": [
    "<div class='exercise'> <b> Exercise 2.5 </b></div>\n",
    "\n",
    "- Although we asked you to create your train and test set, for consistency and easy checking, we ask that for the rest of this problem set you use the train and test set provided in the files `data/BSS_train.csv` and `data/BSS_test.csv`. \n",
    "- Read these two files into dataframes `BSS_train` and `BSS_test`, respectively. \n",
    "- Remove the `dteday` column from both the train and the test dataset (its format cannot be used for analysis)."
   ]
  },
  {
   "cell_type": "code",
   "execution_count": null,
   "id": "7fef383a-84ae-4396-b403-618fb0b892b1",
   "metadata": {
    "deletable": false,
    "nbgrader": {
     "cell_type": "code",
     "checksum": "3c78ea7e25ec440fe53310b907cf4a6e",
     "grade": false,
     "grade_id": "exercise-2-5-implementation",
     "locked": false,
     "schema_version": 3,
     "solution": true,
     "task": false
    }
   },
   "outputs": [],
   "source": [
    "\"\"\"Write your code for Exercise-2.5 here:\"\"\"\n",
    "\n",
    "# your code here\n",
    "raise NotImplementedError"
   ]
  },
  {
   "cell_type": "code",
   "execution_count": null,
   "id": "69180138",
   "metadata": {
    "deletable": false,
    "editable": false,
    "nbgrader": {
     "cell_type": "code",
     "checksum": "03c535eb5b3a318f8f73fac0069da9b4",
     "grade": true,
     "grade_id": "exercise-2-5-grading",
     "locked": true,
     "points": 5,
     "schema_version": 3,
     "solution": false,
     "task": false
    }
   },
   "outputs": [],
   "source": []
  },
  {
   "cell_type": "markdown",
   "id": "c01fd10b-9abf-48c9-b320-b268f21a0d61",
   "metadata": {
    "deletable": false,
    "editable": false,
    "nbgrader": {
     "cell_type": "markdown",
     "checksum": "210b979a86ba1eb8f39a352a02004171",
     "grade": false,
     "grade_id": "exercise-2-6",
     "locked": true,
     "schema_version": 3,
     "solution": false,
     "task": false
    }
   },
   "source": [
    "<div class='exercise'> <b> Exercise 2.6 </b></div>\n",
    "\n",
    "- Use pandas' `scatter_matrix` command to visualize the inter-dependencies among the list of predictors listed below in the training dataset.\n",
    "    1. Select specific columns from BSS_train as listed in `cor_columns` list in next cell and store this to new dataframe named `sampled_data`.\n",
    "    2. Randomly select 10% of the rows to make the scatter matrix more manageable.\n",
    "    3. Create the scatter matrix plot using `sampled_data` dataFrame.\n",
    "        - In order to make a plot for this exercise, you will have to set up the Figure and Axes objects namely `fig` and `ax` using `plt.subplots()`. \n",
    "        - These two objects (fig and ax) will allow you to control various properties of the figure and plot.\n",
    "        - `fig` is the Figure object: It serves as the overall container for the plot.\n",
    "        - `ax` is the Axes object: This is where the actual data points will be plotted, including x and y axes, labels, etc.\n",
    "        ```python\n",
    "            Example code: fig, ax = plt.subplots(figsize=(10, 6))\n",
    "        ```\n",
    "- Note and comment on any strongly related variables. \n",
    "\n",
    "**Note:**\n",
    "\n",
    "- **This may take a few minutes to run. You may wish to comment it out until your final submission, or only plot a randomly-selected 10% of the rows.** \n",
    "\n",
    "- **Refer to this document [pandas.DataFrame.sample](https://pandas.pydata.org/pandas-docs/stable/reference/api/pandas.DataFrame.sample.html) on how to randomly select 10% of rows from a given dataset.**"
   ]
  },
  {
   "cell_type": "code",
   "execution_count": null,
   "id": "1531c1ab",
   "metadata": {
    "deletable": false,
    "editable": false,
    "nbgrader": {
     "cell_type": "code",
     "checksum": "65f660eb11b5638556518d196317cd95",
     "grade": false,
     "grade_id": "cor-columns",
     "locked": true,
     "schema_version": 3,
     "solution": false,
     "task": false
    }
   },
   "outputs": [],
   "source": [
    "# List of columns to visualize the inter-dependencies among the list of predictors\n",
    "cor_columns = [\n",
    "    'hour', 'holiday', 'temp', 'atemp', 'workingday', 'hum', 'windspeed', \n",
    "    'counts', 'casual', 'registered', 'fall', 'summer', 'spring', \n",
    "    'Snow', 'Storm', 'Cloudy'\n",
    "]"
   ]
  },
  {
   "cell_type": "code",
   "execution_count": null,
   "id": "d79075ed-3f1c-41e7-a59b-b1e3e8fcc495",
   "metadata": {
    "deletable": false,
    "nbgrader": {
     "cell_type": "code",
     "checksum": "39ff6c94c63dafb50205506f4420af35",
     "grade": false,
     "grade_id": "exercise-2-6-implementation",
     "locked": false,
     "schema_version": 3,
     "solution": true,
     "task": false
    }
   },
   "outputs": [],
   "source": [
    "\"\"\"Write your code for Exercise-2.6 here:\"\"\"\n",
    "\n",
    "# your code here\n",
    "raise NotImplementedError"
   ]
  },
  {
   "cell_type": "code",
   "execution_count": null,
   "id": "23005ec2",
   "metadata": {
    "deletable": false,
    "editable": false,
    "nbgrader": {
     "cell_type": "code",
     "checksum": "0fd0b920d220216ce3f121c07e7536a9",
     "grade": true,
     "grade_id": "exercise-2-6-grading",
     "locked": true,
     "points": 7,
     "schema_version": 3,
     "solution": false,
     "task": false
    }
   },
   "outputs": [],
   "source": []
  },
  {
   "cell_type": "markdown",
   "id": "b2831eb1-3480-4365-a59d-d2ac62f3604f",
   "metadata": {
    "deletable": false,
    "editable": false,
    "nbgrader": {
     "cell_type": "markdown",
     "checksum": "22ac5fd3b33d39faae4e848c5cd9dae2",
     "grade": false,
     "grade_id": "exercise-2-7",
     "locked": true,
     "schema_version": 3,
     "solution": false,
     "task": false
    }
   },
   "source": [
    "<div class='exercise'> <b> Exercise 2.7 </b></div>\n",
    "\n",
    "- Make a plot showing the *average* number of casual and registered riders during each hour of the day.\n",
    "     - In order to make a line plot for this exercise, you will have to set up the Figure and Axes objects namely `fig` and `ax` using `plt.subplots()`. \n",
    "      - These two objects (fig and ax) will allow you to control various properties of the figure and plot.\n",
    "      - `fig` is the Figure object: It serves as the overall container for the plot.\n",
    "      - `ax` is the Axes object: This is where the actual data points will be plotted, including x and y axes, labels, etc.\n",
    "        ```python\n",
    "            Example code: fig, ax = plt.subplots(figsize=(10, 6))\n",
    "        ```\n",
    "- Use `.groupby` and `.aggregate` in order to calculate the average number of casual and registered riders. \n",
    "- Comment on the trends you observe."
   ]
  },
  {
   "cell_type": "code",
   "execution_count": null,
   "id": "7763f7fc-82a3-4b3f-838f-4ab66680afc8",
   "metadata": {
    "deletable": false,
    "nbgrader": {
     "cell_type": "code",
     "checksum": "91bb72a27436eb8b8c1bac20ee1ec667",
     "grade": false,
     "grade_id": "exercise-2-7-implementation",
     "locked": false,
     "schema_version": 3,
     "solution": true,
     "task": false
    }
   },
   "outputs": [],
   "source": [
    "\"\"\"Write your code for Exercise-2.7 here:\"\"\"\n",
    "\n",
    "# your code here\n",
    "raise NotImplementedError"
   ]
  },
  {
   "cell_type": "code",
   "execution_count": null,
   "id": "b7057c9d",
   "metadata": {
    "deletable": false,
    "editable": false,
    "nbgrader": {
     "cell_type": "code",
     "checksum": "befd73c86c4c34669cb0e2edf18ed638",
     "grade": true,
     "grade_id": "exercise-2-7-grading",
     "locked": true,
     "points": 5,
     "schema_version": 3,
     "solution": false,
     "task": false
    }
   },
   "outputs": [],
   "source": []
  },
  {
   "cell_type": "markdown",
   "id": "faad17ed-b437-48ee-9a4e-723c03762c0e",
   "metadata": {
    "deletable": false,
    "editable": false,
    "nbgrader": {
     "cell_type": "markdown",
     "checksum": "a7c75c1a7a60bcbc6fde5c597d5acfdf",
     "grade": false,
     "grade_id": "exercise-2-8",
     "locked": true,
     "schema_version": 3,
     "solution": false,
     "task": false
    }
   },
   "source": [
    "<div class='exercise'> <b> Exercise 2.8 </b></div>\n",
    "\n",
    "- Use the one-hot-encoded `weather` related variables to show how each weather category affects the relationships in `Exercise 2.6`. \n",
    "    - **You will use the one-hot-encoded weather variables ('Cloudy', 'Storm', 'Snow') from the dataset.**\n",
    "    - **Note that there are only three columns in the one-hot-encoded dataset representing Cloudy, Storm, and Snow. The fourth category (Clear) is implicit—if all three other weather columns are 0, it indicates Clear weather.**\n",
    "\n",
    "#### Instructions:\n",
    "\n",
    "- Filter the dataset based on weather conditions:\n",
    "\n",
    "     - The dataset includes three one-hot-encoded weather variables: 'Cloudy', 'Storm', and 'Snow'.\n",
    "     - Create four separate DataFrames:\n",
    "        - `cloudy_df` → Rows where 'Cloudy' == 1'\n",
    "        - `storm_df` → Rows where 'Storm' == 1'\n",
    "        - `snow_df` → Rows where 'Snow' == 1'\n",
    "        - `clear_df` → Rows where all three weather variables ('Cloudy', 'Storm', 'Snow') are 0.\n",
    "\n",
    "- Select columns for analysis:\n",
    "\n",
    "    - Use the same set of variables from Exercise 2.6 for visualization:\n",
    "\n",
    "```python\n",
    "cor_columns = [\n",
    "    'hour', 'holiday', 'temp', 'atemp', 'workingday', 'hum', 'windspeed', \n",
    "    'counts', 'casual', 'registered', 'fall', 'summer', 'spring'\n",
    "]\n",
    "```\n",
    "\n",
    "- Create scatter matrix plots for each weather category:\n",
    "\n",
    "    - Create a dictionary of all dataframes as below :\n",
    "\n",
    "```python\n",
    "weather_dataframes = {\n",
    "    'Cloudy': cloudy_df,\n",
    "    'Storm': storm_df,\n",
    "    'Snow': snow_df,\n",
    "    'Clear': clear_df\n",
    "}\n",
    "```\n",
    "\n",
    "- Using above dictionary plot scatter_matrix() from pandas to visualize relationships between the selected variables.\n",
    "- To improve readability and performance, sample 10% of each DataFrame (if it has more than 10 rows).\n",
    "- Use 'alpha=0.2' and 'diagonal=\"hist\"' to configure the scatter matrix appearance.\n",
    "- Each weather category should have its own scatter matrix plot.\n",
    "    - **Hint**: Use a `for` loop iterate through `weather_dataframes` dictionary and plot the figures.\n",
    "\n",
    "**Output:**\n",
    "- Four scatter matrix plots—one for each weather type (Cloudy, Storm, Snow, and Clear), even though there are only three columns related to weather after one-hot-encoding."
   ]
  },
  {
   "cell_type": "code",
   "execution_count": null,
   "id": "b5ba4d13-09a6-4ffc-adc6-063e3566bec8",
   "metadata": {
    "deletable": false,
    "nbgrader": {
     "cell_type": "code",
     "checksum": "5151ce7d87ce04042385cade30db115b",
     "grade": false,
     "grade_id": "exercise-2-8-implementation",
     "locked": false,
     "schema_version": 3,
     "solution": true,
     "task": false
    }
   },
   "outputs": [],
   "source": [
    "\"\"\"Write your code for Exercise-2.8 here:\"\"\"\n",
    "\n",
    "# your code here\n",
    "raise NotImplementedError"
   ]
  },
  {
   "cell_type": "code",
   "execution_count": null,
   "id": "ec306b28",
   "metadata": {
    "deletable": false,
    "editable": false,
    "nbgrader": {
     "cell_type": "code",
     "checksum": "b846966d612065e7830bec186b175313",
     "grade": true,
     "grade_id": "exercise-2-8-grading",
     "locked": true,
     "points": 9,
     "schema_version": 3,
     "solution": false,
     "task": false
    }
   },
   "outputs": [],
   "source": []
  },
  {
   "cell_type": "markdown",
   "id": "b42a3990",
   "metadata": {
    "deletable": false,
    "editable": false,
    "nbgrader": {
     "cell_type": "markdown",
     "checksum": "d5f415bfbb7c2f1f2f3042312896cda3",
     "grade": false,
     "grade_id": "cell-4b095e46f7c6b111",
     "locked": true,
     "schema_version": 3,
     "solution": false,
     "task": false
    }
   },
   "source": [
    "# END"
   ]
  }
 ],
 "metadata": {
  "kernelspec": {
   "display_name": "Python 3 (ipykernel)",
   "language": "python",
   "name": "python3"
  },
  "language_info": {
   "codemirror_mode": {
    "name": "ipython",
    "version": 3
   },
   "file_extension": ".py",
   "mimetype": "text/x-python",
   "name": "python",
   "nbconvert_exporter": "python",
   "pygments_lexer": "ipython3",
   "version": "3.10.6"
  }
 },
 "nbformat": 4,
 "nbformat_minor": 5
}

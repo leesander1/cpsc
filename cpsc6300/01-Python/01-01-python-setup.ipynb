{
 "cells": [
  {
   "cell_type": "markdown",
   "id": "6eca66cd-2628-48b4-ac40-52b7e1afb1c1",
   "metadata": {
    "deletable": false,
    "editable": false,
    "nbgrader": {
     "cell_type": "markdown",
     "checksum": "4b437f02541aa2e0aa2f4fd1fa8c8a1b",
     "grade": false,
     "grade_id": "ads",
     "locked": true,
     "schema_version": 3,
     "solution": false,
     "task": false
    }
   },
   "source": [
    "<div class='heading'>\n",
    "    <div style='float:left;'><h1>CPSC 4300/6300: Applied Data Science</h1></div>\n",
    "    <img style=\"float: right; padding-right: 10px; width: 65px\" src=\"https://raw.githubusercontent.com/bsethwalker/clemson-cs4300/main/images/clemson_paw.png\"> </div> "
   ]
  },
  {
   "cell_type": "markdown",
   "id": "97cdc1c8",
   "metadata": {
    "deletable": false,
    "editable": false,
    "nbgrader": {
     "cell_type": "markdown",
     "checksum": "9424f7da30039b00db45467d8e03c549",
     "grade": false,
     "grade_id": "week-1-lab1",
     "locked": true,
     "schema_version": 3,
     "solution": false,
     "task": false
    }
   },
   "source": [
    "# Week 1 | Lab 1: Environment Setup\n",
    "\n",
    "**Clemson University** **Instructor:** Tim Ransom\n",
    "\n",
    "------------------------------------------------------------------------\n",
    "\n",
    "## Learning Objective\n",
    "- Explain the purpose of virtual environments in Python.\n",
    "- Install Python modules using conda on your local machine.\n",
    "\n",
    "-------------------"
   ]
  },
  {
   "cell_type": "code",
   "execution_count": null,
   "id": "98eacffd-ade7-4396-933f-ce3c62904447",
   "metadata": {
    "deletable": false,
    "editable": false,
    "nbgrader": {
     "cell_type": "code",
     "checksum": "1adecbbc9168b4555d45f19966a14c83",
     "grade": false,
     "grade_id": "formatting",
     "locked": true,
     "schema_version": 3,
     "solution": false,
     "task": false
    }
   },
   "outputs": [],
   "source": [
    "\"\"\" RUN THIS CELL TO GET THE RIGHT FORMATTING \"\"\"\n",
    "import requests\n",
    "from IPython.core.display import HTML\n",
    "css_file = 'https://raw.githubusercontent.com/bsethwalker/clemson-cs4300/main/css/cpsc6300.css'\n",
    "styles = requests.get(css_file).text\n",
    "HTML(styles)\n"
   ]
  },
  {
   "cell_type": "markdown",
   "id": "fe85cc1c-bdad-42f7-b59c-22be0730cb33",
   "metadata": {
    "deletable": false,
    "editable": false,
    "nbgrader": {
     "cell_type": "markdown",
     "checksum": "40d3f240d40052f3111b06aa1d1bbbb0",
     "grade": false,
     "grade_id": "intro",
     "locked": true,
     "schema_version": 3,
     "solution": false,
     "task": false
    }
   },
   "source": [
    "## 1 - Introduction to Python and Jupyter Notebook Setup\n",
    "\n",
    "- To complete this course, you will be using Python and several popular third-party libraries for scientific computing. \n",
    "- We strongly recommend setting up a local development environment so you can access the notebook files offline\n",
    "- This guide walks you through setting up Python, Anaconda, and Jupyter Notebook, which will be your main tool for interactive coding.\n",
    "\n",
    "**Key Points:**\n",
    "\n",
    "   1. **Python Version:** Use `Python 3`, **not** `Python 2`.\n",
    "   2. **Jupyter Notebook:** Works best in `Microsoft Edge`, `Google Chrome`, `Firefox`."
   ]
  },
  {
   "cell_type": "markdown",
   "id": "e2b997ee",
   "metadata": {
    "deletable": false,
    "editable": false,
    "nbgrader": {
     "cell_type": "markdown",
     "checksum": "b752997b356fcf2ee1d08a6a2d9ce05c",
     "grade": false,
     "grade_id": "anaconda",
     "locked": true,
     "schema_version": 3,
     "solution": false,
     "task": false
    }
   },
   "source": [
    "## 2 - Installing Anaconda\n",
    "The Anaconda distribution simplifies setting up Python and includes all the necessary libraries for this course. We recommend installing it unless you have a specific reason not to.\n",
    "\n",
    "### 2.1 Mac/Linux Users\n",
    "- **Download Anaconda**:\n",
    "  - Visit the [Anaconda download](https://www.anaconda.com/download) page and download the installer for your OS.\n",
    "- **Install Anaconda**:\n",
    "  - Follow the instructions on the download page to run the installer.\n",
    "- **Test Jupyter Notebook**:\n",
    "  - Open a Terminal window and type:\n",
    "    ```bash\n",
    "    jupyter notebook\n",
    "    ```\n",
    "  - Alternatively, use the Anaconda Launcher to start Jupyter Notebook.\n",
    "  - A new browser window should open.\n",
    "  - Click **New Notebook** and give it a unique name.\n",
    "- **Working in a Specific Folder**:\n",
    "  - Open a terminal and navigate to the desired folder using:\n",
    "    ```bash\n",
    "    cd Documents/cpsc4300\n",
    "    ```\n",
    "  - Start Jupyter Notebook in that folder:\n",
    "    ```bash\n",
    "    jupyter notebook\n",
    "    ```\n",
    "\n",
    "### 2.2 Windows Users\n",
    "- **Download Anaconda**:\n",
    "  - Visit [Anaconda download](https://www.anaconda.com/download) page.\n",
    "  - Download the correct version for Windows.\n",
    "- **Install Anaconda**:\n",
    "  - Follow the instructions provided during the installation. Typically, Anaconda will be installed in `C:\\Anaconda`.\n",
    "- **Test Jupyter Notebook**:\n",
    "  - Start the Anaconda launcher from the installation directory or the Start menu.\n",
    "  - Launch Jupyter Notebook, and a new browser window should open.\n",
    "  - Create a new notebook with a unique name and search for the file in Explorer to find the default folder location.\n",
    "       - **Trick**: give this notebook a unique name, like `my-little-rose`. Use Explorer (usually start menu on windows desktops) to search for this name. In this way, you will know which folder your notebook opens in by default.\n",
    "- **Install Git-Bash (Recommended)**:\n",
    "  - Git-Bash provides a convenient terminal for Windows users.\n",
    "\n",
    "### 2.3 Common for All Users\n",
    "- **Adding Anaconda to PATH**:\n",
    "  - If Anaconda was not added to your path, use the full path to Python, such as `/anaconda/bin/python`.\n",
    "- **Update Anaconda**:\n",
    "  - If you have installed Anaconda previously, update to the latest version:\n",
    "    ```bash\n",
    "    conda update conda\n",
    "    conda update anaconda\n",
    "    ```\n"
   ]
  },
  {
   "cell_type": "markdown",
   "id": "5cd9423a",
   "metadata": {
    "deletable": false,
    "editable": false,
    "nbgrader": {
     "cell_type": "markdown",
     "checksum": "ac29311f25d1f91feae7a26bf16efadb",
     "grade": false,
     "grade_id": "jupyter",
     "locked": true,
     "schema_version": 3,
     "solution": false,
     "task": false
    }
   },
   "source": [
    "## 3 - Hello, Jupyter\n",
    "\n",
    "- The Jupyter Notebook is a web application that allows you to create interactive documents that contain live code, equations, visualizations and explanatory text.\n",
    "\n",
    "- When Jupyter app loads, you see a dashboard displaying files in the Jupyter home directory (you can reset this)\n",
    "\n",
    "- Each notebook consists of blocks of cells. Each cell can display rich text elements (Markdown) or code. Code is executed by a \"computational engine\" called the **kernel** . The output of the code is displayed directly below.\n",
    "\n",
    "- Each cell can be executed independently, but once a block of code is executed, it lives in the memory of the kernel.\n",
    "\n",
    "- You'll be using Jupyter notebooks within Coursera Lab environment in order to complete labs and homework. Once you've set up Python, please download this page, and open it with Jupyter by typing\n",
    "\n",
    "``` bash\n",
    "jupyter notebook <name_of_downloaded_file>\n",
    "```\n",
    "\n",
    "As mentioned earlier in the Mac section, you can also open the notebook\n",
    "in any folder by changing directory using `cd` command to the folder in the terminal, and typing\n",
    "\n",
    "``` bash\n",
    "jupyter notebook .\n",
    "```\n",
    "\n",
    "in that folder.\n",
    "\n",
    "The anaconda install also probably dropped a launcher on your desktop.\n",
    "You can use the launcher, and select \"jupyter notebook\" from there. In\n",
    "this case you will need to find out which folder you are running in.\n",
    "\n",
    "Notice that you can use the user interface to create new folders and\n",
    "text files, and even open new terminals, all of which might come useful\n",
    "to you. To create a new notebook, you can use \"Python 3\" under\n",
    "notebooks. You may not have the other choices available (I have julia\n",
    "for example, which is another language that uses the same notebook\n",
    "interface).\n",
    "\n",
    "For the rest of this setup test, use your local copy of this page,\n",
    "running on jupyter.\n",
    "\n",
    "Notebooks are composed of many \"cells\", which can contain text (like\n",
    "this one), or code (like the one below). Double click on the cell below,\n",
    "and evaluate it by clicking the \"play\" button above, for by hitting\n",
    "shift + enter"
   ]
  },
  {
   "cell_type": "markdown",
   "id": "6ed54d46-88b8-4b50-82ff-7341cb2707d8",
   "metadata": {
    "deletable": false,
    "editable": false,
    "nbgrader": {
     "cell_type": "markdown",
     "checksum": "0344e8241b6ff80430f792fd52f35970",
     "grade": false,
     "grade_id": "markdown-block",
     "locked": true,
     "schema_version": 3,
     "solution": false,
     "task": false
    }
   },
   "source": [
    "You must be careful to make sure you are running the Anaconda version of\n",
    "python, since those operating systems come preinstalled with their own\n",
    "versions of python.\n",
    "\n",
    "This is how you can see the version in the jupyter interface"
   ]
  },
  {
   "cell_type": "code",
   "execution_count": null,
   "id": "0b25b7fa-a2a3-4d7e-a890-adb85780f888",
   "metadata": {
    "deletable": false,
    "editable": false,
    "nbgrader": {
     "cell_type": "code",
     "checksum": "53858db5bbab3866231c862be7bb077e",
     "grade": false,
     "grade_id": "sys-version",
     "locked": true,
     "schema_version": 3,
     "solution": false,
     "task": false
    }
   },
   "outputs": [],
   "source": [
    "import sys\n",
    "print(sys.version)\n"
   ]
  },
  {
   "cell_type": "markdown",
   "id": "71394c2c-9384-4d09-b83c-43a4f642de28",
   "metadata": {
    "deletable": false,
    "editable": false,
    "nbgrader": {
     "cell_type": "markdown",
     "checksum": "c0351634dc3191d77695dc4899ebacd9",
     "grade": false,
     "grade_id": "terminal-python",
     "locked": true,
     "schema_version": 3,
     "solution": false,
     "task": false
    }
   },
   "source": [
    "You could also open a terminal and just type\n",
    "\n",
    "`python`\n",
    "\n",
    "or\n",
    "\n",
    "`ipython`\n",
    "\n",
    "there. When the program starts up, you should see \"Anaconda\" printed\n",
    "out, similar to the above. If this is the case, your install went well,\n",
    "and you can quit the python \"interpreter\" by typing Ctrl-D.\n",
    "\n",
    "If you've successfully completed the above install, skip the below\n",
    "troubleshooting section. All of the statements there should run.\n",
    "\n",
    "## 4 - Troubleshooting\n",
    "\n",
    "**PROBLEM** You are using a Mac or Linux computer. When you start python\n",
    "at the terminal or do `sys.version` in the notebook, you don't see a\n",
    "line like\n",
    "`3.5.3 |Anaconda custom (x86_64)| (default, Mar  6 2017, 12:15:08)`.\n",
    "\n",
    "**Reason** You are most likely running a different version of Python,\n",
    "and need to modify your Path (the list of directories your computer\n",
    "looks through to find programs).\n",
    "\n",
    "**Solution** Find a file like `.bash_profile`, `.bashrc`, or `.profile`.\n",
    "Open the file in a text editor, and add a line at this line at the end:\n",
    "\n",
    "`export PATH`\"\\$HOME/anaconda/bin:\\$PATH\"=.\n",
    "\n",
    "Close the file, open a new terminal window, type `source ~/.profile` (or\n",
    "whatever file you just edited). Type\n",
    "\n",
    "`which python`\n",
    "\n",
    "– you should see a path that points to the anaconda directory. If so,\n",
    "running `python` should load the proper version.\n",
    "\n",
    "If this doesn't work (typing `which python` doesn't point to anaconda),\n",
    "you might be using a different shell.\n",
    "\n",
    "Type `echo $SHELL`.\n",
    "\n",
    "If this isn't `bash`, you need to edit a different startup file (for\n",
    "example, if `echo $SHELL` gives `$csh`, you need to edit your `.cshrc`\n",
    "file. The syntax for this file is slightly different:\n",
    "\n",
    "`set PATH = ($HOME/anaconda/bin $PATH)`\n",
    "\n",
    "------------------------------------------------------------------------\n",
    "\n",
    "**PROBLEM** You are running the right version of python (see above\n",
    "item), but are unable to import numpy.\n",
    "\n",
    "**Reason** You are probably loading a different copy of numpy that is\n",
    "incompatible with Anaconda.\n",
    "\n",
    "**Solution** See the above item to find your `.bash_profile`,\n",
    "`.profile`, or `.bashrc` file. Open it, and add the line\n",
    "`unset PYTHONPATH` at the end. Close the file, open a new terminal\n",
    "window, type `source ~/.profile` (or whatever file you just edited), and\n",
    "try again.\n",
    "\n",
    "------------------------------------------------------------------------\n",
    "\n",
    "**PROBLEM** Under Windows, you receive an error message similar to the\n",
    "following: \"'pip' is not recognized as an internal or external command,\n",
    "operable program or batch file.\"\n",
    "\n",
    "**Reason** The correct Anaconda paths might not be present in your PATH\n",
    "variable, or Anaconda might not have installed correctly.\n",
    "\n",
    "**Solution** Ensure the Anaconda directories to your path environment\n",
    "variable (\"\" and \"\"). See [this\n",
    "page](http://superuser.com/questions/284342/what-are-path-and-other-environment-variables-and-how-can-i-set-or-use-them)\n",
    "for details.\n",
    "\n",
    "If this does not correct the problem, re-install Anaconda.\n",
    "\n",
    "**IF YOU ARE STILL HAVING ISSUES ON THE INSTALL, REACH OUT TO THE COURSE\n",
    "STAFF FOR HELP!**"
   ]
  },
  {
   "cell_type": "markdown",
   "id": "fce46ad9",
   "metadata": {
    "deletable": false,
    "editable": false,
    "nbgrader": {
     "cell_type": "markdown",
     "checksum": "5e4aa83336d7bcc8196bcbffc1bdd76c",
     "grade": false,
     "grade_id": "virtual-env",
     "locked": true,
     "schema_version": 3,
     "solution": false,
     "task": false
    }
   },
   "source": [
    "## 5 - Environments and Python Libraries\n",
    "\n",
    "There are two main installing packages for Python, `conda` and `pip`.\n",
    "Pip is the Python Packaging Authority's recommended tool for installing\n",
    "packages from the **Python Package Index (PyPI)**. `Conda` is a cross\n",
    "platform package and environment manager that installs and manages conda\n",
    "packages from the **Anaconda repository** and **Anaconda Cloud**. Conda\n",
    "does not assume any specific configuration in your computer and will\n",
    "install the Python interpreter along with the other Python packages,\n",
    "whereas `pip` assumes that you have installed the Python interpreter in\n",
    "your computer. Given the fact that most operating systems do include\n",
    "Python this is not a problem.\n",
    "\n",
    "If I could summarize their differences into a sentence it would be that\n",
    "conda has the ability to create **isolated environments** that can\n",
    "contain different versions of Python and/or the packages installed in\n",
    "them. This can be extremely useful when working with data science tools\n",
    "as different tools may contain conflicting requirements which could\n",
    "prevent them all being installed into a single environment. You can have\n",
    "environments with pip but would have to install a tool such as\n",
    "virtualenv or venv. You may use either, we recommend `conda` because in\n",
    "our experience it leads to fewer incompatibilities between packages and\n",
    "thus fewer broken environments.\n",
    "\n",
    "**Conclusion: Use Both.** Most often in our data science environments we\n",
    "want to combining pip with conda when one or more packages are only\n",
    "available to install via pip. Although thousands of packages are\n",
    "available in the Anaconda repository, including the most popular data\n",
    "science, machine learning, and AI frameworks but a lot more are\n",
    "available on PyPI. Even if you have your environment installed via\n",
    "`conda` you can use `pip` to install individual packages\n",
    "\n",
    "([source: anaconda\n",
    "site](https://www.anaconda.com/understanding-conda-and-pip/))\n",
    "\n",
    "### What are environments and do I need them?\n",
    "\n",
    "Environments in Python are like sandboxes that have different versions\n",
    "of Python and/or packages installed in them. You can create, export,\n",
    "list, remove, and update environments. Switching or moving between\n",
    "environments is called activating the environment. When you are done\n",
    "with an environments you may deactivate it.\n",
    "\n",
    "For this class we want to have a bit more control on the packages that\n",
    "will be installed with the enviromnent so we will create an environment\n",
    "specifically for this course.\n",
    "\n",
    "1.  Creating an environment\n",
    "\n",
    "    You can create a new environment by running the following command in\n",
    "    the terminal.\n",
    "\n",
    "    `conda create -n cpsc6300 python=3.8`\n",
    "\n",
    "2.  Activate the new environment:\n",
    "\n",
    "    `source activate cpsc6300`\n",
    "\n",
    "    You should see the name of the environment at the start of your\n",
    "    command prompth in parenthesis.\n",
    "\n",
    "3.  Verify that the new environment was installed correctly:\n",
    "\n",
    "    `conda list`\n",
    "\n",
    "    This will give you a list of the packages installed in this\n",
    "    environment.\n",
    "\n",
    "4.  References\n",
    "\n",
    "    [Manage conda\n",
    "    environments](https://docs.conda.io/projects/conda/en/latest/user-guide/tasks/manage-environments.html)\n",
    "\n",
    "### Starting the Jupyter Notebook\n",
    "\n",
    "Once all is installed, and your environment is active, go in the\n",
    "Terminal and type\n",
    "\n",
    "`jupyter notebook`\n",
    "\n",
    "to start the jupyter notebook server. This will spawn a process that\n",
    "will be running in the Terminal window until you are done working with\n",
    "the notebook. In that case press `control-C` to stop it.\n",
    "\n",
    "Starting the notebook will bring up a browser window with your file\n",
    "structure.\n",
    "\n",
    "**For more on using the Notebook see**:\n",
    "<https://jupyter-notebook.readthedocs.io/en/latest/>\n",
    "\n",
    "### Installing Modules\n",
    "\n",
    "We will use specific Python Modules in this course. You can find\n",
    "installation instructions for most modules online, but installing a new\n",
    "module will typically follow this pattern:\n",
    "\n",
    "`conda install <module_name>`\n",
    "\n",
    "Before installing the module, make sure the virtual environment in which\n",
    "you want to install it is active. For example, to install Numpy, you\n",
    "would do the following:\n",
    "\n",
    "``` bash\n",
    "# Activate environment\n",
    "conda activate cpsc4300\n",
    "\n",
    "# Install numpy\n",
    "conda install numpy\n",
    "```\n",
    "\n",
    "### Testing latest libraries\n",
    "\n",
    "Run the cell below to print the version you have install for some key\n",
    "libraries we will use in this course. For reference, I included the\n",
    "version installed on this `Coursera Lab Environment`. Packages are frequently updated,\n",
    "so you don't need to have the exact versions installed like here. However,\n",
    "the versions you're using should be close to, or newer than, currently being used in this lab."
   ]
  },
  {
   "cell_type": "code",
   "execution_count": null,
   "id": "8b36f077-c09c-4ee0-968d-6e7c95080057",
   "metadata": {
    "deletable": false,
    "editable": false,
    "nbgrader": {
     "cell_type": "code",
     "checksum": "ecb35390c7de1cbca77231af5538d288",
     "grade": false,
     "grade_id": "testing-libs",
     "locked": true,
     "schema_version": 3,
     "solution": false,
     "task": false
    }
   },
   "outputs": [],
   "source": [
    "#IPython is what you are using now to run the notebook\n",
    "import IPython\n",
    "print(\"IPython version:      %6.6s\" % IPython.__version__)\n",
    "\n",
    "# Numpy is a library for working with Arrays\n",
    "import numpy as np\n",
    "print(\"Numpy version:        %6.6s\" % np.__version__)\n",
    "\n",
    "# SciPy implements many different numerical algorithms\n",
    "import scipy as sp\n",
    "print(\"SciPy version:        %6.6s\" % sp.__version__)\n",
    "\n",
    "# Pandas makes working with data tables easier\n",
    "import pandas as pd\n",
    "print(\"Pandas version:       %6.6s\" % pd.__version__)\n",
    "\n",
    "# Module for plotting\n",
    "import matplotlib\n",
    "print(\"Matplotlib version:    %6.6s\" % matplotlib.__version__)\n",
    "\n",
    "# SciKit Learn implements several Machine Learning algorithms\n",
    "import sklearn\n",
    "print(\"Scikit-Learn version: %6.6s\" % sklearn.__version__)\n",
    "\n",
    "# Requests is a library for getting data from the Web\n",
    "import requests\n",
    "print(\"requests version:     %6.6s \" % requests.__version__)\n",
    "\n",
    "import seaborn\n",
    "print(\"Seaborn version: %6.6s\" % seaborn.__version__)\n"
   ]
  },
  {
   "cell_type": "markdown",
   "id": "c9bf89c6-5ccb-480d-ab61-b0f0293eeffb",
   "metadata": {
    "deletable": false,
    "editable": false,
    "nbgrader": {
     "cell_type": "markdown",
     "checksum": "c9611075e53a7379252cf81225b3039e",
     "grade": false,
     "grade_id": "getting-started",
     "locked": true,
     "schema_version": 3,
     "solution": false,
     "task": false
    }
   },
   "source": [
    "## 6 - Kicking the tires\n",
    "\n",
    "Lets try some things, starting from very simple, to more complex.\n",
    "\n",
    "### 6.1 - Hello World\n",
    "\n",
    "The following is the incantation we like to put at the beginning of\n",
    "every notebook. It loads most of the stuff we will regularly use."
   ]
  },
  {
   "cell_type": "code",
   "execution_count": null,
   "id": "1dd03bda-d862-41a8-8d05-b45e7aac9dfc",
   "metadata": {
    "deletable": false,
    "editable": false,
    "nbgrader": {
     "cell_type": "code",
     "checksum": "534ce1602301c4e8af96c330f481cbac",
     "grade": false,
     "grade_id": "python-libs",
     "locked": true,
     "schema_version": 3,
     "solution": false,
     "task": false
    }
   },
   "outputs": [],
   "source": [
    "# The %... is an iPython thing, and is not part of the Python language.\n",
    "# In this case we're just telling the plotting library to draw things on\n",
    "# the notebook, instead of on a separate window.\n",
    "%matplotlib inline \n",
    "#this line above prepares the jupyter notebook for working with matplotlib\n",
    "\n",
    "# See all the \"as ...\" contructs? They're just aliasing the package names.\n",
    "# That way we can call methods like plt.plot() instead of matplotlib.pyplot.plot().\n",
    "# notice we use short aliases here, and these are conventional in the python community\n",
    "\n",
    "import numpy as np              # imports a fast numerical programming library\n",
    "import scipy as sp              # imports stats functions, amongst other things\n",
    "import matplotlib as mpl        # this actually imports matplotlib\n",
    "import matplotlib.cm as cm      # allows us easy access to colormaps\n",
    "import matplotlib.pyplot as plt # sets up plotting under plt\n",
    "import pandas as pd             # lets us handle data as dataframes\n",
    "\n",
    "import seaborn as sns # gives us more plotting options\n",
    "sns.set()             # sets up styles\n"
   ]
  },
  {
   "cell_type": "markdown",
   "id": "871d4d25-eb46-4ac6-bc69-93e3070d2283",
   "metadata": {
    "deletable": false,
    "editable": false,
    "nbgrader": {
     "cell_type": "markdown",
     "checksum": "6dd2ac16b2bdbc10b600f20d2fce8875",
     "grade": false,
     "grade_id": "matplot-lib",
     "locked": true,
     "schema_version": 3,
     "solution": false,
     "task": false
    }
   },
   "source": [
    "### 6.2 - Hello matplotlib\n",
    "\n",
    "The notebook integrates nicely with Matplotlib, the primary plotting\n",
    "package for python. This should embed a figure of a sine wave:"
   ]
  },
  {
   "cell_type": "code",
   "execution_count": null,
   "id": "783c60f7-b4b9-4ff2-97c2-41018f07ffa5",
   "metadata": {
    "deletable": false,
    "editable": false,
    "nbgrader": {
     "cell_type": "code",
     "checksum": "dbd5c584d0db95761ace463a7604e878",
     "grade": false,
     "grade_id": "matplot-lib-code",
     "locked": true,
     "schema_version": 3,
     "solution": false,
     "task": false
    }
   },
   "outputs": [],
   "source": [
    "x = np.linspace(0, 10, 30)  # array of 30 points from 0 to 10\n",
    "y = np.sin(x)\n",
    "z = y + np.random.normal(size=30) * .2\n",
    "\n",
    "plt.plot(x, y, 'o-', label='A sine wave')\n",
    "plt.plot(x, z, '-', label='Noisy sine')\n",
    "plt.legend(loc = 'best')\n",
    "plt.xlabel(\"X axis\")\n",
    "plt.ylabel(\"Y axis\")\n",
    "plt.title(\"Sine Waves\");\n"
   ]
  },
  {
   "cell_type": "markdown",
   "id": "c424d48a-1c8f-445a-b928-5cbab3fd433c",
   "metadata": {
    "deletable": false,
    "editable": false,
    "nbgrader": {
     "cell_type": "markdown",
     "checksum": "d3fc7dcdbdee368b9782454d2833bcc5",
     "grade": false,
     "grade_id": "numpy",
     "locked": true,
     "schema_version": 3,
     "solution": false,
     "task": false
    }
   },
   "source": [
    "### 6.3 - Hello Numpy\n",
    "\n",
    "The Numpy array processing library is the basis of nearly all numerical\n",
    "computing in Python. Here's a 30 second crash course. For more details,\n",
    "consult the [Numpy Documentation](https://numpy.org/doc/)."
   ]
  },
  {
   "cell_type": "code",
   "execution_count": null,
   "id": "78258352-24c8-4a46-91d5-1a74b8d41e17",
   "metadata": {
    "deletable": false,
    "editable": false,
    "nbgrader": {
     "cell_type": "code",
     "checksum": "fbcbc0e9536f0f11abdbc9cb25c08975",
     "grade": false,
     "grade_id": "cell-5d845fb9d8ac7c44",
     "locked": true,
     "schema_version": 3,
     "solution": false,
     "task": false
    }
   },
   "outputs": [],
   "source": [
    "print(\"Make a 3 row x 4 column array of random numbers\")\n",
    "x = np.random.random((3, 4))\n",
    "print(x,\"\\n\")\n",
    "\n",
    "\n",
    "print(\"Add 1 to every element\")\n",
    "x = x + 1\n",
    "print(x,\"\\n\")\n",
    "\n",
    "print(\"Get the element at row 1, column 2\")\n",
    "print(x[1, 2])\n",
    "\n",
    "# The colon syntax is called \"slicing\" the array. \n",
    "print(\"Get the first row\")\n",
    "print(x[0, :])\n",
    "\n",
    "print(\"\\nLast 2 items in the first row\")\n",
    "print(x[0, -2:])\n",
    "\n",
    "print(\"\\nGet every 2nd item in the first row\")\n",
    "print(x[0, ::2])\n"
   ]
  },
  {
   "cell_type": "markdown",
   "id": "6b36381c-e161-4bfc-83a6-f12fb2997bbc",
   "metadata": {
    "deletable": false,
    "editable": false,
    "nbgrader": {
     "cell_type": "markdown",
     "checksum": "25a8dc9af10898e4cc11ebae9bab0079",
     "grade": false,
     "grade_id": "cell-aac241d7ee19a079",
     "locked": true,
     "schema_version": 3,
     "solution": false,
     "task": false
    }
   },
   "source": [
    "Print the maximum, minimum, and mean of the array. This does **not**\n",
    "require writing a loop. In the code cell below, type `x.m<TAB>`, to find\n",
    "built-in operations for common array statistics like this"
   ]
  },
  {
   "cell_type": "code",
   "execution_count": null,
   "id": "f69f8dd6-5d36-49fb-8451-e1e73863c982",
   "metadata": {
    "deletable": false,
    "editable": false,
    "nbgrader": {
     "cell_type": "code",
     "checksum": "e82f84e6007ba1d09a02b5a4c33b8489",
     "grade": false,
     "grade_id": "cell-2676197904eb2118",
     "locked": true,
     "schema_version": 3,
     "solution": false,
     "task": false
    }
   },
   "outputs": [],
   "source": [
    "print(\"Max is  \", x.max())\n",
    "print(\"Min is  \", x.min())\n",
    "print(\"Mean is \", x.mean())\n"
   ]
  },
  {
   "cell_type": "markdown",
   "id": "7e33038d-2b05-447d-9873-b97522ee3531",
   "metadata": {
    "deletable": false,
    "editable": false,
    "nbgrader": {
     "cell_type": "markdown",
     "checksum": "2a290b38d4911e2c27256fb9d2348ea5",
     "grade": false,
     "grade_id": "cell-5b0cb6d1568ed0ed",
     "locked": true,
     "schema_version": 3,
     "solution": false,
     "task": false
    }
   },
   "source": [
    "Call the `x.max` function again, but use the `axis` keyword to print the\n",
    "maximum of each row in x."
   ]
  },
  {
   "cell_type": "code",
   "execution_count": null,
   "id": "f60a6318-4e4b-4331-a544-75f93f45521b",
   "metadata": {
    "deletable": false,
    "editable": false,
    "nbgrader": {
     "cell_type": "code",
     "checksum": "af68cfe0bab50dcd694000dfa43e111e",
     "grade": false,
     "grade_id": "cell-9aa66cb9bfbfeafe",
     "locked": true,
     "schema_version": 3,
     "solution": false,
     "task": false
    }
   },
   "outputs": [],
   "source": [
    "print(x.max(axis=1))\n"
   ]
  },
  {
   "cell_type": "markdown",
   "id": "8bfa9dcc-6c41-410c-ab6c-3698cfa8be5c",
   "metadata": {
    "deletable": false,
    "editable": false,
    "nbgrader": {
     "cell_type": "markdown",
     "checksum": "b79ff3c7c6488b93aef3ec2e197fa7e5",
     "grade": false,
     "grade_id": "cell-87a37a86628b90ed",
     "locked": true,
     "schema_version": 3,
     "solution": false,
     "task": false
    }
   },
   "source": [
    "Here's a way to quickly simulate 500 coin \"fair\" coin tosses (where the\n",
    "probabily of getting Heads is 50%, or 0.5)"
   ]
  },
  {
   "cell_type": "code",
   "execution_count": null,
   "id": "ed966e80-6c8c-4343-be5d-4570de531a9d",
   "metadata": {
    "deletable": false,
    "editable": false,
    "nbgrader": {
     "cell_type": "code",
     "checksum": "8d3b658ba37984d32d4b281b7f615a90",
     "grade": false,
     "grade_id": "cell-6573e9dedf48b0d0",
     "locked": true,
     "schema_version": 3,
     "solution": false,
     "task": false
    }
   },
   "outputs": [],
   "source": [
    "x = np.random.binomial(500, .5)\n",
    "print(\"number of heads:\", x)\n"
   ]
  },
  {
   "cell_type": "markdown",
   "id": "d2ace1a3-c688-4121-90c7-e2337ee40369",
   "metadata": {
    "deletable": false,
    "editable": false,
    "nbgrader": {
     "cell_type": "markdown",
     "checksum": "0fd2902e0289ff77d9fce8fda46b69cb",
     "grade": false,
     "grade_id": "cell-42101f09ce90d16c",
     "locked": true,
     "schema_version": 3,
     "solution": false,
     "task": false
    }
   },
   "source": [
    "Repeat this simulation 500 times, and use the [plt.hist()\n",
    "function](http://matplotlib.org/api/pyplot_api.html#matplotlib.pyplot.hist)\n",
    "to plot a histogram of the number of Heads (1s) in each simulation"
   ]
  },
  {
   "cell_type": "code",
   "execution_count": null,
   "id": "acc5be50-9246-491f-a176-775aeb919c06",
   "metadata": {
    "deletable": false,
    "editable": false,
    "nbgrader": {
     "cell_type": "code",
     "checksum": "f4c01e521a4f9bdc8f3122a69e7e7373",
     "grade": false,
     "grade_id": "cell-eb1937d6cb0694b3",
     "locked": true,
     "schema_version": 3,
     "solution": false,
     "task": false
    }
   },
   "outputs": [],
   "source": [
    "# 3 ways to run the simulations\n",
    "\n",
    "# loop\n",
    "heads = []\n",
    "for i in range(500):\n",
    "    heads.append(np.random.binomial(500, .5))\n",
    "\n",
    "# \"list comprehension\"\n",
    "heads = [np.random.binomial(500, .5) for i in range(500)]\n",
    "\n",
    "# pure numpy, preferred\n",
    "heads = np.random.binomial(500, .5, size=500)\n",
    "\n",
    "plt.hist(heads, bins=10);\n"
   ]
  },
  {
   "cell_type": "markdown",
   "id": "fb2c03d4",
   "metadata": {
    "deletable": false,
    "editable": false,
    "nbgrader": {
     "cell_type": "markdown",
     "checksum": "bdb538fbd121eba3de8829c4be7e9d2c",
     "grade": false,
     "grade_id": "cell-1f98d36d72780d39",
     "locked": true,
     "schema_version": 3,
     "solution": false,
     "task": false
    }
   },
   "source": [
    "Finally! Here is an example of an autograded code cell. You should see something along the lines of `# your code here` or `raise NotYetImplementedError` in there. That is your cue where to edit the notebook files for your grade. Go ahead and put an integer into a variable called `answer` in the cell block and hit submit to see this in action.\n",
    "\n",
    "Underneath, you will see an empty cell block. This is where the instructor code to check your answers are."
   ]
  },
  {
   "cell_type": "code",
   "execution_count": null,
   "id": "883a8026",
   "metadata": {
    "deletable": false,
    "nbgrader": {
     "cell_type": "code",
     "checksum": "b7f890f7b39e6528476018f88289105a",
     "grade": false,
     "grade_id": "cell-8e210fc6506e9b3c",
     "locked": false,
     "schema_version": 3,
     "solution": true,
     "task": false
    }
   },
   "outputs": [],
   "source": [
    "# your code here\n",
    "raise NotImplementedError"
   ]
  },
  {
   "cell_type": "code",
   "execution_count": null,
   "id": "c881015e",
   "metadata": {
    "deletable": false,
    "editable": false,
    "nbgrader": {
     "cell_type": "code",
     "checksum": "520d9d0f4f3d028de0f8c4aeab95afcc",
     "grade": true,
     "grade_id": "cell-996171b58d42e29e",
     "locked": true,
     "points": 1,
     "schema_version": 3,
     "solution": false,
     "task": false
    }
   },
   "outputs": [],
   "source": []
  },
  {
   "cell_type": "markdown",
   "id": "6d5b2bef",
   "metadata": {},
   "source": [
    "# END"
   ]
  }
 ],
 "metadata": {
  "kernelspec": {
   "display_name": "Python 3 (ipykernel)",
   "language": "python",
   "name": "python3"
  },
  "language_info": {
   "codemirror_mode": {
    "name": "ipython",
    "version": 3
   },
   "file_extension": ".py",
   "mimetype": "text/x-python",
   "name": "python",
   "nbconvert_exporter": "python",
   "pygments_lexer": "ipython3",
   "version": "3.10.6"
  }
 },
 "nbformat": 4,
 "nbformat_minor": 5
}

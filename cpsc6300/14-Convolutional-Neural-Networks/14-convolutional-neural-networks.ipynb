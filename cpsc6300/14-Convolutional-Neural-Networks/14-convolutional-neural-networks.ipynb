{
 "cells": [
  {
   "cell_type": "markdown",
   "id": "38364a41-fe19-4c33-9720-5dac85859da3",
   "metadata": {
    "deletable": false,
    "editable": false,
    "nbgrader": {
     "cell_type": "markdown",
     "checksum": "730e55a65d79692c4fe7c50ea0f90745",
     "grade": false,
     "grade_id": "ads",
     "locked": true,
     "schema_version": 3,
     "solution": false,
     "task": false
    }
   },
   "source": [
    "<div class='heading'>\n",
    "    <div style='float:left;'><h1>CPSC 4300/6300: Applied Data Science</h1></div>\n",
    "    <img style=\"float: right; padding-right: 10px; width: 65px\" src=\"https://raw.githubusercontent.com/bsethwalker/clemson-cs4300/main/images/clemson_paw.png\"> </div>\n"
   ]
  },
  {
   "cell_type": "markdown",
   "id": "e64a0fbd",
   "metadata": {
    "deletable": false,
    "editable": false,
    "nbgrader": {
     "cell_type": "markdown",
     "checksum": "eaa48d3dda2d5313cb619e862de6bd3d",
     "grade": false,
     "grade_id": "week-14-lab",
     "locked": true,
     "schema_version": 3,
     "solution": false,
     "task": false
    }
   },
   "source": [
    "## Week 14 | Lab : Convolutional Neural Networks\n",
    "\n",
    "**Clemson University** </br>\n",
    "**Instructor(s):** Tim Ransom </br>\n",
    "\n",
    "------------------------------------------------------------------------\n",
    "## Learning objectives\n",
    "\n",
    "- Define the basic components of a Convolutional Neural Network (CNN).\n",
    "- Build a CNN using Keras for image classification.\n",
    "- Train and test a CNN on the CIFAR-10 dataset.\n",
    "- Evaluate the impact of different CNN parameters on model performance.\n",
    "- Explain the advantages of using CNNs for image-related tasks."
   ]
  },
  {
   "cell_type": "markdown",
   "id": "45c42664-4067-4223-ab52-43aa5df4c253",
   "metadata": {
    "deletable": false,
    "editable": false,
    "nbgrader": {
     "cell_type": "markdown",
     "checksum": "fc52b57221d7e29ffb5e8043c3104045",
     "grade": false,
     "grade_id": "goals",
     "locked": true,
     "schema_version": 3,
     "solution": false,
     "task": false
    }
   },
   "source": [
    "## The goal of this lab is to introduce you to the basics of convolutional neural networks.\n",
    "\n",
    "**Goals:**\n",
    "\n",
    "-   Load data from the CIFAR-10 dataset using Keras\n",
    "-   Build a convolutional neural network\n",
    "-   Train the network\n",
    "-   Test the network\n",
    "-   Explore the impact of different parameters\n",
    "\n",
    "> ⚠️ **Note:** CNNs are computationally intensive. If you are running this notebook locally, make sure you enable GPU acceleration (if available) or consider using [Google Colab](https://colab.research.google.com).\n",
    "\n",
    "Import packages and check the version of your TensorFlow, it should be\n",
    "the version \\>2.0.0"
   ]
  },
  {
   "cell_type": "code",
   "execution_count": null,
   "id": "c90afc36-2fa4-4c6c-a018-d3e330b035a5",
   "metadata": {
    "deletable": false,
    "editable": false,
    "nbgrader": {
     "cell_type": "code",
     "checksum": "1adecbbc9168b4555d45f19966a14c83",
     "grade": false,
     "grade_id": "formatting",
     "locked": true,
     "schema_version": 3,
     "solution": false,
     "task": false
    }
   },
   "outputs": [],
   "source": [
    "\"\"\" RUN THIS CELL TO GET THE RIGHT FORMATTING \"\"\"\n",
    "import requests\n",
    "from IPython.core.display import HTML\n",
    "css_file = 'https://raw.githubusercontent.com/bsethwalker/clemson-cs4300/main/css/cpsc6300.css'\n",
    "styles = requests.get(css_file).text\n",
    "HTML(styles)\n"
   ]
  },
  {
   "cell_type": "code",
   "execution_count": null,
   "id": "54672049-ef1c-4925-872c-db79a07c846d",
   "metadata": {
    "deletable": false,
    "editable": false,
    "nbgrader": {
     "cell_type": "code",
     "checksum": "89a729d1cbb576179f10d72290276b97",
     "grade": false,
     "grade_id": "required-libs",
     "locked": true,
     "schema_version": 3,
     "solution": false,
     "task": false
    }
   },
   "outputs": [],
   "source": [
    "import numpy as np\n",
    "import pandas as pd\n",
    "import tensorflow as tf\n",
    "from tensorflow.keras import datasets, layers, models\n",
    "import matplotlib.pyplot as plt\n"
   ]
  },
  {
   "cell_type": "markdown",
   "id": "91b28906",
   "metadata": {
    "deletable": false,
    "editable": false,
    "nbgrader": {
     "cell_type": "markdown",
     "checksum": "e5cbf58fbe7b07008d179d587556c269",
     "grade": false,
     "grade_id": "cell-91a7654f890bff27",
     "locked": true,
     "schema_version": 3,
     "solution": false,
     "task": false
    }
   },
   "source": [
    "## What is a Convolutional Neural Network (CNN)?\n",
    "\n",
    "A Convolutional Neural Network is a type of deep learning model particularly effective for image data. It is inspired by the way the human brain processes visual information.\n",
    "\n",
    "### CNN Architecture Overview\n",
    "\n",
    "A basic CNN has the following layers:\n",
    "\n",
    "1. **Input Layer** – The image (e.g., 32x32 RGB)\n",
    "2. **Convolutional Layer** – Applies filters to detect features (edges, textures, shapes)\n",
    "3. **Activation Layer (ReLU)** – Introduces non-linearity\n",
    "4. **Pooling Layer** – Downsamples the image (e.g., MaxPooling)\n",
    "5. **Flatten Layer** – Converts 2D data to 1D\n",
    "6. **Fully Connected Layer (Dense)** – Makes final predictions\n",
    "\n",
    "> CNNs learn filters during training to detect useful patterns.\n"
   ]
  },
  {
   "cell_type": "markdown",
   "id": "a17b5b07",
   "metadata": {
    "deletable": false,
    "editable": false,
    "nbgrader": {
     "cell_type": "markdown",
     "checksum": "320d936adf465affe873193573a936ce",
     "grade": false,
     "grade_id": "cell-7cfa5aa2014e7b85",
     "locked": true,
     "schema_version": 3,
     "solution": false,
     "task": false
    }
   },
   "source": [
    "<div class=\"theme\">Question 1:</div>\n",
    "\n",
    "**Why are Convolutional Neural Networks (CNNs) especially suitable for image classification tasks?**\n",
    "\n",
    "1. They apply fully connected layers to every pixel in the image.\n",
    "2. CNNs are faster than traditional linear regression models for all types of data.\n",
    "3. They automatically learn spatial hierarchies and local patterns in image data.\n",
    "4. CNNs eliminate the need for any preprocessing of data.\n",
    "\n",
    "**Store your answer in integer variable named `answer` in below code cell.**\n"
   ]
  },
  {
   "cell_type": "code",
   "execution_count": null,
   "id": "9ac05bab",
   "metadata": {
    "deletable": false,
    "nbgrader": {
     "cell_type": "code",
     "checksum": "e93ed1a9c0c3b1db83cca87c661a3e27",
     "grade": false,
     "grade_id": "cell-056dc08182acbcf6",
     "locked": false,
     "schema_version": 3,
     "solution": true,
     "task": false
    }
   },
   "outputs": [],
   "source": [
    "# your code here\n",
    "raise NotImplementedError"
   ]
  },
  {
   "cell_type": "code",
   "execution_count": null,
   "id": "a7510472",
   "metadata": {
    "deletable": false,
    "editable": false,
    "nbgrader": {
     "cell_type": "code",
     "checksum": "efe18a380d9319e9d2c5f6a4fe7e76d8",
     "grade": true,
     "grade_id": "cell-ff1b9ac25c255f45",
     "locked": true,
     "points": 1,
     "schema_version": 3,
     "solution": false,
     "task": false
    }
   },
   "outputs": [],
   "source": [
    "####################################\n",
    "###✅🔒 Hidden checks here ✅🔒### \n",
    "###################################"
   ]
  },
  {
   "cell_type": "markdown",
   "id": "8861b581-a453-44a3-8742-4f37a75b0368",
   "metadata": {
    "deletable": false,
    "editable": false,
    "nbgrader": {
     "cell_type": "markdown",
     "checksum": "f78fd50d6432b38afc9418bff111ac07",
     "grade": false,
     "grade_id": "cell-debe80c2342732c8",
     "locked": true,
     "schema_version": 3,
     "solution": false,
     "task": false
    }
   },
   "source": [
    "## 1. Download, Verify and Prepare the CIFAR-10 Dataset\n",
    "\n",
    "The CIFAR-10 dataset is a benchmark dataset used for image classification tasks. It contains **60,000 color images** across **10 mutually exclusive classes**, with 6,000 images per class.\n",
    "\n",
    "- **Training set**: 50,000 images\n",
    "- **Test set**: 10,000 images\n",
    "\n",
    "Each image is 32x32 pixels with 3 color channels (RGB). The classes include objects like `airplane`, `cat`, `ship`, and `truck`.\n",
    "\n",
    "Let's load the dataset using `keras.datasets`, normalize the pixel values to the [0, 1] range, and visualize a few sample images to verify the data integrity.\n",
    "\n",
    "-----------"
   ]
  },
  {
   "cell_type": "code",
   "execution_count": null,
   "id": "a27c844c-3bfb-4275-8e2d-70e9285da59f",
   "metadata": {
    "deletable": false,
    "editable": false,
    "nbgrader": {
     "cell_type": "code",
     "checksum": "cd73c13b13a9cb886cfb8c5053f74368",
     "grade": false,
     "grade_id": "cell-2d8a549a6b8e36c8",
     "locked": true,
     "schema_version": 3,
     "solution": false,
     "task": false
    }
   },
   "outputs": [],
   "source": [
    "(train_images, train_labels), (test_images, test_labels) = datasets.cifar10.load_data()\n",
    "\n",
    "# Normalize pixel values to be between 0 and 1\n",
    "train_images, test_images = train_images / 255.0, test_images / 255.0\n"
   ]
  },
  {
   "cell_type": "markdown",
   "id": "93a8fabb-8617-4937-b240-d86d273da71d",
   "metadata": {
    "deletable": false,
    "editable": false,
    "nbgrader": {
     "cell_type": "markdown",
     "checksum": "d4666f03bf786232189a3a37cc5d99f4",
     "grade": false,
     "grade_id": "cell-779cb69c661481b1",
     "locked": true,
     "schema_version": 3,
     "solution": false,
     "task": false
    }
   },
   "source": [
    "## Visualizing CIFAR-10 Sample Images\n",
    "\n",
    "Before we build a CNN to classify these images, it’s helpful to understand what the CIFAR-10 dataset looks like.\n",
    "\n",
    "Each image is a **32x32 color image** (RGB) and belongs to one of the 10 mutually exclusive classes:\n",
    "\n",
    "\n",
    "Let’s take a look at the first 25 images from the training set to get a sense of the data. Below each image, we’ll display the corresponding class label.\n"
   ]
  },
  {
   "cell_type": "code",
   "execution_count": null,
   "id": "e4d8719a-7a37-4872-aca3-a4af9b7923d4",
   "metadata": {
    "deletable": false,
    "editable": false,
    "nbgrader": {
     "cell_type": "code",
     "checksum": "31feadc2e8fb61805cfd88e1265ba02e",
     "grade": false,
     "grade_id": "cell-19140bd827c3b6d4",
     "locked": true,
     "schema_version": 3,
     "solution": false,
     "task": false
    }
   },
   "outputs": [],
   "source": [
    "class_names = ['airplane', 'automobile', 'bird', 'cat', 'deer', 'dog', 'frog', 'horse', 'ship', 'truck']\n",
    "\n",
    "plt.figure(figsize=(10,10))\n",
    "for i in range(25):\n",
    "    plt.subplot(5,5,i+1)\n",
    "    plt.xticks([])\n",
    "    plt.yticks([])\n",
    "    plt.grid(False)\n",
    "    plt.imshow(train_images[i])\n",
    "    # The CIFAR labels happen to be arrays, \n",
    "    # which is why you need the extra index\n",
    "    plt.xlabel(class_names[train_labels[i][0]])\n",
    "plt.suptitle('Sample Images from CIFAR-10', fontsize=16)\n",
    "plt.tight_layout()\n",
    "plt.show()"
   ]
  },
  {
   "cell_type": "markdown",
   "id": "0cb7ec6c",
   "metadata": {
    "deletable": false,
    "editable": false,
    "nbgrader": {
     "cell_type": "markdown",
     "checksum": "3f5fda1f9aa8378a1a49b0a5adc760df",
     "grade": false,
     "grade_id": "cell-fe51d888a169e834",
     "locked": true,
     "schema_version": 3,
     "solution": false,
     "task": false
    }
   },
   "source": [
    "> From this grid of images, you can notice:\n",
    "> \n",
    "> - Some classes (e.g., cats, dogs) look visually similar and may be harder to distinguish.\n",
    "> - Others like airplane and ship are very distinct.\n",
    "> - The image resolution is low (32x32), which adds a challenge for classification models.\n",
    "\n",
    "This preview helps us in understanding why we need convolutional filters to extract useful features from these images.\n"
   ]
  },
  {
   "cell_type": "markdown",
   "id": "48aed571-d670-4b01-8209-ce129622650f",
   "metadata": {
    "deletable": false,
    "editable": false,
    "nbgrader": {
     "cell_type": "markdown",
     "checksum": "0eeaaa6222efc46c67052b2bb2ac5e01",
     "grade": false,
     "grade_id": "cnn-base",
     "locked": true,
     "schema_version": 3,
     "solution": false,
     "task": false
    }
   },
   "source": [
    "## 2. Building the Convolutional Base of a CNN\n",
    "\n",
    "The convolutional base is the part of a CNN that performs feature extraction. It applies filters to the input image to detect patterns like edges, textures, and shapes.\n",
    "\n",
    "We use two types of layers repeatedly:\n",
    "- **Conv2D**: Applies a filter to the image\n",
    "- **MaxPooling2D**: Reduces spatial dimensions (downsampling)\n",
    "\n",
    "Each image in CIFAR-10 has shape `(32, 32, 3)`, where `3` corresponds to the RGB channels.\n",
    "\n",
    "Let’s define a stack of convolution and pooling layers to process these images.\n"
   ]
  },
  {
   "cell_type": "markdown",
   "id": "56badbb6",
   "metadata": {
    "deletable": false,
    "editable": false,
    "nbgrader": {
     "cell_type": "markdown",
     "checksum": "d03f92e01b9bddf3775fe2c3760726c8",
     "grade": false,
     "grade_id": "cell-39fb69ba24f6081a",
     "locked": true,
     "schema_version": 3,
     "solution": false,
     "task": false
    }
   },
   "source": [
    "### Key CNN Concepts\n",
    "\n",
    "| Component       | Description |\n",
    "|----------------|-------------|\n",
    "| `Conv2D`       | Applies convolution using learnable filters (kernels) |\n",
    "| `filters`      | Number of output feature maps |\n",
    "| `kernel_size`  | Size of the convolutional window (e.g., (3, 3)) |\n",
    "| `activation`   | Usually `'relu'` in hidden layers |\n",
    "| `MaxPooling2D` | Downsamples feature maps to reduce size |\n",
    "| `Flatten`      | Converts 2D feature maps into 1D |\n",
    "| `Dense`        | Fully connected layer for classification |\n"
   ]
  },
  {
   "cell_type": "markdown",
   "id": "34bcff9f",
   "metadata": {
    "deletable": false,
    "editable": false,
    "nbgrader": {
     "cell_type": "markdown",
     "checksum": "4d853650f57f8db2e3a57934e0acc9d4",
     "grade": false,
     "grade_id": "cell-c3b20761d10c239d",
     "locked": true,
     "schema_version": 3,
     "solution": false,
     "task": false
    }
   },
   "source": [
    "### Exercise Preview: Building a Convolution Block\n",
    "\n",
    "Below is an example of a simple convolution block with 32 filters, followed by ReLU and max pooling:\n",
    "\n",
    "```python\n",
    "from tensorflow.keras import layers, models\n",
    "\n",
    "model = models.Sequential()\n",
    "model.add(layers.Conv2D(32, (3, 3), activation='relu', input_shape=(32, 32, 3)))\n",
    "model.add(layers.MaxPooling2D((2, 2)))\n",
    "model.summary()\n"
   ]
  },
  {
   "cell_type": "markdown",
   "id": "deb603a1",
   "metadata": {
    "deletable": false,
    "editable": false,
    "nbgrader": {
     "cell_type": "markdown",
     "checksum": "5d78a9f9fca53433256bae77e3fa35fc",
     "grade": false,
     "grade_id": "cell-5e62280a307df550",
     "locked": true,
     "schema_version": 3,
     "solution": false,
     "task": false
    }
   },
   "source": [
    "<div class=\"exercise\"><b>Exercise 1: Build a CNN model with the following architecture</b> </div>\n",
    "\n",
    "- **Input layer**: Shape `(32, 32, 3)`\n",
    "- **Conv2D layer**: 32 filters, kernel size `(3,3)`, activation `'relu'`\n",
    "- **MaxPooling2D**: Pool size `(2,2)`\n",
    "- **Conv2D layer**: 64 filters, kernel size `(3,3)`, activation `'relu'`\n",
    "- **MaxPooling2D**: Pool size `(2,2)`\n",
    "- **Conv2D layer**: 64 filters, kernel size `(3,3)`, activation `'relu'`\n",
    "- **Flatten layer:** to convert the tensor from `(4, 4, 64)` → `(1024,)`\n",
    "- **Dense layer**: 64 units, activation `'relu'`\n",
    "- **Dense layer**: 10 units (output layer for 10 CIFAR-10 classes)\n",
    "\n",
    "Store your model in a variable named `model` and use `model.summary()` to display the architecture.\n"
   ]
  },
  {
   "cell_type": "code",
   "execution_count": null,
   "id": "bd758113-ef94-49a0-96dc-683fca941863",
   "metadata": {
    "deletable": false,
    "nbgrader": {
     "cell_type": "code",
     "checksum": "da9f94d94bb08b34fab84c8d4e974701",
     "grade": false,
     "grade_id": "cell-54097ad03c0f87d5",
     "locked": false,
     "schema_version": 3,
     "solution": true,
     "task": false
    }
   },
   "outputs": [],
   "source": [
    "\"\"\"Your code for exercise 1 here:\"\"\"\n",
    "\n",
    "# your code here\n",
    "raise NotImplementedError"
   ]
  },
  {
   "cell_type": "code",
   "execution_count": null,
   "id": "36ebb37d",
   "metadata": {
    "deletable": false,
    "editable": false,
    "nbgrader": {
     "cell_type": "code",
     "checksum": "dcf4150184ca5037622619a05174f2b4",
     "grade": true,
     "grade_id": "cell-a4c2b5b65215ffd6",
     "locked": true,
     "points": 10,
     "schema_version": 3,
     "solution": false,
     "task": false
    }
   },
   "outputs": [],
   "source": [
    "####################################\n",
    "###✅🔒 Hidden tests here ✅🔒### \n",
    "###################################"
   ]
  },
  {
   "cell_type": "markdown",
   "id": "e98b4284",
   "metadata": {
    "deletable": false,
    "editable": false,
    "nbgrader": {
     "cell_type": "markdown",
     "checksum": "10e4cfd825e577966af9310095566eac",
     "grade": false,
     "grade_id": "cell-da4655be3dd7b5a8",
     "locked": true,
     "schema_version": 3,
     "solution": false,
     "task": false
    }
   },
   "source": [
    "## From the Summary of the CNN Model You Just Built\n",
    "\n",
    "As your CNN processes images, each `Conv2D` and `MaxPooling2D` layer outputs a **3D tensor** of shape `(height, width, channels)`. These dimensions tend to **shrink in width and height** but **increase in depth (channels)** as you go deeper in the network.\n",
    "\n",
    "For example:\n",
    "- The final Conv2D output in our model is of shape `(4, 4, 64)`\n",
    "\n",
    "### Why Flatten?\n",
    "Dense layers (also called fully connected layers) expect **1D vectors** as input, not 3D tensors. Therefore, we need to **flatten** the 3D output before feeding it to Dense layers.\n",
    "\n",
    "\\[\n",
    "(4, 4, 64) = 1024 \\text{ elements}\n",
    "\\]\n",
    "\n",
    "### Final Architecture\n",
    "We add:\n",
    "- A `Flatten()` layer to convert the tensor from `(4, 4, 64)` → `(1024,)`\n",
    "- A hidden `Dense(64, activation='relu')` layer\n",
    "- An output `Dense(10)` layer (for 10 CIFAR-10 classes)\n",
    "\n",
    "**This final architecture allows the network to learn high-level features and make class predictions.**\n",
    "\n",
    "### Why This Structure Works\n",
    "\n",
    "- Stacking **Conv2D** and **MaxPooling** layers helps the model learn from simple to complex visual patterns.\n",
    "- As we go deeper, we increase the **number of filters** (32 → 64 → 64) and reduce the **spatial size** of feature maps, making the model more efficient and focused.\n",
    "- **Flatten + Dense** layers allow the model to **combine** all learned features and **make predictions** for each image class.\n",
    "\n",
    "In the next step, you’ll **compile and train** this model to start making accurate predictions!\n",
    "\n",
    "----------"
   ]
  },
  {
   "cell_type": "markdown",
   "id": "40f02cfd",
   "metadata": {
    "deletable": false,
    "editable": false,
    "nbgrader": {
     "cell_type": "markdown",
     "checksum": "3dae458b9d0813a45ff4592ba87551c6",
     "grade": false,
     "grade_id": "cell-efd7e254d4d37249",
     "locked": true,
     "schema_version": 3,
     "solution": false,
     "task": false
    }
   },
   "source": [
    "<div class=\"theme\"> Question 2:</div>\n",
    "    \n",
    "**Why do we use the `Flatten()` layer before the dense layers in a CNN?**\n",
    "\n",
    "1. To remove any redundant features from the output\n",
    "2. To convert 3D feature maps into 1D vectors that Dense layers can process\n",
    "3. To increase the number of channels in the model\n",
    "4. To apply pooling before fully connected layers\n",
    "\n",
    "**Store your answer in integer variable named `answer` in the code cell below.**\n"
   ]
  },
  {
   "cell_type": "code",
   "execution_count": null,
   "id": "abf22366",
   "metadata": {
    "deletable": false,
    "nbgrader": {
     "cell_type": "code",
     "checksum": "e14d663ea16484ce7193622c783accb0",
     "grade": false,
     "grade_id": "cell-b0b890b1a8faa5c4",
     "locked": false,
     "schema_version": 3,
     "solution": true,
     "task": false
    }
   },
   "outputs": [],
   "source": [
    "# your code here\n",
    "raise NotImplementedError"
   ]
  },
  {
   "cell_type": "code",
   "execution_count": null,
   "id": "e1244932",
   "metadata": {
    "deletable": false,
    "editable": false,
    "nbgrader": {
     "cell_type": "code",
     "checksum": "ed3566a906542557a7400546cc8095c4",
     "grade": true,
     "grade_id": "cell-cc972992380ce527",
     "locked": true,
     "points": 1,
     "schema_version": 3,
     "solution": false,
     "task": false
    }
   },
   "outputs": [],
   "source": [
    "####################################\n",
    "###✅🔒 Hidden checks here ✅🔒### \n",
    "###################################"
   ]
  },
  {
   "cell_type": "markdown",
   "id": "1d1f20f8",
   "metadata": {
    "deletable": false,
    "editable": false,
    "nbgrader": {
     "cell_type": "markdown",
     "checksum": "950446e89cfca1a89e2415cd9f3220f5",
     "grade": false,
     "grade_id": "compile-train-model",
     "locked": true,
     "schema_version": 3,
     "solution": false,
     "task": false
    }
   },
   "source": [
    "## 3. Compile and Train the CNN\n",
    "\n",
    "Now that we’ve defined our CNN, it’s time to **compile** and **train** the model.\n",
    "\n",
    "### What Does `compile()` Do?\n",
    "\n",
    "Before training, you need to configure our model using the `compile()` method.\n",
    "\n",
    "- `optimizer='adam'`: Efficient optimization algorithm that adapts the learning rate\n",
    "- `loss='SparseCategoricalCrossentropy'`: Suitable for multi-class classification with integer labels\n",
    "- `metrics=['accuracy']`: Tracks accuracy during training and validation\n",
    "\n",
    "### What Does `fit()` Do?\n",
    "\n",
    "The `fit()` method starts the training process.\n",
    "\n",
    "---------"
   ]
  },
  {
   "cell_type": "markdown",
   "id": "447dfa30",
   "metadata": {
    "deletable": false,
    "editable": false,
    "nbgrader": {
     "cell_type": "markdown",
     "checksum": "5087838f1d94c061c5cc8695e26a4bd7",
     "grade": false,
     "grade_id": "cell-fcf20d73fa75aebd",
     "locked": true,
     "schema_version": 3,
     "solution": false,
     "task": false
    }
   },
   "source": [
    "<div class=\"exercise\"><b>Exercise 2 : Compile your CNN model using the following configuration:</b> </div>\n",
    "\n",
    "\n",
    "- **Optimizer**: `'adam'`\n",
    "- **Loss Function**: `SparseCategoricalCrossentropy(from_logits=True)`\n",
    "- **Metric**: `'accuracy'`\n",
    "\n",
    "Then train the model for **10 epochs** on the CIFAR-10 training data and store the result in a variable named `model_history`.\n",
    "\n",
    "> Note: The validation data should be `(test_images, test_labels)`.\n"
   ]
  },
  {
   "cell_type": "code",
   "execution_count": null,
   "id": "fc20400c-1d0b-478f-a10c-6d1eff63a7be",
   "metadata": {
    "deletable": false,
    "nbgrader": {
     "cell_type": "code",
     "checksum": "5958ac52772ad513d591353ab5dabe05",
     "grade": false,
     "grade_id": "cell-28e468ccf5186cd1",
     "locked": false,
     "schema_version": 3,
     "solution": true,
     "task": false
    }
   },
   "outputs": [],
   "source": [
    "\"\"\"Your code for exercise 2.1 here:\"\"\"\n",
    "\n",
    "# your code here\n",
    "raise NotImplementedError"
   ]
  },
  {
   "cell_type": "code",
   "execution_count": null,
   "id": "c8709a65",
   "metadata": {
    "deletable": false,
    "editable": false,
    "nbgrader": {
     "cell_type": "code",
     "checksum": "fc8938c5ca1d9e7b29c4436b45970642",
     "grade": true,
     "grade_id": "cell-ea81baf87aa08b6e",
     "locked": true,
     "points": 5,
     "schema_version": 3,
     "solution": false,
     "task": false
    }
   },
   "outputs": [],
   "source": [
    "####################################\n",
    "###✅🔒 Hidden tests here ✅🔒### \n",
    "###################################"
   ]
  },
  {
   "cell_type": "markdown",
   "id": "96944111",
   "metadata": {
    "deletable": false,
    "editable": false,
    "nbgrader": {
     "cell_type": "markdown",
     "checksum": "280928a96c6050dab190f9b45285dc04",
     "grade": false,
     "grade_id": "cell-8bd405225934d9e3",
     "locked": true,
     "schema_version": 3,
     "solution": false,
     "task": false
    }
   },
   "source": [
    "## 4. Plot and Evaluate the Model\n",
    "\n",
    "Once our training is complete, let's evaluate our model's performance on unseen test data."
   ]
  },
  {
   "cell_type": "markdown",
   "id": "a447e894",
   "metadata": {
    "deletable": false,
    "editable": false,
    "nbgrader": {
     "cell_type": "markdown",
     "checksum": "6ad51e9b405b7da0774cc64536862e22",
     "grade": false,
     "grade_id": "cell-6cced3b6511126b5",
     "locked": true,
     "schema_version": 3,
     "solution": false,
     "task": false
    }
   },
   "source": [
    "<div class=\"exercise\"><b>Exercise 3: Using the `history` object from the previous exercise</b> </div>\n",
    "\n",
    "1. Plot the training and validation accuracy curves.\n",
    "2. Evaluate the model on the test set using `model.evaluate()`.\n",
    "3. Store the test accuracy in a variable named `test_acc` and print it.\n",
    "\n",
    "> Make sure your accuracy plot has labels and a legend."
   ]
  },
  {
   "cell_type": "code",
   "execution_count": null,
   "id": "0a15e91b-bc45-4182-8947-e1b2cc34a6b2",
   "metadata": {
    "deletable": false,
    "nbgrader": {
     "cell_type": "code",
     "checksum": "b268b7c6bb3fb81c85e8ebccd8485a71",
     "grade": false,
     "grade_id": "cell-df7492fa7fa4fc64",
     "locked": false,
     "schema_version": 3,
     "solution": true,
     "task": false
    }
   },
   "outputs": [],
   "source": [
    "\"\"\"Your code for exercise 3 here:\"\"\"\n",
    "\n",
    "# your code here\n",
    "raise NotImplementedError"
   ]
  },
  {
   "cell_type": "code",
   "execution_count": null,
   "id": "71bc0349-8bfe-4da0-9800-064832c41166",
   "metadata": {
    "deletable": false,
    "editable": false,
    "nbgrader": {
     "cell_type": "code",
     "checksum": "c33fadd4500c78a6f72e03143e6bcaf7",
     "grade": true,
     "grade_id": "cell-d9c015bf8049437d",
     "locked": true,
     "points": 4,
     "schema_version": 3,
     "solution": false,
     "task": false
    }
   },
   "outputs": [],
   "source": [
    "####################################\n",
    "###✅🔒 Hidden tests here ✅🔒### \n",
    "###################################"
   ]
  },
  {
   "cell_type": "markdown",
   "id": "3dfb035b",
   "metadata": {
    "deletable": false,
    "editable": false,
    "nbgrader": {
     "cell_type": "markdown",
     "checksum": "bf68bc87d7b07ed498c2141a1197c2c4",
     "grade": false,
     "grade_id": "cell-562e07a677c90e84",
     "locked": true,
     "schema_version": 3,
     "solution": false,
     "task": false
    }
   },
   "source": [
    "## Our Simple CNN Achieved About 70% Accuracy Which Is Not Bad For a Few Lines of Code !\n",
    "\n",
    "With just a few convolutional and dense layers, our CNN has achieved over **70% accuracy** on the CIFAR-10 test set — a strong performance for a relatively small model!\n",
    "\n",
    "This demonstrates the power of Convolutional Neural Networks (CNNs) to extract useful features from images automatically — no manual feature engineering needed!\n",
    "\n",
    "### Why This Model Works Well\n",
    "\n",
    "- **Convolutional layers** extract local patterns like edges and textures.\n",
    "- **Pooling layers** reduce dimensionality and prevent overfitting.\n",
    "- **Dense layers** at the end learn abstract combinations of features to make class predictions.\n",
    "\n",
    "---\n",
    "\n",
    "## How Can We Improve This Model?\n",
    "\n",
    "To improve performance further, we can experiment with **CNN architecture and hyperparameters**, such as:\n",
    "\n",
    "- Increasing the **number of filters** in `Conv2D` layers\n",
    "- Adding more **convolutional blocks**\n",
    "- Changing the **kernel size**\n",
    "- Introducing **Dropout** to reduce overfitting\n",
    "- Increasing the **number of epochs**\n",
    "- Trying different **activation functions**\n",
    "- Using **Batch Normalization**\n",
    "\n",
    "For practice, you can experiment with changing some CNN parameters and observe their effect on test accuracy. You may download this notebook locally and try making changes to the CNN architecture or training parameters in a new code cell. Observe how these modifications impact the model’s performance.\n"
   ]
  },
  {
   "cell_type": "markdown",
   "id": "d2480e54",
   "metadata": {
    "deletable": false,
    "editable": false,
    "nbgrader": {
     "cell_type": "markdown",
     "checksum": "4ff458a1d661c20f1ae72df03083e280",
     "grade": false,
     "grade_id": "cell-d5401261a738a3cb",
     "locked": true,
     "schema_version": 3,
     "solution": false,
     "task": false
    }
   },
   "source": [
    "## Conclusion: \n",
    "\n",
    "In this lab, you built and trained your first **Convolutional Neural Network (CNN)** for image classification using the CIFAR-10 dataset. With just a few layers and minimal configuration, your model was able to generalize well on unseen data.\n",
    "\n",
    "\n",
    "---\n",
    "\n",
    "### References:\n",
    "\n",
    "-   [TensorFlow Tutorials](https://www.tensorflow.org/tutorials/images/cnn)\n",
    "-   [TensorFlow Quick Start](https://www.tensorflow.org/tutorials/quickstart/advanced)"
   ]
  },
  {
   "cell_type": "markdown",
   "id": "cb6c9c29",
   "metadata": {
    "deletable": false,
    "editable": false,
    "nbgrader": {
     "cell_type": "markdown",
     "checksum": "728b55fcbf6d3208654ec24b63f2d20b",
     "grade": false,
     "grade_id": "end",
     "locked": true,
     "schema_version": 3,
     "solution": false,
     "task": false
    }
   },
   "source": [
    "# END"
   ]
  }
 ],
 "metadata": {
  "kernelspec": {
   "display_name": "Python 3 (ipykernel)",
   "language": "python",
   "name": "python3"
  },
  "language_info": {
   "codemirror_mode": {
    "name": "ipython",
    "version": 3
   },
   "file_extension": ".py",
   "mimetype": "text/x-python",
   "name": "python",
   "nbconvert_exporter": "python",
   "pygments_lexer": "ipython3",
   "version": "3.10.6"
  }
 },
 "nbformat": 4,
 "nbformat_minor": 5
}

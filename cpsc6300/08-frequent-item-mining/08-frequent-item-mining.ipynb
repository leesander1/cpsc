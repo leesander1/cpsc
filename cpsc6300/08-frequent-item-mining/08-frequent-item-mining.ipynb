{
 "cells": [
  {
   "cell_type": "markdown",
   "id": "c0385cfb",
   "metadata": {
    "deletable": false,
    "editable": false,
    "nbgrader": {
     "cell_type": "markdown",
     "checksum": "a8693b9af9b90cb24e90493342956bd0",
     "grade": false,
     "grade_id": "cell-e686fc754abd8e04",
     "locked": true,
     "schema_version": 3,
     "solution": false,
     "task": false
    }
   },
   "source": [
    "<div class='heading'>\n",
    "    <div style='float:left;'><h1>CPSC 4300/6300: Applied Data Science</h1></div>\n",
    "     <img style=\"float: right; padding-right: 10px\" width=\"100\" src=\"https://raw.githubusercontent.com/bsethwalker/clemson-cs4300/main/images/clemson_paw.png\"> </div>"
   ]
  },
  {
   "cell_type": "markdown",
   "id": "f84f50d7",
   "metadata": {
    "deletable": false,
    "editable": false,
    "nbgrader": {
     "cell_type": "markdown",
     "checksum": "ebf16ab3758d371aba46dd3354adca55",
     "grade": false,
     "grade_id": "cell-cfcfba66f1de2932",
     "locked": true,
     "schema_version": 3,
     "solution": false,
     "task": false
    }
   },
   "source": [
    "\n",
    "# Week 8| Lab: Association Rule Mining\n",
    "\n",
    "**Clemson University** </br>\n",
    "**Instructor(s):** Tim Ransom </br>\n",
    "\n",
    "------------------------------------------------------------------------\n",
    "\n",
    "Welcome to this lab on **Association Rule Mining**! In this lab, we will explore the fundamental concepts of association rules, including:\n",
    "\n",
    "1. Frequent itemsets\n",
    "2. Support, confidence, and lift metrics\n",
    "3. Generating association rules (for example, using the Apriori algorithm)\n",
    "4. Interpreting and visualizing the results\n",
    "\n",
    "By the end of this lab, you should be able to:\n",
    "\n",
    "- Understand the basic terminology and purpose of association rule mining.\n",
    "- Compute support, confidence, and lift values.\n",
    "- Use a Python library to discover frequent itemsets and association rules.\n",
    "- Visualize item frequencies and interpret the resulting rules.\n",
    "- Implement PCY and Toivonen algorithms."
   ]
  },
  {
   "cell_type": "code",
   "execution_count": null,
   "id": "faee1891",
   "metadata": {
    "deletable": false,
    "editable": false,
    "nbgrader": {
     "cell_type": "code",
     "checksum": "49fc09884fa13ab169816538eb4d2d14",
     "grade": false,
     "grade_id": "cell-4c45d3bfe8b00715",
     "locked": true,
     "schema_version": 3,
     "solution": false,
     "task": false
    }
   },
   "outputs": [],
   "source": [
    "\"\"\" RUN THIS CELL TO GET THE RIGHT FORMATTING \"\"\"\n",
    "import requests\n",
    "from IPython.core.display import HTML\n",
    "css_file = 'https://raw.githubusercontent.com/bsethwalker/clemson-cs4300/main/css/cpsc6300.css'\n",
    "styles = requests.get(css_file).text\n",
    "HTML(styles)\n"
   ]
  },
  {
   "cell_type": "markdown",
   "id": "7d29ea7a",
   "metadata": {
    "deletable": false,
    "editable": false,
    "nbgrader": {
     "cell_type": "markdown",
     "checksum": "6c6079e7b5cb90b28dd9b0e223e35bf2",
     "grade": false,
     "grade_id": "cell-6999ad39fe7c2003",
     "locked": true,
     "schema_version": 3,
     "solution": false,
     "task": false
    }
   },
   "source": [
    "## 1. Introduction to Association Rule Mining\n",
    "\n",
    "Association rule mining is a technique used in data mining to discover **interesting patterns, associations, or relationships** among variables in large datasets. It is frequently used in **market basket analysis**, where retailers want to identify products that customers often purchase together.\n",
    "\n",
    "The standard representation of association rules is of the form:\n",
    "\n",
    "$$ X \\implies Y $$\n",
    "\n",
    "where $X$ and $Y$ are **itemsets** (sets of items), and $X$ and $Y$ are disjoint (no common items). The goal is to find rules that satisfy certain measures of **interestingness** (for example, high support, high confidence, or high lift)."
   ]
  },
  {
   "cell_type": "markdown",
   "id": "3c8c0610",
   "metadata": {
    "deletable": false,
    "editable": false,
    "nbgrader": {
     "cell_type": "markdown",
     "checksum": "35ad1e61d4b3ca3d1540c5503fcb493c",
     "grade": false,
     "grade_id": "cell-2de28c4e2b9b4367",
     "locked": true,
     "schema_version": 3,
     "solution": false,
     "task": false
    }
   },
   "source": [
    "## 2. Frequent Itemsets\n",
    "\n",
    "A **frequent itemset** is an itemset that satisfies a minimum support threshold. The **support** of an itemset $I$ is defined as:\n",
    "\n",
    "$$ \\text{support}(I) = \\frac{\\text{count of transactions containing } I}{\\text{total count of transactions}}. $$\n",
    "\n",
    "For example, if we have 100 transactions and an itemset $I$ appears in 10 of them, then $\\text{support}(I) = 0.1$. \n",
    "\n",
    "### Minimum Support\n",
    "A threshold (for example, $0.05$) is often used to filter out itemsets that do not appear frequently enough. Itemsets with support greater than or equal to this threshold are considered **frequent**."
   ]
  },
  {
   "cell_type": "markdown",
   "id": "385b202c",
   "metadata": {
    "deletable": false,
    "editable": false,
    "nbgrader": {
     "cell_type": "markdown",
     "checksum": "37fd62e7823d11f626413524ef515b17",
     "grade": false,
     "grade_id": "cell-f58f1ae6b68da91f",
     "locked": true,
     "schema_version": 3,
     "solution": false,
     "task": false
    }
   },
   "source": [
    "## 3. Association Rule Metrics\n",
    "\n",
    "Given a rule $ X \\implies Y $:\n",
    "\n",
    "1. **Support**: $$ \\text{support}(X \\implies Y) = \\text{support}(X \\cup Y), $$ \n",
    "   which is the fraction of transactions that contain both $X$ and $Y$.\n",
    "\n",
    "2. **Confidence**: $$ \\text{confidence}(X \\implies Y) = \\frac{\\text{support}(X \\cup Y)}{\\text{support}(X)}. $$\n",
    "   \n",
    "   Confidence measures how often items in $Y$ appear in transactions that contain $X$.\n",
    "\n",
    "3. **Lift**: $$ \\text{lift}(X \\implies Y) = \\frac{\\text{confidence}(X \\implies Y)}{\\text{support}(Y)} = \\frac{\\text{support}(X \\cup Y)}{\\text{support}(X) \\times \\text{support}(Y)}. $$\n",
    "   \n",
    "   Lift measures how much more often $X$ and $Y$ occur together than expected if they were statistically independent."
   ]
  },
  {
   "cell_type": "markdown",
   "id": "81d26688",
   "metadata": {
    "deletable": false,
    "editable": false,
    "nbgrader": {
     "cell_type": "markdown",
     "checksum": "fa214ca8fb40a6b8714d660c89590664",
     "grade": false,
     "grade_id": "cell-98f69724ab82b689",
     "locked": true,
     "schema_version": 3,
     "solution": false,
     "task": false
    }
   },
   "source": [
    "## 4. Example Data and Setup\n",
    "\n",
    "We'll be using a very small data set to explore association rule mining for this lab. You are also provided a `synthetic_transactions` dataset to play with (just swap it in to see what happens). Why would this method of making a synthetic dataset not produce interesting results?\n",
    "\n",
    "We will use the [`mlxtend`](http://rasbt.github.io/mlxtend/) library to:\n",
    "\n",
    "1. Encode the data as a one-hot matrix.\n",
    "2. Find frequent itemsets using the **Apriori** algorithm.\n",
    "3. Generate association rules.\n",
    "4. Visualize and interpret the results."
   ]
  },
  {
   "cell_type": "code",
   "execution_count": null,
   "id": "45d522c3",
   "metadata": {
    "deletable": false,
    "editable": false,
    "nbgrader": {
     "cell_type": "code",
     "checksum": "fae2a1b243fc5fe9aedbafc1840f5b93",
     "grade": false,
     "grade_id": "cell-c6ee556d94565173",
     "locked": true,
     "schema_version": 3,
     "solution": false,
     "task": false
    }
   },
   "outputs": [],
   "source": [
    "import pandas as pd\n",
    "import numpy as np\n",
    "import matplotlib.pyplot as plt\n",
    "from mlxtend.preprocessing import TransactionEncoder\n",
    "from mlxtend.frequent_patterns import apriori, association_rules\n",
    "import random\n",
    "\n",
    "# Generate a synthetic dataset of 1000 transactions\n",
    "random.seed(42)\n",
    "items = [\n",
    "    'milk', 'bread', 'eggs', 'diapers', 'beer', 'cola', 'fruits', 'vegetables',\n",
    "    'cereal', 'rice', 'pasta', 'chicken', 'beef', 'fish', 'snacks', 'cookies',\n",
    "    'soda', 'yogurt', 'cheese', 'butter'\n",
    "]\n",
    "\n",
    "synthetic_transactions = []\n",
    "for i in range(1000):\n",
    "    transaction_length = random.randint(2, 6)\n",
    "    transaction = random.sample(items, transaction_length)\n",
    "    synthetic_transactions.append(transaction)\n",
    "\n",
    "transactions = [\n",
    "    ['milk', 'bread', 'eggs'],\n",
    "    ['bread', 'diapers', 'beer', 'eggs'],\n",
    "    ['milk', 'diapers', 'beer', 'cola'],\n",
    "    ['bread', 'milk', 'diapers', 'beer'],\n",
    "    ['bread', 'milk', 'diapers', 'cola'],\n",
    "    ['milk', 'eggs'],\n",
    "    ['bread', 'eggs'],\n",
    "    ['milk', 'diapers', 'beer'],\n",
    "    ]\n",
    "\n",
    "print(f\"Total transactions: {len(transactions)}\")\n",
    "\n",
    "te = TransactionEncoder()\n",
    "te_ary = te.fit(transactions).transform(transactions)\n",
    "df = pd.DataFrame(te_ary, columns=te.columns_)\n",
    "df.head()"
   ]
  },
  {
   "cell_type": "markdown",
   "id": "6055178c",
   "metadata": {
    "deletable": false,
    "editable": false,
    "nbgrader": {
     "cell_type": "markdown",
     "checksum": "5182279c87a4f5d133179d9fcb045471",
     "grade": false,
     "grade_id": "cell-86112b5fe36b68c1",
     "locked": true,
     "schema_version": 3,
     "solution": false,
     "task": false
    }
   },
   "source": [
    "The DataFrame `df` above encodes each transaction in a **one-hot** format, where each column corresponds to an item and a `True`/`False` indicates whether the item is present in the transaction.\n",
    "\n",
    "Next, we'll run the Apriori algorithm to find all **frequent itemsets** with a specified minimum support threshold."
   ]
  },
  {
   "cell_type": "code",
   "execution_count": null,
   "id": "729f4fa8",
   "metadata": {
    "deletable": false,
    "editable": false,
    "nbgrader": {
     "cell_type": "code",
     "checksum": "89bc3effb9ede1166f078846a0ce8902",
     "grade": false,
     "grade_id": "cell-1feb34d54d414937",
     "locked": true,
     "schema_version": 3,
     "solution": false,
     "task": false
    }
   },
   "outputs": [],
   "source": [
    "frequent_itemsets = apriori(df, min_support=0.03, use_colnames=True)\n",
    "frequent_itemsets.sort_values('support', ascending=False, inplace=True)\n",
    "frequent_itemsets.head(10)"
   ]
  },
  {
   "cell_type": "markdown",
   "id": "7814e3c7",
   "metadata": {
    "deletable": false,
    "editable": false,
    "nbgrader": {
     "cell_type": "markdown",
     "checksum": "9f128cbcb9d4bb4e9f6bba0ff5788897",
     "grade": false,
     "grade_id": "cell-9cccbe2137288e4e",
     "locked": true,
     "schema_version": 3,
     "solution": false,
     "task": false
    }
   },
   "source": [
    "Let's also generate **association rules** with a minimum confidence threshold, say $0.7$. We'll also compute the **lift** metric."
   ]
  },
  {
   "cell_type": "code",
   "execution_count": null,
   "id": "35b672ec",
   "metadata": {
    "deletable": false,
    "editable": false,
    "nbgrader": {
     "cell_type": "code",
     "checksum": "e1ba7e66e4b1cd977c2a2a65536f14ef",
     "grade": false,
     "grade_id": "cell-1dcd058be479e8fd",
     "locked": true,
     "schema_version": 3,
     "solution": false,
     "task": false
    }
   },
   "outputs": [],
   "source": [
    "rules = association_rules(frequent_itemsets, num_itemsets=len(frequent_itemsets), metric=\"confidence\", min_threshold=0.7)\n",
    "rules.sort_values('confidence', ascending=False, inplace=True)\n",
    "rules.head(10)"
   ]
  },
  {
   "cell_type": "markdown",
   "id": "a071b1ee",
   "metadata": {
    "deletable": false,
    "editable": false,
    "nbgrader": {
     "cell_type": "markdown",
     "checksum": "4480655f434c4177dbf28a83bf53ccc3",
     "grade": false,
     "grade_id": "cell-824809c20c5604d1",
     "locked": true,
     "schema_version": 3,
     "solution": false,
     "task": false
    }
   },
   "source": [
    "## 5. Visualizing Item Frequencies\n",
    "\n",
    "Let's visualize how often each item appears in the transactions. This can help us get a sense of the most popular items in the dataset."
   ]
  },
  {
   "cell_type": "code",
   "execution_count": null,
   "id": "c5592ac9",
   "metadata": {
    "deletable": false,
    "editable": false,
    "nbgrader": {
     "cell_type": "code",
     "checksum": "0124f88ee607a4cce33090bc3a102a3f",
     "grade": false,
     "grade_id": "cell-5977f76fd8ababe5",
     "locked": true,
     "schema_version": 3,
     "solution": false,
     "task": false
    }
   },
   "outputs": [],
   "source": [
    "item_frequencies = df.sum().sort_values(ascending=False)\n",
    "item_frequencies.plot(kind='bar', figsize=(8, 5), title='Item Frequencies')\n",
    "plt.xlabel('Item')\n",
    "plt.ylabel('Frequency')\n",
    "plt.show()"
   ]
  },
  {
   "cell_type": "markdown",
   "id": "b72c84e7",
   "metadata": {
    "deletable": false,
    "editable": false,
    "nbgrader": {
     "cell_type": "markdown",
     "checksum": "72f3e51e93a207ff4b91158adaa63bcd",
     "grade": false,
     "grade_id": "cell-c85ce4088b292f94",
     "locked": true,
     "schema_version": 3,
     "solution": false,
     "task": false
    }
   },
   "source": [
    "# Exercises\n",
    "\n",
    "We have **eight exercises** to test your understanding of association rule mining concepts. Follow the instructions in each exercise."
   ]
  },
  {
   "cell_type": "markdown",
   "id": "8eccfe66",
   "metadata": {
    "deletable": false,
    "editable": false,
    "nbgrader": {
     "cell_type": "markdown",
     "checksum": "4b9347948729b19e44f7c9f0abe59b45",
     "grade": false,
     "grade_id": "cell-1a693930610a801c",
     "locked": true,
     "schema_version": 3,
     "solution": false,
     "task": false
    }
   },
   "source": [
    "<div class=\"exercise\"><b>Exercise 1:</b> </div>\n",
    "\n",
    "**Goal**: Manually compute the support of the itemset `{milk}` in the dataset `transactions`.\n",
    "\n",
    "Recall:\n",
    "$$ \\text{support}(\\{milk\\}) = \\frac{\\text{count of transactions containing milk}}{\\text{total count of transactions}}. $$\n",
    "\n",
    "**Instructions**:\n",
    "1. Count how many transactions in `transactions` contain `milk`.\n",
    "2. Divide by the total number of transactions.\n",
    "3. Store your result in a variable called `milk_support`.\n"
   ]
  },
  {
   "cell_type": "code",
   "execution_count": null,
   "id": "96b3a676",
   "metadata": {
    "deletable": false,
    "nbgrader": {
     "cell_type": "code",
     "checksum": "cb352b7015e06bab9e1ae8857b0312eb",
     "grade": false,
     "grade_id": "cell-a559d73835eaa5ec",
     "locked": false,
     "schema_version": 3,
     "solution": true,
     "task": false
    }
   },
   "outputs": [],
   "source": [
    "\"\"\"Your code for exercise 1 here.\"\"\"\n",
    "# your code here\n",
    "raise NotImplementedError"
   ]
  },
  {
   "cell_type": "code",
   "execution_count": null,
   "id": "b25b9f54",
   "metadata": {
    "deletable": false,
    "editable": false,
    "nbgrader": {
     "cell_type": "code",
     "checksum": "2f682a29c459afea98a339a86e8ca36b",
     "grade": true,
     "grade_id": "cell-58a6b09f3c23284d",
     "locked": true,
     "points": 5,
     "schema_version": 3,
     "solution": false,
     "task": false
    }
   },
   "outputs": [],
   "source": []
  },
  {
   "cell_type": "markdown",
   "id": "3faa5e01",
   "metadata": {
    "deletable": false,
    "editable": false,
    "nbgrader": {
     "cell_type": "markdown",
     "checksum": "05f6597a9348e9951d9cd6b24f7cfee2",
     "grade": false,
     "grade_id": "cell-e2ac7795b4e87d89",
     "locked": true,
     "schema_version": 3,
     "solution": false,
     "task": false
    }
   },
   "source": [
    "<div class=\"theme\"> Question 1:</div>\n",
    "\n",
    "**Select all that apply**: Which of the following statements about support are correct?\n",
    "\n",
    "1. Support of an itemset is always between 0 and 1.\n",
    "2. Support of an itemset is the proportion of transactions not containing that itemset.\n",
    "3. If an itemset has support 0.0, it means it never appears in the dataset.\n",
    "4. Support can be greater than 1 if the itemset appears in more transactions than the total.\n",
    "5. Support of an itemset can never be 0.\n",
    "6. High support means the itemset is very frequent.\n",
    "\n",
    "Store your answers in a list called `answer`.\n",
    "\n",
    "e.g code:\n",
    "```python\n",
    "answer = [4, 6]\n",
    "```"
   ]
  },
  {
   "cell_type": "code",
   "execution_count": null,
   "id": "b598cee1",
   "metadata": {
    "deletable": false,
    "nbgrader": {
     "cell_type": "code",
     "checksum": "5f0a4d82cf16c63f39ee5f185daa3e57",
     "grade": false,
     "grade_id": "cell-94316ca0ce9f3c42",
     "locked": false,
     "schema_version": 3,
     "solution": true,
     "task": false
    }
   },
   "outputs": [],
   "source": [
    "# your code here\n",
    "raise NotImplementedError"
   ]
  },
  {
   "cell_type": "code",
   "execution_count": null,
   "id": "828fa3f5",
   "metadata": {
    "deletable": false,
    "editable": false,
    "nbgrader": {
     "cell_type": "code",
     "checksum": "07c7cd4264594963030dbc2a086d4970",
     "grade": true,
     "grade_id": "cell-785e3a8443795f0b",
     "locked": true,
     "points": 5,
     "schema_version": 3,
     "solution": false,
     "task": false
    }
   },
   "outputs": [],
   "source": []
  },
  {
   "cell_type": "markdown",
   "id": "1a70a093",
   "metadata": {
    "deletable": false,
    "editable": false,
    "nbgrader": {
     "cell_type": "markdown",
     "checksum": "83afde2ea281e28319dbe8cc4cfcca25",
     "grade": false,
     "grade_id": "cell-d00da4a9bf2be526",
     "locked": true,
     "schema_version": 3,
     "solution": false,
     "task": false
    }
   },
   "source": [
    "<div class=\"exercise\"><b>Exercise 2:</b></div>  \n",
    "\n",
    "**Goal:** Compute the support of the itemset `{bread, milk}` in the dataset `transactions`.\n",
    "\n",
    "**Recall:**  \n",
    "The support of an itemset `{I}` is defined as:  \n",
    "\n",
    "$$\n",
    "support({I}) = \\frac{\\text{count of transactions containing I}}{\\text{total count of transactions}}\n",
    "$$\n",
    "\n",
    "**Instructions:**  \n",
    "- Count how many transactions contain **both** `'bread'` and `'milk'`.  \n",
    "- Divide this count by the total number of transactions.  \n",
    "- Store the result in a variable called `bread_milk_support`.  \n",
    "\n"
   ]
  },
  {
   "cell_type": "code",
   "execution_count": null,
   "id": "fce66ce8",
   "metadata": {
    "deletable": false,
    "nbgrader": {
     "cell_type": "code",
     "checksum": "5d922706472595ff54331cfa379633f0",
     "grade": false,
     "grade_id": "cell-fd1b7654d02e173e",
     "locked": false,
     "schema_version": 3,
     "solution": true,
     "task": false
    }
   },
   "outputs": [],
   "source": [
    "\"\"\"Your code for exercise 2 here.\"\"\"\n",
    "# your code here\n",
    "raise NotImplementedError"
   ]
  },
  {
   "cell_type": "code",
   "execution_count": null,
   "id": "ae9b3e96",
   "metadata": {
    "deletable": false,
    "editable": false,
    "nbgrader": {
     "cell_type": "code",
     "checksum": "058528ac4a7cff039e9d093bc1df8511",
     "grade": true,
     "grade_id": "cell-b36adea67f38bffa",
     "locked": true,
     "points": 10,
     "schema_version": 3,
     "solution": false,
     "task": false
    }
   },
   "outputs": [],
   "source": []
  },
  {
   "cell_type": "markdown",
   "id": "fc8d8566",
   "metadata": {
    "deletable": false,
    "editable": false,
    "nbgrader": {
     "cell_type": "markdown",
     "checksum": "39c882f8e431939284d977df459081f5",
     "grade": false,
     "grade_id": "cell-bd5741d9b9e5725e",
     "locked": true,
     "schema_version": 3,
     "solution": false,
     "task": false
    }
   },
   "source": [
    "<div class=\"theme\"> Question 2:</div>  \n",
    "\n",
    "**Select all that apply:** Which statements about itemsets are correct?\n",
    "\n",
    "1. An itemset can have more than two items.  \n",
    "2. The support of a larger itemset is always greater than or equal to the support of its subsets.  \n",
    "3. The support of an itemset containing $k$ items can never be higher than the support of any subset with fewer than $k$ items.  \n",
    "4. The more items you have in an itemset, the less likely it is to appear in a transaction (usually).  \n",
    "5. Frequent itemsets must contain at least one item.  \n",
    "6. The empty set always has $\\text{support} = 1$.  \n",
    "\n",
    "**Store your answers in a list called `answer`.**\n"
   ]
  },
  {
   "cell_type": "code",
   "execution_count": null,
   "id": "2e5615e7",
   "metadata": {
    "deletable": false,
    "nbgrader": {
     "cell_type": "code",
     "checksum": "8e6dcf6cef6e26bd5e97513264b5d741",
     "grade": false,
     "grade_id": "cell-a87b7b446e3b0c92",
     "locked": false,
     "schema_version": 3,
     "solution": true,
     "task": false
    }
   },
   "outputs": [],
   "source": [
    "# your code here\n",
    "raise NotImplementedError"
   ]
  },
  {
   "cell_type": "code",
   "execution_count": null,
   "id": "ac05bb32",
   "metadata": {
    "deletable": false,
    "editable": false,
    "nbgrader": {
     "cell_type": "code",
     "checksum": "c70359ce52bd6e25972fe39615e827ab",
     "grade": true,
     "grade_id": "cell-449b1a386b3cbed7",
     "locked": true,
     "points": 5,
     "schema_version": 3,
     "solution": false,
     "task": false
    }
   },
   "outputs": [],
   "source": []
  },
  {
   "cell_type": "markdown",
   "id": "3a1f2f8f",
   "metadata": {
    "deletable": false,
    "editable": false,
    "nbgrader": {
     "cell_type": "markdown",
     "checksum": "c51c7959783c73db27bdd4a51e1f989b",
     "grade": false,
     "grade_id": "cell-43c3c652a03af209",
     "locked": true,
     "schema_version": 3,
     "solution": false,
     "task": false
    }
   },
   "source": [
    "<div class=\"exercise\"><b>Exercise 3:</b></div> \n",
    "\n",
    "**Goal:** Compute the confidence of the rule `{milk} ⟹ {eggs}`.\n",
    "\n",
    "**Recall:**  \n",
    "The confidence of a rule $$ X \\Rightarrow Y $$ is defined as:  \n",
    "$$\n",
    "\\text{confidence}(X \\Rightarrow Y) = \\frac{\\text{support}(X \\cup Y)}{\\text{support}(X)}\n",
    "$$\n",
    "\n",
    "**Instructions:**  \n",
    "- Compute **support** of `{milk, eggs}` (i.e., count transactions that contain **both** `'milk'` and `'eggs'`).  \n",
    "- Compute **support** of `{milk}` (i.e., count transactions that contain `'milk'`).  \n",
    "- Compute the **confidence** by taking the ratio of these two values.  \n",
    "- Store the result in a variable called `milk_eggs_confidence`.  \n"
   ]
  },
  {
   "cell_type": "code",
   "execution_count": null,
   "id": "9e259867",
   "metadata": {
    "deletable": false,
    "nbgrader": {
     "cell_type": "code",
     "checksum": "193432b5cc3bde72dc40db130186c8ea",
     "grade": false,
     "grade_id": "cell-8b88b2ec20e09c72",
     "locked": false,
     "schema_version": 3,
     "solution": true,
     "task": false
    }
   },
   "outputs": [],
   "source": [
    "\"\"\"Your code for exercise 3 here.\"\"\"\n",
    "# your code here\n",
    "raise NotImplementedError"
   ]
  },
  {
   "cell_type": "code",
   "execution_count": null,
   "id": "7ab1091a",
   "metadata": {
    "deletable": false,
    "editable": false,
    "nbgrader": {
     "cell_type": "code",
     "checksum": "a71dbe75b156b55d62146ab7cee72dc9",
     "grade": true,
     "grade_id": "cell-0a6d58852567bf0f",
     "locked": true,
     "points": 10,
     "schema_version": 3,
     "solution": false,
     "task": false
    }
   },
   "outputs": [],
   "source": []
  },
  {
   "cell_type": "markdown",
   "id": "71789d46",
   "metadata": {
    "deletable": false,
    "editable": false,
    "nbgrader": {
     "cell_type": "markdown",
     "checksum": "d3638b89fef82d58b44c4c2a1e693902",
     "grade": false,
     "grade_id": "cell-0db8cdf578bb8ac3",
     "locked": true,
     "schema_version": 3,
     "solution": false,
     "task": false
    }
   },
   "source": [
    "<div class=\"theme\"> Question 3:</div>  \n",
    "\n",
    "**Select all that apply:** Which statements about confidence are correct?\n",
    "\n",
    "1. Confidence measures how frequently $Y$ appears among the transactions that contain $X$.\n",
    "2. Confidence($X \\implies Y$) = Support($X \\cup Y$) * Support($X$).\n",
    "3. If Confidence($X \\implies Y$) = 1, then every transaction containing $X$ also contains $Y$.\n",
    "4. Confidence($X \\implies Y$) can never exceed 1.\n",
    "5. Confidence($X \\implies Y$) = Confidence($Y \\implies X$) always.\n",
    "6. High confidence guarantees that $X$ and $Y$ are strongly dependent.\n",
    "\n",
    "**Store your answers in a list called `answer`.**\n"
   ]
  },
  {
   "cell_type": "code",
   "execution_count": null,
   "id": "5f6992a1",
   "metadata": {
    "deletable": false,
    "nbgrader": {
     "cell_type": "code",
     "checksum": "c5223e7fe14dd0ba8ec6b671218f6a89",
     "grade": false,
     "grade_id": "cell-816f381a2feaf22e",
     "locked": false,
     "schema_version": 3,
     "solution": true,
     "task": false
    }
   },
   "outputs": [],
   "source": [
    "# your code here\n",
    "raise NotImplementedError"
   ]
  },
  {
   "cell_type": "code",
   "execution_count": null,
   "id": "476c0e21",
   "metadata": {
    "deletable": false,
    "editable": false,
    "nbgrader": {
     "cell_type": "code",
     "checksum": "b9958425cedef23fa3f3966b9fff9308",
     "grade": true,
     "grade_id": "cell-69c264b1c71cfcfb",
     "locked": true,
     "points": 5,
     "schema_version": 3,
     "solution": false,
     "task": false
    }
   },
   "outputs": [],
   "source": []
  },
  {
   "cell_type": "markdown",
   "id": "4f33d784",
   "metadata": {
    "deletable": false,
    "editable": false,
    "nbgrader": {
     "cell_type": "markdown",
     "checksum": "323e74fe20da57b5a1e85238fbb87591",
     "grade": false,
     "grade_id": "cell-277d49aa0de3762f",
     "locked": true,
     "schema_version": 3,
     "solution": false,
     "task": false
    }
   },
   "source": [
    "<div class=\"exercise\"><b>Exercise 4:</b></div>  \n",
    "\n",
    "**Goal:** Generate a set of frequent itemsets using the Apriori algorithm with a different `min_support` (for example, 0.4). Then find the resulting rules with a `min_threshold` for confidence = 0.5.\n",
    "\n",
    "**Instructions:**  \n",
    "- Use the **apriori** function on DataFrame `df` with `min_support=0.4`, and store the result in `freq_itemsets_4`.  \n",
    "- Generate association rules from `freq_itemsets_4` using `metric=\"confidence\"` and `min_threshold=0.5`, and store the result in `rules_4`.  \n",
    "- Return `rules_4` at the end of the cell.  "
   ]
  },
  {
   "cell_type": "code",
   "execution_count": null,
   "id": "2dc76381",
   "metadata": {
    "deletable": false,
    "nbgrader": {
     "cell_type": "code",
     "checksum": "8d6e056612d5c5df33926298a07c4028",
     "grade": false,
     "grade_id": "cell-f7bcbda612397457",
     "locked": false,
     "schema_version": 3,
     "solution": true,
     "task": false
    }
   },
   "outputs": [],
   "source": [
    "\"\"\"Your code for exercise 4 here.\"\"\"\n",
    "# your code here\n",
    "raise NotImplementedError"
   ]
  },
  {
   "cell_type": "code",
   "execution_count": null,
   "id": "420d2cdf",
   "metadata": {
    "deletable": false,
    "editable": false,
    "nbgrader": {
     "cell_type": "code",
     "checksum": "0414a2f7d717b90908911522718bcff2",
     "grade": true,
     "grade_id": "cell-6959e5ef44c029df",
     "locked": true,
     "points": 10,
     "schema_version": 3,
     "solution": false,
     "task": false
    }
   },
   "outputs": [],
   "source": []
  },
  {
   "cell_type": "markdown",
   "id": "eceef4a9",
   "metadata": {
    "deletable": false,
    "editable": false,
    "nbgrader": {
     "cell_type": "markdown",
     "checksum": "db10d20265780381a263c81028fb9a36",
     "grade": false,
     "grade_id": "cell-642666cdde32a57c",
     "locked": true,
     "schema_version": 3,
     "solution": false,
     "task": false
    }
   },
   "source": [
    "<div class=\"theme\"> Question 4:</div>  \n",
    "\n",
    "**Select all that apply:** Which of the following statements about the Apriori algorithm are correct?\n",
    "\n",
    "1. Apriori uses the fact that any subset of a frequent itemset must also be frequent.\n",
    "2. Apriori can find rules with negative correlations.\n",
    "3. Apriori can be computationally expensive when the dataset is large.\n",
    "4. Changing the `min_support` threshold does not affect the number of frequent itemsets found.\n",
    "5. Lower `min_support` generally produces fewer frequent itemsets.\n",
    "6. Higher `min_support` generally produces fewer frequent itemsets.\n",
    "\n",
    "**Store your answers in a list called `answer`.**\n"
   ]
  },
  {
   "cell_type": "code",
   "execution_count": null,
   "id": "c462f7fa",
   "metadata": {
    "deletable": false,
    "nbgrader": {
     "cell_type": "code",
     "checksum": "dc156c03f523d2f0822063d02da2f06d",
     "grade": false,
     "grade_id": "cell-a2ad3d37761b0eb0",
     "locked": false,
     "schema_version": 3,
     "solution": true,
     "task": false
    }
   },
   "outputs": [],
   "source": [
    "# your code here\n",
    "raise NotImplementedError"
   ]
  },
  {
   "cell_type": "code",
   "execution_count": null,
   "id": "297db716",
   "metadata": {
    "deletable": false,
    "editable": false,
    "nbgrader": {
     "cell_type": "code",
     "checksum": "ffd1904facd10ba123e9da51ef7b22f9",
     "grade": true,
     "grade_id": "cell-c7c616628b82e89f",
     "locked": true,
     "points": 5,
     "schema_version": 3,
     "solution": false,
     "task": false
    }
   },
   "outputs": [],
   "source": []
  },
  {
   "cell_type": "markdown",
   "id": "fe6b2418",
   "metadata": {
    "deletable": false,
    "editable": false,
    "nbgrader": {
     "cell_type": "markdown",
     "checksum": "2771e89bb211f9bd39f7cec6ab0c6ba6",
     "grade": false,
     "grade_id": "cell-31a3db6f05bde199",
     "locked": true,
     "schema_version": 3,
     "solution": false,
     "task": false
    }
   },
   "source": [
    "<div class=\"exercise\"><b>Exercise 5:</b></div>  \n",
    "\n",
    "**Goal:** Create a bar plot of the support values for the top 5 frequent itemsets (by support) discovered with `min_support=0.03` (stored in `frequent_itemsets`).\n",
    "\n",
    "**Instructions:**  \n",
    "1. **Sort** `frequent_itemsets` by support in **descending** order.  \n",
    "2. **Select the top 5** itemsets.  \n",
    "3. **Create a bar plot** where: you need to set up the Figure and Axes objects using `plt.subplots()`. \n",
    "    - These two objects (fig and ax) will allow you to control various properties of the figure and plot.\n",
    "    - `fig` is the Figure object: It serves as the overall container for the plot.\n",
    "    - `ax` is the Axes object: This is where the actual data points will be plotted, including x and y axes, labels, etc.\n",
    "```python\n",
    "# Example code: \n",
    "    fig, ax = plt.subplots(figsize=(10, 6))\n",
    "``` \n",
    "4. **Customize the plot:**  \n",
    "\n",
    "   - The **x-axis** represents the itemsets, converted to strings.  \n",
    "   - The **y-axis** represents the support values. \n",
    "   - Set appropriate **title**, **x-axis label**, and **y-axis label**.  \n",
    "   - Rotate x-axis labels if necessary to improve readability.  \n",
    "5. **Ensure your plot is a bar chart** and meets the formatting criteria.  "
   ]
  },
  {
   "cell_type": "code",
   "execution_count": null,
   "id": "c9ef32b4",
   "metadata": {
    "deletable": false,
    "nbgrader": {
     "cell_type": "code",
     "checksum": "40de0c517dadf112a55ebdc0748fec17",
     "grade": false,
     "grade_id": "cell-4ebe92f6c633a993",
     "locked": false,
     "schema_version": 3,
     "solution": true,
     "task": false
    }
   },
   "outputs": [],
   "source": [
    "\"\"\"Your code for exercise 5 here.\"\"\"\n",
    "# your code here\n",
    "raise NotImplementedError"
   ]
  },
  {
   "cell_type": "code",
   "execution_count": null,
   "id": "30cf47ec",
   "metadata": {
    "deletable": false,
    "editable": false,
    "nbgrader": {
     "cell_type": "code",
     "checksum": "1327601cf8aaa35485b15f44531959f8",
     "grade": true,
     "grade_id": "cell-4ce4c257769e3c8f",
     "locked": true,
     "points": 7,
     "schema_version": 3,
     "solution": false,
     "task": false
    }
   },
   "outputs": [],
   "source": []
  },
  {
   "cell_type": "markdown",
   "id": "df53ad58",
   "metadata": {
    "deletable": false,
    "editable": false,
    "nbgrader": {
     "cell_type": "markdown",
     "checksum": "b9be0e7931b8cc31fe10661b35e3f81d",
     "grade": false,
     "grade_id": "cell-e8f5560b395058c6",
     "locked": true,
     "schema_version": 3,
     "solution": false,
     "task": false
    }
   },
   "source": [
    "<div class=\"theme\"> Question 5:</div>  \n",
    "**Select all that apply:** Why might it be useful to visualize the support of frequent itemsets?\n",
    "\n",
    "1. It helps identify which itemsets appear more often.\n",
    "2. It guarantees that the top itemsets also have the highest confidence.\n",
    "3. It can reveal patterns that might not be obvious from raw numbers alone.\n",
    "4. Visualization is unnecessary for frequent itemset mining.\n",
    "5. It helps in quickly filtering out itemsets with very low support.\n",
    "6. It can mislead the interpretation because a high-support itemset might have low confidence as a rule.\n",
    "\n",
    "**Store your answers in a list called `answer`.**\n"
   ]
  },
  {
   "cell_type": "code",
   "execution_count": null,
   "id": "9333b82c",
   "metadata": {
    "deletable": false,
    "nbgrader": {
     "cell_type": "code",
     "checksum": "58b80e370ad051e4130ae9eab993e673",
     "grade": false,
     "grade_id": "cell-37c3fb91ad42b21c",
     "locked": false,
     "schema_version": 3,
     "solution": true,
     "task": false
    }
   },
   "outputs": [],
   "source": [
    "# your code here\n",
    "raise NotImplementedError"
   ]
  },
  {
   "cell_type": "code",
   "execution_count": null,
   "id": "450a3f2e",
   "metadata": {
    "deletable": false,
    "editable": false,
    "nbgrader": {
     "cell_type": "code",
     "checksum": "d26456a588bbe91cfbacbb724bfcf4b3",
     "grade": true,
     "grade_id": "cell-32a5fd8329fd8e15",
     "locked": true,
     "points": 5,
     "schema_version": 3,
     "solution": false,
     "task": false
    }
   },
   "outputs": [],
   "source": []
  },
  {
   "cell_type": "markdown",
   "id": "78cadca3",
   "metadata": {
    "deletable": false,
    "editable": false,
    "nbgrader": {
     "cell_type": "markdown",
     "checksum": "52d59fdb78edcd94f2fc7e7092062469",
     "grade": false,
     "grade_id": "cell-0788e6f9984535a9",
     "locked": true,
     "schema_version": 3,
     "solution": false,
     "task": false
    }
   },
   "source": [
    "<div class=\"exercise\"><b>Exercise 6:</b></div>  \n",
    "\n",
    "**Goal:** Among the rules in `rules` (generated from `min_support=0.03`), filter and keep only those rules with **lift** ≥ **1.2**. Then, store the resulting DataFrame in a variable called `high_lift_rules`.\n",
    "\n",
    "**Instructions:**  \n",
    "1. **Filter** `rules` to keep only those rows where the **lift** value is **greater than or equal to 1.2**.  \n",
    "2. **Sort** the resulting DataFrame by **lift** in **descending order**.  \n",
    "3. **Store** the final DataFrame in a variable named `high_lift_rules`.\n",
    "4. **Return** `high_lift_rules`\n"
   ]
  },
  {
   "cell_type": "code",
   "execution_count": null,
   "id": "bf1ed4d7",
   "metadata": {
    "deletable": false,
    "nbgrader": {
     "cell_type": "code",
     "checksum": "d883a39762fd06ae89c0881d7b2d5558",
     "grade": false,
     "grade_id": "cell-ca40cbb2b8fdcd13",
     "locked": false,
     "schema_version": 3,
     "solution": true,
     "task": false
    }
   },
   "outputs": [],
   "source": [
    "\"\"\"Your code for exercise 6 here.\"\"\"\n",
    "# your code here\n",
    "raise NotImplementedError"
   ]
  },
  {
   "cell_type": "code",
   "execution_count": null,
   "id": "90695605",
   "metadata": {
    "deletable": false,
    "editable": false,
    "nbgrader": {
     "cell_type": "code",
     "checksum": "fb84b9ccc53aab510948e1b8fcc6723e",
     "grade": true,
     "grade_id": "cell-a61636eb3d9ec98f",
     "locked": true,
     "points": 10,
     "schema_version": 3,
     "solution": false,
     "task": false
    }
   },
   "outputs": [],
   "source": []
  },
  {
   "cell_type": "markdown",
   "id": "eac1a7e5",
   "metadata": {
    "deletable": false,
    "editable": false,
    "nbgrader": {
     "cell_type": "markdown",
     "checksum": "923ebfce365821d488f005d93ae324ec",
     "grade": false,
     "grade_id": "cell-bbac76aff908fe60",
     "locked": true,
     "schema_version": 3,
     "solution": false,
     "task": false
    }
   },
   "source": [
    "<div class=\"theme\"> Question 6:</div>  \n",
    "\n",
    "**Select all that apply**: Which statements about lift are correct?\n",
    "\n",
    "1. Lift measures how many times more likely $X$ and $Y$ occur together than expected if they were independent.\n",
    "2. Lift can be less than 1.\n",
    "3. Lift($X \\implies Y$) can be different from Lift($Y \\implies X$).\n",
    "4. If Lift($X \\implies Y$) = 1, $X$ and $Y$ are considered independent.\n",
    "5. Higher lift (> 1) indicates a negative correlation between $X$ and $Y$.\n",
    "6. A lift value < 1 means $X$ and $Y$ appear less frequently together than expected by chance.\n",
    "\n",
    "Store your answers in a list called `answer`."
   ]
  },
  {
   "cell_type": "code",
   "execution_count": null,
   "id": "318870af",
   "metadata": {
    "deletable": false,
    "nbgrader": {
     "cell_type": "code",
     "checksum": "ec885869b62b2f03c8278d64916df6a2",
     "grade": false,
     "grade_id": "cell-6adb91835094e190",
     "locked": false,
     "schema_version": 3,
     "solution": true,
     "task": false
    }
   },
   "outputs": [],
   "source": [
    "# your code here\n",
    "raise NotImplementedError"
   ]
  },
  {
   "cell_type": "code",
   "execution_count": null,
   "id": "0add89de",
   "metadata": {
    "deletable": false,
    "editable": false,
    "nbgrader": {
     "cell_type": "code",
     "checksum": "eec0e695f423ed87253263af831319bc",
     "grade": true,
     "grade_id": "cell-60432883c56a2b51",
     "locked": true,
     "points": 5,
     "schema_version": 3,
     "solution": false,
     "task": false
    }
   },
   "outputs": [],
   "source": []
  },
  {
   "cell_type": "markdown",
   "id": "9d7d8e00",
   "metadata": {
    "deletable": false,
    "editable": false,
    "nbgrader": {
     "cell_type": "markdown",
     "checksum": "893cdc58c697620256c3a3f592c4bfbb",
     "grade": false,
     "grade_id": "cell-c0a02d16abb11290",
     "locked": true,
     "schema_version": 3,
     "solution": false,
     "task": false
    }
   },
   "source": [
    "## 7. PCY (Park-Chen-Yu) Algorithm\n",
    "\n",
    "The PCY (Park-Chen-Yu) algorithm is an improvement over the Apriori algorithm for finding frequent pairs. In the first pass over the dataset, PCY counts the frequency of individual items and also hashes each candidate pair into a fixed number of buckets. Each bucket's count represents the number of candidate pairs that hash into that bucket. After the first pass, only buckets whose counts exceed a given threshold (determined by the minimum support) are considered frequent buckets. In the second pass, candidate pairs that hash into frequent buckets are counted more precisely. This technique helps reduce memory usage and computational cost when the number of candidate pairs is very large."
   ]
  },
  {
   "cell_type": "markdown",
   "id": "8855975e",
   "metadata": {
    "deletable": false,
    "editable": false,
    "nbgrader": {
     "cell_type": "markdown",
     "checksum": "84b65b61045d975ee91e2e4335149cb8",
     "grade": false,
     "grade_id": "cell-69bc0643876b3465",
     "locked": true,
     "schema_version": 3,
     "solution": false,
     "task": false
    }
   },
   "source": [
    "<div class=\"exercise\"><b>Exercise 7: PCY Algorithm</b></div> \n",
    "\n",
    "**Goal**: Implement a simplified first pass of the PCY algorithm.\n",
    "\n",
    "**Instructions**:\n",
    "1. Write a function \n",
    "```python\n",
    "def pcy_first_pass(transactions, B, min_count)\n",
    "```\n",
    "that:\n",
    "    - Iterates over each transaction.\n",
    "    - For each transaction, generates all candidate pairs (as tuples, sorted lexicographically) from the items in the transaction.\n",
    "    - Uses the hash function: $$ \\text{bucket} = (\\text{length}(item_1) + \\text{length}(item_2)) \\mod B $$ for each pair.\n",
    "    - Maintains a dictionary `bucket_counts` that counts how many times each bucket index is hit.\n",
    "2. After processing all transactions, determine the set of frequent buckets, i.e. those buckets where the count is greater than or equal to `min_count`.\n",
    "3. The function should return a tuple: `(bucket_counts, frequent_buckets)`.\n"
   ]
  },
  {
   "cell_type": "code",
   "execution_count": null,
   "id": "2ee7c1d9",
   "metadata": {
    "deletable": false,
    "nbgrader": {
     "cell_type": "code",
     "checksum": "7ac2110a73037d0093d6355944344df4",
     "grade": false,
     "grade_id": "cell-484a6cbedfb2be91",
     "locked": false,
     "schema_version": 3,
     "solution": true,
     "task": false
    }
   },
   "outputs": [],
   "source": [
    "\"\"\"Your code for exercise 7 here.\"\"\"\n",
    "# your code here\n",
    "raise NotImplementedError"
   ]
  },
  {
   "cell_type": "code",
   "execution_count": null,
   "id": "c5735e1f",
   "metadata": {
    "deletable": false,
    "editable": false,
    "nbgrader": {
     "cell_type": "code",
     "checksum": "2e833fe23abcc5f2c9c6e5d67dda9a40",
     "grade": false,
     "grade_id": "cell-a32cb428ba4aec22",
     "locked": true,
     "schema_version": 3,
     "solution": false,
     "task": false
    }
   },
   "outputs": [],
   "source": [
    "assert pcy_first_pass(transactions, 5,2) == ({4: 9, 3: 9, 1: 11, 2: 3}, {1, 2, 3, 4})\n",
    "assert pcy_first_pass(transactions, 10,2) == ({9: 9, 8: 9, 1: 11, 2: 3}, {1, 2, 8, 9})\n",
    "assert pcy_first_pass(transactions, 5,5) == ({4: 9, 3: 9, 1: 11, 2: 3}, {1, 3, 4})"
   ]
  },
  {
   "cell_type": "code",
   "execution_count": null,
   "id": "8df822b4",
   "metadata": {
    "deletable": false,
    "editable": false,
    "nbgrader": {
     "cell_type": "code",
     "checksum": "5ef46167a3563540272077fa22e469eb",
     "grade": true,
     "grade_id": "cell-c2cbec7d7698fb60",
     "locked": true,
     "points": 20,
     "schema_version": 3,
     "solution": false,
     "task": false
    }
   },
   "outputs": [],
   "source": []
  },
  {
   "cell_type": "markdown",
   "id": "c32e77e4",
   "metadata": {
    "deletable": false,
    "editable": false,
    "nbgrader": {
     "cell_type": "markdown",
     "checksum": "097017513a69095d927c9a8ac3eb877e",
     "grade": false,
     "grade_id": "cell-94cf9363c147c885",
     "locked": true,
     "schema_version": 3,
     "solution": false,
     "task": false
    }
   },
   "source": [
    "<div class=\"theme\"> Question 7:</div>  \n",
    "\n",
    "**Select all that apply**: Which of the following statements about the PCY algorithm are correct?\n",
    "\n",
    "1. PCY uses a hash table to reduce the number of candidate pairs.\n",
    "2. PCY requires two passes over the dataset.\n",
    "3. PCY always generates more candidate pairs than Apriori.\n",
    "4. Frequent buckets help filter out infrequent candidate pairs.\n",
    "5. PCY reduces memory usage by avoiding storing all candidate pairs.\n",
    "6. PCY guarantees that no frequent pairs are missed.\n",
    "\n",
    "Store your answers in a list called `answer`."
   ]
  },
  {
   "cell_type": "code",
   "execution_count": null,
   "id": "93bdda5d",
   "metadata": {
    "deletable": false,
    "nbgrader": {
     "cell_type": "code",
     "checksum": "20307ba9c89eef3708767e104a4eb948",
     "grade": false,
     "grade_id": "cell-4fc061c83770b5ac",
     "locked": false,
     "schema_version": 3,
     "solution": true,
     "task": false
    }
   },
   "outputs": [],
   "source": [
    "# your code here\n",
    "raise NotImplementedError"
   ]
  },
  {
   "cell_type": "code",
   "execution_count": null,
   "id": "93acd8ea",
   "metadata": {
    "deletable": false,
    "editable": false,
    "nbgrader": {
     "cell_type": "code",
     "checksum": "4861d61277cccdd5be6f217a2acf5e15",
     "grade": true,
     "grade_id": "cell-5a1625c6b76abcbd",
     "locked": true,
     "points": 5,
     "schema_version": 3,
     "solution": false,
     "task": false
    }
   },
   "outputs": [],
   "source": []
  },
  {
   "cell_type": "markdown",
   "id": "cf2bbd14",
   "metadata": {
    "deletable": false,
    "editable": false,
    "nbgrader": {
     "cell_type": "markdown",
     "checksum": "1159655f12e7cf7805ba81a645a52189",
     "grade": false,
     "grade_id": "cell-b27b0787d7a7f296",
     "locked": true,
     "schema_version": 3,
     "solution": false,
     "task": false
    }
   },
   "source": [
    "## 8. Toivonen's Algorithm\n",
    "\n",
    "Toivonen's algorithm is a randomized approach for mining frequent itemsets by using sampling. The key idea is:\n",
    "\n",
    "- Take a random sample of the dataset.\n",
    "- Mine frequent itemsets on the sample using a lowered support threshold.\n",
    "- Identify the \"negative border\", which consists of itemsets that are not frequent in the sample but all of their subsets are frequent.\n",
    "- Verify candidate itemsets against the full dataset.\n",
    "\n",
    "This algorithm can be more efficient than traditional methods like Apriori because it potentially reduces the number of itemsets that need to be counted on the full dataset. However, it may require re-running if the negative border is not empty."
   ]
  },
  {
   "cell_type": "markdown",
   "id": "702c0fc5",
   "metadata": {
    "deletable": false,
    "editable": false,
    "nbgrader": {
     "cell_type": "markdown",
     "checksum": "9f971816ea598692106e95bb65f1d937",
     "grade": false,
     "grade_id": "cell-782986b3c4de8113",
     "locked": true,
     "schema_version": 3,
     "solution": false,
     "task": false
    }
   },
   "source": [
    "<div class=\"exercise\"><b>Exercise 8: Toivonen's Algorithm</b></div>  \n",
    " \n",
    "**Goal**: Implement a simplified version of Toivonen's algorithm to find frequent itemsets.\n",
    "\n",
    "**Instructions**:\n",
    "1. Write a function \n",
    "```python\n",
    "def toivonen_frequent_itemsets(transactions, min_support, sample_fraction)` \n",
    "```\n",
    "that:\n",
    "    - Randomly samples the transactions using the given `sample_fraction`.\n",
    "    - Encodes the sampled transactions using `TransactionEncoder` and creates a DataFrame.\n",
    "    - Uses the Apriori algorithm on the sample with a lowered support threshold (for example, use `sample_min_support = min_support * 0.8`) to obtain candidate frequent itemsets.\n",
    "    - Computes the support of these candidate itemsets on the full dataset.\n",
    "    - Returns a DataFrame of itemsets that are frequent in the full dataset (i.e. those with support greater than or equal to `min_support`).\n",
    "\n",
    "2. For reproducibility, set a random seed before sampling."
   ]
  },
  {
   "cell_type": "code",
   "execution_count": null,
   "id": "affe6995",
   "metadata": {
    "deletable": false,
    "nbgrader": {
     "cell_type": "code",
     "checksum": "feb78a76ac9ad9f2a601b93f2734da7d",
     "grade": false,
     "grade_id": "cell-10a1b63b8117de27",
     "locked": false,
     "schema_version": 3,
     "solution": true,
     "task": false
    }
   },
   "outputs": [],
   "source": [
    "import random\n",
    "random.seed(42)\n",
    "\"\"\"Your code for exercise 8 here.\"\"\"\n",
    "# your code here\n",
    "raise NotImplementedError\n",
    "\n",
    "toivonen_itemsets = toivonen_frequent_itemsets(transactions, 0.03, 0.5)\n",
    "toivonen_itemsets"
   ]
  },
  {
   "cell_type": "code",
   "execution_count": null,
   "id": "7655a977",
   "metadata": {
    "deletable": false,
    "editable": false,
    "nbgrader": {
     "cell_type": "code",
     "checksum": "a976a451a217ba9bf40d817e54e93a68",
     "grade": true,
     "grade_id": "cell-2c1f55ffbe1dfa78",
     "locked": true,
     "points": 7,
     "schema_version": 3,
     "solution": false,
     "task": false
    }
   },
   "outputs": [],
   "source": []
  },
  {
   "cell_type": "markdown",
   "id": "384b9afc",
   "metadata": {
    "deletable": false,
    "editable": false,
    "nbgrader": {
     "cell_type": "markdown",
     "checksum": "39dfa85976cbf24007feba3db4706cb2",
     "grade": false,
     "grade_id": "cell-4533a5cd460939d4",
     "locked": true,
     "schema_version": 3,
     "solution": false,
     "task": false
    }
   },
   "source": [
    "<div class=\"theme\"> Question 8:</div>\n",
    "\n",
    "**Select all that apply**: Which of the following statements about Toivonen's algorithm are correct?\n",
    "\n",
    "1. It uses random sampling to reduce the computational load.\n",
    "2. It computes a negative border to help ensure no frequent itemsets are missed.\n",
    "3. It guarantees that all frequent itemsets are found without any re-run.\n",
    "4. The sample support threshold is typically lowered to avoid false negatives.\n",
    "5. It may require a re-run if an itemset in the negative border is actually frequent.\n",
    "6. It always outperforms Apriori in terms of efficiency.\n",
    "\n",
    "Store your answers in a list called `answer`."
   ]
  },
  {
   "cell_type": "code",
   "execution_count": null,
   "id": "aeae4cb0",
   "metadata": {
    "deletable": false,
    "nbgrader": {
     "cell_type": "code",
     "checksum": "80f685a8ef2a11adf7b86084aa4b6292",
     "grade": false,
     "grade_id": "cell-9c06f22d232d9b05",
     "locked": false,
     "schema_version": 3,
     "solution": true,
     "task": false
    }
   },
   "outputs": [],
   "source": [
    "# your code here\n",
    "raise NotImplementedError"
   ]
  },
  {
   "cell_type": "code",
   "execution_count": null,
   "id": "b69e40f9",
   "metadata": {
    "deletable": false,
    "editable": false,
    "nbgrader": {
     "cell_type": "code",
     "checksum": "0dc81ecbd0c6ea0ce61ab1135c9d6877",
     "grade": true,
     "grade_id": "cell-b85fae457ce9fce3",
     "locked": true,
     "points": 5,
     "schema_version": 3,
     "solution": false,
     "task": false
    }
   },
   "outputs": [],
   "source": []
  },
  {
   "cell_type": "markdown",
   "id": "005154f4",
   "metadata": {
    "deletable": false,
    "editable": false,
    "nbgrader": {
     "cell_type": "markdown",
     "checksum": "53f7c516f3fed8a21d4c8941a229b4e8",
     "grade": false,
     "grade_id": "cell-880ab93334e1697d",
     "locked": true,
     "schema_version": 3,
     "solution": false,
     "task": false
    }
   },
   "source": [
    "# Manual Implementation of Apriori Algorithm\n",
    "\n",
    "In addition to using the built-in Apriori implementation from mlxtend, below is a manual implementation of the Apriori algorithm. This implementation works directly on the list of transactions and iteratively generates candidate itemsets and prunes them based on the minimum support threshold. This is provided at the end as a reference alongside your PCY and Toivonen implementations.\n",
    "\n",
    "The algorithm works as follows:\n",
    "\n",
    "1. Generate candidate 1-itemsets by counting all individual items in the transactions.\n",
    "2. Filter these candidates by the minimum support threshold to obtain frequent 1-itemsets.\n",
    "3. Iteratively generate candidate k-itemsets (for k > 1) by joining frequent (k-1)-itemsets and then pruning candidates if any (k-1)-subset is not frequent.\n",
    "4. Count the support for each candidate and filter out those that do not meet the minimum support threshold.\n",
    "5. Continue until no more candidate itemsets can be generated."
   ]
  },
  {
   "cell_type": "code",
   "execution_count": null,
   "id": "e086199e",
   "metadata": {
    "deletable": false,
    "editable": false,
    "nbgrader": {
     "cell_type": "code",
     "checksum": "0fc6bb7cf864e1e175d43ef6ae1c0a3d",
     "grade": false,
     "grade_id": "cell-578f908c2207e523",
     "locked": true,
     "schema_version": 3,
     "solution": false,
     "task": false
    }
   },
   "outputs": [],
   "source": [
    "from itertools import combinations\n",
    "\n",
    "def apriori_manual(transactions, min_support):\n",
    "    \"\"\"\n",
    "    A manual implementation of the Apriori algorithm.\n",
    "    \n",
    "    Parameters:\n",
    "        transactions: List of transactions (each transaction is a list of items).\n",
    "        min_support: Minimum support threshold (as a fraction).\n",
    "    \n",
    "    Returns:\n",
    "        A dictionary where keys are frozensets representing frequent itemsets and\n",
    "        values are their support values.\n",
    "    \"\"\"\n",
    "    total_transactions = len(transactions)\n",
    "    # Candidate 1-itemsets\n",
    "    candidate1 = {}\n",
    "    for transaction in transactions:\n",
    "        for item in transaction:\n",
    "            candidate1[frozenset([item])] = candidate1.get(frozenset([item]), 0) + 1\n",
    "    \n",
    "    # Filter candidates to get frequent 1-itemsets\n",
    "    L1 = {}\n",
    "    for itemset, count in candidate1.items():\n",
    "        support = count / total_transactions\n",
    "        if support >= min_support:\n",
    "            L1[itemset] = support\n",
    "    \n",
    "    frequent_itemsets = {}\n",
    "    frequent_itemsets.update(L1)\n",
    "    L_prev = set(L1.keys())\n",
    "    k = 2\n",
    "    \n",
    "    while L_prev:\n",
    "        candidate_k = {}\n",
    "        L_prev_list = list(L_prev)\n",
    "        # Generate candidate k-itemsets by joining frequent (k-1)-itemsets\n",
    "        for i in range(len(L_prev_list)):\n",
    "            for j in range(i+1, len(L_prev_list)):\n",
    "                union_set = L_prev_list[i].union(L_prev_list[j])\n",
    "                if len(union_set) == k:\n",
    "                    # Prune candidate if any (k-1)-subset is not frequent\n",
    "                    all_subsets_frequent = True\n",
    "                    for subset in combinations(union_set, k-1):\n",
    "                        if frozenset(subset) not in L_prev:\n",
    "                            all_subsets_frequent = False\n",
    "                            break\n",
    "                    if all_subsets_frequent:\n",
    "                        candidate_k[union_set] = 0\n",
    "        \n",
    "        # Count support for candidate k-itemsets\n",
    "        for transaction in transactions:\n",
    "            transaction_set = set(transaction)\n",
    "            for candidate in candidate_k:\n",
    "                if candidate.issubset(transaction_set):\n",
    "                    candidate_k[candidate] += 1\n",
    "        \n",
    "        L_k = {}\n",
    "        for candidate, count in candidate_k.items():\n",
    "            support = count / total_transactions\n",
    "            if support >= min_support:\n",
    "                L_k[candidate] = support\n",
    "        \n",
    "        if not L_k:\n",
    "            break\n",
    "        frequent_itemsets.update(L_k)\n",
    "        L_prev = set(L_k.keys())\n",
    "        k += 1\n",
    "    \n",
    "    return frequent_itemsets\n",
    "\n",
    "# Demonstrate the manual Apriori implementation\n",
    "manual_frequent_itemsets = apriori_manual(transactions, 0.03)\n",
    "\n",
    "# Convert the results into a sorted list of tuples for display\n",
    "manual_frequent_itemsets_list = sorted(manual_frequent_itemsets.items(), key=lambda x: x[1], reverse=True)\n",
    "print(\"Manual Apriori Frequent Itemsets (top 10):\")\n",
    "for itemset, support in manual_frequent_itemsets_list[:10]:\n",
    "    print(f\"Itemset: {set(itemset)}, Support: {support:.3f}\")"
   ]
  },
  {
   "cell_type": "markdown",
   "id": "72824bf7",
   "metadata": {
    "deletable": false,
    "editable": false,
    "nbgrader": {
     "cell_type": "markdown",
     "checksum": "714670c53c1745eb5b8ba52f598c65df",
     "grade": false,
     "grade_id": "cell-9d45f57f011b3eb0",
     "locked": true,
     "schema_version": 3,
     "solution": false,
     "task": false
    }
   },
   "source": [
    "# END"
   ]
  }
 ],
 "metadata": {
  "kernelspec": {
   "display_name": "Python 3 (ipykernel)",
   "language": "python",
   "name": "python3"
  },
  "language_info": {
   "codemirror_mode": {
    "name": "ipython",
    "version": 3
   },
   "file_extension": ".py",
   "mimetype": "text/x-python",
   "name": "python",
   "nbconvert_exporter": "python",
   "pygments_lexer": "ipython3",
   "version": "3.10.6"
  }
 },
 "nbformat": 4,
 "nbformat_minor": 5
}

{
 "cells": [
  {
   "cell_type": "markdown",
   "id": "3ea48f77-6a4f-40bc-9a98-63ab9b0cf69f",
   "metadata": {
    "deletable": false,
    "editable": false,
    "nbgrader": {
     "cell_type": "markdown",
     "checksum": "67d3cb62c956904e515960567c430672",
     "grade": false,
     "grade_id": "ads",
     "locked": true,
     "schema_version": 3,
     "solution": false,
     "task": false
    }
   },
   "source": [
    "<div class='heading'>\n",
    "    <div style='float:left;'><h1>CPSC 4300/6300: Applied Data Science</h1></div>\n",
    "    <img style=\"float: right; padding-right: 10px; width: 65px\" src=\"https://raw.githubusercontent.com/bsethwalker/clemson-cs4300/main/images/clemson_paw.png\"> </div>"
   ]
  },
  {
   "cell_type": "markdown",
   "id": "fce1c00c",
   "metadata": {
    "deletable": false,
    "editable": false,
    "nbgrader": {
     "cell_type": "markdown",
     "checksum": "5b65ee4208966a055ead8ff51e8cefa4",
     "grade": false,
     "grade_id": "week-3-lab",
     "locked": true,
     "schema_version": 3,
     "solution": false,
     "task": false
    }
   },
   "source": [
    "# Week 3 | Lab 3: k-NN Regression\n",
    "**Clemson University** **Instructor(s):** Tim Ransom\n",
    "\n",
    "------------------------------------------------------------------------\n",
    "\n",
    "## Learning objectives\n",
    " - Implement the k-Nearest Neighbors algorithm for regression using scikit-learn.\n",
    " - Evaluate the performance of a k-NN regression model by calculating the R-squared score on training and test datasets.\n",
    " - Interpret the impact of different values of 'k' on model performance, including bias-variance trade-off.\n",
    " \n",
    " --------------------------------------------"
   ]
  },
  {
   "cell_type": "markdown",
   "id": "1dda414e-5d6f-4394-af49-02fba1730f52",
   "metadata": {
    "deletable": false,
    "editable": false,
    "nbgrader": {
     "cell_type": "markdown",
     "checksum": "b8677491d176e7a5051cc217c678c50d",
     "grade": false,
     "grade_id": "about",
     "locked": true,
     "schema_version": 3,
     "solution": false,
     "task": false
    }
   },
   "source": [
    "## About\n",
    "\n",
    "#### This Lab exercise is focused on analyzing COVID-19 case data from selected South Eastern U.S. states using K-NN Regression. \n",
    "\n",
    "#### This Lab involves:\n",
    "\n",
    "**`Data Loading and Preprocessing:`** Loading COVID-19 data from a CSV file, filtering out invalid rows (such as those with zero or negative cases), and assigning unique day indices to track time progression.\n",
    "\n",
    "**`Data Filtering:`** Creating a dataset specifically for South Eastern states (South Carolina, North Carolina, Georgia, Florida, Tennessee, Mississippi, and Alabama) to narrow the focus of the analysis.\n",
    "\n",
    "**`Data Splitting:`** Splitting the filtered data into training and test datasets with a 70/30 split to evaluate model performance on unseen data.\n",
    "\n",
    "**`Model Training with k-Nearest Neighbors:`** Training multiple kNN regression models with different values of k to observe the effects of different neighbor sizes. These models will be used to predict daily COVID-19 cases.\n",
    "\n",
    "**`Model Evaluation:`** Calculating R² scores for both the training and test datasets for each value of k to quantitatively evaluate the performance of the models. A plot of R² values to visualize how the model's performance changes as k varies.\n",
    "\n",
    "**`Data Visualization:`** Various visualizations including:\n",
    "\n",
    "    1. A plot of the raw training data.\n",
    "    2. Predicted vs actual case plots for each kNN model, highlighting how well each model fits the data.\n",
    "    3. A plot of the train and test R² values as a function of k to help understand how the choice of k affects model performance.\n",
    "\n",
    "Overall, the exercise aims to demonstrate how kNN regression models, can be applied to real-world data for time-based prediction. It also explores the trade-offs between different model complexities by varying k and evaluating the impact on model performance, using both visualization and statistical metrics."
   ]
  },
  {
   "cell_type": "code",
   "execution_count": null,
   "id": "3e5a3abb-f91d-4405-8c3b-d5d4709f5017",
   "metadata": {
    "deletable": false,
    "editable": false,
    "nbgrader": {
     "cell_type": "code",
     "checksum": "1adecbbc9168b4555d45f19966a14c83",
     "grade": false,
     "grade_id": "formatting",
     "locked": true,
     "schema_version": 3,
     "solution": false,
     "task": false
    }
   },
   "outputs": [],
   "source": [
    "\"\"\" RUN THIS CELL TO GET THE RIGHT FORMATTING \"\"\"\n",
    "import requests\n",
    "from IPython.core.display import HTML\n",
    "css_file = 'https://raw.githubusercontent.com/bsethwalker/clemson-cs4300/main/css/cpsc6300.css'\n",
    "styles = requests.get(css_file).text\n",
    "HTML(styles)\n"
   ]
  },
  {
   "cell_type": "code",
   "execution_count": null,
   "id": "99977bc8-15be-45f9-8e37-ac461951f2be",
   "metadata": {
    "deletable": false,
    "editable": false,
    "nbgrader": {
     "cell_type": "code",
     "checksum": "3a5fff998bf0817becbcdd1f66377b88",
     "grade": false,
     "grade_id": "required-libs",
     "locked": true,
     "schema_version": 3,
     "solution": false,
     "task": false
    }
   },
   "outputs": [],
   "source": [
    "# Import necessary libraries for numerical operations, data manipulation, modeling, and visualization\n",
    "import numpy as np\n",
    "import pandas as pd\n",
    "\n",
    "from sklearn.metrics import r2_score\n",
    "from sklearn.neighbors import KNeighborsRegressor\n",
    "from sklearn.linear_model import LinearRegression\n",
    "from sklearn.model_selection import train_test_split\n",
    "import statsmodels.api as sm\n",
    "from statsmodels.api import OLS\n",
    "\n",
    "import matplotlib.pyplot as plt\n",
    "import seaborn as sns\n",
    "sns.set() # set theme for seaborn visualization\n",
    "# set seed value\n",
    "\n",
    "from matplotcheck.base import PlotTester\n",
    "from matplotlib.patches import PathPatch"
   ]
  },
  {
   "cell_type": "markdown",
   "id": "6e2819f7-587e-409f-96d4-ae2f1dcce76b",
   "metadata": {
    "deletable": false,
    "editable": false,
    "nbgrader": {
     "cell_type": "markdown",
     "checksum": "f8a10ca1679c6249a050270705f1f3af",
     "grade": false,
     "grade_id": "exercise-1",
     "locked": true,
     "schema_version": 3,
     "solution": false,
     "task": false
    }
   },
   "source": [
    "<div class=\"exercise\">  <b>Exercise 1:</b></div>\n",
    "\n",
    "- Load the data from `data/us-states.csv` into a DataFrame called `us_covid`"
   ]
  },
  {
   "cell_type": "code",
   "execution_count": null,
   "id": "e6bd8b9f-fbad-4ac8-a72f-29a8ef31c03d",
   "metadata": {
    "deletable": false,
    "nbgrader": {
     "cell_type": "code",
     "checksum": "e16f8ec2391fe54962cf5dbee46f5a3f",
     "grade": false,
     "grade_id": "exercise-1-implementation",
     "locked": false,
     "schema_version": 3,
     "solution": true,
     "task": false
    }
   },
   "outputs": [],
   "source": [
    "\"\"\"Write your code for exercise-1 here:\"\"\"\n",
    "\n",
    "# your code here\n",
    "raise NotImplementedError"
   ]
  },
  {
   "cell_type": "code",
   "execution_count": null,
   "id": "7625f59c",
   "metadata": {
    "deletable": false,
    "editable": false,
    "nbgrader": {
     "cell_type": "code",
     "checksum": "a2b7a9da788dd91777e234fae0942b82",
     "grade": true,
     "grade_id": "exercise-1-tests",
     "locked": true,
     "points": 3,
     "schema_version": 3,
     "solution": false,
     "task": false
    }
   },
   "outputs": [],
   "source": []
  },
  {
   "cell_type": "markdown",
   "id": "b190a866-088b-468a-b683-898711724f99",
   "metadata": {
    "deletable": false,
    "editable": false,
    "nbgrader": {
     "cell_type": "markdown",
     "checksum": "e6e2618885ec644ea63fb4954f1fe4f2",
     "grade": false,
     "grade_id": "exercise-2",
     "locked": true,
     "schema_version": 3,
     "solution": false,
     "task": false
    }
   },
   "source": [
    "<div class=\"exercise\">  <b>Exercise 2:</b></div>\n",
    "\n",
    "- Create a column called `day` where the column contains the day number. For example, 0 is the first date of data, 1 is the second, etc."
   ]
  },
  {
   "cell_type": "code",
   "execution_count": null,
   "id": "1c4ccf32-3753-48d8-9afc-2af33e8d7043",
   "metadata": {
    "deletable": false,
    "nbgrader": {
     "cell_type": "code",
     "checksum": "ed4cf0d9e1f452510162220f1c728f6c",
     "grade": false,
     "grade_id": "exercise-2-implementation",
     "locked": false,
     "schema_version": 3,
     "solution": true,
     "task": false
    }
   },
   "outputs": [],
   "source": [
    "\"\"\"Write your code for exercise-2 here:\"\"\"\n",
    "\n",
    "# your code here\n",
    "raise NotImplementedError"
   ]
  },
  {
   "cell_type": "code",
   "execution_count": null,
   "id": "778405cc",
   "metadata": {
    "deletable": false,
    "editable": false,
    "nbgrader": {
     "cell_type": "code",
     "checksum": "c3651bae76b6acfdfc1e0702d37cf0e3",
     "grade": true,
     "grade_id": "exercise-2-tests",
     "locked": true,
     "points": 5,
     "schema_version": 3,
     "solution": false,
     "task": false
    }
   },
   "outputs": [],
   "source": []
  },
  {
   "cell_type": "code",
   "execution_count": null,
   "id": "b169e621-c1b1-4fda-8a4d-a660b218552d",
   "metadata": {
    "deletable": false,
    "editable": false,
    "nbgrader": {
     "cell_type": "code",
     "checksum": "bcc2128a2983557ffc61f4924bf6d40e",
     "grade": false,
     "grade_id": "cell-5ec3372f46c696f1",
     "locked": true,
     "schema_version": 3,
     "solution": false,
     "task": false
    }
   },
   "outputs": [],
   "source": [
    "# you should be able to visualize your data using this line\n",
    "plt.scatter(us_covid.day, us_covid.cases)"
   ]
  },
  {
   "cell_type": "markdown",
   "id": "1157e22e-a856-462d-88bb-8602f6e63c31",
   "metadata": {
    "deletable": false,
    "editable": false,
    "nbgrader": {
     "cell_type": "markdown",
     "checksum": "2e4b1fbc1abfb693155c05ce6d1c3aa5",
     "grade": false,
     "grade_id": "exercise-3",
     "locked": true,
     "schema_version": 3,
     "solution": false,
     "task": false
    }
   },
   "source": [
    "<div class=\"exercise\">  <b>Exercise 3:</b></div>\n",
    "\n",
    "-  Remove any rows where the number of cases is less than or equal to zero."
   ]
  },
  {
   "cell_type": "code",
   "execution_count": null,
   "id": "50bd9c65-3ef0-4aad-8fca-3830a243a6d5",
   "metadata": {
    "deletable": false,
    "editable": false,
    "nbgrader": {
     "cell_type": "code",
     "checksum": "41e32d966b4eefeb4614ac46661148d5",
     "grade": false,
     "grade_id": "cell-bf45aff73292d69d",
     "locked": true,
     "schema_version": 3,
     "solution": false,
     "task": false
    }
   },
   "outputs": [],
   "source": [
    "# Shape of dataframe before removing rows where number of cases is less than or equal to zero.\n",
    "print(us_covid.shape)\n",
    "# Number of rows where the number of cases is less than or equal to zero.\n",
    "(us_covid.cases <= 0).sum()"
   ]
  },
  {
   "cell_type": "code",
   "execution_count": null,
   "id": "e26e7e47-18b7-4fc5-a562-39b66a26060b",
   "metadata": {
    "deletable": false,
    "nbgrader": {
     "cell_type": "code",
     "checksum": "6501736047cff21358d2649b23c5d012",
     "grade": false,
     "grade_id": "exercise-3-implementation",
     "locked": false,
     "schema_version": 3,
     "solution": true,
     "task": false
    }
   },
   "outputs": [],
   "source": [
    "# your code here\n",
    "raise NotImplementedError"
   ]
  },
  {
   "cell_type": "code",
   "execution_count": null,
   "id": "3a0faa4d-3938-4286-8a2c-bd9725d60e82",
   "metadata": {
    "deletable": false,
    "editable": false,
    "nbgrader": {
     "cell_type": "code",
     "checksum": "a0b12288b26e0a8ebdef53fb44c9139c",
     "grade": false,
     "grade_id": "cell-bdcc54d95cf8e811",
     "locked": true,
     "schema_version": 3,
     "solution": false,
     "task": false
    }
   },
   "outputs": [],
   "source": [
    "# Shape of dataframe after removing rows where number of cases is less than or equal to zero.\n",
    "us_covid.shape"
   ]
  },
  {
   "cell_type": "code",
   "execution_count": null,
   "id": "cce2eaf1-7eca-45ea-86bf-2b52edc671f5",
   "metadata": {
    "deletable": false,
    "editable": false,
    "nbgrader": {
     "cell_type": "code",
     "checksum": "4ec19124b9d1ad4910f7ceae39276c24",
     "grade": true,
     "grade_id": "exercise-3-tests",
     "locked": true,
     "points": 3,
     "schema_version": 3,
     "solution": false,
     "task": false
    }
   },
   "outputs": [],
   "source": []
  },
  {
   "cell_type": "markdown",
   "id": "6543b2e5-3974-426b-a414-e35f39e298e1",
   "metadata": {
    "deletable": false,
    "editable": false,
    "nbgrader": {
     "cell_type": "markdown",
     "checksum": "48c15c46686f2f0667836909c0ee25c7",
     "grade": false,
     "grade_id": "exercise-4",
     "locked": true,
     "schema_version": 3,
     "solution": false,
     "task": false
    }
   },
   "source": [
    "<div class=\"exercise\">  <b>Exercise 4:</b> </div>\n",
    "\n",
    "- Create a new DataFrame, called `se_covid`, which contains data from states in the South Eastern U.S. (South Carolina, North Carolina, Georgia, Florida, Tennessee, Mississippi and Alabama)"
   ]
  },
  {
   "cell_type": "markdown",
   "id": "83127a12",
   "metadata": {
    "deletable": false,
    "editable": false,
    "nbgrader": {
     "cell_type": "markdown",
     "checksum": "3448bb3acce5c7e1e9ff29d1aaad226b",
     "grade": false,
     "grade_id": "cell-4d224c26b339c32b",
     "locked": true,
     "schema_version": 3,
     "solution": false,
     "task": false
    }
   },
   "source": [
    "The `set` function in Python is used to create a mathematical set objct, which is an unordered collection of unique elements (no repeats, only one of anything)."
   ]
  },
  {
   "cell_type": "code",
   "execution_count": null,
   "id": "c44d0096-37cf-4e88-95f9-f55656d69a82",
   "metadata": {
    "deletable": false,
    "editable": false,
    "nbgrader": {
     "cell_type": "code",
     "checksum": "b9f352b7be76f795d617f1774a57ca91",
     "grade": false,
     "grade_id": "cell-58213a87f761ea1b",
     "locked": true,
     "schema_version": 3,
     "solution": false,
     "task": false
    }
   },
   "outputs": [],
   "source": [
    "us_covid.state.isin(set(['South Carolina']))"
   ]
  },
  {
   "cell_type": "markdown",
   "id": "2a784c27",
   "metadata": {
    "deletable": false,
    "editable": false,
    "nbgrader": {
     "cell_type": "markdown",
     "checksum": "2e486046236047372e5b027b7c577be8",
     "grade": false,
     "grade_id": "cell-ec806ba28f8ec265",
     "locked": true,
     "schema_version": 3,
     "solution": false,
     "task": false
    }
   },
   "source": [
    "In above code `us_covid.state` selects the state column from the `us_covid` DataFrame, which contains the state names for each row.\n",
    "\n",
    "`set(['South Carolina'])` creates a set containing a single element 'South Carolina'.\n",
    "\n",
    "The `.isin()` function checks if each value in the state column is present in the provided set. In this case, it will check if each state's name in the us_covid DataFrame is 'South Carolina'.\n",
    "\n",
    "The result of this code is a boolean Series (a column of True or False values) of the same length as the us_covid DataFrame. Each value will be:\n",
    "\n",
    "`True` if the corresponding state value is `South Carolina`\n",
    "`False` otherwise"
   ]
  },
  {
   "cell_type": "code",
   "execution_count": null,
   "id": "9f4e099c-74fd-4b69-ae22-c52a0383508a",
   "metadata": {
    "deletable": false,
    "editable": false,
    "nbgrader": {
     "cell_type": "code",
     "checksum": "a5c34f73218e14e1d11ec977e58f55b1",
     "grade": false,
     "grade_id": "cell-64e98305822a4aa9",
     "locked": true,
     "schema_version": 3,
     "solution": false,
     "task": false
    }
   },
   "outputs": [],
   "source": [
    "south_east_states = set(['South Carolina', 'North Carolina', 'Georgia', 'Florida', 'Tennessee', 'Mississippi', 'Alabama'])"
   ]
  },
  {
   "cell_type": "markdown",
   "id": "1d2234f7",
   "metadata": {
    "deletable": false,
    "editable": false,
    "nbgrader": {
     "cell_type": "markdown",
     "checksum": "7172d99062898282ac9f69f17ca213b5",
     "grade": false,
     "grade_id": "cell-4b4c743712ae91b1",
     "locked": true,
     "schema_version": 3,
     "solution": false,
     "task": false
    }
   },
   "source": [
    "Above code creates a set that contains the names of seven states: `South Carolina`, `North Carolina`, `Georgia`, `Florida`, `Tennessee`, `Mississippi`, and `Alabama`.\n",
    "\n",
    "This set is assigned to the variable `south_east_states`."
   ]
  },
  {
   "cell_type": "code",
   "execution_count": null,
   "id": "23a7ba1c-1e19-4baa-8927-c902f6794240",
   "metadata": {
    "deletable": false,
    "nbgrader": {
     "cell_type": "code",
     "checksum": "046b5de01cd951c20c6da70f2b7764b4",
     "grade": false,
     "grade_id": "exercise-4-implementation",
     "locked": false,
     "schema_version": 3,
     "solution": true,
     "task": false
    }
   },
   "outputs": [],
   "source": [
    "\"\"\"Write your code for exercise-4 here:\"\"\"\n",
    "\n",
    "# your code here\n",
    "raise NotImplementedError"
   ]
  },
  {
   "cell_type": "code",
   "execution_count": null,
   "id": "1f951ce4-c29c-4c07-a9d5-7e38f873b83d",
   "metadata": {
    "deletable": false,
    "editable": false,
    "nbgrader": {
     "cell_type": "code",
     "checksum": "5a30b0face45de6786a81878882f6f27",
     "grade": true,
     "grade_id": "exercise-4-tests",
     "locked": true,
     "points": 3,
     "schema_version": 3,
     "solution": false,
     "task": false
    }
   },
   "outputs": [],
   "source": []
  },
  {
   "cell_type": "code",
   "execution_count": null,
   "id": "589b17fd-0ede-47ae-9592-9ca2dad87399",
   "metadata": {
    "deletable": false,
    "editable": false,
    "nbgrader": {
     "cell_type": "code",
     "checksum": "93eb6be0f5dc1217e8ec5ebbe29d4792",
     "grade": false,
     "grade_id": "cell-dd89fe2c3e657521",
     "locked": true,
     "schema_version": 3,
     "solution": false,
     "task": false
    }
   },
   "outputs": [],
   "source": [
    "# print the number of rows and columns in the se_covid DataFrame\n",
    "se_covid.shape"
   ]
  },
  {
   "cell_type": "code",
   "execution_count": null,
   "id": "5d7fcce4-03d0-44ff-981c-03d8186f429c",
   "metadata": {
    "deletable": false,
    "editable": false,
    "nbgrader": {
     "cell_type": "code",
     "checksum": "432c9bc92c575eb851bbcaa2e56041e2",
     "grade": false,
     "grade_id": "cell-1d627cb4229f1847",
     "locked": true,
     "schema_version": 3,
     "solution": false,
     "task": false
    }
   },
   "outputs": [],
   "source": [
    "# print first few elements of se_covid dataframe\n",
    "se_covid.head()"
   ]
  },
  {
   "cell_type": "markdown",
   "id": "fcdbe1c1-11ef-4e18-b71a-6f048028fef6",
   "metadata": {
    "deletable": false,
    "editable": false,
    "nbgrader": {
     "cell_type": "markdown",
     "checksum": "864bf705a4b3fc8b1653806b398f1de6",
     "grade": false,
     "grade_id": "exercise-5",
     "locked": true,
     "schema_version": 3,
     "solution": false,
     "task": false
    }
   },
   "source": [
    "<div class=\"exercise\">  <b>Exercise 5:</b></div>\n",
    "\n",
    "- Split `se_covid` into training and test sets. Namely - `train_data` and `test_data` with an 70/30 split using `random_state = 42` ."
   ]
  },
  {
   "cell_type": "code",
   "execution_count": null,
   "id": "d2b2e546-e42d-488d-9236-7f11c063a10f",
   "metadata": {
    "deletable": false,
    "nbgrader": {
     "cell_type": "code",
     "checksum": "185b78dd0def1f16c99a408a26454912",
     "grade": false,
     "grade_id": "exercise-5-implementation",
     "locked": false,
     "schema_version": 3,
     "solution": true,
     "task": false
    }
   },
   "outputs": [],
   "source": [
    "\"\"\"Write your code for exercise-5 here:\"\"\"\n",
    "\n",
    "# your code here\n",
    "raise NotImplementedError"
   ]
  },
  {
   "cell_type": "code",
   "execution_count": null,
   "id": "4b9627ea-1fc9-4349-a0b1-101c840ced32",
   "metadata": {
    "deletable": false,
    "editable": false,
    "nbgrader": {
     "cell_type": "code",
     "checksum": "1cab993c09710953e9e80de7be4ee12e",
     "grade": true,
     "grade_id": "exercise-5-tests",
     "locked": true,
     "points": 5,
     "schema_version": 3,
     "solution": false,
     "task": false
    }
   },
   "outputs": [],
   "source": []
  },
  {
   "cell_type": "code",
   "execution_count": null,
   "id": "d78bf0e6-9c0f-4174-b8d4-f8c7c0a58537",
   "metadata": {
    "deletable": false,
    "editable": false,
    "nbgrader": {
     "cell_type": "code",
     "checksum": "dffe3d1d7c4253fcda53717bcc566a55",
     "grade": false,
     "grade_id": "cell-5b2961455f87ffcd",
     "locked": true,
     "schema_version": 3,
     "solution": false,
     "task": false
    }
   },
   "outputs": [],
   "source": [
    "# you should be able to see the first section of your data with this piece of code\n",
    "train_data.head()"
   ]
  },
  {
   "cell_type": "markdown",
   "id": "00d63af6-9a03-42e1-9f06-ac4ce53b3b78",
   "metadata": {
    "deletable": false,
    "editable": false,
    "nbgrader": {
     "cell_type": "markdown",
     "checksum": "3eb1aecd5674806465f49b7e2410b9d1",
     "grade": false,
     "grade_id": "exercise-6",
     "locked": true,
     "schema_version": 3,
     "solution": false,
     "task": false
    }
   },
   "source": [
    "<div class=\"exercise\">  <b>Exercise 6:</b> </div>\n",
    "\n",
    "- Plot the training data. \n",
    "- Create a scatter plot of COVID-19 daily case count in South Eastern U.S. States using `train_data` dataset where x-axis (`day`) represents the day since the start of the data and y-axis (`cases`) represents number of COVID-19 cases recorded for each day.\n",
    "  1. To create the scatter plot, you need to set up the Figure and Axes objects using `plt.subplots()`. \n",
    "        - These two objects (fig and ax) will allow you to control various properties of the figure and plot.\n",
    "        - `fig` is the Figure object: It serves as the overall container for the plot.\n",
    "        - `ax` is the Axes object: This is where the actual data points will be plotted, including x and y axes, labels, etc.\n",
    "        ```python\n",
    "            Example code: fig, ax = plt.subplots(figsize=(10, 6))\n",
    "        ```\n",
    "  2. Customize the Plot: \n",
    "        - You need to set the title of the plot, the labels for the x-axis and y-axis, and format the ticks on the x-axis for better readability."
   ]
  },
  {
   "cell_type": "code",
   "execution_count": null,
   "id": "f1f7f26d-0a21-44c3-b90c-8558ba1e5335",
   "metadata": {
    "deletable": false,
    "nbgrader": {
     "cell_type": "code",
     "checksum": "7df4ca5f2a5a218360ad6d75a3267c0f",
     "grade": false,
     "grade_id": "exercise-6-implementation",
     "locked": false,
     "schema_version": 3,
     "solution": true,
     "task": false
    }
   },
   "outputs": [],
   "source": [
    "\"\"\"Write your code for exercise-6 here:\"\"\"\n",
    "\n",
    "# your code here\n",
    "raise NotImplementedError\n"
   ]
  },
  {
   "cell_type": "code",
   "execution_count": null,
   "id": "1968f0ff-5263-4cca-85a6-f7cac5d0e2d8",
   "metadata": {
    "deletable": false,
    "editable": false,
    "nbgrader": {
     "cell_type": "code",
     "checksum": "afc297c8af82d97fc2db0c3912952476",
     "grade": true,
     "grade_id": "exercise-6-tests",
     "locked": true,
     "points": 7,
     "schema_version": 3,
     "solution": false,
     "task": false
    }
   },
   "outputs": [],
   "source": []
  },
  {
   "cell_type": "markdown",
   "id": "d5762392-754c-4f06-aac4-6a0642865017",
   "metadata": {
    "deletable": false,
    "editable": false,
    "nbgrader": {
     "cell_type": "markdown",
     "checksum": "dc348ca676124a9edfa0c566159df2ce",
     "grade": false,
     "grade_id": "cell-5a1978dbedf173fd",
     "locked": true,
     "schema_version": 3,
     "solution": false,
     "task": false
    }
   },
   "source": [
    "### Using a KNeighborsRegressor model from sklearn to perform a regression task. "
   ]
  },
  {
   "cell_type": "code",
   "execution_count": null,
   "id": "35be9ffa-40ed-4951-ad21-6e49f93b2e0e",
   "metadata": {
    "deletable": false,
    "editable": false,
    "nbgrader": {
     "cell_type": "code",
     "checksum": "a2ffed3ec7d23a2b3a3487dfbdbacc96",
     "grade": false,
     "grade_id": "cell-6430f66171fdd0f3",
     "locked": true,
     "schema_version": 3,
     "solution": false,
     "task": false
    }
   },
   "outputs": [],
   "source": [
    "# Create a k-NN regression model with 50 neighbors\n",
    "model = KNeighborsRegressor(n_neighbors=50)"
   ]
  },
  {
   "cell_type": "code",
   "execution_count": null,
   "id": "c0737d78-9867-4021-944e-33cde99eee77",
   "metadata": {
    "deletable": false,
    "editable": false,
    "nbgrader": {
     "cell_type": "code",
     "checksum": "636363c62418a8c2f6b8ba13342a5c0b",
     "grade": false,
     "grade_id": "cell-c08050d481411375",
     "locked": true,
     "schema_version": 3,
     "solution": false,
     "task": false
    }
   },
   "outputs": [],
   "source": [
    "# note the formatting of outputting a model in jupyter, we do not typically print the model like this and instead tell our audience metrics about it such as loss and accuacy\n",
    "model.fit(\n",
    "    train_data[['day']], # Input needs to be a Pandas DataFrame or a Numpy array\n",
    "    train_data[['cases']])\n"
   ]
  },
  {
   "cell_type": "markdown",
   "id": "58e105b7-1672-4a34-8431-3a7a246e7090",
   "metadata": {
    "deletable": false,
    "editable": false,
    "nbgrader": {
     "cell_type": "markdown",
     "checksum": "91f5ff48b352236c3abb7063b036fd3b",
     "grade": false,
     "grade_id": "cell-4fb9871a5d449dfe",
     "locked": true,
     "schema_version": 3,
     "solution": false,
     "task": false
    }
   },
   "source": [
    "### KNeighborsRegressor(n_neighbors=50):\n",
    "\n",
    "The above line initializes a K-nearest neighbors (KNN) regression model.\n",
    "\n",
    "**`KNeighborsRegressor` is an algorithm from scikit-learn's neighbors module, which is used for regression tasks.**\n",
    "\n",
    "`n_neighbors=50` specifies that the model will use the 50 nearest data points to make predictions. This means that, when making a prediction for a given day, the algorithm will find the 50 closest neighbors (in terms of feature space) and compute the average of their corresponding target values to predict the value for the input.\n",
    "\n",
    "### model.fit(train_data[['day']], train_data[['cases']]):\n",
    "\n",
    "The above line trains the `KNN regression model` on the training data.\n",
    "\n",
    "**fit() is the method used to train the model.**\n",
    "\n",
    "It takes two arguments:\n",
    "\n",
    "**Input Features** (`train_data[['day']]`):\n",
    "The input features should be provided as a DataFrame or a Numpy array.\n",
    "In this case, `train_data[['day']]` is used, which selects the day column from the train_data DataFrame. Notice that it is written as [['day']], which means it is passed as a 2D DataFrame, rather than a 1D series. This is important, as the model expects a 2D structure for input features.\n",
    "\n",
    "**Target Variable** (`train_data[['cases']]`):\n",
    "This is the column that the model is trying to predict.\n",
    "`train_data[['cases']]` is used, again as a 2D DataFrame, which contains the target values that correspond to the feature input. These are the COVID-19 case counts for each day.\n",
    "The model will learn the relationship between the day (as input) and cases (as output) by finding and storing relevant data points for future predictions."
   ]
  },
  {
   "cell_type": "markdown",
   "id": "051b5592-dc57-49e8-ba75-158d7d254750",
   "metadata": {
    "deletable": false,
    "editable": false,
    "nbgrader": {
     "cell_type": "markdown",
     "checksum": "ae5a275d622f3059491e93c5f1a3f640",
     "grade": false,
     "grade_id": "exercise-7",
     "locked": true,
     "schema_version": 3,
     "solution": false,
     "task": false
    }
   },
   "source": [
    "<div class=\"exercise\">  <b>Exercise 7:</b> </div>\n",
    " \n",
    "- Create a dictionary named - `KNN_models` containing k-NN Regression models where the dictionary key is the value of k and the value is the fitted k-NN model with the corresponding value of k.\n",
    "- Use the following values of `k`: `1`, `10`, `75`, `250`, `500`, `750`, `1000`, and the number of examples in the training set."
   ]
  },
  {
   "cell_type": "code",
   "execution_count": null,
   "id": "1a24b2ca-3499-47e7-ab44-662895521f3d",
   "metadata": {
    "deletable": false,
    "editable": false,
    "nbgrader": {
     "cell_type": "code",
     "checksum": "e040807b284ab1576c531b82da32e9ad",
     "grade": false,
     "grade_id": "cell-528348e65dbcb9ba",
     "locked": true,
     "schema_version": 3,
     "solution": false,
     "task": false
    }
   },
   "outputs": [],
   "source": [
    "# Create two k-NN regression models, one with 1 neighbor and another with 10 neighbors\n",
    "knn1 = KNeighborsRegressor(n_neighbors=1)\n",
    "knn10 = KNeighborsRegressor(n_neighbors=10)"
   ]
  },
  {
   "cell_type": "code",
   "execution_count": null,
   "id": "a18eab53-21ef-49d7-8926-72f4450eabca",
   "metadata": {
    "deletable": false,
    "editable": false,
    "nbgrader": {
     "cell_type": "code",
     "checksum": "03c09b51dc28611407b334d056105bf7",
     "grade": false,
     "grade_id": "cell-38f18f9d03391e5c",
     "locked": true,
     "schema_version": 3,
     "solution": false,
     "task": false
    }
   },
   "outputs": [],
   "source": [
    "# Dictionary to store k-NN models with different neighbor values\n",
    "example_dictionary = {1: KNeighborsRegressor(n_neighbors=1), 10: KNeighborsRegressor(n_neighbors=10)}\n",
    "example_dictionary"
   ]
  },
  {
   "cell_type": "code",
   "execution_count": null,
   "id": "ad7f00e5-d75c-4aae-b6b7-75196e4dab1d",
   "metadata": {
    "deletable": false,
    "editable": false,
    "nbgrader": {
     "cell_type": "code",
     "checksum": "dbfb53ab0da24b24a53375446a7f81eb",
     "grade": false,
     "grade_id": "cell-f420d4c38cd1e6aa",
     "locked": true,
     "schema_version": 3,
     "solution": false,
     "task": false
    }
   },
   "outputs": [],
   "source": [
    "# defining k values\n",
    "k_values = [1, 10, 75, 250, 500, 750, 1000, train_data.shape[0]]\n",
    "k_values"
   ]
  },
  {
   "cell_type": "code",
   "execution_count": null,
   "id": "187f77a1-5048-42f5-8c57-bd1a1a05d800",
   "metadata": {
    "deletable": false,
    "nbgrader": {
     "cell_type": "code",
     "checksum": "f5958edffb81f13516518cf0cabe2c56",
     "grade": false,
     "grade_id": "exercise-7-implementation",
     "locked": false,
     "schema_version": 3,
     "solution": true,
     "task": false
    }
   },
   "outputs": [],
   "source": [
    "\"\"\"Write your code for exercise-7 here:\"\"\"\n",
    "\n",
    "KNN_models = {}\n",
    "\n",
    "# your code here\n",
    "raise NotImplementedError"
   ]
  },
  {
   "cell_type": "code",
   "execution_count": null,
   "id": "f002890d-acc1-4e5e-9f5e-26c314a0b7a6",
   "metadata": {
    "deletable": false,
    "editable": false,
    "nbgrader": {
     "cell_type": "code",
     "checksum": "439fa02566c289f96bd80dca753d848f",
     "grade": true,
     "grade_id": "exercise-7-tests",
     "locked": true,
     "points": 7,
     "schema_version": 3,
     "solution": false,
     "task": false
    }
   },
   "outputs": [],
   "source": []
  },
  {
   "cell_type": "markdown",
   "id": "baf4be3f-81e8-4ea1-8117-953ec6b1a238",
   "metadata": {
    "deletable": false,
    "editable": false,
    "nbgrader": {
     "cell_type": "markdown",
     "checksum": "3ab85009031abbdc77cad171b6568a83",
     "grade": false,
     "grade_id": "exercise-8",
     "locked": true,
     "schema_version": 3,
     "solution": false,
     "task": false
    }
   },
   "source": [
    "<div class=\"exercise\">  <b>Exercise 8:</b> </div>\n",
    "\n",
    "- Create two dictionaries containing the predictions on both the train and test datasets. \n",
    "- Name these dictionaries `knn_predicted_pickups_train` and `knn_predicted_pickups_test` respectively."
   ]
  },
  {
   "cell_type": "code",
   "execution_count": null,
   "id": "458330b3-a4ae-4cc5-813e-7c9444e8895a",
   "metadata": {
    "deletable": false,
    "nbgrader": {
     "cell_type": "code",
     "checksum": "c0fd379237944d079608fc08b8081b94",
     "grade": false,
     "grade_id": "exercise-8-implementation",
     "locked": false,
     "schema_version": 3,
     "solution": true,
     "task": false
    }
   },
   "outputs": [],
   "source": [
    "\"\"\"Write your code for exercise-8 here:\"\"\"\n",
    "\n",
    "knn_predicted_pickups_train = {}\n",
    "knn_predicted_pickups_test = {}\n",
    "\n",
    "# your code here\n",
    "raise NotImplementedError"
   ]
  },
  {
   "cell_type": "code",
   "execution_count": null,
   "id": "4d3c9dcb-c80a-45be-941b-5515747dc394",
   "metadata": {
    "deletable": false,
    "editable": false,
    "nbgrader": {
     "cell_type": "code",
     "checksum": "acb2103e233163784e1f7dead54fd650",
     "grade": true,
     "grade_id": "exercise-8-tests",
     "locked": true,
     "points": 8,
     "schema_version": 3,
     "solution": false,
     "task": false
    }
   },
   "outputs": [],
   "source": []
  },
  {
   "cell_type": "markdown",
   "id": "158381f2-622e-47f2-8ac4-d54f269139f4",
   "metadata": {
    "deletable": false,
    "editable": false,
    "nbgrader": {
     "cell_type": "markdown",
     "checksum": "d59b0456c1595d98ef82ebb7b20d219f",
     "grade": false,
     "grade_id": "exercise-9",
     "locked": true,
     "schema_version": 3,
     "solution": false,
     "task": false
    }
   },
   "source": [
    "<div class=\"exercise\">  <b>Exercise 9:</b></div>\n",
    "\n",
    "- Plot the training data of each model, as well as the model predictions.\n",
    "\n",
    "1. Define the function `plot_knn_prediction` to visualize the predicted vs actual values:\n",
    "   - The function accepts `ax` (axis to plot on), `dataset` (data to plot), `predictions` (predicted values), `k` (number of neighbors), and `dataset_name` (name of the dataset, e.g., Training or Test).\n",
    "   - Plot the actual data using `ax.plot` with '.' as the point marker, which allows for clear visualization of actual data points.\n",
    "   - Plot the predicted values using `ax.plot` with '*' to clearly differentiate from actual data.\n",
    "   - Set the plot title, x-label, y-label, and include a legend to understand the plotted data.\n",
    "\n",
    "2. Create the figure for visualizing predictions:\n",
    "   - Use `plt.subplots()` to create subplots with `nrows` equal to the number of `k_values` and 2 columns (one for training data, one for test data).\n",
    "   - Set the figure size to `(16, 28)` for clarity, and add a general title for the whole figure using `fig.suptitle()`.\n",
    "\n",
    "3. Iterate through different values of `k` using a loop:\n",
    "   - For each value of `k` in `k_values`, use `plot_knn_prediction()` function to plot the training data on the left column and test data on the right column.\n",
    "   - `axes[i][0]` is used to plot on the training subplot and `axes[i][1]` for the test subplot.\n",
    "   - `knn_predicted_pickups_train[k]` and `knn_predicted_pickups_test[k]` hold the predicted values for training and test datasets respectively.\n",
    "\n",
    "4. Adjust the figure layout using `fig.tight_layout()`:\n",
    "   - This ensures that subplots are arranged nicely, and labels/titles don’t overlap. "
   ]
  },
  {
   "cell_type": "code",
   "execution_count": null,
   "id": "99d96d7d-4cdf-4011-ba45-ce535d298ffb",
   "metadata": {
    "deletable": false,
    "nbgrader": {
     "cell_type": "code",
     "checksum": "384c9c6e929025e2154df7ce65e321d6",
     "grade": false,
     "grade_id": "exercise-9-implementation",
     "locked": false,
     "schema_version": 3,
     "solution": true,
     "task": false
    }
   },
   "outputs": [],
   "source": [
    "\"\"\"Write your code for exercise-9 here:\"\"\"\n",
    "\n",
    "# fill in this function skeleton with your code\n",
    "def plot_knn_prediction():\n",
    "    pass\n",
    "    \n",
    "# your code here\n",
    "raise NotImplementedError"
   ]
  },
  {
   "cell_type": "code",
   "execution_count": null,
   "id": "37996226-a19a-495f-a47c-7ffd7588cd60",
   "metadata": {
    "deletable": false,
    "editable": false,
    "nbgrader": {
     "cell_type": "code",
     "checksum": "cc350db59dbb184905572385c820aeeb",
     "grade": true,
     "grade_id": "exercise-9-tests",
     "locked": true,
     "points": 12,
     "schema_version": 3,
     "solution": false,
     "task": false
    }
   },
   "outputs": [],
   "source": []
  },
  {
   "cell_type": "markdown",
   "id": "26a51749-0f6a-44f9-bc00-ebc5e71da6d8",
   "metadata": {
    "deletable": false,
    "editable": false,
    "nbgrader": {
     "cell_type": "markdown",
     "checksum": "1335244ed5a4f1a83ff2c5d8061f1cd0",
     "grade": false,
     "grade_id": "exercise-10",
     "locked": true,
     "schema_version": 3,
     "solution": false,
     "task": false
    }
   },
   "source": [
    "<div class=\"exercise\">  <b>Exercise 10.1:</b> </div>\n",
    "\n",
    "- What happens as `k` increases? \n",
    "  1. the predition converges\n",
    "  2. the predition diverges\n",
    "  3. undefined behavior\n",
    "  \n",
    "Write your selection to a variable named `answer` in the cell below."
   ]
  },
  {
   "cell_type": "code",
   "execution_count": null,
   "id": "42328ba2",
   "metadata": {
    "deletable": false,
    "nbgrader": {
     "cell_type": "code",
     "checksum": "010796b4ec99ec6204ea03946dfb06ac",
     "grade": false,
     "grade_id": "exercise-10-answer",
     "locked": false,
     "schema_version": 3,
     "solution": true,
     "task": false
    }
   },
   "outputs": [],
   "source": [
    "# your code here\n",
    "raise NotImplementedError"
   ]
  },
  {
   "cell_type": "code",
   "execution_count": null,
   "id": "e8e21493",
   "metadata": {
    "deletable": false,
    "editable": false,
    "nbgrader": {
     "cell_type": "code",
     "checksum": "186514b395134f2a5ad1e2d7b7a1a418",
     "grade": true,
     "grade_id": "exercise-10-test",
     "locked": true,
     "points": 2,
     "schema_version": 3,
     "solution": false,
     "task": false
    }
   },
   "outputs": [],
   "source": []
  },
  {
   "cell_type": "markdown",
   "id": "26571722",
   "metadata": {
    "deletable": false,
    "editable": false,
    "nbgrader": {
     "cell_type": "markdown",
     "checksum": "554beacb62378bcfddc8b1c3e4556881",
     "grade": false,
     "grade_id": "cell-27ac5ef2c6288cd1",
     "locked": true,
     "schema_version": 3,
     "solution": false,
     "task": false
    }
   },
   "source": [
    "<div class=\"exercise\">  <b>Exercise 10.2:</b> </div>\n",
    "\n",
    "- What prediction do we get when `k` is `equal` to the number of training points?\n",
    "  1. the average of the data set\n",
    "  2. the median of the data set\n",
    "  3. the mode of the data set\n",
    "  4. the standard deviation of the data set\n",
    "  \n",
    "Write your selection to a variable named `answer` in the cell below."
   ]
  },
  {
   "cell_type": "code",
   "execution_count": null,
   "id": "310018c9",
   "metadata": {
    "deletable": false,
    "nbgrader": {
     "cell_type": "code",
     "checksum": "cbb724286ccd05d6aa0af14695d5b278",
     "grade": false,
     "grade_id": "cell-d6d4a9c559950e41",
     "locked": false,
     "schema_version": 3,
     "solution": true,
     "task": false
    }
   },
   "outputs": [],
   "source": [
    "# your code here\n",
    "raise NotImplementedError"
   ]
  },
  {
   "cell_type": "code",
   "execution_count": null,
   "id": "841d3c56",
   "metadata": {
    "deletable": false,
    "editable": false,
    "nbgrader": {
     "cell_type": "code",
     "checksum": "fd1ff9596f3a7366e8b661bee01f721e",
     "grade": true,
     "grade_id": "cell-ab483a1c200ade20",
     "locked": true,
     "points": 2,
     "schema_version": 3,
     "solution": false,
     "task": false
    }
   },
   "outputs": [],
   "source": []
  },
  {
   "cell_type": "markdown",
   "id": "d640b9e2",
   "metadata": {
    "deletable": false,
    "editable": false,
    "nbgrader": {
     "cell_type": "markdown",
     "checksum": "7fa361901b90edbd36ab84abfeb2a95c",
     "grade": false,
     "grade_id": "exercise-11",
     "locked": true,
     "schema_version": 3,
     "solution": false,
     "task": false
    }
   },
   "source": [
    "<div class=\"exercise\">  <b>Exercise 11:</b>  </div>\n",
    "\n",
    "- Calculate and report the train and test R2 values for each model. \n",
    "- Store the values in dictionary named: `train_r2_scores = {}` and `test_r2_scores = {}`"
   ]
  },
  {
   "cell_type": "code",
   "execution_count": null,
   "id": "e300e307-3f36-473c-90b6-5f967c9ad37b",
   "metadata": {
    "deletable": false,
    "nbgrader": {
     "cell_type": "code",
     "checksum": "4f0f05bd3f3ee1397d9425cc90dbe920",
     "grade": false,
     "grade_id": "exercise-11-implementation",
     "locked": false,
     "schema_version": 3,
     "solution": true,
     "task": false
    }
   },
   "outputs": [],
   "source": [
    "\"\"\"Write your code for exercise-11 here:\"\"\"\n",
    "\n",
    "# your code here\n",
    "raise NotImplementedError"
   ]
  },
  {
   "cell_type": "code",
   "execution_count": null,
   "id": "8d080b25-0a19-4b7d-8db3-366d3acd02ad",
   "metadata": {
    "deletable": false,
    "editable": false,
    "nbgrader": {
     "cell_type": "code",
     "checksum": "9e46ab46bc102e64357add6ce5c9ced3",
     "grade": true,
     "grade_id": "exercise-11-tests",
     "locked": true,
     "points": 15,
     "schema_version": 3,
     "solution": false,
     "task": false
    }
   },
   "outputs": [],
   "source": []
  },
  {
   "cell_type": "code",
   "execution_count": null,
   "id": "5fc0567f-c04c-4eba-9a4c-63e0fa7efc43",
   "metadata": {
    "deletable": false,
    "editable": false,
    "nbgrader": {
     "cell_type": "code",
     "checksum": "c63a3a6ca1493934e6c798a5726734c7",
     "grade": false,
     "grade_id": "cell-4a8cd5240da55b19",
     "locked": true,
     "schema_version": 3,
     "solution": false,
     "task": false
    }
   },
   "outputs": [],
   "source": [
    "# This format makes the display much more readable\n",
    "knn_r2_df = pd.DataFrame(data = {\"k\" : tuple(train_r2_scores.keys()), \n",
    "                                    \"Train R^2\" : tuple(train_r2_scores.values()), \n",
    "                                    \"Test R^2\" : tuple(test_r2_scores.values())})\n",
    "\n",
    "\n",
    "knn_r2_df"
   ]
  },
  {
   "cell_type": "markdown",
   "id": "ccd11956-bb30-41f5-820c-63137f5a0d5f",
   "metadata": {
    "deletable": false,
    "editable": false,
    "nbgrader": {
     "cell_type": "markdown",
     "checksum": "1ec8db33eef31867e351a8d663dd3c0d",
     "grade": false,
     "grade_id": "exercise-12",
     "locked": true,
     "schema_version": 3,
     "solution": false,
     "task": false
    }
   },
   "source": [
    "<div class=\"exercise\">  <b>Exercise 12:</b> </div>\n",
    "\n",
    "- Create a line plot of the train/test $R^2$ scores as a function of k.\n",
    "- Plot the $R^2$ scores for training and testing datasets\n",
    "- Use `k_values` for the x-axis and the lists of train and test $R^2$ scores as y-axis values\n",
    "\n",
    "   1. To create the plot, you need to set up the Figure and Axes objects using `plt.subplots()`. \n",
    "        - These two objects (fig and ax) will allow you to control various properties of the figure and plot.\n",
    "        - `fig` is the Figure object: It serves as the overall container for the plot.\n",
    "        - `ax` is the Axes object: This is where the actual data points will be plotted, including x and y axes, labels, etc.\n",
    "        ```python\n",
    "            Example code: fig, ax = plt.subplots(figsize=(10, 6))\n",
    "        ```\n",
    "   2. Customize the Plot: \n",
    "        - You need to set the title of the plot, the labels for the x-axis and y-axis, and format the ticks on the x-axis for better readability."
   ]
  },
  {
   "cell_type": "code",
   "execution_count": null,
   "id": "066e7a4f-602c-4608-88fb-cee28d82ee97",
   "metadata": {
    "deletable": false,
    "nbgrader": {
     "cell_type": "code",
     "checksum": "fb835f6de19fec8ea992ffac4e207a17",
     "grade": false,
     "grade_id": "exercise-12-implementation",
     "locked": false,
     "schema_version": 3,
     "solution": true,
     "task": false
    }
   },
   "outputs": [],
   "source": [
    "\"\"\"Write your code for exercise-12 here:\"\"\"\n",
    "\n",
    "# your code here\n",
    "raise NotImplementedError"
   ]
  },
  {
   "cell_type": "code",
   "execution_count": null,
   "id": "7a379ed2",
   "metadata": {
    "deletable": false,
    "editable": false,
    "nbgrader": {
     "cell_type": "code",
     "checksum": "bea12088721615d572d120363c8a463d",
     "grade": true,
     "grade_id": "exercise-12-tests",
     "locked": true,
     "points": 5,
     "schema_version": 3,
     "solution": false,
     "task": false
    }
   },
   "outputs": [],
   "source": []
  },
  {
   "cell_type": "markdown",
   "id": "f6df407b",
   "metadata": {
    "deletable": false,
    "editable": false,
    "nbgrader": {
     "cell_type": "markdown",
     "checksum": "728b55fcbf6d3208654ec24b63f2d20b",
     "grade": false,
     "grade_id": "end",
     "locked": true,
     "schema_version": 3,
     "solution": false,
     "task": false
    }
   },
   "source": [
    "# END"
   ]
  }
 ],
 "metadata": {
  "kernelspec": {
   "display_name": "Python 3 (ipykernel)",
   "language": "python",
   "name": "python3"
  },
  "language_info": {
   "codemirror_mode": {
    "name": "ipython",
    "version": 3
   },
   "file_extension": ".py",
   "mimetype": "text/x-python",
   "name": "python",
   "nbconvert_exporter": "python",
   "pygments_lexer": "ipython3",
   "version": "3.10.6"
  }
 },
 "nbformat": 4,
 "nbformat_minor": 5
}

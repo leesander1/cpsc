{
 "cells": [
  {
   "cell_type": "markdown",
   "id": "96eaf28f",
   "metadata": {
    "deletable": false,
    "editable": false,
    "nbgrader": {
     "cell_type": "markdown",
     "checksum": "67d3cb62c956904e515960567c430672",
     "grade": false,
     "grade_id": "ads",
     "locked": true,
     "schema_version": 3,
     "solution": false,
     "task": false
    }
   },
   "source": [
    "<div class='heading'>\n",
    "    <div style='float:left;'><h1>CPSC 4300/6300: Applied Data Science</h1></div>\n",
    "    <img style=\"float: right; padding-right: 10px; width: 65px\" src=\"https://raw.githubusercontent.com/bsethwalker/clemson-cs4300/main/images/clemson_paw.png\"> </div>"
   ]
  },
  {
   "cell_type": "markdown",
   "id": "929c00b0-8dc1-4e4e-9637-03a674755474",
   "metadata": {
    "deletable": false,
    "editable": false,
    "nbgrader": {
     "cell_type": "markdown",
     "checksum": "fcd7437662e2d419cba4d0203bd57bb5",
     "grade": false,
     "grade_id": "week-13-lab",
     "locked": true,
     "schema_version": 3,
     "solution": false,
     "task": false
    }
   },
   "source": [
    "## Week 13 | Lab: Building and Regularizing a Neural Network \n",
    "\n",
    "**Clemson University** </br>\n",
    "**Instructor(s):** Tim Ransom </br>\n",
    "\n",
    "------------------------------------------------------------------------\n",
    "## Learning objectives\n",
    "\n",
    "- Explain the concept of overfitting in neural networks.\n",
    "- Apply regularization techniques like dropout to prevent overfitting.\n",
    "- Analyze the impact of different regularization methods on model performance.\n",
    "- Interpret training and validation curves to diagnose overfitting.\n",
    "- Tune hyperparameters to optimize the performance of a neural network."
   ]
  },
  {
   "cell_type": "markdown",
   "id": "94fe999c-d6e1-48ac-b5fa-0d93b71835ca",
   "metadata": {
    "deletable": false,
    "editable": false,
    "nbgrader": {
     "cell_type": "markdown",
     "checksum": "820870b1796644acf39656c013871ca8",
     "grade": false,
     "grade_id": "instructions",
     "locked": true,
     "schema_version": 3,
     "solution": false,
     "task": false
    }
   },
   "source": [
    "### INSTRUCTIONS\n",
    "\n",
    "-   As much as possible, try and stick to the hints and functions we\n",
    "    import at the top of the homework, as those are the ideas and tools\n",
    "    the class supports and are aiming to teach. And, if a problem\n",
    "    specifies a particular library, you're required to use that library,\n",
    "    and possibly others from the import list.\n",
    "-   Please use .head() when viewing data. "
   ]
  },
  {
   "cell_type": "code",
   "execution_count": null,
   "id": "0ee52d0d-fcda-4883-b9fc-3ebca1d6c625",
   "metadata": {
    "deletable": false,
    "editable": false,
    "nbgrader": {
     "cell_type": "code",
     "checksum": "1adecbbc9168b4555d45f19966a14c83",
     "grade": false,
     "grade_id": "formatting",
     "locked": true,
     "schema_version": 3,
     "solution": false,
     "task": false
    }
   },
   "outputs": [],
   "source": [
    "\"\"\" RUN THIS CELL TO GET THE RIGHT FORMATTING \"\"\"\n",
    "import requests\n",
    "from IPython.core.display import HTML\n",
    "css_file = 'https://raw.githubusercontent.com/bsethwalker/clemson-cs4300/main/css/cpsc6300.css'\n",
    "styles = requests.get(css_file).text\n",
    "HTML(styles)\n"
   ]
  },
  {
   "cell_type": "code",
   "execution_count": null,
   "id": "77ccbe36-b29b-4c76-bcd9-544a7a77e444",
   "metadata": {
    "deletable": false,
    "editable": false,
    "nbgrader": {
     "cell_type": "code",
     "checksum": "e27cefb97efdf636f41eccfe9ad4dbd5",
     "grade": false,
     "grade_id": "required-libs",
     "locked": true,
     "schema_version": 3,
     "solution": false,
     "task": false
    }
   },
   "outputs": [],
   "source": [
    "import random\n",
    "random.seed(112358)\n",
    "\n",
    "import numpy as np\n",
    "import pandas as pd\n",
    "import matplotlib.pyplot as plt\n",
    "from matplotcheck.base import PlotTester\n",
    "%matplotlib inline\n",
    "\n",
    "import seaborn as sns\n",
    "pd.set_option('display.width', 1500)\n",
    "pd.set_option('display.max_columns', 100)\n",
    "\n",
    "# from sklearn.utils import shuffle\n"
   ]
  },
  {
   "cell_type": "code",
   "execution_count": null,
   "id": "71603d24-1855-431e-8d42-8a90ba489b12",
   "metadata": {
    "deletable": false,
    "editable": false,
    "nbgrader": {
     "cell_type": "code",
     "checksum": "32eab879da7cd264885f1e5fe198aad3",
     "grade": false,
     "grade_id": "importing-tf",
     "locked": true,
     "schema_version": 3,
     "solution": false,
     "task": false
    }
   },
   "outputs": [],
   "source": [
    "# TensorFlow and tf.keras\n",
    "import tensorflow as tf\n",
    "\n",
    "print(tf.__version__)"
   ]
  },
  {
   "cell_type": "markdown",
   "id": "09ad3858",
   "metadata": {
    "deletable": false,
    "editable": false,
    "nbgrader": {
     "cell_type": "markdown",
     "checksum": "1884451255c07c70d440466750b779fd",
     "grade": false,
     "grade_id": "about",
     "locked": true,
     "schema_version": 3,
     "solution": false,
     "task": false
    }
   },
   "source": [
    "<div class='theme'> Neural Networks: Learning Fourier Transform Mapping </div>\n",
    "\n",
    "Neural networks are, of course, a large and complex topic that cannot be covered in a single exercise. Here, we'll focus on the key idea of Artificial Neural Networks (ANNs): they can learn a mapping from example input data $ X $ (of fixed size) to example output data $ Y $ (of fixed size). This is the same concept as every other classification and regression task we've learned so far.\n",
    "\n",
    "In this exercise, we'll explore how neural networks generalize and what patterns they learn. Specifically, we will see if neural networks can learn a limited version of the **Fourier Transform**.\n",
    "\n",
    "---\n",
    "\n",
    "## What is a Fourier Transform?\n",
    "\n",
    "The Fourier Transform takes in values from some function and returns a set of sine and cosine functions that, when added together, approximate the original function. \n",
    "\n",
    "In mathematical terms:\n",
    "$\n",
    "F(s) = \\int_{-\\infty}^{\\infty} f(x)e^{-i x s} dx\n",
    "$\n",
    "\n",
    "### Key Concept:\n",
    "The transformed function at some point $ s $ measures, in some sense, how much the original $ f(x) $ resembles a wave with a period of $ s $.\n",
    "\n",
    "### Example:\n",
    "Let $ f(x) = 4\\cos(x) + \\sin(2x) $.  \n",
    "The Fourier Transform, $ \\mathcal{F}(s) $, would be 0 everywhere except at -2, -1, 1, and 2, corresponding to waves of periods 1 and 1/2. The values at these points represent the magnitude of the waves and their phases (e.g., sine waves vs cosine waves).\n",
    "\n",
    "---\n",
    "\n",
    "## Problem Setup\n",
    "\n",
    "We will train a neural network to approximate a limited Fourier Transform. The network will map **1000 sample values** from a function (equally spaced along $ 0 $ to $ 10\\pi $ ) to **four features** representing the sine and cosine components of that function.\n",
    "\n",
    "### Dataset Details:\n",
    "- **Input**: A 1000-entry vector (samples from the original function).\n",
    "- **Output**: A 4-entry vector (features of sine and cosine components).\n",
    "\n",
    "### Dataset Shapes:\n",
    "- $ X_{\\text{train}} $: Shape $ N \\times 1000 $\n",
    "- $ y_{\\text{train}} $: Shape $ N \\times 4 $\n",
    "\n",
    "---\n",
    "\n",
    "## Datasets\n",
    "\n",
    "We will use 6 datasets in this exercise:\n",
    "\n",
    "1. **Training Data**:\n",
    "   - `sinewaves_X_train.npy`: Shape $ 10,000 \\times 1,000 $\n",
    "   - `sinewaves_y_train.npy`: Shape $ 10,000 \\times 4 $\n",
    "\n",
    "   *Generated by randomly selecting $ a, b, c, d $ in the interval $[0,1]$ and building the curve $ a\\sin(bx) + c\\cos(dx) $.*\n",
    "\n",
    "2. **Test Data**:\n",
    "   - `sinewaves_X_test.npy`: Shape $ 2,000 \\times 1,000 $\n",
    "   - `sinewaves_y_test.npy`: Shape $ 2,000 \\times 4 $\n",
    "\n",
    "   *Generated similarly to the training data.*\n",
    "\n",
    "3. **Extended Test Data**:\n",
    "   - `sinewaves_X_extended_test.npy`: Shape $ 9 \\times 1,000 $\n",
    "   - `sinewaves_y_extended_test.npy`: Shape $ 9 \\times 4 $\n",
    "\n",
    "   *Tests whether the network can generalize beyond the training data (e.g., to negative values of $ a $).*\n",
    "\n",
    "---\n",
    "\n",
    "## Objective\n",
    "\n",
    "The goal is to train a neural network to map from the input $ X $ (1000-entry vector) to the output $ y $ (4-entry vector). The network should generalize well to unseen data.\n",
    "\n",
    "---\n",
    "\n",
    "### Questions 1.1 and 1.2:\n",
    "- Get familiar with the format of the data.\n",
    "\n",
    "---\n",
    "\n",
    "## Hints\n",
    "\n",
    "1. Use TensorFlow's `tf.keras.Sequential` model for this exercise.\n",
    "   - Documentation: [TensorFlow Sequential Model](https://www.tensorflow.org/guide/keras/sequential_model)\n",
    "\n",
    "2. A strong model should achieve:\n",
    "   - **Validation Error**: ~0.03\n",
    "   - **Excellent Model**: Validation error of ~0.02."
   ]
  },
  {
   "cell_type": "markdown",
   "id": "bbb6e7b0",
   "metadata": {
    "deletable": false,
    "editable": false,
    "nbgrader": {
     "cell_type": "markdown",
     "checksum": "5377178500fd15dbbcf48b7e88dbfadd",
     "grade": false,
     "grade_id": "plot-predictions-function",
     "locked": true,
     "schema_version": 3,
     "solution": false,
     "task": false
    }
   },
   "source": [
    "# Function: `plot_predictions`\n",
    "\n",
    "## Purpose:\n",
    "The `plot_predictions` function evaluates and visualizes the performance of a neural network trained to approximate Fourier Transform parameters. It compares the true sine curves with those implied by the model's predictions.\n",
    "\n",
    "## Parameters:\n",
    "- `model`: A TensorFlow/Keras model trained to map inputs of shape $(n, 1000$) to outputs of shape $(n, 4)$.\n",
    "- `test_x`: A test input dataset of shape $(n, 1000)$, representing sampled sine wave data.\n",
    "- `test_y`: A test output dataset of shape $(n, 4)$, representing the true Fourier Transform parameters.\n",
    "- `count` (optional): The number of examples to plot. If not provided:\n",
    "  - Plots all examples if the dataset has fewer than 20 examples.\n",
    "  - Otherwise, plots 5 randomly selected examples.\n",
    "\n",
    "---\n",
    "\n",
    "## Functionality:\n",
    "1. **Helper Function: `y2x`**:\n",
    "   - Takes an $(n, 4)$ output array and reverse-engineers the sine curves described by those Fourier Transform parameters.\n",
    "   - **Parameters:**\n",
    "     - $a$, $b$, $c$, $d$: Extracted from the model's predictions.\n",
    "   - **Output**:\n",
    "     - Reconstructed sine wave data for each test example using:\n",
    "       $\n",
    "       x_{\\text{data}} = a \\sin(b x) + c \\cos(d x)\n",
    "       $\n",
    "\n",
    "2. **Visualization**:\n",
    "   - Plots both the true sine wave (`test_x`) and the sine wave implied by the model's predictions for each selected example.\n",
    "   - Displays a maximum of `count` examples (default: 5 if $\\text{test\\_x.shape[0]} > 20$).\n",
    "   - Sets plot limits to keep the curves visually consistent.\n",
    "\n",
    "3. **Output**:\n",
    "   - Prints the true Fourier Transform parameters (`test_y`) and the corresponding predictions (`predicted`) for each plotted example.\n",
    "\n",
    "---\n",
    "\n",
    "## Example Usage:\n",
    "```python\n",
    "# Assuming `model` is a trained neural network, and test datasets are available\n",
    "plot_predictions(model, sinewaves_X_test, sinewaves_y_test)\n"
   ]
  },
  {
   "cell_type": "code",
   "execution_count": null,
   "id": "1f0c399e-c9bd-4cab-b266-2b8a45050615",
   "metadata": {
    "deletable": false,
    "editable": false,
    "nbgrader": {
     "cell_type": "code",
     "checksum": "b8c76fd9f552a6169d894fa86b358859",
     "grade": false,
     "grade_id": "plot-pred-function",
     "locked": true,
     "schema_version": 3,
     "solution": false,
     "task": false
    }
   },
   "outputs": [],
   "source": [
    "def plot_predictions(model, test_x, test_y, count=None):\n",
    "    # Model - a tf.keras model that takes in (n,1000) training data and predicts (n,4) output data\n",
    "    # test_x - a (n,1000) input dataset\n",
    "    # test_y - a (n,4) output dataset\n",
    "    # This function will plot the sine curves in the training data and those implied by the model's predictions.\n",
    "    # It will also print the predicted and actual output values.\n",
    "\n",
    "    #helper function that takes the n by 4 output and reverse-engineers \n",
    "    #the sine curves that output would create\n",
    "    def y2x(y_data):\n",
    "        #extract parameters\n",
    "        a=y_data[:,0].reshape(-1,1)\n",
    "        b=y_data[:,1].reshape(-1,1)\n",
    "        c=y_data[:,2].reshape(-1,1)\n",
    "        d=y_data[:,3].reshape(-1,1)\n",
    "\n",
    "        #build the matching training data\n",
    "        x_points = np.linspace(0,10*np.pi,1000)\n",
    "        x_data = a*np.sin(np.outer(b,x_points)) + c*np.cos(np.outer(d,x_points))\n",
    "        return x_data\n",
    "\n",
    "    #if <20 examples, plot all. If more, just plot 5\n",
    "    if count==None:\n",
    "        if test_x.shape[0]>20:\n",
    "            count=5\n",
    "        else:\n",
    "            count=test_x.shape[0]\n",
    "\n",
    "    #build predictions\n",
    "    predicted = model.predict(test_x)\n",
    "    implied_x = y2x(predicted)\n",
    "    for i in range(count):\n",
    "        plt.plot(test_x[i,:],label='true')\n",
    "        plt.plot(implied_x[i,:],label='predicted')\n",
    "        plt.legend()\n",
    "        plt.ylim(-2.1,2.1)\n",
    "        plt.xlabel(\"x value\")\n",
    "        plt.xlabel(\"y value\")\n",
    "        plt.title(\"Curves using the Neural Network's Approximate Fourier Transform\")\n",
    "        plt.show()\n",
    "        print(\"true:\", test_y[i,:])\n",
    "        print(\"predicted:\", predicted[i,:])"
   ]
  },
  {
   "cell_type": "code",
   "execution_count": null,
   "id": "33e941cd-2a69-4f01-8c76-8876938c5e9e",
   "metadata": {
    "deletable": false,
    "editable": false,
    "nbgrader": {
     "cell_type": "code",
     "checksum": "dd5ed62d60c38de7405f77e705d0a51c",
     "grade": false,
     "grade_id": "read-data-set",
     "locked": true,
     "schema_version": 3,
     "solution": false,
     "task": false
    }
   },
   "outputs": [],
   "source": [
    "X_train = np.load('data/sinewaves_dataset/sinewaves_X_train.npy')\n",
    "y_train = np.load('data/sinewaves_dataset/sinewaves_y_train.npy')\n",
    "\n",
    "X_test = np.load('data/sinewaves_dataset/sinewaves_X_test.npy')\n",
    "y_test = np.load('data/sinewaves_dataset/sinewaves_y_test.npy')\n",
    "\n",
    "X_extended_test = np.load('data/sinewaves_dataset/sinewaves_X_extended_test.npy')\n",
    "y_extended_test = np.load('data/sinewaves_dataset/sinewaves_y_extended_test.npy')\n"
   ]
  },
  {
   "cell_type": "markdown",
   "id": "cd053447-0083-4feb-9ad7-c902b237dbf7",
   "metadata": {
    "deletable": false,
    "editable": false,
    "nbgrader": {
     "cell_type": "markdown",
     "checksum": "8814b0b0767c24080d88f18afdfb147f",
     "grade": false,
     "grade_id": "exercise-1",
     "locked": true,
     "schema_version": 3,
     "solution": false,
     "task": false
    }
   },
   "source": [
    "<hr style='height:2pt'>\n",
    "\n",
    "<div class='exercise'> <b> Exercise 1 : Plot the Sinusoidal Curve</b> </div>\n",
    "\n",
    "#### Objective:\n",
    "Visualize the first row of the `X_train` training data to verify that it represents a sinusoidal curve.\n",
    "\n",
    "---\n",
    "\n",
    "#### Instructions:\n",
    "\n",
    "1. **Dataset is Loaded in `X_train`**:\n",
    "\n",
    "2. **Plot the First Row of `X_train`**:\n",
    "   - Use `matplotlib` to plot the first row of `X_train` (i.e., `X_train[0]`).\n",
    "   - Use `plt.subplots()` to create the figure and axis (`fig`, `ax`).\n",
    "   - Plot the data using `ax.plot()`.\n",
    "\n",
    "3. **Customize the Plot**:\n",
    "      - Title: **Sinusoidal Curve: First Row of X_train**\n",
    "      - X-axis label: **Sample Index**\n",
    "      - Y-axis label: **\"Value\"**\n",
    "      - Add a legend to indicate what is being plotted.\n",
    "      - Add gridlines for better readability.\n",
    "\n",
    "---"
   ]
  },
  {
   "cell_type": "code",
   "execution_count": null,
   "id": "a66c2247",
   "metadata": {
    "deletable": false,
    "nbgrader": {
     "cell_type": "code",
     "checksum": "3e0cfa39dd482fa8fc7049f240647edb",
     "grade": false,
     "grade_id": "exercise-1-implementation",
     "locked": false,
     "schema_version": 3,
     "solution": true,
     "task": false
    }
   },
   "outputs": [],
   "source": [
    "\"\"\"Write your code for exercise 1 here:\"\"\"\n",
    "\n",
    "# your code here\n",
    "raise NotImplementedError"
   ]
  },
  {
   "cell_type": "code",
   "execution_count": null,
   "id": "07ed786b",
   "metadata": {
    "deletable": false,
    "editable": false,
    "nbgrader": {
     "cell_type": "code",
     "checksum": "f907b2be1b2d3ee2c64a244dfcee1b06",
     "grade": true,
     "grade_id": "exercise-1-tests",
     "locked": true,
     "points": 5,
     "schema_version": 3,
     "solution": false,
     "task": false
    }
   },
   "outputs": [],
   "source": [
    "####################################\n",
    "###✅🔒 Hidden tests here ✅🔒### \n",
    "###################################"
   ]
  },
  {
   "cell_type": "markdown",
   "id": "112fe00e-9f3a-4824-a230-9dc9fef197db",
   "metadata": {
    "deletable": false,
    "editable": false,
    "nbgrader": {
     "cell_type": "markdown",
     "checksum": "ccfe47c3afbbd1768e7bf66f01e9bfab",
     "grade": false,
     "grade_id": "exercise-2",
     "locked": true,
     "schema_version": 3,
     "solution": false,
     "task": false
    }
   },
   "source": [
    "<div class='exercise'> <b> Exercise 2: Verify the Sinusoidal Function</b> </div>\n",
    "\n",
    "## Objective:\n",
    "Verify that the first row of the `X_train` data represents 1000 equally spaced points in $[0, 10\\pi]$ from the function:\n",
    "$\n",
    "f(x) = 0.024 \\sin(0.533x) + 0.018 \\cos(0.558x)\n",
    "$\n",
    "\n",
    "---\n",
    "\n",
    "## Instructions:\n",
    "\n",
    "1. **Ensure the Datasets are Loaded**:\n",
    "   - Check if the `sinewaves_X_train.npy` and `sinewaves_y_train.npy` datasets are loaded into `X_train` and `y_train`.\n",
    "\n",
    "2. **Extract Parameters from `y_train`**:\n",
    "   - The first row of `y_train` provides the sine and cosine parameters:\n",
    "     - $a = 0.024$\n",
    "     - $b = 0.533$\n",
    "     - $c = 0.018$\n",
    "     - $d = 0.558$\n",
    "\n",
    "3. **Generate the Function**:\n",
    "   - Use below formula to generate sine-cosine function `f_x`:\n",
    "     $\n",
    "     f(x) = a \\sin(bx) + c \\cos(dx)\n",
    "     $\n",
    "   - Generate 1000 equally spaced points in $[0, 10\\pi]$ and store to `x_points` in order to match the input space of `X_train`.\n",
    "   \n",
    "4. **Plot the first row of `X_train` and the generated `f(x)` function on the **same figure** using `matplotlib`.**\n",
    "      - Use `plt.subplots()` to create `fig` and `ax`.\n",
    "      - Plot the data from `X_train[0]` (the true data) and the curve `f(x)`(i.e `f_x`) using distinct colors or line styles.\n",
    "      - Add title: **\"Verification of the Sinusoidal Function\"**\n",
    "      - Label the axes: **\"x\"** and **\"Value\"**\n",
    "      - Add a legend and grid for clarity.\n",
    "      - Check if both curves overlap closely.\n",
    "\n",
    "\n",
    "---"
   ]
  },
  {
   "cell_type": "code",
   "execution_count": null,
   "id": "02ab203c-25d6-4e50-95e2-2bf9a321a4de",
   "metadata": {
    "deletable": false,
    "nbgrader": {
     "cell_type": "code",
     "checksum": "1a364d407439bc97431632a3378d1777",
     "grade": false,
     "grade_id": "exercise-2-implementation",
     "locked": false,
     "schema_version": 3,
     "solution": true,
     "task": false
    }
   },
   "outputs": [],
   "source": [
    "\"\"\"Write your code for exercise 2 here:\"\"\"\n",
    "\n",
    "# your code here\n",
    "raise NotImplementedError"
   ]
  },
  {
   "cell_type": "code",
   "execution_count": null,
   "id": "4f5da291",
   "metadata": {
    "deletable": false,
    "editable": false,
    "nbgrader": {
     "cell_type": "code",
     "checksum": "90015c487cb34d5bb17cc1ece199c196",
     "grade": true,
     "grade_id": "exercise-2-tests",
     "locked": true,
     "points": 15,
     "schema_version": 3,
     "solution": false,
     "task": false
    }
   },
   "outputs": [],
   "source": [
    "####################################\n",
    "###✅🔒 Hidden tests here ✅🔒### \n",
    "###################################"
   ]
  },
  {
   "cell_type": "markdown",
   "id": "d77e0234-6bb3-48cc-b006-a0afa338266f",
   "metadata": {
    "deletable": false,
    "editable": false,
    "nbgrader": {
     "cell_type": "markdown",
     "checksum": "f3124a64f916026fa5f3a9dff62aed02",
     "grade": false,
     "grade_id": "exercise-3",
     "locked": true,
     "schema_version": 3,
     "solution": false,
     "task": false
    }
   },
   "source": [
    "<div class='theme'> <b> Exercise 3 :</b> Use <b>tf.keras</b> to build a fully-connected neural network </div>"
   ]
  },
  {
   "cell_type": "markdown",
   "id": "22fb88b3",
   "metadata": {
    "deletable": false,
    "editable": false,
    "nbgrader": {
     "cell_type": "markdown",
     "checksum": "50590809c88cfa456627ccc299ee2df7",
     "grade": false,
     "grade_id": "exercise-3-1",
     "locked": true,
     "schema_version": 3,
     "solution": false,
     "task": false
    }
   },
   "source": [
    "<div class='exercise'> <b> Exercise 3.1 </b> </div>\n",
    "\n",
    "## Objective: \n",
    "\n",
    "In this task, you will create a feedforward neural network using TensorFlow's `tf.keras` module.\n",
    "\n",
    "## Instructions:\n",
    "\n",
    "- Use `tf.keras.models.Sequential` to define the model architecture.\n",
    "- Use `tf.keras.layers.Dense` to add fully-connected (dense) layers.\n",
    "- Your model should:\n",
    "  - Accept an input of shape **(1000,)** (since each training example has 1000 features).\n",
    "  - Have at least one or more hidden layers with any number of nodes.\n",
    "  - Use `'relu'` activation for hidden layers.\n",
    "  - End with a final output layer of **4 units** (to match the shape of `y_train`), without an activation function.\n",
    "\n",
    "**Store your model in a variable named `model`.**\n",
    "\n",
    "You can experiment with the number of layers and neurons per layer to optimize performance."
   ]
  },
  {
   "cell_type": "code",
   "execution_count": null,
   "id": "c0350ba0-1b60-4015-8909-8999f56424a5",
   "metadata": {
    "deletable": false,
    "nbgrader": {
     "cell_type": "code",
     "checksum": "fcbb8dd9d94d19cfb711c287d65e2650",
     "grade": false,
     "grade_id": "exercise-3-1-implementation",
     "locked": false,
     "schema_version": 3,
     "solution": true,
     "task": false
    }
   },
   "outputs": [],
   "source": [
    "\"\"\"Write your code for exercise 3.1 here:\"\"\"\n",
    "\n",
    "# your code here\n",
    "raise NotImplementedError"
   ]
  },
  {
   "cell_type": "code",
   "execution_count": null,
   "id": "ee03ea4b",
   "metadata": {
    "deletable": false,
    "editable": false,
    "nbgrader": {
     "cell_type": "code",
     "checksum": "693b49aba6978338e8de20721648d730",
     "grade": true,
     "grade_id": "cell-c4fcacdd5f037187",
     "locked": true,
     "points": 12,
     "schema_version": 3,
     "solution": false,
     "task": false
    }
   },
   "outputs": [],
   "source": [
    "####################################\n",
    "###✅🔒 Hidden tests here ✅🔒### \n",
    "###################################\n"
   ]
  },
  {
   "cell_type": "markdown",
   "id": "65331200",
   "metadata": {
    "deletable": false,
    "editable": false,
    "nbgrader": {
     "cell_type": "markdown",
     "checksum": "e9cb5f61e05cd308a5d74a201df9d4ce",
     "grade": false,
     "grade_id": "exercsie-3-2",
     "locked": true,
     "schema_version": 3,
     "solution": false,
     "task": false
    }
   },
   "source": [
    "<div class='exercise'> <b> Exercise 3.2: Compile and Summarize Your Neural Network</b> </div>\n",
    "\n",
    "**Now that we have defined your fully-connected neural network, the next step is to compile it for training.**\n",
    "\n",
    "## Instructions:\n",
    "\n",
    "- Compile your model using:\n",
    "  - **Loss function**: `'mean_absolute_error'` (MAE)\n",
    "  - **Optimizer**: `'adam'`\n",
    "- Use the `.compile()` method from Keras and store the compiled model in the same variable `model`.\n",
    "- After compiling, display the model architecture using `.summary()`."
   ]
  },
  {
   "cell_type": "code",
   "execution_count": null,
   "id": "a965253b-d10e-4851-b042-d49471cc041b",
   "metadata": {
    "deletable": false,
    "nbgrader": {
     "cell_type": "code",
     "checksum": "2b71a2d0b75620e14e8349238837d00e",
     "grade": false,
     "grade_id": "exercise-3-2-implementation",
     "locked": false,
     "schema_version": 3,
     "solution": true,
     "task": false
    }
   },
   "outputs": [],
   "source": [
    "\"\"\"Write your code for exercise 3.2 here:\"\"\"\n",
    "\n",
    "# your code here\n",
    "raise NotImplementedError"
   ]
  },
  {
   "cell_type": "code",
   "execution_count": null,
   "id": "a2005300",
   "metadata": {
    "deletable": false,
    "editable": false,
    "nbgrader": {
     "cell_type": "code",
     "checksum": "353ca6f7ba12b6e7f6e3297e695e56d8",
     "grade": true,
     "grade_id": "exercise-3-2-tests",
     "locked": true,
     "points": 5,
     "schema_version": 3,
     "solution": false,
     "task": false
    }
   },
   "outputs": [],
   "source": [
    "####################################\n",
    "###✅🔒 Hidden tests here ✅🔒### \n",
    "###################################"
   ]
  },
  {
   "cell_type": "markdown",
   "id": "b03b5d83",
   "metadata": {
    "deletable": false,
    "editable": false,
    "nbgrader": {
     "cell_type": "markdown",
     "checksum": "6348ebf30d5048841bb5112121b62c81",
     "grade": false,
     "grade_id": "cell-3448b1447d1e3099",
     "locked": true,
     "schema_version": 3,
     "solution": false,
     "task": false
    }
   },
   "source": [
    "<div class=\"theme\"> Question 1:</div>\n",
    "\n",
    "**Why does the first hidden layer in a fully connected neural network with input size 1000 and 64 neurons have 64,064 trainable parameters?**\n",
    "\n",
    "1. Because each input connects to each neuron, totaling $1000\\times 64$ and there are 64 bias terms — one per neuron.\n",
    "2. Because it’s a convolutional layer with filters and stride, contributing additional parameters.\n",
    "3. Because 64 neurons each connect to 64 inputs, and there are no bias terms.\n",
    "4. Because the output layer influences the number of parameters in the first layer.\n",
    "\n",
    "**Store your answer in an integer variable named `answer` in the code cell below.**\n"
   ]
  },
  {
   "cell_type": "code",
   "execution_count": null,
   "id": "97fc82f4",
   "metadata": {
    "deletable": false,
    "nbgrader": {
     "cell_type": "code",
     "checksum": "f0f7129fa8394332d8c286f233e10ef0",
     "grade": false,
     "grade_id": "cell-394a68290840070e",
     "locked": false,
     "schema_version": 3,
     "solution": true,
     "task": false
    }
   },
   "outputs": [],
   "source": [
    "\"\"\"Your answer here:\"\"\"\n",
    "# your code here\n",
    "raise NotImplementedError"
   ]
  },
  {
   "cell_type": "code",
   "execution_count": null,
   "id": "4f6db1e4",
   "metadata": {
    "deletable": false,
    "editable": false,
    "nbgrader": {
     "cell_type": "code",
     "checksum": "6a017bc5e81b3cdcf11b6fd4288271a0",
     "grade": true,
     "grade_id": "cell-34a0fd4cd6b6a817",
     "locked": true,
     "points": 3,
     "schema_version": 3,
     "solution": false,
     "task": false
    }
   },
   "outputs": [],
   "source": [
    "####################################\n",
    "###✅🔒 Hidden checks here ✅🔒### \n",
    "###################################"
   ]
  },
  {
   "cell_type": "markdown",
   "id": "5b4b2788",
   "metadata": {
    "deletable": false,
    "editable": false,
    "nbgrader": {
     "cell_type": "markdown",
     "checksum": "03003598325b40bd4c6b1736c655e35a",
     "grade": false,
     "grade_id": "exercise-3-3",
     "locked": true,
     "schema_version": 3,
     "solution": false,
     "task": false
    }
   },
   "source": [
    "<div class='exercise'> <b> Exercise 3.3: Train Your Neural Network </b> </div>\n",
    "\n",
    "Now that your model is compiled, it's time to train it using the training data.\n",
    "\n",
    "## Instructions:\n",
    "- Fit your model using the `.fit()` method with the following configuration:\n",
    "  - **Epochs**: `50`\n",
    "  - **Batch size**: `32`\n",
    "  - **Validation split**: `0.2` (this will automatically split 20% of the training data for validation)\n",
    "\n",
    "- Store the returned training history object to variable named `model_history`.\n",
    "    - eg. code\n",
    "        ```python\n",
    "        model_history = model.fit(......)\n",
    "        ```\n",
    "        \n",
    "**This history object will contain the loss and validation loss over epochs, which can later be used to plot learning curves and diagnose overfitting.**\n",
    "\n",
    "**Note:** You can train for longer if you wish to further reduce the loss – the fit tends to improve over time."
   ]
  },
  {
   "cell_type": "code",
   "execution_count": null,
   "id": "2079d433-59aa-4b17-ae2c-0aacf325078b",
   "metadata": {
    "deletable": false,
    "nbgrader": {
     "cell_type": "code",
     "checksum": "59ba39dfc0972a69ad35cf805a72d163",
     "grade": false,
     "grade_id": "exercise-3-3-implementation",
     "locked": false,
     "schema_version": 3,
     "solution": true,
     "task": false
    }
   },
   "outputs": [],
   "source": [
    "\"\"\"Write your code for exercise 3.3 here:\"\"\"\n",
    "\n",
    "# your code here\n",
    "raise NotImplementedError"
   ]
  },
  {
   "cell_type": "code",
   "execution_count": null,
   "id": "0d07f5bb",
   "metadata": {
    "deletable": false,
    "editable": false,
    "nbgrader": {
     "cell_type": "code",
     "checksum": "817152a8bd3333414fbf5bb80f3dc7c5",
     "grade": true,
     "grade_id": "exercise-3-3-tests",
     "locked": true,
     "points": 3,
     "schema_version": 3,
     "solution": false,
     "task": false
    }
   },
   "outputs": [],
   "source": [
    "####################################\n",
    "###✅🔒 Hidden tests here ✅🔒### \n",
    "###################################"
   ]
  },
  {
   "cell_type": "markdown",
   "id": "59a3bb01-b375-44d7-83c4-28b8c89ec062",
   "metadata": {
    "deletable": false,
    "editable": false,
    "nbgrader": {
     "cell_type": "markdown",
     "checksum": "7591d5d669939ff57012a2486c46bafe",
     "grade": false,
     "grade_id": "exercise-4",
     "locked": true,
     "schema_version": 3,
     "solution": false,
     "task": false
    }
   },
   "source": [
    "<div class='exercise'> <b> Exercise 4: Evaluate Your Neural Network on Unseen Data </b> </div>\n",
    "\n",
    "## Objective: \n",
    "\n",
    "In this exercise, you'll evaluate how well your trained model generalizes to new, unseen data.\n",
    "\n",
    "## Instructions:\n",
    "- Use the `.evaluate()` method to compute the **loss on the test set** (`X_test`, `y_test`).\n",
    "- Store the result in a variable called `test_loss` and print it.\n",
    "- Use the provided `plot_predictions()` function to:\n",
    "  - Visually compare the **true sinusoidal curve** (from test data) and the **curve reconstructed from the model's predicted Fourier coefficients**.\n",
    "  - By default, the function plots 5 randomly selected samples if the test set contains more than 20 rows."
   ]
  },
  {
   "cell_type": "code",
   "execution_count": null,
   "id": "ba7c54d4-c2f5-409e-a9c4-f686129cc5ce",
   "metadata": {
    "deletable": false,
    "nbgrader": {
     "cell_type": "code",
     "checksum": "2ba64adf852d3e07bc085328c2d0d808",
     "grade": false,
     "grade_id": "exercise-4-implentation",
     "locked": false,
     "schema_version": 3,
     "solution": true,
     "task": false
    }
   },
   "outputs": [],
   "source": [
    "\"\"\"Write your code for exercise 4 here:\"\"\"\n",
    "\n",
    "# your code here\n",
    "raise NotImplementedError"
   ]
  },
  {
   "cell_type": "code",
   "execution_count": null,
   "id": "6ddc5a20",
   "metadata": {
    "deletable": false,
    "editable": false,
    "nbgrader": {
     "cell_type": "code",
     "checksum": "4648fb7ea1b6226f0e1adec694623327",
     "grade": true,
     "grade_id": "exercise-4-tests",
     "locked": true,
     "points": 5,
     "schema_version": 3,
     "solution": false,
     "task": false
    }
   },
   "outputs": [],
   "source": [
    "####################################\n",
    "###✅🔒 Hidden tests here ✅🔒### \n",
    "###################################"
   ]
  },
  {
   "cell_type": "markdown",
   "id": "12598bc7",
   "metadata": {
    "deletable": false,
    "editable": false,
    "nbgrader": {
     "cell_type": "markdown",
     "checksum": "b7328430cefa74e08e259a652d352868",
     "grade": false,
     "grade_id": "cell-209cf013e110c620",
     "locked": true,
     "schema_version": 3,
     "solution": false,
     "task": false
    }
   },
   "source": [
    "<div class=\"theme\"> Question 2:</div>\n",
    "\n",
    "**Based on the model’s predictions and the resulting plots on the test set, how can you best describe the model’s performance?**\n",
    "\n",
    "1. The predicted sine curves closely match the actual data, indicating the model has successfully learned the mapping from input samples to Fourier coefficients.\n",
    "2. The predicted curves show no resemblance to the actual curves, suggesting the model failed to train.\n",
    "3. The model's predictions look perfect across all examples, proving the model has memorized the training data.\n",
    "4. The predicted curves are always flat lines, indicating that the model only learned the bias term.\n",
    "\n",
    "**Store your answer in an integer variable named `answer` in the code cell below.**"
   ]
  },
  {
   "cell_type": "code",
   "execution_count": null,
   "id": "0fcea2d2",
   "metadata": {
    "deletable": false,
    "nbgrader": {
     "cell_type": "code",
     "checksum": "061956a63df51c415585e147cfe23a75",
     "grade": false,
     "grade_id": "exercise-4-question",
     "locked": false,
     "schema_version": 3,
     "solution": true,
     "task": false
    }
   },
   "outputs": [],
   "source": [
    "\"\"\"Your answer here:\"\"\"\n",
    "# your code here\n",
    "raise NotImplementedError"
   ]
  },
  {
   "cell_type": "code",
   "execution_count": null,
   "id": "bb638fe3",
   "metadata": {
    "deletable": false,
    "editable": false,
    "nbgrader": {
     "cell_type": "code",
     "checksum": "a05ce7abe1ca212d15680e620622d11a",
     "grade": true,
     "grade_id": "cell-b34a8b188f853f7d",
     "locked": true,
     "points": 3,
     "schema_version": 3,
     "solution": false,
     "task": false
    }
   },
   "outputs": [],
   "source": [
    "####################################\n",
    "###✅🔒 Hidden checks here ✅🔒### \n",
    "###################################"
   ]
  },
  {
   "cell_type": "markdown",
   "id": "6ac796a4-bcd8-4980-a8b8-5e86b2fc288d",
   "metadata": {
    "deletable": false,
    "editable": false,
    "nbgrader": {
     "cell_type": "markdown",
     "checksum": "e60d1b6e0ee8f338493152c3d5787c0b",
     "grade": false,
     "grade_id": "exercise-5",
     "locked": true,
     "schema_version": 3,
     "solution": false,
     "task": false
    }
   },
   "source": [
    "<div class='exercise'> <b> Exercise 5: Evaluate Model Performance on Extended Test Set </b> </div>\n",
    "\n",
    "**The extended test set contains `9` special examples generated differently from the original training distribution (e.g., by allowing negative coefficient values). This helps assess how well the model generalizes to edge cases or unseen patterns.**\n",
    "\n",
    "## Instructions:\n",
    "- Use the `.evaluate()` method to compute the **loss on the extended test set** (`X_extended_test`, `y_extended_test`) and store it in a variable called `extended_test_loss`.\n",
    "- Use the `plot_predictions()` function with `count=9` to visualize **all 9 predictions** and compare them with the true values.\n",
    "- Review the plot and printed values to evaluate and answer below question:\n",
    "  - Which examples the model **accurately predicts**\n",
    "  - Which examples the model **struggles to match**\n",
    "\n",
    "**This test helps assess whether your model generalizes beyond the distribution it was trained on.**"
   ]
  },
  {
   "cell_type": "code",
   "execution_count": null,
   "id": "f96ab1c9-7d29-4128-afe7-eeedf4f20a72",
   "metadata": {
    "deletable": false,
    "nbgrader": {
     "cell_type": "code",
     "checksum": "a6946ca19e0ea3244b4ff674d5545b06",
     "grade": false,
     "grade_id": "exercise-5-implementation",
     "locked": false,
     "schema_version": 3,
     "solution": true,
     "task": false
    }
   },
   "outputs": [],
   "source": [
    "\"\"\"Write your code for exercise 5 here:\"\"\"\n",
    "\n",
    "# your code here\n",
    "raise NotImplementedError"
   ]
  },
  {
   "cell_type": "code",
   "execution_count": null,
   "id": "4a4024c4",
   "metadata": {
    "deletable": false,
    "editable": false,
    "nbgrader": {
     "cell_type": "code",
     "checksum": "19ac82898d11945a957c7cac12d3b257",
     "grade": true,
     "grade_id": "exercise-5-tests",
     "locked": true,
     "points": 4,
     "schema_version": 3,
     "solution": false,
     "task": false
    }
   },
   "outputs": [],
   "source": [
    "####################################\n",
    "###✅🔒 Hidden tests here ✅🔒### \n",
    "###################################"
   ]
  },
  {
   "cell_type": "markdown",
   "id": "a2358116",
   "metadata": {
    "deletable": false,
    "editable": false,
    "nbgrader": {
     "cell_type": "markdown",
     "checksum": "3989b9711c31b9577cc865c85bbe502b",
     "grade": false,
     "grade_id": "cell-afd889d3ac2df92a",
     "locked": true,
     "schema_version": 3,
     "solution": false,
     "task": false
    }
   },
   "source": [
    "<div class=\"theme\"> Question 3:</div>\n",
    "\n",
    "**Based on the model’s predictions on the extended test set, which of the following best describes its performance?**\n",
    "\n",
    "1. The model performs well on all examples, suggesting it generalizes perfectly beyond the training distribution.\n",
    "2. The model performs poorly on all examples, indicating it failed to learn meaningful patterns.\n",
    "3. The model performs well on some examples and poorly on others, suggesting it generalizes moderately but struggles with unusual cases.\n",
    "4. The model performs worse on the extended test set because it has more training data than the original set.\n",
    "\n",
    "**Store your answer in an integer variable named `answer` in the code cell below.**\n"
   ]
  },
  {
   "cell_type": "code",
   "execution_count": null,
   "id": "d2d711b8",
   "metadata": {
    "deletable": false,
    "nbgrader": {
     "cell_type": "code",
     "checksum": "5b966886baf7bfd92b6f7299f0075d75",
     "grade": false,
     "grade_id": "exercise-5-answer",
     "locked": false,
     "schema_version": 3,
     "solution": true,
     "task": false
    }
   },
   "outputs": [],
   "source": [
    "\"\"\"Your answer here:\"\"\"\n",
    "# your code here\n",
    "raise NotImplementedError"
   ]
  },
  {
   "cell_type": "code",
   "execution_count": null,
   "id": "8b1b4f6c",
   "metadata": {
    "deletable": false,
    "editable": false,
    "nbgrader": {
     "cell_type": "code",
     "checksum": "50d7e4c2d4560109cc82a5972f83e205",
     "grade": true,
     "grade_id": "cell-79a09cd690f80947",
     "locked": true,
     "points": 3,
     "schema_version": 3,
     "solution": false,
     "task": false
    }
   },
   "outputs": [],
   "source": [
    "####################################\n",
    "###✅🔒 Hidden checks here ✅🔒### \n",
    "###################################"
   ]
  },
  {
   "cell_type": "markdown",
   "id": "3da7eccb",
   "metadata": {
    "deletable": false,
    "editable": false,
    "nbgrader": {
     "cell_type": "markdown",
     "checksum": "fd6ec6801cac6b19ea826f076166bbf1",
     "grade": false,
     "grade_id": "cell-b4e5dd159284e151",
     "locked": true,
     "schema_version": 3,
     "solution": false,
     "task": false
    }
   },
   "source": [
    "## Conclusion\n",
    "\n",
    "**In this lab, you built and trained a fully-connected neural network to approximate a simplified version of the Fourier Transform.**\n",
    "\n",
    "- Explored how a neural network can learn to map complex input patterns (like sine wave samples) to simpler outputs (Fourier coefficients).\n",
    "- Visualized training data and verified that it matched expected sine-cosine formulations.\n",
    "- Designed and compiled a neural network using `tf.keras`, fine-tuned its architecture, and evaluated it using training and test datasets.\n",
    "- Assessed your model's ability to generalize using a specially crafted extended test set containing edge-case examples.\n",
    "- Reflected on model performance by analyzing loss values, prediction curves, and potential overfitting.\n",
    "\n",
    "#### Key Takeaways:\n",
    "- Neural networks are powerful tools for learning mappings, but their performance is highly dependent on the diversity and representativeness of the training data.\n",
    "- While your model learned the underlying function reasonably well, it showed limitations when tested on data outside the training distribution.\n",
    "- Proper **evaluation**, **visualization**, and **reflection** are essential for understanding when and how a model generalizes well.\n",
    "\n",
    "\n",
    "## Well done on completing this lab! 💪\n"
   ]
  },
  {
   "cell_type": "markdown",
   "id": "81a8e18b",
   "metadata": {
    "deletable": false,
    "editable": false,
    "nbgrader": {
     "cell_type": "markdown",
     "checksum": "728b55fcbf6d3208654ec24b63f2d20b",
     "grade": false,
     "grade_id": "end",
     "locked": true,
     "schema_version": 3,
     "solution": false,
     "task": false
    }
   },
   "source": [
    "# END"
   ]
  }
 ],
 "metadata": {
  "kernelspec": {
   "display_name": "Python 3 (ipykernel)",
   "language": "python",
   "name": "python3"
  },
  "language_info": {
   "codemirror_mode": {
    "name": "ipython",
    "version": 3
   },
   "file_extension": ".py",
   "mimetype": "text/x-python",
   "name": "python",
   "nbconvert_exporter": "python",
   "pygments_lexer": "ipython3",
   "version": "3.10.6"
  }
 },
 "nbformat": 4,
 "nbformat_minor": 5
}

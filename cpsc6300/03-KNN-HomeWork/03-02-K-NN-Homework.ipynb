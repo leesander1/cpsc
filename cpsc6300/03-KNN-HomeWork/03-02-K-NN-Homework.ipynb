{
 "cells": [
  {
   "cell_type": "markdown",
   "id": "53a98860-8c10-40a5-855b-461015c1ddbf",
   "metadata": {
    "deletable": false,
    "editable": false,
    "nbgrader": {
     "cell_type": "markdown",
     "checksum": "67d3cb62c956904e515960567c430672",
     "grade": false,
     "grade_id": "ads",
     "locked": true,
     "schema_version": 3,
     "solution": false,
     "task": false
    }
   },
   "source": [
    "<div class='heading'>\n",
    "    <div style='float:left;'><h1>CPSC 4300/6300: Applied Data Science</h1></div>\n",
    "    <img style=\"float: right; padding-right: 10px; width: 65px\" src=\"https://raw.githubusercontent.com/bsethwalker/clemson-cs4300/main/images/clemson_paw.png\"> </div>"
   ]
  },
  {
   "cell_type": "markdown",
   "id": "da82c119-19b2-42ba-8f12-a3a436ac6b40",
   "metadata": {
    "deletable": false,
    "editable": false,
    "nbgrader": {
     "cell_type": "markdown",
     "checksum": "e6ad31996b80aef732220db93ce47200",
     "grade": false,
     "grade_id": "week-3-homework",
     "locked": true,
     "schema_version": 3,
     "solution": false,
     "task": false
    }
   },
   "source": [
    "# Week 3 | Homework 3: k-NN Regression\n",
    "\n",
    "**Clemson University Instructor(s):** Tim Ransom\n",
    "\n",
    "-----------------------------\n",
    "\n",
    "## Learning objectives \n",
    "\n",
    "- Describe the k-Nearest Neighbors algorithm for regression.\n",
    "- Implement k-NN regression using scikit-learn.\n",
    "- Choose an appropriate value for k based on model performance.\n",
    "- Explain the concept of overfitting in the context of k-NN.\n",
    "- Apply data normalization techniques to improve k-NN performance.\n",
    "\n",
    "------------------------------------------------------------------------"
   ]
  },
  {
   "cell_type": "markdown",
   "id": "2a91c423-5ff0-407e-ad97-a617fa9d30b2",
   "metadata": {
    "deletable": false,
    "editable": false,
    "nbgrader": {
     "cell_type": "markdown",
     "checksum": "44ddf4f720af86c10e640687895d1408",
     "grade": false,
     "grade_id": "about",
     "locked": true,
     "schema_version": 3,
     "solution": false,
     "task": false
    }
   },
   "source": [
    "## INSTRUCTIONS\n",
    "\n",
    "-   As much as possible, try and stick to the hints and functions we\n",
    "    import at the top of the homework, as those are the ideas and tools\n",
    "    the class supports and is aiming to teach. And if a problem\n",
    "    specifies a particular library you're required to use that library,\n",
    "    and possibly others from the import list.\n",
    "-   Please use .head() when viewing data. \n",
    "\n",
    "------------------------------------------------------------------------\n",
    "\n",
    "## About\n",
    "\n",
    "#### This homework involves: \n",
    "- Regression methods for predicting a quantitative variable. Specifically, we will build regression models that can predict the number of taxi pickups in New York City at any given time of the day. \n",
    "- These prediction models will be useful, for example, in monitoring traffic in the city.\n",
    "- The data set for this problem is given in the file `nyc_taxi.csv`. \n",
    "- You will have to separate it into training and test sets. \n",
    "- The first column contains the time of a day in minutes, and the second column contains the number of pickups observed at that time. \n",
    "- The data set covers taxi pickups recorded in NYC during Jan 2015.\n",
    "- We will fit models that use the time of the day (in minutes) as a predictor and predict the average number of taxi pickups at that time.\n",
    "- The models will be fitted to the training set and evaluated on the test set. \n",
    "- The performance of the models will be evaluated using the $R^2$ metric.\n",
    "\n",
    "---------------"
   ]
  },
  {
   "cell_type": "code",
   "execution_count": null,
   "id": "007e2bd5",
   "metadata": {
    "deletable": false,
    "editable": false,
    "nbgrader": {
     "cell_type": "code",
     "checksum": "b9ca8221b1f4242dc04a39989a909956",
     "grade": false,
     "grade_id": "formatting",
     "locked": true,
     "schema_version": 3,
     "solution": false,
     "task": false
    }
   },
   "outputs": [],
   "source": [
    "\"\"\" RUN THIS CELL TO GET THE RIGHT FORMATTING \"\"\"\n",
    "import requests\n",
    "from IPython.core.display import HTML\n",
    "css_file = 'https://raw.githubusercontent.com/bsethwalker/clemson-cs4300/main/css/cpsc6300.css'\n",
    "styles = requests.get(css_file).text\n",
    "HTML(styles)"
   ]
  },
  {
   "cell_type": "code",
   "execution_count": null,
   "id": "61caf2f5-7c37-4f84-928a-4adf24856ed3",
   "metadata": {
    "deletable": false,
    "editable": false,
    "nbgrader": {
     "cell_type": "code",
     "checksum": "c458ece2a45feb6905336a31b027efcf",
     "grade": false,
     "grade_id": "required-libs",
     "locked": true,
     "schema_version": 3,
     "solution": false,
     "task": false
    }
   },
   "outputs": [],
   "source": [
    "# Import necessary libraries for numerical operations, data manipulation, modeling, and visualization\n",
    "import numpy as np\n",
    "import pandas as pd\n",
    "\n",
    "from sklearn.metrics import r2_score\n",
    "from sklearn.neighbors import KNeighborsRegressor\n",
    "from sklearn.linear_model import LinearRegression\n",
    "from sklearn.model_selection import train_test_split\n",
    "import statsmodels.api as sm\n",
    "from statsmodels.api import OLS\n",
    "\n",
    "import matplotlib.pyplot as plt\n",
    "import seaborn as sns\n",
    "sns.set()\n",
    "# The %matplotlib inline is a magic command used in Jupyter Notebooks to display Matplotlib plots directly within the notebook cells.\n",
    "%matplotlib inline"
   ]
  },
  {
   "cell_type": "markdown",
   "id": "494ffbb7-b992-4ca5-b500-b0bf14b011ef",
   "metadata": {
    "deletable": false,
    "editable": false,
    "nbgrader": {
     "cell_type": "markdown",
     "checksum": "391fd6f295c3aac51b5a57d705fe9d77",
     "grade": false,
     "grade_id": "exercise-1-1",
     "locked": true,
     "schema_version": 3,
     "solution": false,
     "task": false
    }
   },
   "source": [
    "<div class=\"theme\"> Question 1 </div>\n",
    "\n",
    "<div class=\"exercise\"> <b> Exercise 1.1 </b> </div>\n",
    "\n",
    "- Use pandas to load the dataset from the csv file `nyc_taxi.csv` into a pandas data frame.  \n",
    "- Use the `train_test_split` method from `sklearn` with a `random_state` = `42` and a `test_size` of 0.2 to split the dataset into training and test sets.  \n",
    "- Store your train set data frame as `train_data`, your test set data frame as `test_data`, and the whole dataset as `data`."
   ]
  },
  {
   "cell_type": "code",
   "execution_count": null,
   "id": "b9a29359-e5b6-4c2d-a9a0-281c455e7466",
   "metadata": {
    "deletable": false,
    "nbgrader": {
     "cell_type": "code",
     "checksum": "b1e8dab1b6068ede2fb818dbfbc6c6cd",
     "grade": false,
     "grade_id": "exercise-1-1-implementation",
     "locked": false,
     "schema_version": 3,
     "solution": true,
     "task": false
    }
   },
   "outputs": [],
   "source": [
    "\"\"\"Write your code for exercise-1.1 here:\"\"\"\n",
    "\n",
    "# your code here\n",
    "raise NotImplementedError"
   ]
  },
  {
   "cell_type": "code",
   "execution_count": null,
   "id": "0d5e02a7-e97e-44c4-b167-f1b1d430045b",
   "metadata": {
    "deletable": false,
    "editable": false,
    "nbgrader": {
     "cell_type": "code",
     "checksum": "753324d3d52b386019b1190246fcd97f",
     "grade": true,
     "grade_id": "exercise-1-1-tests",
     "locked": true,
     "points": 9,
     "schema_version": 3,
     "solution": false,
     "task": false
    }
   },
   "outputs": [],
   "source": []
  },
  {
   "cell_type": "markdown",
   "id": "1e500962-6da6-4eaf-a8c0-ad0b533d84fc",
   "metadata": {
    "deletable": false,
    "editable": false,
    "nbgrader": {
     "cell_type": "markdown",
     "checksum": "f538dc05547c800d87eaecded9f1729f",
     "grade": false,
     "grade_id": "exercise-1-2",
     "locked": true,
     "schema_version": 3,
     "solution": false,
     "task": false
    }
   },
   "source": [
    "<div class=\"exercise\"> <b> Exercise 1.2 </b>  </div>\n",
    "\n",
    "- Generate a scatter plot of the training data points to demonstrate how the number of taxi pickups is dependent on the time of the day. \n",
    "- Extract 1st column of dataset to variable named `time_of_day` and second column to variable named `taxi_pickups`.\n",
    "- Use this variables to generate the scatter plot.\n",
    "  1. To create the scatter plot, you need to set up the Figure and Axes objects using `plt.subplots()`. \n",
    "        - These two objects (fig and ax) will allow you to control various properties of the figure and plot.\n",
    "        - `fig` is the Figure object: It serves as the overall container for the plot.\n",
    "        - `ax` is the Axes object: This is where the actual data points will be plotted, including x and y axes, labels, etc.\n",
    "        ```python\n",
    "            Example code: fig, ax = plt.subplots(figsize=(10, 6))\n",
    "        ```\n",
    "  2. Customize the Plot: \n",
    "        - You need to set the title of the plot, the labels for the x-axis and y-axis, and format the ticks on the x-axis for better readability.\n",
    " \n"
   ]
  },
  {
   "cell_type": "code",
   "execution_count": null,
   "id": "428348be-f914-4c45-9662-f29cff894eac",
   "metadata": {
    "deletable": false,
    "nbgrader": {
     "cell_type": "code",
     "checksum": "7672f87a709999bf27f582b688b78d22",
     "grade": false,
     "grade_id": "exercise-1-2-implementation",
     "locked": false,
     "schema_version": 3,
     "solution": true,
     "task": false
    }
   },
   "outputs": [],
   "source": [
    "\"\"\"Write your code for exercise-1.2 here:\"\"\"\n",
    "\n",
    "# your code here\n",
    "raise NotImplementedError"
   ]
  },
  {
   "cell_type": "code",
   "execution_count": null,
   "id": "ac4e62f6-533b-44a6-8e35-34035fbde460",
   "metadata": {
    "deletable": false,
    "editable": false,
    "nbgrader": {
     "cell_type": "code",
     "checksum": "a2b94b2bdf8a714340a3653d136c650b",
     "grade": true,
     "grade_id": "exercise-1-2-tests",
     "locked": true,
     "points": 12,
     "schema_version": 3,
     "solution": false,
     "task": false
    }
   },
   "outputs": [],
   "source": []
  },
  {
   "cell_type": "markdown",
   "id": "3e6a7baa-13de-4ef9-a092-b61d6929b5eb",
   "metadata": {
    "deletable": false,
    "editable": false,
    "nbgrader": {
     "cell_type": "markdown",
     "checksum": "cba8728f3b6ae8de9615fa2f6ab7a7d0",
     "grade": false,
     "grade_id": "exercise-1-3",
     "locked": true,
     "schema_version": 3,
     "solution": false,
     "task": false
    }
   },
   "source": [
    "<div class=\"exercise\"> <b> Question 1.3 </b> </div>\n",
    "\n",
    "- In a few sentences, describe the general pattern of taxi pickups over the course of the day and explain why this is a reasonable result."
   ]
  },
  {
   "cell_type": "markdown",
   "id": "f9c514bb",
   "metadata": {
    "deletable": false,
    "editable": false,
    "nbgrader": {
     "cell_type": "markdown",
     "checksum": "d094a717e79f4e1ad3f14b060bfd9b35",
     "grade": false,
     "grade_id": "cell-07eac4de09b40baf",
     "locked": true,
     "schema_version": 3,
     "solution": false,
     "task": false
    }
   },
   "source": [
    "Write your answer for question 1.3 in below markdown cell marked as `Your answer for question 1.3 here:`"
   ]
  },
  {
   "cell_type": "markdown",
   "id": "b6d1f03c",
   "metadata": {
    "deletable": false,
    "nbgrader": {
     "cell_type": "markdown",
     "checksum": "c3fcd09d3c51dffe92f9163bfb2407f3",
     "grade": true,
     "grade_id": "exercise-1-3-answer",
     "locked": false,
     "points": 0,
     "schema_version": 3,
     "solution": true,
     "task": false
    }
   },
   "source": [
    "YOUR ANSWER HERE"
   ]
  },
  {
   "cell_type": "code",
   "execution_count": null,
   "id": "ab5b3a6a",
   "metadata": {
    "deletable": false,
    "nbgrader": {
     "cell_type": "code",
     "checksum": "8258d017a2f2ba63dc03807dd7eed519",
     "grade": false,
     "grade_id": "exercise-1-3-answers-ans",
     "locked": false,
     "schema_version": 3,
     "solution": true,
     "task": false
    }
   },
   "outputs": [],
   "source": [
    "# your code here\n",
    "raise NotImplementedError"
   ]
  },
  {
   "cell_type": "markdown",
   "id": "b2e719b4",
   "metadata": {
    "deletable": false,
    "editable": false,
    "nbgrader": {
     "cell_type": "markdown",
     "checksum": "97a154e8c304741f0f43cb1cf8cf3974",
     "grade": false,
     "grade_id": "exercise-1-4",
     "locked": true,
     "schema_version": 3,
     "solution": false,
     "task": false
    }
   },
   "source": [
    "<div class=\"exercise\"> <b> Question 1.4 </b></div>\n",
    "\n",
    "- You should see a <i>hole</i> in the scatter plot when `TimeMin` is 500-550 minutes and `PickupCount` is roughly 20-30 pickups.\n",
    "- Briefly surmise why this is the case. "
   ]
  },
  {
   "cell_type": "markdown",
   "id": "4f77106d",
   "metadata": {
    "deletable": false,
    "editable": false,
    "nbgrader": {
     "cell_type": "markdown",
     "checksum": "3e68869ba911542b870d9f9ca69d8505",
     "grade": false,
     "grade_id": "cell-d5f421ec87f6587f",
     "locked": true,
     "schema_version": 3,
     "solution": false,
     "task": false
    }
   },
   "source": [
    "Write your answer for question 1.4 in below markdown cell marked as `Your answer for question 1.4 here:`"
   ]
  },
  {
   "cell_type": "markdown",
   "id": "a3b0646d",
   "metadata": {
    "deletable": false,
    "nbgrader": {
     "cell_type": "markdown",
     "checksum": "7c47946750506d318b9f3ed5f83a4f7a",
     "grade": true,
     "grade_id": "exercise-1-4-answer",
     "locked": false,
     "points": 0,
     "schema_version": 3,
     "solution": true,
     "task": false
    }
   },
   "source": [
    "YOUR ANSWER HERE"
   ]
  },
  {
   "cell_type": "code",
   "execution_count": null,
   "id": "83a522d1",
   "metadata": {
    "deletable": false,
    "nbgrader": {
     "cell_type": "code",
     "checksum": "391f39b8c08fd9fa5cbe725c8eba188e",
     "grade": false,
     "grade_id": "exercise-1-4-answer-ans",
     "locked": false,
     "schema_version": 3,
     "solution": true,
     "task": false
    }
   },
   "outputs": [],
   "source": [
    "# your code here\n",
    "raise NotImplementedError"
   ]
  },
  {
   "cell_type": "markdown",
   "id": "b6ff1d76",
   "metadata": {
    "deletable": false,
    "editable": false,
    "nbgrader": {
     "cell_type": "markdown",
     "checksum": "1058b8b3c029e6618a55eed234fecf5b",
     "grade": false,
     "grade_id": "question-2",
     "locked": true,
     "schema_version": 3,
     "solution": false,
     "task": false
    }
   },
   "source": [
    "<div class=\"theme\"> Question 2 </div>\n",
    "\n",
    "- In lecture we've seen k-Nearest Neighbors (k-NN) Regression, a non-parametric regression technique. \n",
    "- In the following problems please use built in functionality from `sklearn` to run k-NN Regression.\n",
    "\n",
    "<div class=\"exercise\"> <b> Exercise 2.1 </b> </div>\n",
    "\n",
    "- Choose `TimeMin` as your feature variable and `PickupCount` as your response variable. \n",
    "- Create a dictionary of `KNeighborsRegressor` objects called `KNNModels`. \n",
    "- Let the key for your `KNNmodels` dictionary be the value of $k$ and the value be the corresponding `KNeighborsRegressor` object. \n",
    "- For $k \\in \\{1, 10, 75, 250, 500, 750, 1000\\}$, fit k-NN regressor models on the training set (`train_data`)."
   ]
  },
  {
   "cell_type": "code",
   "execution_count": null,
   "id": "e83c3111-956c-4e90-ba5b-fbf94bf579fd",
   "metadata": {
    "deletable": false,
    "nbgrader": {
     "cell_type": "code",
     "checksum": "f0fb9e5b81c75824c2897a30639018a1",
     "grade": false,
     "grade_id": "exercise-2-1-implementation",
     "locked": false,
     "schema_version": 3,
     "solution": true,
     "task": false
    }
   },
   "outputs": [],
   "source": [
    "\"\"\"Write your code for exercise-2.1 here:\"\"\"\n",
    "k_values = [1, 10, 75, 250, 500, 750, 1000]\n",
    "\n",
    "\n",
    "# your code here\n",
    "raise NotImplementedError"
   ]
  },
  {
   "cell_type": "code",
   "execution_count": null,
   "id": "44e6cc41-547f-464c-8dbc-fb6fbbb65b14",
   "metadata": {
    "deletable": false,
    "editable": false,
    "nbgrader": {
     "cell_type": "code",
     "checksum": "e16d50d825916abdb952b8095511f0da",
     "grade": true,
     "grade_id": "exercise-2-1-tests",
     "locked": true,
     "points": 15,
     "schema_version": 3,
     "solution": false,
     "task": false
    }
   },
   "outputs": [],
   "source": []
  },
  {
   "cell_type": "markdown",
   "id": "f58d949d-f907-44a6-8750-d4058fc25b50",
   "metadata": {
    "deletable": false,
    "editable": false,
    "nbgrader": {
     "cell_type": "markdown",
     "checksum": "342519a3dfb4ce10e9858dbbc2c7f0f3",
     "grade": false,
     "grade_id": "exercise-2-2",
     "locked": true,
     "schema_version": 3,
     "solution": false,
     "task": false
    }
   },
   "source": [
    "<div class=\"exercise\"> <b> Exercise 2.2 </b> </div>\n",
    "\n",
    "- For each $k$, overlay a scatter plot of the actual values of `PickupCount` vs. `TimeMin` in the training set with a scatter plot of **predictions** for `PickupCount` vs `TimeMin`. \n",
    "- Do the same for the test set. \n",
    "- You should have one figure with 7 x 2 total subplots.\n",
    "- For each $k$ the figure should have two subplots, one subplot for the training set and one for the test set.\n",
    "  1. To create this subplot, you need to set up the Figure and Axes objects using `plt.subplots()`. \n",
    "        - These two objects (fig and ax) will allow you to control various properties of the figure and plot.\n",
    "        - `fig` is the Figure object: It serves as the overall container for the plot.\n",
    "        - `ax` is the Axes object: This is where the actual data points will be plotted, including x and y axes, labels, etc.\n",
    "        ```python\n",
    "            Example code: fig, ax = plt.subplots(1, 2, figsize=(10, 6))\n",
    "        ```\n",
    "        - Here `plt.subplots(1, 2)` creates one row and two columns of subplots. This results in two individual Axes that will be side by side.\n",
    "        - Refer to this [document](https://matplotlib.org/stable/api/_as_gen/matplotlib.pyplot.subplots.html) for more information.\n",
    "  2. Customize the Plot: \n",
    "        - You need to set the title of the plot, the labels for the x-axis and y-axis, and format the ticks on the x-axis for better readability.\n",
    "\n",
    "**Hints**:\n",
    "\n",
    "1.  Each subplot should use different color and/or markers to\n",
    "    distinguish k-NN regression prediction values from the actual data\n",
    "    values.\n",
    "2.  Each subplot must have appropriate axis labels, title, and legend, and be stored in a variable named `ax`\n",
    "3.  The overall figure should have a title."
   ]
  },
  {
   "cell_type": "code",
   "execution_count": null,
   "id": "48ca49fb-0de8-45d9-a9c5-17b96defba2b",
   "metadata": {
    "deletable": false,
    "nbgrader": {
     "cell_type": "code",
     "checksum": "c243e88a461b319d2e4a0facd92edb20",
     "grade": false,
     "grade_id": "exercise-2-2-implementation",
     "locked": false,
     "schema_version": 3,
     "solution": true,
     "task": false
    }
   },
   "outputs": [],
   "source": [
    "\"\"\"Write your code for exercise-2.2 here:\"\"\"\n",
    "\n",
    "# your code here\n",
    "raise NotImplementedError"
   ]
  },
  {
   "cell_type": "code",
   "execution_count": null,
   "id": "b2ccb85a-407f-4794-ab3f-b1eff694f0a8",
   "metadata": {
    "deletable": false,
    "editable": false,
    "nbgrader": {
     "cell_type": "code",
     "checksum": "06a893ad3507745a7d9e2e25d01eb99e",
     "grade": true,
     "grade_id": "exercise-2-2-tests",
     "locked": true,
     "points": 30,
     "schema_version": 3,
     "solution": false,
     "task": false
    }
   },
   "outputs": [],
   "source": []
  },
  {
   "cell_type": "markdown",
   "id": "1e9fc8e2-ea72-41fe-b295-41118b0c7498",
   "metadata": {
    "deletable": false,
    "editable": false,
    "nbgrader": {
     "cell_type": "markdown",
     "checksum": "f099475d0195d8a6ce759454bfdf1f61",
     "grade": false,
     "grade_id": "exercise-2-3",
     "locked": true,
     "schema_version": 3,
     "solution": false,
     "task": false
    }
   },
   "source": [
    "<div class=\"exercise\"> <b> Exercise 2.3 </b> </div>\n",
    "\n",
    "- Report the $R^2$ score for the fitted models on both the training and test sets for each $k$ (reporting the values in tabular form is encouraged).\n",
    "- Store the results in a list called `results`.\n",
    "- Loop over each k-value and calculate the R^2 score for both the training and test sets\n",
    "- Append the values -> (`k`, `train_r2`, `test_r2`) to list `results` as a tuple (`k`, `train_r2`, `test_r2`)\n",
    "\n",
    "**Hint:** In order to report values in tabular form - store the results in pandas DataFrame"
   ]
  },
  {
   "cell_type": "code",
   "execution_count": null,
   "id": "d15a46e8-c97d-4f71-bccd-757f889d390e",
   "metadata": {
    "deletable": false,
    "nbgrader": {
     "cell_type": "code",
     "checksum": "8216e5650414570b51bc7b8b19fab5c3",
     "grade": false,
     "grade_id": "exercise-2-3-implementation",
     "locked": false,
     "schema_version": 3,
     "solution": true,
     "task": false
    }
   },
   "outputs": [],
   "source": [
    "\"\"\"Write your code for exercise-2.3 here:\"\"\"\n",
    "\n",
    "# your code here\n",
    "raise NotImplementedError"
   ]
  },
  {
   "cell_type": "code",
   "execution_count": null,
   "id": "e1ae11a3-2d66-4302-860d-ad0930f4c413",
   "metadata": {
    "deletable": false,
    "editable": false,
    "nbgrader": {
     "cell_type": "code",
     "checksum": "52e6d7c1452bca40c10554143d4d406b",
     "grade": true,
     "grade_id": "exercise-2-3-tests",
     "locked": true,
     "points": 12,
     "schema_version": 3,
     "solution": false,
     "task": false
    }
   },
   "outputs": [],
   "source": []
  },
  {
   "cell_type": "markdown",
   "id": "5204d4ca-1b19-4b95-a0f5-8fcc2cb52df9",
   "metadata": {
    "deletable": false,
    "editable": false,
    "nbgrader": {
     "cell_type": "markdown",
     "checksum": "620e802c630a283a331761e7bd34fea0",
     "grade": false,
     "grade_id": "exercise-2-4",
     "locked": true,
     "schema_version": 3,
     "solution": false,
     "task": false
    }
   },
   "source": [
    "<div class=\"exercise\"> <b> Exercise 2.4 </b> </div>\n",
    "\n",
    "- Plot, in a single figure, the $R^2$ values from the model on the training and test set as a function of $k$.\n",
    "\n",
    "\n",
    "   1. To create this plot, you need to set up the Figure and Axes objects using `plt.subplots()`. \n",
    "        - These two objects (fig and ax) will allow you to control various properties of the figure and plot.\n",
    "        - `fig` is the Figure object: It serves as the overall container for the plot.\n",
    "        - `ax` is the Axes object: This is where the actual data points will be plotted, including x and y axes, labels, etc.\n",
    "        ```python\n",
    "            Example code: fig, ax = plt.subplots(figsize=(10, 6))\n",
    "        ```\n",
    "        - Refer to this [document](https://matplotlib.org/stable/api/_as_gen/matplotlib.pyplot.subplots.html) for more information.\n",
    "   2. Customize the Plot: \n",
    "        - You need to set the title of the plot, the labels for the x-axis and y-axis, and format the ticks on the x-axis for better readability.\n",
    "**Hints**:\n",
    "\n",
    "1.  Differentiate $R^2$ plots on the training and test set by color\n",
    "    and/or marker.\n",
    "2.  Make sure the $k$ values are sorted before making your plot."
   ]
  },
  {
   "cell_type": "code",
   "execution_count": null,
   "id": "59857515-4d35-4425-a549-d769dce22422",
   "metadata": {
    "deletable": false,
    "nbgrader": {
     "cell_type": "code",
     "checksum": "c11be5e5136c4da6baf127fb895865e3",
     "grade": false,
     "grade_id": "exercise-2-4-implementation",
     "locked": false,
     "schema_version": 3,
     "solution": true,
     "task": false
    }
   },
   "outputs": [],
   "source": [
    "\"\"\"Write your code for exercise 2.4 here:\"\"\"\n",
    "\n",
    "# your code here\n",
    "raise NotImplementedError"
   ]
  },
  {
   "cell_type": "code",
   "execution_count": null,
   "id": "cf168449-8483-43e8-ae68-e1b313de2618",
   "metadata": {
    "deletable": false,
    "editable": false,
    "nbgrader": {
     "cell_type": "code",
     "checksum": "ec38dfbf2d8667664c87d6aeb42e6886",
     "grade": true,
     "grade_id": "exercise-2-4-tests",
     "locked": true,
     "points": 8,
     "schema_version": 3,
     "solution": false,
     "task": false
    }
   },
   "outputs": [],
   "source": []
  },
  {
   "cell_type": "markdown",
   "id": "80cd618c-6ddc-4c2c-9390-067dd64d1c21",
   "metadata": {
    "deletable": false,
    "editable": false,
    "nbgrader": {
     "cell_type": "markdown",
     "checksum": "72b18867fce42bf2d06dfeea773b0d39",
     "grade": false,
     "grade_id": "exercise-2-5",
     "locked": true,
     "schema_version": 3,
     "solution": false,
     "task": false
    }
   },
   "source": [
    "<div class=\"exercise\"> <b> Question 2.5 </b> </div>\n",
    "\n",
    "**Write your answers for question 2.5 in below cell below:**\n",
    "\n",
    "### 1. If \\( n \\) is the number of observations in the training set, what can you say about a k-NN regression model that uses \\( k = n \\)?  \n",
    "\n",
    "1. It will perfectly fit the training data.  \n",
    "2. It will produce the same prediction for all test points.  \n",
    "3. It will have the highest possible variance.  \n",
    "4. It will generalize well to unseen data.  \n",
    "\n",
    "---\n",
    "\n",
    "### 2. What does an \\( R^2 \\) score of 0 mean?  \n",
    "\n",
    "1. The model perfectly predicts the target values.  \n",
    "2. The model performs worse than a simple mean predictor.  \n",
    "3. The model is no better than predicting the mean of the target variable.  \n",
    "4. The model has no bias but high variance.  \n",
    "\n",
    "---\n",
    "\n",
    "### 3. What would a negative \\( R^2 \\) score mean?  \n",
    "\n",
    "1. The model predicts worse than using the mean of the target variable.  \n",
    "2. The model predicts perfectly.  \n",
    "3. The model is highly overfitting.  \n",
    "4. The model has high variance but low bias.  \n",
    "\n",
    "---\n",
    "\n",
    "### 4. Do the training and test \\( R^2 \\) plots exhibit different trends?  \n",
    "\n",
    "1. No, they both always increase with increasing \\( k \\).  \n",
    "2. Yes, training \\( R^2 \\) decreases while test \\( R^2 \\) initially increases and then decreases.  \n",
    "3. No, they both always decrease with increasing \\( k \\).  \n",
    "4. Yes, test \\( R^2 \\) remains constant while training \\( R^2 \\) decreases.  \n",
    "\n",
    "---\n",
    "\n",
    "### 5. What is the best value of \\( k \\)? How do the corresponding training/test set \\( R^2 \\) values compare?  \n",
    "\n",
    "1. The smallest possible \\( k \\), because it minimizes bias.  \n",
    "2. The largest possible \\( k \\), because it minimizes variance.  \n",
    "3. A moderate \\( k \\) where test \\( R^2 \\) is highest, balancing bias and variance.  \n",
    "4. Any value of \\( k \\) produces the same result in k-NN regression.  \n",
    "\n",
    "---\n",
    "\n",
    "### 6. Use the plots of the predictions to justify why your choice of the best \\( k \\) makes sense (**Hint**: think Goldilocks).  \n",
    "\n",
    "1. The best \\( k \\) is small because it memorizes training data.  \n",
    "2. The best \\( k \\) is large because it smooths out noise completely.  \n",
    "3. The best \\( k \\) is moderate because it avoids underfitting and overfitting.  \n",
    "4. The best \\( k \\) does not matter as k-NN is always a good predictor.  "
   ]
  },
  {
   "cell_type": "code",
   "execution_count": null,
   "id": "8e60b0db",
   "metadata": {
    "deletable": false,
    "nbgrader": {
     "cell_type": "code",
     "checksum": "66a0925abea9a2698d25d19d0067723b",
     "grade": false,
     "grade_id": "exercise-2-5-answer",
     "locked": false,
     "schema_version": 3,
     "solution": true,
     "task": false
    }
   },
   "outputs": [],
   "source": [
    "answer1 = 0\n",
    "answer2 = 0\n",
    "answer3 = 0\n",
    "answer4 = 0\n",
    "answer5 = 0\n",
    "answer6 = 0\n",
    "\n",
    "# your code here\n",
    "raise NotImplementedError"
   ]
  },
  {
   "cell_type": "code",
   "execution_count": null,
   "id": "3e805ab4",
   "metadata": {
    "deletable": false,
    "editable": false,
    "nbgrader": {
     "cell_type": "code",
     "checksum": "6b14018a155c9c33c5e161ed9a74bc66",
     "grade": true,
     "grade_id": "exercise-2-5-tests",
     "locked": true,
     "points": 12,
     "schema_version": 3,
     "solution": false,
     "task": false
    }
   },
   "outputs": [],
   "source": []
  },
  {
   "cell_type": "markdown",
   "id": "143cbfdb",
   "metadata": {
    "deletable": false,
    "editable": false,
    "nbgrader": {
     "cell_type": "markdown",
     "checksum": "841f86c539d8e057f8f6a0fb2550ea07",
     "grade": false,
     "grade_id": "end",
     "locked": true,
     "schema_version": 3,
     "solution": false,
     "task": false
    }
   },
   "source": [
    "# END\n"
   ]
  }
 ],
 "metadata": {
  "kernelspec": {
   "display_name": "Python 3 (ipykernel)",
   "language": "python",
   "name": "python3"
  },
  "language_info": {
   "codemirror_mode": {
    "name": "ipython",
    "version": 3
   },
   "file_extension": ".py",
   "mimetype": "text/x-python",
   "name": "python",
   "nbconvert_exporter": "python",
   "pygments_lexer": "ipython3",
   "version": "3.10.6"
  }
 },
 "nbformat": 4,
 "nbformat_minor": 5
}

{
 "cells": [
  {
   "cell_type": "markdown",
   "id": "b2b3422b",
   "metadata": {
    "deletable": false,
    "editable": false,
    "nbgrader": {
     "cell_type": "markdown",
     "checksum": "b9fd86830e49437d3b1509f8cd2e8af1",
     "grade": false,
     "grade_id": "eda",
     "locked": true,
     "schema_version": 3,
     "solution": false,
     "task": false
    }
   },
   "source": [
    "<div class='heading'>\n",
    "    <div style='float:left;'><h1>CPSC 4300/6300: Applied Data Science</h1></div>\n",
    "    <img style=\"float: right; padding-right: 10px; width: 65px\" src=\"https://raw.githubusercontent.com/bsethwalker/clemson-cs4300/main/images/clemson_paw.png\"> </div>"
   ]
  },
  {
   "cell_type": "markdown",
   "id": "4361e5a3",
   "metadata": {
    "deletable": false,
    "editable": false,
    "nbgrader": {
     "cell_type": "markdown",
     "checksum": "b5eda6067e1c3116bd18bafd92c1b88c",
     "grade": false,
     "grade_id": "week-2-homework",
     "locked": true,
     "schema_version": 3,
     "solution": false,
     "task": false
    }
   },
   "source": [
    "## Week 2 | Homework : EDA and Visualization\n",
    "\n",
    "**Clemson University** **Instructor(s):** Tim Ransom\n",
    "\n",
    "----------------------\n",
    "## Learning goals\n",
    "\n",
    "- Identify trends and patterns in data using visualization techniques.\n",
    "- Interpret descriptive statistics for a dataset.\n",
    "- Create effective data visualizations using matplotlib.\n",
    "- Evaluate the effectiveness of different visualization methods.\n",
    "- Clean and prepare data for analysis."
   ]
  },
  {
   "cell_type": "markdown",
   "id": "5be301ac-9a26-4379-aaaa-cc152b0d5ee2",
   "metadata": {
    "deletable": false,
    "editable": false,
    "nbgrader": {
     "cell_type": "markdown",
     "checksum": "c573f84e8b18223fa0b0c1dac5d55db9",
     "grade": false,
     "grade_id": "instructions",
     "locked": true,
     "schema_version": 3,
     "solution": false,
     "task": false
    }
   },
   "source": [
    "## INSTRUCTIONS\n",
    "\n",
    "-   Restart the kernel and run the whole notebook again before you\n",
    "    submit.\n",
    "-   As much as possible, try and stick to the hints and functions we\n",
    "    import at the top of the homework, as those are the ideas and tools\n",
    "    the class supports and is aiming to teach. And if a problem\n",
    "    specifies a particular library you're required to use that library,\n",
    "    and possibly others from the import list.\n",
    "-   Please use .head() when viewing data. \n",
    "\n",
    "## About\n",
    "\n",
    "This exercise relates to the College data set, which can be found in the\n",
    "file\n",
    "[College.csv](http://faculty.marshall.usc.edu/gareth-james/ISL/College.csv).\n",
    "It contains a number of variables for 777 different universities and\n",
    "colleges in the US. The variables are\n",
    "\n",
    "-   `Private`: Public/private indicator\n",
    "-   `Apps`: Number of applications received\n",
    "-   `Accept`: Number of applicants accepted\n",
    "-   `Enroll`: Number of new students enrolled\n",
    "-   `Top 10 percent`: New students from top10% of high school class\n",
    "-   `Top 25 percent`: New students from top 25% of high school class\n",
    "-   `F.Undergrad`: Number of full-time. undergraduates\n",
    "-   `P.Undergrad`: Number of part-time undergraduates\n",
    "-   `Outstate`: Out-of-state tuition\n",
    "-   `Room.Board`: Room and board costs\n",
    "-   `Books`: Estimated book costs\n",
    "-   `Personal`: Estimated personal spending\n",
    "-   `PhD`: Percent of faculty with Ph.D.'s\n",
    "-   `Terminal`: Percent of faculty with terminal degree • S.F.Ratio:\n",
    "    Student/faculty ratio\n",
    "-   `perc alumni`: Percent of alumni who donate\n",
    "-   `expend`: Instructional expenditure per student\n",
    "-   `grad.Rate`: Graduation rate"
   ]
  },
  {
   "cell_type": "code",
   "execution_count": null,
   "id": "02b7061c-6f9c-440a-b9c1-2fe5c086249d",
   "metadata": {
    "deletable": false,
    "editable": false,
    "nbgrader": {
     "cell_type": "code",
     "checksum": "b9ca8221b1f4242dc04a39989a909956",
     "grade": false,
     "grade_id": "formatting",
     "locked": true,
     "schema_version": 3,
     "solution": false,
     "task": false
    }
   },
   "outputs": [],
   "source": [
    "\"\"\" RUN THIS CELL TO GET THE RIGHT FORMATTING \"\"\"\n",
    "import requests\n",
    "from IPython.core.display import HTML\n",
    "css_file = 'https://raw.githubusercontent.com/bsethwalker/clemson-cs4300/main/css/cpsc6300.css'\n",
    "styles = requests.get(css_file).text\n",
    "HTML(styles)"
   ]
  },
  {
   "cell_type": "code",
   "execution_count": null,
   "id": "1395328c-860c-4c69-90eb-d5237e73685f",
   "metadata": {
    "deletable": false,
    "editable": false,
    "nbgrader": {
     "cell_type": "code",
     "checksum": "bdde00b0357d6736b051821cb88fde11",
     "grade": false,
     "grade_id": "required-libs",
     "locked": true,
     "schema_version": 3,
     "solution": false,
     "task": false
    }
   },
   "outputs": [],
   "source": [
    "import pandas as pd \n",
    "import numpy as np\n",
    "from pandas.plotting import scatter_matrix \n",
    "from matplotcheck.base import PlotTester\n",
    "from matplotlib.patches import PathPatch\n",
    "import matplotlib.pyplot as plt \n",
    "import seaborn as sns\n",
    "sns.set()\n",
    "%matplotlib inline "
   ]
  },
  {
   "cell_type": "markdown",
   "id": "bcf27221",
   "metadata": {
    "deletable": false,
    "editable": false,
    "nbgrader": {
     "cell_type": "markdown",
     "checksum": "c59b630b08781f2adb48ae3e68c1b540",
     "grade": false,
     "grade_id": "exercise-1",
     "locked": true,
     "schema_version": 3,
     "solution": false,
     "task": false
    }
   },
   "source": [
    "<div class='exercise'> <b> Exercise 1: Load Data set</b> </div>\n",
    "\n",
    "- Using Pandas, load the `College.csv` file from 'data/College.csv' into a DataFrame named `college`. \n",
    "- Take a look at the loaded data.\n",
    "- Rename the first column as `Name` and display the first few rows of the DataFrame."
   ]
  },
  {
   "cell_type": "code",
   "execution_count": null,
   "id": "b39bf3c0-6466-4aa3-a060-3c2073287263",
   "metadata": {
    "deletable": false,
    "nbgrader": {
     "cell_type": "code",
     "checksum": "e16f8ec2391fe54962cf5dbee46f5a3f",
     "grade": false,
     "grade_id": "exercise-1-implementation",
     "locked": false,
     "schema_version": 3,
     "solution": true,
     "task": false
    }
   },
   "outputs": [],
   "source": [
    "\"\"\"Write your code for exercise-1 here:\"\"\"\n",
    "\n",
    "college = pd.read_csv('data/College.csv')\n",
    "college = college.rename(columns={college.columns[0]: 'Name'})\n",
    "college.head()"
   ]
  },
  {
   "cell_type": "code",
   "execution_count": null,
   "id": "c9ad9d8c",
   "metadata": {
    "deletable": false,
    "editable": false,
    "nbgrader": {
     "cell_type": "code",
     "checksum": "1da7033169c4ae48582de6aba97f1c7d",
     "grade": true,
     "grade_id": "exercise-1-grader",
     "locked": true,
     "points": 6,
     "schema_version": 3,
     "solution": false,
     "task": false
    }
   },
   "outputs": [],
   "source": []
  },
  {
   "cell_type": "markdown",
   "id": "3969eb27",
   "metadata": {
    "deletable": false,
    "editable": false,
    "nbgrader": {
     "cell_type": "markdown",
     "checksum": "980e6fde9653a2be9dc80feb6327c90f",
     "grade": false,
     "grade_id": "cell-3207c9fc769c09e5",
     "locked": true,
     "schema_version": 3,
     "solution": false,
     "task": false
    }
   },
   "source": [
    "Notice here that the table that was output through the jupyter notebook has additional formatting rendered with it. When we ask in this class to \"report\" a dataframe, know that the last line of a code cell be the variable you are reporting will give this nice formatting."
   ]
  },
  {
   "cell_type": "code",
   "execution_count": null,
   "id": "639fc582",
   "metadata": {
    "deletable": false,
    "editable": false,
    "nbgrader": {
     "cell_type": "code",
     "checksum": "440c1969b98ed13efffb843a7cc0712b",
     "grade": false,
     "grade_id": "cell-0c8b68028b838515",
     "locked": true,
     "schema_version": 3,
     "solution": false,
     "task": false
    }
   },
   "outputs": [],
   "source": [
    "# this will render good (enough) looking formatting for the data\n",
    "college"
   ]
  },
  {
   "cell_type": "code",
   "execution_count": null,
   "id": "d7b87356",
   "metadata": {
    "deletable": false,
    "editable": false,
    "nbgrader": {
     "cell_type": "code",
     "checksum": "eb0e79124a8a8d7de845bbfd8b493372",
     "grade": false,
     "grade_id": "cell-5304b8aa4b313633",
     "locked": true,
     "schema_version": 3,
     "solution": false,
     "task": false
    }
   },
   "outputs": [],
   "source": [
    "# this will print plain text\n",
    "print(college)"
   ]
  },
  {
   "cell_type": "markdown",
   "id": "351c016c-0fe6-4624-a614-f3031265855c",
   "metadata": {
    "deletable": false,
    "editable": false,
    "nbgrader": {
     "cell_type": "markdown",
     "checksum": "f8d4a7b5898d26a2d081f8e1baa4ffb6",
     "grade": false,
     "grade_id": "exercise-2",
     "locked": true,
     "schema_version": 3,
     "solution": false,
     "task": false
    }
   },
   "source": [
    "<div class='exercise'> <b> Exercise 2: Elite Institutions</b> </div>\n",
    "\n",
    "- Create a new qualitative variable, called `Elite`, by binning the Top 10 percent variable. \n",
    "- Here you are going to divide universities into two groups based on whether or not the proportion of students coming from the top 10% of their high school classes exceeds 50%.\n",
    "  - Categorize `Elite` column into `Yes` or `No`.(i.e `Elite` column should only contain `Yes` or `No` values.)\n",
    "  - Value for `Elite` column shoud be `Yes` if the proportion of students coming from the top 10% of their high school classes is greater than 50% (i.e top10perc > 50)\n",
    "  - Else `Elite` column should be `No`"
   ]
  },
  {
   "cell_type": "code",
   "execution_count": null,
   "id": "4b76a0fc-843e-4a6f-a1fa-0ca7da86664d",
   "metadata": {
    "deletable": false,
    "nbgrader": {
     "cell_type": "code",
     "checksum": "ed4cf0d9e1f452510162220f1c728f6c",
     "grade": false,
     "grade_id": "exercise-2-implementation",
     "locked": false,
     "schema_version": 3,
     "solution": true,
     "task": false
    }
   },
   "outputs": [],
   "source": [
    "\"\"\"Write your code for exercise-2 here:\"\"\"\n",
    "\n",
    "college['Elite'] = np.where(college['Top10perc'] > 50, 'Yes', 'No')"
   ]
  },
  {
   "cell_type": "code",
   "execution_count": null,
   "id": "32b7376d",
   "metadata": {
    "deletable": false,
    "editable": false,
    "nbgrader": {
     "cell_type": "code",
     "checksum": "747bc6070e7ada66bf5d9841a734186c",
     "grade": true,
     "grade_id": "exercise-2-grader",
     "locked": true,
     "points": 7,
     "schema_version": 3,
     "solution": false,
     "task": false
    }
   },
   "outputs": [],
   "source": []
  },
  {
   "cell_type": "markdown",
   "id": "940499a6-5783-4a32-91fd-cd591989153a",
   "metadata": {
    "deletable": false,
    "editable": false,
    "nbgrader": {
     "cell_type": "markdown",
     "checksum": "cc0813c865a4d91eb54e074a4b71e21e",
     "grade": false,
     "grade_id": "exercise-3",
     "locked": true,
     "schema_version": 3,
     "solution": false,
     "task": false
    }
   },
   "source": [
    "<div class='exercise'> <b> Exercise 3: Acceptance Rates</b> </div>\n",
    "\n",
    "- Create a new column called `AcceptRate` that contains the acceptance rate for each university.\n",
    "- Calculate aaceptance rate using following formula:\n",
    "    - $(Accept / Apps) * 100$"
   ]
  },
  {
   "cell_type": "code",
   "execution_count": null,
   "id": "ac9ace5b-4f36-44e5-8748-80494876c2cb",
   "metadata": {
    "deletable": false,
    "nbgrader": {
     "cell_type": "code",
     "checksum": "956c3cb72f16663601b2b249cd3e0e44",
     "grade": false,
     "grade_id": "exercise-3-implementation",
     "locked": false,
     "schema_version": 3,
     "solution": true,
     "task": false
    }
   },
   "outputs": [],
   "source": [
    "\"\"\"Write your code for exercise-3 here:\"\"\"\n",
    "\n",
    "college['AcceptRate'] = (college['Accept'] / college['Apps']) * 100"
   ]
  },
  {
   "cell_type": "code",
   "execution_count": null,
   "id": "2ded010e",
   "metadata": {
    "deletable": false,
    "editable": false,
    "nbgrader": {
     "cell_type": "code",
     "checksum": "518df63a9a76d32596ed27b774ae037c",
     "grade": true,
     "grade_id": "exercise-3-grader",
     "locked": true,
     "points": 5,
     "schema_version": 3,
     "solution": false,
     "task": false
    }
   },
   "outputs": [],
   "source": []
  },
  {
   "cell_type": "markdown",
   "id": "c5eb1b36-3d7f-4c80-8483-8c304950763c",
   "metadata": {
    "deletable": false,
    "editable": false,
    "nbgrader": {
     "cell_type": "markdown",
     "checksum": "bb77433fe631209215441921bc4ffc65",
     "grade": false,
     "grade_id": "exercise-4",
     "locked": true,
     "schema_version": 3,
     "solution": false,
     "task": false
    }
   },
   "source": [
    "<div class='exercise'> <b> Exercise 4:</b> </div>\n",
    "\n",
    "- How many elite schools are there?\n",
    "- Extract and store number of elite schools form our dataset to variable named `num_elite_schools`."
   ]
  },
  {
   "cell_type": "code",
   "execution_count": null,
   "id": "665aba83-3f01-495e-9b62-99b2a8094a05",
   "metadata": {
    "deletable": false,
    "nbgrader": {
     "cell_type": "code",
     "checksum": "046b5de01cd951c20c6da70f2b7764b4",
     "grade": false,
     "grade_id": "exercise-4-implementation",
     "locked": false,
     "schema_version": 3,
     "solution": true,
     "task": false
    }
   },
   "outputs": [],
   "source": [
    "\"\"\"Write your code for exercise-4 here:\"\"\"\n",
    "\n",
    "num_elite_schools = (college['Elite'] == 'Yes').sum()"
   ]
  },
  {
   "cell_type": "code",
   "execution_count": null,
   "id": "a6b3e486",
   "metadata": {
    "deletable": false,
    "editable": false,
    "nbgrader": {
     "cell_type": "code",
     "checksum": "8abb395156bac7c1bf439e53ed1d5344",
     "grade": true,
     "grade_id": "exercise-4-grader",
     "locked": true,
     "points": 2,
     "schema_version": 3,
     "solution": false,
     "task": false
    }
   },
   "outputs": [],
   "source": []
  },
  {
   "cell_type": "markdown",
   "id": "8fce807e-b180-4e9c-aa74-7c4efc3fa2c7",
   "metadata": {
    "deletable": false,
    "editable": false,
    "nbgrader": {
     "cell_type": "markdown",
     "checksum": "37b3811fcb677996955492d16d24b8f8",
     "grade": false,
     "grade_id": "exercise-5",
     "locked": true,
     "schema_version": 3,
     "solution": false,
     "task": false
    }
   },
   "source": [
    "<div class='exercise'> <b> Exercise 5: Acceptance Rate Comparison</b> </div>\n",
    "\n",
    "- Create a boxplot comparing the acceptance rates of elite and non-elite universities. \n",
    "   1. To create the box plot, you need to set up the Figure and Axes objects using `plt.subplots()`. \n",
    "        - These two objects (fig and ax) will allow you to control various properties of the figure and plot.\n",
    "        - `fig` is the Figure object: It serves as the overall container for the plot.\n",
    "        - `ax` is the Axes object: This is where the actual data points will be plotted, including x and y axes, labels, etc.\n",
    "        ```python\n",
    "            Example code: fig, ax = plt.subplots(figsize=(10, 6))\n",
    "        ```\n",
    "   2. Customize the Plot: \n",
    "        - You need to set the title of the plot, the labels for the x-axis and y-axis, and format the ticks on the x-axis for better readability."
   ]
  },
  {
   "cell_type": "code",
   "execution_count": null,
   "id": "cdaeba7e-ddcb-4c78-a2e3-4aeebafbc04f",
   "metadata": {
    "deletable": false,
    "nbgrader": {
     "cell_type": "code",
     "checksum": "185b78dd0def1f16c99a408a26454912",
     "grade": false,
     "grade_id": "exercise-5-implementation",
     "locked": false,
     "schema_version": 3,
     "solution": true,
     "task": false
    }
   },
   "outputs": [],
   "source": [
    "\"\"\"Write your code for exercise-5 here:\"\"\"\n",
    "\n",
    "fig, ax = plt.subplots(figsize=(10, 6))\n",
    "sns.boxplot(x='Elite', y='AcceptRate', data=college, ax=ax)\n",
    "ax.set_title('Acceptance Rate by Elite Status')\n",
    "ax.set_xlabel('Elite')\n",
    "ax.set_ylabel('Acceptance Rate (%)')\n",
    "plt.show()"
   ]
  },
  {
   "cell_type": "code",
   "execution_count": null,
   "id": "a73510c4",
   "metadata": {
    "deletable": false,
    "editable": false,
    "nbgrader": {
     "cell_type": "code",
     "checksum": "9fc72911a064f33e77b79f25cdd458b7",
     "grade": true,
     "grade_id": "exercise-5-grader",
     "locked": true,
     "points": 7,
     "schema_version": 3,
     "solution": false,
     "task": false
    }
   },
   "outputs": [],
   "source": []
  },
  {
   "cell_type": "markdown",
   "id": "d91bca45-1dfb-4496-a134-ccfc14d18a05",
   "metadata": {
    "deletable": false,
    "editable": false,
    "nbgrader": {
     "cell_type": "markdown",
     "checksum": "1bdcef57fdf7d3be88ccaa2ad492682a",
     "grade": false,
     "grade_id": "exercise-6",
     "locked": true,
     "schema_version": 3,
     "solution": false,
     "task": false
    }
   },
   "source": [
    "<div class='exercise'> <b> Exercise 6: Cost Comparisons</b> </div>\n",
    "\n",
    "- Create two side-by-side histograms (using subplots) showing the distribution of out of state tuition for elite and non-elite institutions. \n",
    "\n",
    "    1. To create plot, you need to set up the Figure and Axes objects using `plt.subplots()`. \n",
    "        - These two objects (fig and ax) will allow you to control various properties of the figure and plot.\n",
    "        - `fig` is the Figure object: It serves as the overall container for the plot.\n",
    "        - `ax` is the Axes object: This is where the actual data points will be plotted, including x and y axes, labels, etc.\n",
    "        ```python\n",
    "            Example code: fig, ax = plt.subplots(1, 2, figsize=(10, 6))\n",
    "        ```\n",
    "        - Here `plt.subplots(1, 2)` creates one row and two columns of subplots. This results in two individual Axes that will be side by side.\n",
    "        \n",
    "  2. Customize the Plot: \n",
    "        - You need to set the title of the plot, the labels for the x-axis and y-axis, and format the ticks on the x-axis for better readability.\n"
   ]
  },
  {
   "cell_type": "code",
   "execution_count": null,
   "id": "a5a20360-459d-4ebe-b167-43f5425ecd40",
   "metadata": {
    "deletable": false,
    "nbgrader": {
     "cell_type": "code",
     "checksum": "d7a6c70535c3513be6f5c6556b565251",
     "grade": false,
     "grade_id": "exercise-6-implementation",
     "locked": false,
     "schema_version": 3,
     "solution": true,
     "task": false
    }
   },
   "outputs": [],
   "source": [
    "\"\"\"Write your code for exercise-6 here:\"\"\"\n",
    "fig, ax = plt.subplots(1, 2, figsize=(10, 6), sharey=True)\n",
    "elite = college[college['Elite'] == 'Yes']\n",
    "non_elite = college[college['Elite'] == 'No']\n",
    "ax[0].hist(elite['Outstate'], bins=50, color='orange', edgecolor='black')\n",
    "ax[0].set_title('Elite Institutions')\n",
    "ax[0].set_xlabel('Out-of-State Tuition')\n",
    "ax[0].set_ylabel('Count')\n",
    "ax[1].hist(non_elite['Outstate'], bins=50, color='purple', edgecolor='black')\n",
    "ax[1].set_title('Non-Elite Institutions')\n",
    "ax[1].set_xlabel('Out of State Tuition')\n",
    "plt.tight_layout()\n",
    "plt.show()"
   ]
  },
  {
   "cell_type": "code",
   "execution_count": null,
   "id": "426b7981",
   "metadata": {
    "deletable": false,
    "editable": false,
    "nbgrader": {
     "cell_type": "code",
     "checksum": "52004b56b9f3cac9d65fa9ee51704484",
     "grade": true,
     "grade_id": "exercise-6-grader",
     "locked": true,
     "points": 9,
     "schema_version": 3,
     "solution": false,
     "task": false
    }
   },
   "outputs": [],
   "source": []
  },
  {
   "cell_type": "markdown",
   "id": "f180256a-7244-4b24-b9a5-9a3f4be94c3b",
   "metadata": {
    "deletable": false,
    "editable": false,
    "nbgrader": {
     "cell_type": "markdown",
     "checksum": "97b58a909d3fc6860c0ecc1d3e00a083",
     "grade": false,
     "grade_id": "exercise-7",
     "locked": true,
     "schema_version": 3,
     "solution": false,
     "task": false
    }
   },
   "source": [
    "<div class='exercise'> <b> Exercise 7:</b></div>\n",
    "\n",
    "- Which University has the most students in the top 10% of class?\n",
    "- Extract the name of University that has the most students in the top 10% of class and store in new variable named `top_university`."
   ]
  },
  {
   "cell_type": "code",
   "execution_count": null,
   "id": "4980dc3e-048b-472c-8a9f-327bdccab8a1",
   "metadata": {
    "deletable": false,
    "nbgrader": {
     "cell_type": "code",
     "checksum": "78c53050c04781e18686d06456da544c",
     "grade": false,
     "grade_id": "exercise-7-implementation",
     "locked": false,
     "schema_version": 3,
     "solution": true,
     "task": false
    }
   },
   "outputs": [],
   "source": [
    "\"\"\"Write your code for exercise-7 here:\"\"\"\n",
    "top_university = college.loc[college['Top10perc'].idxmax(), 'Name']\n",
    "# print(top_university)"
   ]
  },
  {
   "cell_type": "code",
   "execution_count": null,
   "id": "4253f85c",
   "metadata": {
    "deletable": false,
    "editable": false,
    "nbgrader": {
     "cell_type": "code",
     "checksum": "937718ee8a2b8ad70db8b650e5e65518",
     "grade": true,
     "grade_id": "exercise-7-grader",
     "locked": true,
     "points": 3,
     "schema_version": 3,
     "solution": false,
     "task": false
    }
   },
   "outputs": [],
   "source": []
  },
  {
   "cell_type": "markdown",
   "id": "a91b4222-32d1-4d9e-9f02-1b8d37d3ee57",
   "metadata": {
    "deletable": false,
    "editable": false,
    "nbgrader": {
     "cell_type": "markdown",
     "checksum": "445c736c2be228b874924e376f08e3b7",
     "grade": false,
     "grade_id": "exercise-8",
     "locked": true,
     "schema_version": 3,
     "solution": false,
     "task": false
    }
   },
   "source": [
    "<div class='exercise'> <b> Exercise 8:</b> </div>\n",
    "\n",
    "- Which university has the smallest acceptance rate?\n",
    "- Extract the name of University that has the smallest acceptance rate and store in new variable named `university_smallest_accept_rate`."
   ]
  },
  {
   "cell_type": "code",
   "execution_count": null,
   "id": "be03e566-8b91-49b2-a44e-49467756f2ae",
   "metadata": {
    "deletable": false,
    "nbgrader": {
     "cell_type": "code",
     "checksum": "4a6f9e5a63676a784f1139413b8dd96d",
     "grade": false,
     "grade_id": "exercise-8-implementation",
     "locked": false,
     "schema_version": 3,
     "solution": true,
     "task": false
    }
   },
   "outputs": [],
   "source": [
    "\"\"\"Write your code for exercise-8 here:\"\"\"\n",
    "university_smallest_accept_rate = college.loc[college['AcceptRate'].idxmin(), 'Name']\n",
    "# print(university_smallest_accept_rate)"
   ]
  },
  {
   "cell_type": "code",
   "execution_count": null,
   "id": "3350a9cf",
   "metadata": {
    "deletable": false,
    "editable": false,
    "nbgrader": {
     "cell_type": "code",
     "checksum": "c1937f52c191f7634ba71225e718d145",
     "grade": true,
     "grade_id": "exercise-8-grader",
     "locked": true,
     "points": 3,
     "schema_version": 3,
     "solution": false,
     "task": false
    }
   },
   "outputs": [],
   "source": []
  },
  {
   "cell_type": "markdown",
   "id": "e1a3995c-48f5-4772-adf8-a6c0949f54e6",
   "metadata": {
    "deletable": false,
    "editable": false,
    "nbgrader": {
     "cell_type": "markdown",
     "checksum": "13e30cb7b7dde18672590ef74ab3507c",
     "grade": false,
     "grade_id": "exercise-9",
     "locked": true,
     "schema_version": 3,
     "solution": false,
     "task": false
    }
   },
   "source": [
    "<div class='exercise'> <b> Exercise 9:</b> </div>\n",
    "\n",
    "- Which university has the most liberal acceptance rate?\n",
    "- Extract the name of University that has the most liberal acceptance rate and store in new variable named `university_most_liberal_accept_rate`."
   ]
  },
  {
   "cell_type": "code",
   "execution_count": null,
   "id": "bf48aeb8-beaa-40e5-96e8-b4d202c99fe9",
   "metadata": {
    "deletable": false,
    "nbgrader": {
     "cell_type": "code",
     "checksum": "30abaf5491f6173047c296318537ebbd",
     "grade": false,
     "grade_id": "exercise-9-implementation",
     "locked": false,
     "schema_version": 3,
     "solution": true,
     "task": false
    }
   },
   "outputs": [],
   "source": [
    "\"\"\"Write your code for exercise-9 here:\"\"\"\n",
    "\n",
    "university_most_liberal_accept_rate = college.loc[college['AcceptRate'].idxmax(), 'Name']"
   ]
  },
  {
   "cell_type": "code",
   "execution_count": null,
   "id": "195f7445",
   "metadata": {
    "deletable": false,
    "editable": false,
    "nbgrader": {
     "cell_type": "code",
     "checksum": "1820bd944570e502ac87620758503261",
     "grade": true,
     "grade_id": "exercise-9-grader",
     "locked": true,
     "points": 3,
     "schema_version": 3,
     "solution": false,
     "task": false
    }
   },
   "outputs": [],
   "source": []
  },
  {
   "cell_type": "markdown",
   "id": "756e85bd-a821-4bda-9c14-a3519c5940af",
   "metadata": {
    "deletable": false,
    "editable": false,
    "nbgrader": {
     "cell_type": "markdown",
     "checksum": "6337b081d993a58efbc4a24a7385043f",
     "grade": false,
     "grade_id": "exercise-10",
     "locked": true,
     "schema_version": 3,
     "solution": false,
     "task": false
    }
   },
   "source": [
    "<div class='exercise'> <b> Exercise 10:</b> </div>\n",
    "\n",
    "- Calculate correlation between out-of-state tuition and graduation rate and store it to variable named `correlation`.\n",
    "- Refer to this document [pandas.DataFrame.corr](https://pandas.pydata.org/pandas-docs/stable/reference/api/pandas.DataFrame.corr.html) on how to calculate correlation value using pandas .corr()."
   ]
  },
  {
   "cell_type": "code",
   "execution_count": null,
   "id": "903963fc-cecf-47ec-bd60-9b1396b693c5",
   "metadata": {
    "deletable": false,
    "nbgrader": {
     "cell_type": "code",
     "checksum": "7b0662fa6d3419506608ee4479ed3cbb",
     "grade": false,
     "grade_id": "exercise-10-implementation",
     "locked": false,
     "schema_version": 3,
     "solution": true,
     "task": false
    }
   },
   "outputs": [],
   "source": [
    "\"\"\"Write your code for exercise-10 here:\"\"\"\n",
    "\n",
    "correlation = college['Outstate'].corr(college['Grad.Rate'])"
   ]
  },
  {
   "cell_type": "code",
   "execution_count": null,
   "id": "cd161c02",
   "metadata": {
    "deletable": false,
    "editable": false,
    "nbgrader": {
     "cell_type": "code",
     "checksum": "afe3ef6865ec06e2eaadec837e7c3771",
     "grade": true,
     "grade_id": "exercise-10-grader",
     "locked": true,
     "points": 2,
     "schema_version": 3,
     "solution": false,
     "task": false
    }
   },
   "outputs": [],
   "source": []
  },
  {
   "cell_type": "markdown",
   "id": "050c8830-b7cc-489f-8de2-7aee60bd17ae",
   "metadata": {
    "deletable": false,
    "editable": false,
    "nbgrader": {
     "cell_type": "markdown",
     "checksum": "6be9a60e09d11bbc675c4e9126299724",
     "grade": false,
     "grade_id": "exercise-11",
     "locked": true,
     "schema_version": 3,
     "solution": false,
     "task": false
    }
   },
   "source": [
    "<div class='exercise'> <b> Exercise 11:</b> </div>\n",
    "\n",
    "- Calculate Clemson University's acceptance rate and store it to variable named `clemson_accept_rate`."
   ]
  },
  {
   "cell_type": "code",
   "execution_count": null,
   "id": "3bbace6c-fe0a-4bd8-a844-35c5a2c08e98",
   "metadata": {
    "deletable": false,
    "nbgrader": {
     "cell_type": "code",
     "checksum": "4f0f05bd3f3ee1397d9425cc90dbe920",
     "grade": false,
     "grade_id": "exercise-11-implementation",
     "locked": false,
     "schema_version": 3,
     "solution": true,
     "task": false
    }
   },
   "outputs": [],
   "source": [
    "\"\"\"Write your code for exercise-11 here:\"\"\"\n",
    "\n",
    "clemson_accept_rate = college.loc[college['Name'] == 'Clemson University', 'AcceptRate'].iloc[0]"
   ]
  },
  {
   "cell_type": "code",
   "execution_count": null,
   "id": "9721e222",
   "metadata": {
    "deletable": false,
    "editable": false,
    "nbgrader": {
     "cell_type": "code",
     "checksum": "d7a6d81c26f1a585670108deb21adb47",
     "grade": true,
     "grade_id": "exercise-11-grader",
     "locked": true,
     "points": 3,
     "schema_version": 3,
     "solution": false,
     "task": false
    }
   },
   "outputs": [],
   "source": []
  },
  {
   "cell_type": "markdown",
   "id": "029d77b7",
   "metadata": {},
   "source": [
    "# END"
   ]
  }
 ],
 "metadata": {
  "kernelspec": {
   "display_name": "Python 3 (ipykernel)",
   "language": "python",
   "name": "python3"
  },
  "language_info": {
   "codemirror_mode": {
    "name": "ipython",
    "version": 3
   },
   "file_extension": ".py",
   "mimetype": "text/x-python",
   "name": "python",
   "nbconvert_exporter": "python",
   "pygments_lexer": "ipython3",
   "version": "3.10.6"
  }
 },
 "nbformat": 4,
 "nbformat_minor": 5
}
